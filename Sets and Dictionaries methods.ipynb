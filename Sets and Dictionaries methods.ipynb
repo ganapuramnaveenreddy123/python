{
 "cells": [
  {
   "cell_type": "markdown",
   "id": "ff43491c",
   "metadata": {},
   "source": [
    "# sets {} :\n",
    "     sets are a built-in data type used to store collections of unique items. They are mutable, unordered, and do not allow duplicate elements. indexing is not allowed because sets are unordered. "
   ]
  },
  {
   "cell_type": "markdown",
   "id": "f400c4ae",
   "metadata": {},
   "source": [
    "# creating set :"
   ]
  },
  {
   "cell_type": "code",
   "execution_count": 3,
   "id": "e9ca471b",
   "metadata": {},
   "outputs": [
    {
     "name": "stdout",
     "output_type": "stream",
     "text": [
      "<class 'set'>\n",
      "<class 'set'>\n",
      "<class 'set'>\n",
      "<class 'set'>\n",
      "<class 'set'>\n",
      "<class 'set'>\n",
      "<class 'dict'>\n"
     ]
    }
   ],
   "source": [
    "a = {1,2,3,4,}\n",
    "b = set([1,2,3,4])\n",
    "c = {1, 'nani', True, 13.0}\n",
    "d = {(1,2,3)}\n",
    "e = set()     # empty set \n",
    "f = set([1,2,3,4])\n",
    "g = {} # it is Dictionarie not set \n",
    "\n",
    "print(type(a),type(b),type(c),type(d),type(e),type(f),type(g), sep='\\n')"
   ]
  },
  {
   "cell_type": "markdown",
   "id": "dc746521",
   "metadata": {},
   "source": [
    "# Unhashable objects: \n",
    "Cannot be used as elements in a set or keys in a dictionary because they do not have a fixed hash value. Examples include lists, dictionaries, and sets.\n",
    "# Hashable objects:\n",
    "Can be used as elements in a set or keys in a dictionary because they have a fixed hash value. Examples include integers, strings, and tuples (containing only hashable elements)."
   ]
  },
  {
   "cell_type": "code",
   "execution_count": 4,
   "id": "c8526b15",
   "metadata": {},
   "outputs": [
    {
     "ename": "TypeError",
     "evalue": "unhashable type: 'list'",
     "output_type": "error",
     "traceback": [
      "\u001b[1;31m---------------------------------------------------------------------------\u001b[0m",
      "\u001b[1;31mTypeError\u001b[0m                                 Traceback (most recent call last)",
      "Cell \u001b[1;32mIn[4], line 1\u001b[0m\n\u001b[1;32m----> 1\u001b[0m x \u001b[38;5;241m=\u001b[39m {[\u001b[38;5;241m1\u001b[39m,\u001b[38;5;241m2\u001b[39m,\u001b[38;5;241m3\u001b[39m]}\n",
      "\u001b[1;31mTypeError\u001b[0m: unhashable type: 'list'"
     ]
    }
   ],
   "source": [
    "x = {[1,2,3]} "
   ]
  },
  {
   "cell_type": "code",
   "execution_count": 5,
   "id": "234368ad",
   "metadata": {},
   "outputs": [
    {
     "ename": "TypeError",
     "evalue": "'set' object is not subscriptable",
     "output_type": "error",
     "traceback": [
      "\u001b[1;31m---------------------------------------------------------------------------\u001b[0m",
      "\u001b[1;31mTypeError\u001b[0m                                 Traceback (most recent call last)",
      "Cell \u001b[1;32mIn[5], line 1\u001b[0m\n\u001b[1;32m----> 1\u001b[0m a[\u001b[38;5;241m2\u001b[39m]\n",
      "\u001b[1;31mTypeError\u001b[0m: 'set' object is not subscriptable"
     ]
    }
   ],
   "source": [
    "a[2] # type error because indexing is not possible "
   ]
  },
  {
   "cell_type": "code",
   "execution_count": null,
   "id": "605848d8",
   "metadata": {},
   "outputs": [],
   "source": []
  },
  {
   "cell_type": "markdown",
   "id": "ca2e7e2f",
   "metadata": {},
   "source": [
    "# sets methods :"
   ]
  },
  {
   "cell_type": "code",
   "execution_count": 6,
   "id": "252db4e3",
   "metadata": {},
   "outputs": [
    {
     "data": {
      "text/plain": [
       "['__and__',\n",
       " '__class__',\n",
       " '__class_getitem__',\n",
       " '__contains__',\n",
       " '__delattr__',\n",
       " '__dir__',\n",
       " '__doc__',\n",
       " '__eq__',\n",
       " '__format__',\n",
       " '__ge__',\n",
       " '__getattribute__',\n",
       " '__getstate__',\n",
       " '__gt__',\n",
       " '__hash__',\n",
       " '__iand__',\n",
       " '__init__',\n",
       " '__init_subclass__',\n",
       " '__ior__',\n",
       " '__isub__',\n",
       " '__iter__',\n",
       " '__ixor__',\n",
       " '__le__',\n",
       " '__len__',\n",
       " '__lt__',\n",
       " '__ne__',\n",
       " '__new__',\n",
       " '__or__',\n",
       " '__rand__',\n",
       " '__reduce__',\n",
       " '__reduce_ex__',\n",
       " '__repr__',\n",
       " '__ror__',\n",
       " '__rsub__',\n",
       " '__rxor__',\n",
       " '__setattr__',\n",
       " '__sizeof__',\n",
       " '__str__',\n",
       " '__sub__',\n",
       " '__subclasshook__',\n",
       " '__xor__',\n",
       " 'add',\n",
       " 'clear',\n",
       " 'copy',\n",
       " 'difference',\n",
       " 'difference_update',\n",
       " 'discard',\n",
       " 'intersection',\n",
       " 'intersection_update',\n",
       " 'isdisjoint',\n",
       " 'issubset',\n",
       " 'issuperset',\n",
       " 'pop',\n",
       " 'remove',\n",
       " 'symmetric_difference',\n",
       " 'symmetric_difference_update',\n",
       " 'union',\n",
       " 'update']"
      ]
     },
     "execution_count": 6,
     "metadata": {},
     "output_type": "execute_result"
    }
   ],
   "source": [
    "x = {1,2,3,4,}\n",
    "dir(x)"
   ]
  },
  {
   "cell_type": "markdown",
   "id": "470a0c34",
   "metadata": {},
   "source": [
    "# 1.add(): \n",
    "    Adds an element to the set."
   ]
  },
  {
   "cell_type": "code",
   "execution_count": 50,
   "id": "cbff3158",
   "metadata": {},
   "outputs": [
    {
     "data": {
      "text/plain": [
       "{1, 2, 3, 4, 5, 6}"
      ]
     },
     "execution_count": 50,
     "metadata": {},
     "output_type": "execute_result"
    }
   ],
   "source": [
    "x = {1, 2, 3, 4, 5}\n",
    "x.add(6)\n",
    "x"
   ]
  },
  {
   "cell_type": "code",
   "execution_count": 51,
   "id": "6d17b92c",
   "metadata": {},
   "outputs": [
    {
     "data": {
      "text/plain": [
       "{(7, 8), 1, 2, 3, 4, 5, 6}"
      ]
     },
     "execution_count": 51,
     "metadata": {},
     "output_type": "execute_result"
    }
   ],
   "source": [
    "x.add((7,8))\n",
    "x"
   ]
  },
  {
   "cell_type": "markdown",
   "id": "5d9bd041",
   "metadata": {},
   "source": [
    "# 2. remove(): \n",
    "    Removes an element from the set. Raises a KeyError if the element is not found."
   ]
  },
  {
   "cell_type": "code",
   "execution_count": null,
   "id": "bcd6964e",
   "metadata": {},
   "outputs": [],
   "source": []
  },
  {
   "cell_type": "code",
   "execution_count": 121,
   "id": "14474e0f",
   "metadata": {},
   "outputs": [
    {
     "name": "stdout",
     "output_type": "stream",
     "text": [
      "{1, 2, 3, 4}\n"
     ]
    }
   ],
   "source": [
    "x = {1, 2, 3, 4, 5}\n",
    "x.remove(5)\n",
    "print(x)"
   ]
  },
  {
   "cell_type": "code",
   "execution_count": 15,
   "id": "c6a2ba58",
   "metadata": {},
   "outputs": [
    {
     "ename": "KeyError",
     "evalue": "6",
     "output_type": "error",
     "traceback": [
      "\u001b[1;31m---------------------------------------------------------------------------\u001b[0m",
      "\u001b[1;31mKeyError\u001b[0m                                  Traceback (most recent call last)",
      "Cell \u001b[1;32mIn[15], line 1\u001b[0m\n\u001b[1;32m----> 1\u001b[0m x\u001b[38;5;241m.\u001b[39mremove(\u001b[38;5;241m6\u001b[39m)\n",
      "\u001b[1;31mKeyError\u001b[0m: 6"
     ]
    }
   ],
   "source": [
    "x.remove(6)  # if the element is not found in set it's gives error "
   ]
  },
  {
   "cell_type": "markdown",
   "id": "c81e402e",
   "metadata": {},
   "source": [
    "# 3. discard():\n",
    "    Removes an element from the set if it is a member. Does nothing if the element is not found."
   ]
  },
  {
   "cell_type": "code",
   "execution_count": 21,
   "id": "c561c155",
   "metadata": {},
   "outputs": [
    {
     "data": {
      "text/plain": [
       "{1, 2, 3, 4}"
      ]
     },
     "execution_count": 21,
     "metadata": {},
     "output_type": "execute_result"
    }
   ],
   "source": [
    "x = {1, 2, 3, 4, 5}\n",
    "x.discard(5)\n",
    "x"
   ]
  },
  {
   "cell_type": "code",
   "execution_count": 24,
   "id": "9b36bcd0",
   "metadata": {},
   "outputs": [
    {
     "data": {
      "text/plain": [
       "{1, 2, 3, 4}"
      ]
     },
     "execution_count": 24,
     "metadata": {},
     "output_type": "execute_result"
    }
   ],
   "source": [
    "x.discard(6) # if the element is not found in set it's gives original set\n",
    "x"
   ]
  },
  {
   "cell_type": "markdown",
   "id": "b09cee63",
   "metadata": {},
   "source": [
    "# 4.pop():\n",
    "    Removes and returns an arbitrary (random) element from the set. Raises a KeyError if the set is empty."
   ]
  },
  {
   "cell_type": "code",
   "execution_count": 47,
   "id": "6365f8d6",
   "metadata": {},
   "outputs": [
    {
     "name": "stdout",
     "output_type": "stream",
     "text": [
      "{1, 13.0, 'nani'}\n"
     ]
    }
   ],
   "source": [
    "x = {0, 1, 'nani', True, 13.0}\n",
    "x.pop()\n",
    "print(x)"
   ]
  },
  {
   "cell_type": "markdown",
   "id": "7698d357",
   "metadata": {},
   "source": [
    "# 5. clear():\n",
    "    Removes all elements from the set. its shows the empty set()"
   ]
  },
  {
   "cell_type": "code",
   "execution_count": 53,
   "id": "7e7edb6b",
   "metadata": {},
   "outputs": [
    {
     "data": {
      "text/plain": [
       "set()"
      ]
     },
     "execution_count": 53,
     "metadata": {},
     "output_type": "execute_result"
    }
   ],
   "source": [
    "x = {1, 2, 3, 4, 5}\n",
    "x.clear()\n",
    "x"
   ]
  },
  {
   "cell_type": "markdown",
   "id": "177d72f0",
   "metadata": {},
   "source": [
    "# 6. copy(): \n",
    "    it's copy of the set and return the original set "
   ]
  },
  {
   "cell_type": "code",
   "execution_count": 58,
   "id": "2b5435ca",
   "metadata": {},
   "outputs": [
    {
     "data": {
      "text/plain": [
       "{1, 2, 3, 4, 5}"
      ]
     },
     "execution_count": 58,
     "metadata": {},
     "output_type": "execute_result"
    }
   ],
   "source": [
    "x = {1, 2, 3, 4, 5}\n",
    "x.copy()\n",
    "x"
   ]
  },
  {
   "cell_type": "markdown",
   "id": "39dc87f9",
   "metadata": {},
   "source": [
    "# 7. union() or | :\n",
    "    Returns a new set with elements from both sets. it's  gives the unique values from the both the sets "
   ]
  },
  {
   "cell_type": "code",
   "execution_count": 64,
   "id": "006d4726",
   "metadata": {},
   "outputs": [
    {
     "data": {
      "text/plain": [
       "{1, 2, 3, 4, 5}"
      ]
     },
     "execution_count": 64,
     "metadata": {},
     "output_type": "execute_result"
    }
   ],
   "source": [
    "x = {1, 2, 3}\n",
    "y = {3, 4, 5}\n",
    "\n",
    "x.union(y)"
   ]
  },
  {
   "cell_type": "code",
   "execution_count": 73,
   "id": "9b0695e3",
   "metadata": {},
   "outputs": [
    {
     "data": {
      "text/plain": [
       "{1, 2, 3, 4, 5}"
      ]
     },
     "execution_count": 73,
     "metadata": {},
     "output_type": "execute_result"
    }
   ],
   "source": [
    "x | y  # another way to union()"
   ]
  },
  {
   "cell_type": "markdown",
   "id": "675eb7de",
   "metadata": {},
   "source": [
    "# 8. update():\n",
    "    Updates the set with elements from another set or any iterable."
   ]
  },
  {
   "cell_type": "code",
   "execution_count": 68,
   "id": "c985049f",
   "metadata": {},
   "outputs": [
    {
     "data": {
      "text/plain": [
       "{1, 2, 3, 4, 5}"
      ]
     },
     "execution_count": 68,
     "metadata": {},
     "output_type": "execute_result"
    }
   ],
   "source": [
    "x = {1, 2, 3}  # all the  y variable elements move to the variable x \n",
    "y = {3, 4, 5}\n",
    "x.update(y)\n",
    "x"
   ]
  },
  {
   "cell_type": "markdown",
   "id": "172c2016",
   "metadata": {},
   "source": [
    "# 9. intersection():\n",
    "    Returns a new set with elements common to both sets."
   ]
  },
  {
   "cell_type": "code",
   "execution_count": 93,
   "id": "ed5cf00f",
   "metadata": {},
   "outputs": [
    {
     "data": {
      "text/plain": [
       "{3}"
      ]
     },
     "execution_count": 93,
     "metadata": {},
     "output_type": "execute_result"
    }
   ],
   "source": [
    "x = {1, 2, 3} # it's gives the common values from the both sets \n",
    "y = {3, 4, 5}\n",
    "x.intersection(y)"
   ]
  },
  {
   "cell_type": "code",
   "execution_count": 88,
   "id": "d02c720e",
   "metadata": {},
   "outputs": [
    {
     "data": {
      "text/plain": [
       "{1, 2, 3}"
      ]
     },
     "execution_count": 88,
     "metadata": {},
     "output_type": "execute_result"
    }
   ],
   "source": [
    "x "
   ]
  },
  {
   "cell_type": "code",
   "execution_count": 75,
   "id": "1be65fcd",
   "metadata": {},
   "outputs": [
    {
     "data": {
      "text/plain": [
       "{3}"
      ]
     },
     "execution_count": 75,
     "metadata": {},
     "output_type": "execute_result"
    }
   ],
   "source": [
    "x & y "
   ]
  },
  {
   "cell_type": "markdown",
   "id": "089e02b8",
   "metadata": {},
   "source": [
    "# 10. intersection_update(): \n",
    "         Updates the set with the intersection of itself and another."
   ]
  },
  {
   "cell_type": "code",
   "execution_count": 92,
   "id": "73d460c3",
   "metadata": {},
   "outputs": [
    {
     "data": {
      "text/plain": [
       "{3}"
      ]
     },
     "execution_count": 92,
     "metadata": {},
     "output_type": "execute_result"
    }
   ],
   "source": [
    "x = {1, 2, 3}  # it's update the common values of both the elements  to the new set \n",
    "y = {3, 4, 5}\n",
    "x.intersection_update(y)\n",
    "x"
   ]
  },
  {
   "cell_type": "code",
   "execution_count": 91,
   "id": "5a10a00f",
   "metadata": {},
   "outputs": [
    {
     "data": {
      "text/plain": [
       "{3}"
      ]
     },
     "execution_count": 91,
     "metadata": {},
     "output_type": "execute_result"
    }
   ],
   "source": [
    "x "
   ]
  },
  {
   "cell_type": "markdown",
   "id": "8862b5f8",
   "metadata": {},
   "source": [
    "# 11. difference(): \n",
    "    Returns a new set with elements in the set that are not in the other."
   ]
  },
  {
   "cell_type": "code",
   "execution_count": 102,
   "id": "2fbff1e3",
   "metadata": {},
   "outputs": [
    {
     "data": {
      "text/plain": [
       "{1, 2}"
      ]
     },
     "execution_count": 102,
     "metadata": {},
     "output_type": "execute_result"
    }
   ],
   "source": [
    "x = {1, 2, 3}   \n",
    "y = {3, 4, 5}\n",
    "\n",
    "x.difference(y)"
   ]
  },
  {
   "cell_type": "code",
   "execution_count": 103,
   "id": "62c6eeec",
   "metadata": {},
   "outputs": [
    {
     "data": {
      "text/plain": [
       "{1, 2, 3}"
      ]
     },
     "execution_count": 103,
     "metadata": {},
     "output_type": "execute_result"
    }
   ],
   "source": [
    "x "
   ]
  },
  {
   "cell_type": "markdown",
   "id": "a23ff5f2",
   "metadata": {},
   "source": [
    "# 12. difference_update():\n",
    "    Updates the set with the difference of itself and another."
   ]
  },
  {
   "cell_type": "code",
   "execution_count": 104,
   "id": "ba26000e",
   "metadata": {},
   "outputs": [
    {
     "data": {
      "text/plain": [
       "{1, 2}"
      ]
     },
     "execution_count": 104,
     "metadata": {},
     "output_type": "execute_result"
    }
   ],
   "source": [
    "x = {1, 2, 3}   \n",
    "y = {3, 4, 5}\n",
    "\n",
    "x.difference_update(y)\n",
    "x"
   ]
  },
  {
   "cell_type": "code",
   "execution_count": 105,
   "id": "0c430265",
   "metadata": {},
   "outputs": [
    {
     "data": {
      "text/plain": [
       "{1, 2}"
      ]
     },
     "execution_count": 105,
     "metadata": {},
     "output_type": "execute_result"
    }
   ],
   "source": [
    "x"
   ]
  },
  {
   "cell_type": "markdown",
   "id": "9811730c",
   "metadata": {},
   "source": [
    "# 13. symmetric_difference():\n",
    "    Returns a new set with elements in either set but not in both."
   ]
  },
  {
   "cell_type": "code",
   "execution_count": 106,
   "id": "68a7e6fc",
   "metadata": {},
   "outputs": [
    {
     "data": {
      "text/plain": [
       "{1, 2, 4, 5}"
      ]
     },
     "execution_count": 106,
     "metadata": {},
     "output_type": "execute_result"
    }
   ],
   "source": [
    "x = {1, 2, 3}   \n",
    "y = {3, 4, 5}\n",
    "\n",
    "x.symmetric_difference(y)"
   ]
  },
  {
   "cell_type": "code",
   "execution_count": 107,
   "id": "d69c3925",
   "metadata": {},
   "outputs": [
    {
     "data": {
      "text/plain": [
       "{1, 2, 3}"
      ]
     },
     "execution_count": 107,
     "metadata": {},
     "output_type": "execute_result"
    }
   ],
   "source": [
    "x"
   ]
  },
  {
   "cell_type": "markdown",
   "id": "2f73d765",
   "metadata": {},
   "source": [
    "# 14. symmetric_difference_update(): \n",
    "            Updates the set with the symmetric difference of itself and another."
   ]
  },
  {
   "cell_type": "code",
   "execution_count": 109,
   "id": "46bdd55b",
   "metadata": {},
   "outputs": [
    {
     "data": {
      "text/plain": [
       "{1, 2, 4, 5}"
      ]
     },
     "execution_count": 109,
     "metadata": {},
     "output_type": "execute_result"
    }
   ],
   "source": [
    "x = {1, 2, 3}   \n",
    "y = {3, 4, 5}\n",
    "\n",
    "x.symmetric_difference_update(y)\n",
    "x"
   ]
  },
  {
   "cell_type": "code",
   "execution_count": 110,
   "id": "856a5157",
   "metadata": {},
   "outputs": [
    {
     "data": {
      "text/plain": [
       "{1, 2, 4, 5}"
      ]
     },
     "execution_count": 110,
     "metadata": {},
     "output_type": "execute_result"
    }
   ],
   "source": [
    "x"
   ]
  },
  {
   "cell_type": "markdown",
   "id": "c05bf13c",
   "metadata": {},
   "source": [
    "# 15. issubset():\n",
    "    Checks if the set is a subset of another set.\n",
    "   "
   ]
  },
  {
   "cell_type": "code",
   "execution_count": 111,
   "id": "e00cb4d6",
   "metadata": {},
   "outputs": [
    {
     "data": {
      "text/plain": [
       "False"
      ]
     },
     "execution_count": 111,
     "metadata": {},
     "output_type": "execute_result"
    }
   ],
   "source": [
    "x = {1, 2, 3}   # it's checks the x values in y or not \n",
    "y = {3, 4, 5}\n",
    "\n",
    "x.issubset(y)"
   ]
  },
  {
   "cell_type": "code",
   "execution_count": 113,
   "id": "d1dbf1f1",
   "metadata": {},
   "outputs": [
    {
     "data": {
      "text/plain": [
       "True"
      ]
     },
     "execution_count": 113,
     "metadata": {},
     "output_type": "execute_result"
    }
   ],
   "source": [
    "x = {1, 2, 3}   \n",
    "y = {1,2,3, 4, 5}\n",
    "\n",
    "x.issubset(y)"
   ]
  },
  {
   "cell_type": "markdown",
   "id": "4bf69e9a",
   "metadata": {},
   "source": [
    "# 16. isdisjoint():\n",
    "    Checks if the set has no elements in common with another set."
   ]
  },
  {
   "cell_type": "code",
   "execution_count": 114,
   "id": "596d7ea3",
   "metadata": {},
   "outputs": [
    {
     "data": {
      "text/plain": [
       "False"
      ]
     },
     "execution_count": 114,
     "metadata": {},
     "output_type": "execute_result"
    }
   ],
   "source": [
    "x = {1, 2, 3}   # it's check the any common elements on both sets if there any common its gives False\n",
    "y = {3, 4, 5}\n",
    "\n",
    "x.isdisjoint(y)"
   ]
  },
  {
   "cell_type": "code",
   "execution_count": 116,
   "id": "5dbaab7e",
   "metadata": {},
   "outputs": [
    {
     "data": {
      "text/plain": [
       "True"
      ]
     },
     "execution_count": 116,
     "metadata": {},
     "output_type": "execute_result"
    }
   ],
   "source": [
    "x = {1, 2,}   \n",
    "y = {3, 4, 5}\n",
    "\n",
    "x.isdisjoint(y)"
   ]
  },
  {
   "cell_type": "markdown",
   "id": "b410827d",
   "metadata": {},
   "source": [
    "# 17. issuperset():\n",
    "    Checks if the set is a superset of another set."
   ]
  },
  {
   "cell_type": "code",
   "execution_count": 119,
   "id": "1999df47",
   "metadata": {},
   "outputs": [
    {
     "data": {
      "text/plain": [
       "False"
      ]
     },
     "execution_count": 119,
     "metadata": {},
     "output_type": "execute_result"
    }
   ],
   "source": [
    "x = {1, 2, 3}   # it is reverse to the subset \n",
    "y = {1,2,3, 4, 5}\n",
    "\n",
    "x.issuperset(y)"
   ]
  },
  {
   "cell_type": "code",
   "execution_count": 124,
   "id": "c8ae8a3c",
   "metadata": {},
   "outputs": [
    {
     "data": {
      "text/plain": [
       "True"
      ]
     },
     "execution_count": 124,
     "metadata": {},
     "output_type": "execute_result"
    }
   ],
   "source": [
    "x = {1, 2, 3,4,5}   \n",
    "y = {3,4,5}\n",
    "\n",
    "x.issuperset(y)"
   ]
  },
  {
   "cell_type": "markdown",
   "id": "6291352c",
   "metadata": {},
   "source": [
    "# 18. del () :\n",
    "    this will raise an error because the set no longer exists"
   ]
  },
  {
   "cell_type": "code",
   "execution_count": 60,
   "id": "65285262",
   "metadata": {},
   "outputs": [
    {
     "ename": "NameError",
     "evalue": "name 'x' is not defined",
     "output_type": "error",
     "traceback": [
      "\u001b[1;31m---------------------------------------------------------------------------\u001b[0m",
      "\u001b[1;31mNameError\u001b[0m                                 Traceback (most recent call last)",
      "Cell \u001b[1;32mIn[60], line 3\u001b[0m\n\u001b[0;32m      1\u001b[0m x \u001b[38;5;241m=\u001b[39m {\u001b[38;5;241m1\u001b[39m, \u001b[38;5;241m2\u001b[39m, \u001b[38;5;241m3\u001b[39m,\u001b[38;5;241m4\u001b[39m,\u001b[38;5;241m5\u001b[39m}   \n\u001b[0;32m      2\u001b[0m \u001b[38;5;28;01mdel\u001b[39;00m x\n\u001b[1;32m----> 3\u001b[0m x\n",
      "\u001b[1;31mNameError\u001b[0m: name 'x' is not defined"
     ]
    }
   ],
   "source": [
    "x = {1, 2, 3,4,5}   \n",
    "del x\n",
    "x"
   ]
  },
  {
   "cell_type": "markdown",
   "id": "6164fa1f",
   "metadata": {},
   "source": [
    "# Dictionaries : \n",
    "                Dictionaries in Python are unordered collections of key-value pairs. Each key-value pair maps the key to its associated value. Dictionaries are mutable, meaning they can be changed after they are created. "
   ]
  },
  {
   "cell_type": "markdown",
   "id": "602a0420",
   "metadata": {},
   "source": [
    "# Creating a Dictionary :"
   ]
  },
  {
   "cell_type": "code",
   "execution_count": 62,
   "id": "c9c5c0ab",
   "metadata": {},
   "outputs": [
    {
     "data": {
      "text/plain": [
       "{'name': ['nani', 'mani', 'hari'], 'roll no': [1, 2, 3], 'marks': [70, 60, 50]}"
      ]
     },
     "execution_count": 62,
     "metadata": {},
     "output_type": "execute_result"
    }
   ],
   "source": [
    "x = {'name'   : ['nani', 'mani' , 'hari'],\n",
    "    'roll no' : [1,2,3], \n",
    "    'marks'   : [70, 60,50]}\n",
    "x"
   ]
  },
  {
   "cell_type": "code",
   "execution_count": 63,
   "id": "d9295b4c",
   "metadata": {},
   "outputs": [
    {
     "data": {
      "text/plain": [
       "['__class__',\n",
       " '__class_getitem__',\n",
       " '__contains__',\n",
       " '__delattr__',\n",
       " '__delitem__',\n",
       " '__dir__',\n",
       " '__doc__',\n",
       " '__eq__',\n",
       " '__format__',\n",
       " '__ge__',\n",
       " '__getattribute__',\n",
       " '__getitem__',\n",
       " '__getstate__',\n",
       " '__gt__',\n",
       " '__hash__',\n",
       " '__init__',\n",
       " '__init_subclass__',\n",
       " '__ior__',\n",
       " '__iter__',\n",
       " '__le__',\n",
       " '__len__',\n",
       " '__lt__',\n",
       " '__ne__',\n",
       " '__new__',\n",
       " '__or__',\n",
       " '__reduce__',\n",
       " '__reduce_ex__',\n",
       " '__repr__',\n",
       " '__reversed__',\n",
       " '__ror__',\n",
       " '__setattr__',\n",
       " '__setitem__',\n",
       " '__sizeof__',\n",
       " '__str__',\n",
       " '__subclasshook__',\n",
       " 'clear',\n",
       " 'copy',\n",
       " 'fromkeys',\n",
       " 'get',\n",
       " 'items',\n",
       " 'keys',\n",
       " 'pop',\n",
       " 'popitem',\n",
       " 'setdefault',\n",
       " 'update',\n",
       " 'values']"
      ]
     },
     "execution_count": 63,
     "metadata": {},
     "output_type": "execute_result"
    }
   ],
   "source": [
    "dir(x)"
   ]
  },
  {
   "cell_type": "markdown",
   "id": "4464c750",
   "metadata": {},
   "source": [
    "# Dictionary Methods:\n",
    "    "
   ]
  },
  {
   "cell_type": "markdown",
   "id": "56ab95b7",
   "metadata": {},
   "source": [
    "# 1. clear()\n",
    "Removes all items from the dictionary. it's give empty Dictionary"
   ]
  },
  {
   "cell_type": "code",
   "execution_count": 66,
   "id": "bbea707d",
   "metadata": {},
   "outputs": [
    {
     "data": {
      "text/plain": [
       "{}"
      ]
     },
     "execution_count": 66,
     "metadata": {},
     "output_type": "execute_result"
    }
   ],
   "source": [
    "x = {'name'   : ['nani', 'mani' , 'hari'],\n",
    "    'roll no' : [1,2,3], \n",
    "    'marks'   : [70, 60,50]}\n",
    "x.clear()\n",
    "x"
   ]
  },
  {
   "cell_type": "markdown",
   "id": "3232f5e9",
   "metadata": {},
   "source": [
    "# 2. copy()\n",
    "Returns a shallow copy of the dictionary."
   ]
  },
  {
   "cell_type": "code",
   "execution_count": 67,
   "id": "1fd5b5bd",
   "metadata": {},
   "outputs": [
    {
     "data": {
      "text/plain": [
       "{'name': ['nani', 'mani', 'hari'], 'roll no': [1, 2, 3], 'marks': [70, 60, 50]}"
      ]
     },
     "execution_count": 67,
     "metadata": {},
     "output_type": "execute_result"
    }
   ],
   "source": [
    "x = {'name'   : ['nani', 'mani' , 'hari'],\n",
    "    'roll no' : [1,2,3], \n",
    "    'marks'   : [70, 60,50]}\n",
    "x.copy()\n",
    "x"
   ]
  },
  {
   "cell_type": "markdown",
   "id": "f8300ded",
   "metadata": {},
   "source": [
    "# 3. fromkeys()\n",
    "Creates a new dictionary with keys from a sequence and values set to a specified value if the values not specified it's gives None "
   ]
  },
  {
   "cell_type": "code",
   "execution_count": 96,
   "id": "854e7586",
   "metadata": {},
   "outputs": [
    {
     "name": "stdout",
     "output_type": "stream",
     "text": [
      "{'name': ['nani', 'mani', 'hari'], 'roll no': [1, 2, 3], 'marks': [70, 60, 50]}\n"
     ]
    }
   ],
   "source": [
    "x = {'name'   : ['nani', 'mani' , 'hari'],\n",
    "    'roll no' : [1,2,3], \n",
    "    'marks'   : [70, 60,50]}\n",
    "print(x)"
   ]
  },
  {
   "cell_type": "code",
   "execution_count": 82,
   "id": "1813b2d0",
   "metadata": {},
   "outputs": [
    {
     "data": {
      "text/plain": [
       "{'name': None, 'roll no': None, 'marks': None}"
      ]
     },
     "execution_count": 82,
     "metadata": {},
     "output_type": "execute_result"
    }
   ],
   "source": [
    "dict.fromkeys(x)\n",
    "# it creat new dictionary from the given dictionary if we specified value the values not specified it's gives None"
   ]
  },
  {
   "cell_type": "code",
   "execution_count": 84,
   "id": "d2e959a3",
   "metadata": {},
   "outputs": [
    {
     "data": {
      "text/plain": [
       "{1: 'n', 2: 'h'}"
      ]
     },
     "execution_count": 84,
     "metadata": {},
     "output_type": "execute_result"
    }
   ],
   "source": [
    "y = {1 :\"n\", 2 : 'h'}\n",
    "y"
   ]
  },
  {
   "cell_type": "code",
   "execution_count": 97,
   "id": "f69a960f",
   "metadata": {},
   "outputs": [
    {
     "data": {
      "text/plain": [
       "{'name': None, 'roll no': None, 'marks': None}"
      ]
     },
     "execution_count": 97,
     "metadata": {},
     "output_type": "execute_result"
    }
   ],
   "source": [
    "y.fromkeys(x)  # it takes the keys from the existing  dictionary it means x dictionar keys "
   ]
  },
  {
   "cell_type": "code",
   "execution_count": 95,
   "id": "154c3f6d",
   "metadata": {},
   "outputs": [
    {
     "ename": "TypeError",
     "evalue": "fromkeys expected at least 1 argument, got 0",
     "output_type": "error",
     "traceback": [
      "\u001b[1;31m---------------------------------------------------------------------------\u001b[0m",
      "\u001b[1;31mTypeError\u001b[0m                                 Traceback (most recent call last)",
      "Cell \u001b[1;32mIn[95], line 1\u001b[0m\n\u001b[1;32m----> 1\u001b[0m y\u001b[38;5;241m.\u001b[39mfromkeys()\n",
      "\u001b[1;31mTypeError\u001b[0m: fromkeys expected at least 1 argument, got 0"
     ]
    }
   ],
   "source": [
    "y.fromkeys()"
   ]
  },
  {
   "cell_type": "markdown",
   "id": "6ff9c618",
   "metadata": {},
   "source": [
    "# 4. items()\n",
    "Returns a view object that displays a list of dictionary's key-value tuple pairs."
   ]
  },
  {
   "cell_type": "code",
   "execution_count": 102,
   "id": "3433234b",
   "metadata": {},
   "outputs": [
    {
     "data": {
      "text/plain": [
       "dict_items([('name', ['nani', 'mani', 'hari']), ('roll no', [1, 2, 3]), ('marks', [70, 60, 50])])"
      ]
     },
     "execution_count": 102,
     "metadata": {},
     "output_type": "execute_result"
    }
   ],
   "source": [
    "x = {'name'   : ['nani', 'mani' , 'hari'],\n",
    "    'roll no' : [1,2,3], \n",
    "    'marks'   : [70, 60,50]}\n",
    "\n",
    "x.items() # we got all the keys and values of Dictionaries"
   ]
  },
  {
   "cell_type": "markdown",
   "id": "f0c4d917",
   "metadata": {},
   "source": [
    "# 5. keys()\n",
    "  Returns a view object that displays a list of all the keys."
   ]
  },
  {
   "cell_type": "code",
   "execution_count": 103,
   "id": "28597338",
   "metadata": {},
   "outputs": [
    {
     "data": {
      "text/plain": [
       "dict_keys(['name', 'roll no', 'marks'])"
      ]
     },
     "execution_count": 103,
     "metadata": {},
     "output_type": "execute_result"
    }
   ],
   "source": [
    "x = {'name'   : ['nani', 'mani' , 'hari'],\n",
    "    'roll no' : [1,2,3], \n",
    "    'marks'   : [70, 60,50]}\n",
    "\n",
    "x.keys() # we got keys of Dictionaries"
   ]
  },
  {
   "cell_type": "markdown",
   "id": "4bddd40f",
   "metadata": {},
   "source": [
    "# 6. values()\n",
    "Returns a view object that displays a list of all the values."
   ]
  },
  {
   "cell_type": "code",
   "execution_count": 104,
   "id": "181494fa",
   "metadata": {},
   "outputs": [
    {
     "data": {
      "text/plain": [
       "dict_values([['nani', 'mani', 'hari'], [1, 2, 3], [70, 60, 50]])"
      ]
     },
     "execution_count": 104,
     "metadata": {},
     "output_type": "execute_result"
    }
   ],
   "source": [
    "x = {'name'   : ['nani', 'mani' , 'hari'],\n",
    "    'roll no' : [1,2,3], \n",
    "    'marks'   : [70, 60,50]}\n",
    "\n",
    "x.values()  # we got values  of Dictionaries"
   ]
  },
  {
   "cell_type": "markdown",
   "id": "301f17c4",
   "metadata": {},
   "source": [
    "# 7. setdefault()\n",
    "Returns the value of a key if it is in the dictionary. If not, it inserts the key with a specified value. if values not given its give None"
   ]
  },
  {
   "cell_type": "code",
   "execution_count": 107,
   "id": "37454d1f",
   "metadata": {},
   "outputs": [
    {
     "data": {
      "text/plain": [
       "['nani', 'mani', 'hari']"
      ]
     },
     "execution_count": 107,
     "metadata": {},
     "output_type": "execute_result"
    }
   ],
   "source": [
    "x = {'name'   : ['nani', 'mani' , 'hari'],\n",
    "    'roll no' : [1,2,3], \n",
    "    'marks'   : [70, 60,50]}\n",
    "\n",
    "x.setdefault('name', 'nani')   # we provide valid key from the  dictionary it's gives the values of given key "
   ]
  },
  {
   "cell_type": "code",
   "execution_count": 108,
   "id": "c4ccb9e8",
   "metadata": {},
   "outputs": [
    {
     "data": {
      "text/plain": [
       "{'name': ['nani', 'mani', 'hari'],\n",
       " 'roll no': [1, 2, 3],\n",
       " 'marks': [70, 60, 50],\n",
       " 'namea': None}"
      ]
     },
     "execution_count": 108,
     "metadata": {},
     "output_type": "execute_result"
    }
   ],
   "source": [
    "x.setdefault('namea') # if the key not found it creat the key and value give None \n",
    "x"
   ]
  },
  {
   "cell_type": "markdown",
   "id": "ff106a77",
   "metadata": {},
   "source": [
    "# 8. update()\n",
    "Updates the dictionary with elements from another dictionary object or from an iterable of key-value pairs."
   ]
  },
  {
   "cell_type": "code",
   "execution_count": 109,
   "id": "f6254571",
   "metadata": {},
   "outputs": [
    {
     "data": {
      "text/plain": [
       "{'name': ['nani', 'mani', 'hari'],\n",
       " 'roll no': [1, 2, 3],\n",
       " 'marks': [70, 60, 50],\n",
       " 'class': 8}"
      ]
     },
     "execution_count": 109,
     "metadata": {},
     "output_type": "execute_result"
    }
   ],
   "source": [
    "x = {'name'   : ['nani', 'mani' , 'hari'],\n",
    "    'roll no' : [1,2,3], \n",
    "    'marks'   : [70, 60,50]}\n",
    "\n",
    "x.update({'class' : 8})  # it's creat the new key and values to the dictionary \n",
    "x"
   ]
  },
  {
   "cell_type": "markdown",
   "id": "375687be",
   "metadata": {},
   "source": [
    "# 9. get()\n",
    "Returns the value for key if key is in the dictionary, else default."
   ]
  },
  {
   "cell_type": "code",
   "execution_count": 117,
   "id": "82fb7158",
   "metadata": {},
   "outputs": [
    {
     "data": {
      "text/plain": [
       "['nani', 'mani', 'hari']"
      ]
     },
     "execution_count": 117,
     "metadata": {},
     "output_type": "execute_result"
    }
   ],
   "source": [
    "x = {'name'   : ['nani', 'mani' , 'hari'],\n",
    "    'roll no' : [1,2,3], \n",
    "    'marks'   : [70, 60,50]}\n",
    "\n",
    "x.get('name') # it give the value from the given  key "
   ]
  },
  {
   "cell_type": "code",
   "execution_count": 118,
   "id": "5d2e73b0",
   "metadata": {},
   "outputs": [
    {
     "data": {
      "text/plain": [
       "{'name': ['nani', 'mani', 'hari'], 'roll no': [1, 2, 3], 'marks': [70, 60, 50]}"
      ]
     },
     "execution_count": 118,
     "metadata": {},
     "output_type": "execute_result"
    }
   ],
   "source": [
    "x.get('njbs') # if we give  invalid key it give the entire dictionary \n",
    "x"
   ]
  },
  {
   "cell_type": "markdown",
   "id": "40af45c7",
   "metadata": {},
   "source": [
    "# 10. pop()\n",
    "Removes the specified key and returns the corresponding value. If the key is not found, default is returned."
   ]
  },
  {
   "cell_type": "code",
   "execution_count": 120,
   "id": "9f8bc133",
   "metadata": {},
   "outputs": [
    {
     "data": {
      "text/plain": [
       "{'name': ['nani', 'mani', 'hari'], 'roll no': [1, 2, 3]}"
      ]
     },
     "execution_count": 120,
     "metadata": {},
     "output_type": "execute_result"
    }
   ],
   "source": [
    "x = {'name'   : ['nani', 'mani' , 'hari'],\n",
    "    'roll no' : [1,2,3], \n",
    "    'marks'   : [70, 60,50]}\n",
    "\n",
    "x.pop('marks') # it remove the specified key from the dictionary\n",
    "x"
   ]
  },
  {
   "cell_type": "markdown",
   "id": "db734e77",
   "metadata": {},
   "source": [
    "# 11. popitem()\n",
    "Removes and returns a random (key, value) pair from the dictionary. Dictionaries are unordered, so you can't predict which item will be popped."
   ]
  },
  {
   "cell_type": "code",
   "execution_count": 121,
   "id": "008c099a",
   "metadata": {},
   "outputs": [
    {
     "data": {
      "text/plain": [
       "('marks', [70, 60, 50])"
      ]
     },
     "execution_count": 121,
     "metadata": {},
     "output_type": "execute_result"
    }
   ],
   "source": [
    "x = {'name'   : ['nani', 'mani' , 'hari'],\n",
    "    'roll no' : [1,2,3], \n",
    "    'marks'   : [70, 60,50]}\n",
    "\n",
    "x.popitem() # its remove the last key from the dictionary"
   ]
  },
  {
   "cell_type": "code",
   "execution_count": null,
   "id": "9b01b003",
   "metadata": {},
   "outputs": [],
   "source": []
  }
 ],
 "metadata": {
  "kernelspec": {
   "display_name": "Python 3 (ipykernel)",
   "language": "python",
   "name": "python3"
  },
  "language_info": {
   "codemirror_mode": {
    "name": "ipython",
    "version": 3
   },
   "file_extension": ".py",
   "mimetype": "text/x-python",
   "name": "python",
   "nbconvert_exporter": "python",
   "pygments_lexer": "ipython3",
   "version": "3.11.5"
  }
 },
 "nbformat": 4,
 "nbformat_minor": 5
}
