{
 "cells": [
  {
   "cell_type": "markdown",
   "id": "4df2d5cf",
   "metadata": {},
   "source": [
    "# Conditional statements:\n",
    "       Conditional statements in Python allow you to execute certain pieces of code based on whether a condition is true or false"
   ]
  },
  {
   "cell_type": "markdown",
   "id": "9993152d",
   "metadata": {},
   "source": [
    "# 1. if Statement\n",
    "The if statement is used to test a condition. If the condition is true, the code block under the if statement is executed.\n",
    "# syntax:\n",
    "if condition:\n",
    "   * code to execute if condition is true\n"
   ]
  },
  {
   "cell_type": "code",
   "execution_count": 1,
   "id": "baebd102",
   "metadata": {},
   "outputs": [
    {
     "name": "stdout",
     "output_type": "stream",
     "text": [
      "enter the age 18\n",
      "You are an adult.\n"
     ]
    }
   ],
   "source": [
    "age = int(input('enter the age '))\n",
    "if age >= 18:\n",
    "    print(\"You are an adult.\")\n"
   ]
  },
  {
   "cell_type": "markdown",
   "id": "e2a36d7e",
   "metadata": {},
   "source": [
    "# 2. if-else Statement\n",
    "The if-else statement provides an alternative block of code to execute if the condition is false.\n",
    "# syntax:\n",
    "if condition:\n",
    "\n",
    "    # code to execute if condition is true  \n",
    "else:\n",
    "\n",
    "    # code to execute if condition is false\n"
   ]
  },
  {
   "cell_type": "code",
   "execution_count": 2,
   "id": "30a8484d",
   "metadata": {},
   "outputs": [
    {
     "name": "stdout",
     "output_type": "stream",
     "text": [
      "enter the age 1\n",
      "You are not an adult.\n"
     ]
    }
   ],
   "source": [
    "age = int(input('enter the age '))\n",
    "if age >= 18:\n",
    "    print(\"You are an adult.\")\n",
    "else:\n",
    "    print(\"You are not an adult.\")\n"
   ]
  },
  {
   "cell_type": "markdown",
   "id": "69f5bd04",
   "metadata": {},
   "source": [
    "# 3. if-elif-else Statement\n",
    "The if-elif-else statement allows you to check multiple conditions. The first true condition’s code block is executed.\n",
    "# syntax:\n",
    "if condition1:\n",
    "    \n",
    "    # code to execute if condition1 is true\n",
    "elif condition2:\n",
    "    \n",
    "    # code to execute if condition2 is true\n",
    "else:\n",
    "    \n",
    "    # code to execute if all conditions are false\n"
   ]
  },
  {
   "cell_type": "code",
   "execution_count": 5,
   "id": "921e94f8",
   "metadata": {},
   "outputs": [
    {
     "name": "stdout",
     "output_type": "stream",
     "text": [
      "enter the score 34\n",
      "fail\n"
     ]
    }
   ],
   "source": [
    "score = int(input('enter the score '))\n",
    "if score >= 90:\n",
    "    print(\"Grade: A\")\n",
    "elif score >= 80:\n",
    "    print(\"Grade: B\")\n",
    "elif score >= 70:\n",
    "    print(\"Grade: C\")\n",
    "elif score >=35:\n",
    "    print(\"Grade: d\")\n",
    "else:\n",
    "    print('fail')\n"
   ]
  },
  {
   "cell_type": "markdown",
   "id": "1af627da",
   "metadata": {},
   "source": [
    "# Nested if-else:\n",
    "    \n",
    "Nested if-else statements are often used in scenarios where there are multiple conditions to be checked, and the outcome of one condition determines the need to check another condition.\n",
    "# syntax:\n",
    "if condition1:\n",
    "\n",
    "    # code to execute if condition1 is true\n",
    "    if condition2:\n",
    "    \n",
    "        # code to execute if both condition1 and condition2 are true\n",
    "    else:\n",
    "    \n",
    "        # code to execute if condition1 is true but condition2 is false\n",
    "else:\n",
    "\n",
    "    # code to execute if condition1 is false\n"
   ]
  },
  {
   "cell_type": "code",
   "execution_count": 6,
   "id": "e3f02b7e",
   "metadata": {},
   "outputs": [
    {
     "name": "stdout",
     "output_type": "stream",
     "text": [
      "enter the age :12\n",
      "\"You have not been selected due to less age\n"
     ]
    }
   ],
   "source": [
    "age = int(input('enter the age :'))\n",
    "if age>=18:\n",
    "    print('selected to next level')\n",
    "    \n",
    "    heigth = int(input('enter the heigth in cm :'))\n",
    "    \n",
    "    if heigth>=170:\n",
    "        print('you are selected')\n",
    "else:\n",
    "    print('\"You have not been selected due to less age')"
   ]
  },
  {
   "cell_type": "markdown",
   "id": "fe732c3c",
   "metadata": {},
   "source": [
    "# Loops:\n",
    "    \n",
    "Loops in Python allow you to execute a block of code repeatedly as long as a condition is met. There are two main types of loops in Python: for loops and while loops."
   ]
  },
  {
   "cell_type": "markdown",
   "id": "a40ec502",
   "metadata": {},
   "source": [
    "# 1. for Loop\n",
    "A for loop is used to iterate over a sequence (such as a list, tuple, dictionary, set, or string) and execute a block of code for each item in the sequence.\n",
    "\n",
    "# Syntax:\n",
    "for item in sequence:\n",
    "   * code to execute for each item\n"
   ]
  },
  {
   "cell_type": "code",
   "execution_count": 7,
   "id": "c35760a1",
   "metadata": {},
   "outputs": [
    {
     "name": "stdout",
     "output_type": "stream",
     "text": [
      "1\n",
      "2\n",
      "3\n",
      "4\n",
      "5\n"
     ]
    }
   ],
   "source": [
    "x = [1,2,3,4,5]\n",
    "for i in x:\n",
    "    print(i)"
   ]
  },
  {
   "cell_type": "markdown",
   "id": "fcd549d6",
   "metadata": {},
   "source": [
    "# 2. while Loop\n",
    "A while loop repeatedly executes a block of code as long as a condition is True.\n",
    "\n",
    "# Syntax:\n",
    "while condition:\n",
    "   * code to execute while condition is True\n"
   ]
  },
  {
   "cell_type": "code",
   "execution_count": 8,
   "id": "33dd96bf",
   "metadata": {},
   "outputs": [
    {
     "name": "stdout",
     "output_type": "stream",
     "text": [
      "0\n",
      "1\n",
      "2\n",
      "3\n",
      "4\n"
     ]
    }
   ],
   "source": [
    "i = 0\n",
    "while i < 5:\n",
    "    print(i)\n",
    "    i += 1\n"
   ]
  },
  {
   "cell_type": "markdown",
   "id": "c57afe41",
   "metadata": {},
   "source": [
    "# 3. Nested Loops:\n",
    "You can also have loops inside loops, which are called nested loops.\n",
    "# syntax :\n",
    "for outer_variable in outer_sequence:\n",
    "\n",
    "    for inner_variable in inner_sequence:\n",
    "\n",
    "    # Code to execute in the inner loop\n",
    "\n",
    "      # Code to execute in the outer loop"
   ]
  },
  {
   "cell_type": "code",
   "execution_count": 10,
   "id": "28bab7d6",
   "metadata": {},
   "outputs": [
    {
     "name": "stdout",
     "output_type": "stream",
     "text": [
      "4 * 1 = 4\n",
      "4 * 2 = 8\n",
      "4 * 3 = 12\n",
      "4 * 4 = 16\n",
      "4 * 5 = 20\n",
      "4 * 6 = 24\n",
      "4 * 7 = 28\n",
      "4 * 8 = 32\n",
      "4 * 9 = 36\n",
      "4 * 10 = 40\n"
     ]
    }
   ],
   "source": [
    "for i in range(4,5):  \n",
    "    for j in range(1, 11):  \n",
    "        print(f\"{i} * {j} = {i * j}\")\n"
   ]
  },
  {
   "cell_type": "code",
   "execution_count": null,
   "id": "dbcb5e9c",
   "metadata": {},
   "outputs": [],
   "source": []
  }
 ],
 "metadata": {
  "kernelspec": {
   "display_name": "Python 3 (ipykernel)",
   "language": "python",
   "name": "python3"
  },
  "language_info": {
   "codemirror_mode": {
    "name": "ipython",
    "version": 3
   },
   "file_extension": ".py",
   "mimetype": "text/x-python",
   "name": "python",
   "nbconvert_exporter": "python",
   "pygments_lexer": "ipython3",
   "version": "3.11.5"
  }
 },
 "nbformat": 4,
 "nbformat_minor": 5
}
