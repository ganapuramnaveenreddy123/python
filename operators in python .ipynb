{
 "cells": [
  {
   "cell_type": "markdown",
   "id": "e732f7ab",
   "metadata": {},
   "source": [
    "# Operators in python : \n",
    "       In Python, operators are special symbols or keywords that are used to perform operations on operands. Operands can be variables, values, or expressions. Python supports various types of operators, which can be classified into several categories:"
   ]
  },
  {
   "cell_type": "code",
   "execution_count": null,
   "id": "f6ee390e",
   "metadata": {},
   "outputs": [],
   "source": []
  },
  {
   "cell_type": "markdown",
   "id": "0003b4ee",
   "metadata": {},
   "source": [
    "# Arithmetic Operators: \n",
    "Used for basic mathematical operations.\n"
   ]
  },
  {
   "cell_type": "code",
   "execution_count": 1,
   "id": "55ea8c7b",
   "metadata": {},
   "outputs": [
    {
     "name": "stdout",
     "output_type": "stream",
     "text": [
      "13\n",
      "7\n",
      "30\n",
      "3.3333333333333335\n",
      "1\n",
      "1000\n",
      "3\n"
     ]
    }
   ],
   "source": [
    "x = 10\n",
    "y = 3\n",
    "print(x + y)  # Addition\n",
    "print(x - y)  # Subtraction\n",
    "print(x * y)  # Multiplication\n",
    "print(x / y)  # Division it gives the float values \n",
    "print(x % y)  # Modulus (remainder)\n",
    "print(x ** y) # Exponentiation\n",
    "print(x // y) # Floor division (quotient) it gives integer values \n"
   ]
  },
  {
   "cell_type": "code",
   "execution_count": null,
   "id": "ca69b8d3",
   "metadata": {},
   "outputs": [],
   "source": []
  },
  {
   "cell_type": "markdown",
   "id": "11a59eb5",
   "metadata": {},
   "source": [
    "# Comparison or relational Operators:\n",
    "    Used to compare values."
   ]
  },
  {
   "cell_type": "code",
   "execution_count": 2,
   "id": "e9fc8c56",
   "metadata": {},
   "outputs": [
    {
     "name": "stdout",
     "output_type": "stream",
     "text": [
      "False\n",
      "True\n",
      "True\n",
      "False\n",
      "True\n",
      "False\n"
     ]
    }
   ],
   "source": [
    "x = 10\n",
    "y = 5\n",
    "print(x == y)  # Equal to\n",
    "print(x != y)  # Not equal to\n",
    "print(x > y)   # Greater than\n",
    "print(x < y)   # Less than\n",
    "print(x >= y)  # Greater than or equal to\n",
    "print(x <= y)  # Less than or equal to\n"
   ]
  },
  {
   "cell_type": "code",
   "execution_count": null,
   "id": "567dac0c",
   "metadata": {},
   "outputs": [],
   "source": []
  },
  {
   "cell_type": "markdown",
   "id": "cf7a1e57",
   "metadata": {},
   "source": [
    "# Logical Operators: \n",
    "   Used to combine conditional statements."
   ]
  },
  {
   "cell_type": "code",
   "execution_count": 3,
   "id": "587d53c5",
   "metadata": {},
   "outputs": [
    {
     "name": "stdout",
     "output_type": "stream",
     "text": [
      "True\n",
      "True\n",
      "False\n"
     ]
    }
   ],
   "source": [
    "x = 5\n",
    "print(x > 3 and x < 10)  # and operator\n",
    "print(x > 3 or x < 4)     # or operator\n",
    "print(not(x > 3 and x < 10))  # not operator\n"
   ]
  },
  {
   "cell_type": "code",
   "execution_count": null,
   "id": "63f7d992",
   "metadata": {},
   "outputs": [],
   "source": []
  },
  {
   "cell_type": "markdown",
   "id": "d1319fea",
   "metadata": {},
   "source": [
    "# Assignment Operators: \n",
    "    Used to assign values to variables."
   ]
  },
  {
   "cell_type": "code",
   "execution_count": 14,
   "id": "b7905015",
   "metadata": {},
   "outputs": [
    {
     "name": "stdout",
     "output_type": "stream",
     "text": [
      "5\n",
      "8\n",
      "6\n",
      "24\n",
      "12.0\n"
     ]
    }
   ],
   "source": [
    "x = 5    # Assigns the value 5 to variable x\n",
    "print(x)\n",
    "x += 3   # Adds 3 to x (same as x = x + 3)\n",
    "print(x)\n",
    "x -= 2   # Subtracts 2 from x (same as x = x - 2)\n",
    "print(x)\n",
    "x *= 4   # Multiplies x by 4 (same as x = x * 4)\n",
    "print(x)\n",
    "x /= 2   # Divides x by 2 (same as x = x / 2)\n",
    "print(x)\n"
   ]
  },
  {
   "cell_type": "code",
   "execution_count": null,
   "id": "0e61de74",
   "metadata": {},
   "outputs": [],
   "source": []
  },
  {
   "cell_type": "markdown",
   "id": "e14373a5",
   "metadata": {},
   "source": [
    "# Identity Operators:\n",
    "    Used to compare objects, not if they are equal, but if they are actually the same object, with the same memory location.\n"
   ]
  },
  {
   "cell_type": "code",
   "execution_count": 42,
   "id": "3ce8026d",
   "metadata": {},
   "outputs": [
    {
     "name": "stdout",
     "output_type": "stream",
     "text": [
      "True\n",
      "False\n",
      "True\n",
      "True\n"
     ]
    }
   ],
   "source": [
    "x = [\"apple\", \"banana\"]\n",
    "y = [\"apple\", \"banana\"]\n",
    "z = x\n",
    "print(x is z)    # True because z is the same object as x\n",
    "print(x is y)    # False because x and y are different objects because of list are immutable\n",
    "print(x == y)    # True because the values of x and y are the same\n",
    "a = 5\n",
    "b = 5\n",
    "print(a is b)    # True because the values of a and b are the same beacuse int is mutable \n"
   ]
  },
  {
   "cell_type": "code",
   "execution_count": 43,
   "id": "67afeef4",
   "metadata": {},
   "outputs": [
    {
     "data": {
      "text/plain": [
       "140715736142760"
      ]
     },
     "execution_count": 43,
     "metadata": {},
     "output_type": "execute_result"
    }
   ],
   "source": [
    "id(a)"
   ]
  },
  {
   "cell_type": "code",
   "execution_count": 44,
   "id": "5a55002a",
   "metadata": {},
   "outputs": [
    {
     "data": {
      "text/plain": [
       "140715736142760"
      ]
     },
     "execution_count": 44,
     "metadata": {},
     "output_type": "execute_result"
    }
   ],
   "source": [
    "id(b)"
   ]
  },
  {
   "cell_type": "code",
   "execution_count": 39,
   "id": "7fafbaa6",
   "metadata": {},
   "outputs": [
    {
     "data": {
      "text/plain": [
       "140715736142760"
      ]
     },
     "execution_count": 39,
     "metadata": {},
     "output_type": "execute_result"
    }
   ],
   "source": [
    "id(x)\n"
   ]
  },
  {
   "cell_type": "code",
   "execution_count": 40,
   "id": "80ba7587",
   "metadata": {},
   "outputs": [
    {
     "data": {
      "text/plain": [
       "140715736142760"
      ]
     },
     "execution_count": 40,
     "metadata": {},
     "output_type": "execute_result"
    }
   ],
   "source": [
    "id(y)"
   ]
  },
  {
   "cell_type": "markdown",
   "id": "1d5f677d",
   "metadata": {},
   "source": [
    "# Membership Operators:\n",
    "    Used to test if a sequence is presented in an object."
   ]
  },
  {
   "cell_type": "code",
   "execution_count": 16,
   "id": "1560b00a",
   "metadata": {},
   "outputs": [
    {
     "name": "stdout",
     "output_type": "stream",
     "text": [
      "True\n",
      "True\n"
     ]
    }
   ],
   "source": [
    "x = [\"apple\", \"banana\"]\n",
    "print(\"banana\" in x)    # True because \"banana\" is in the list\n",
    "print(\"orange\" not in x) # True because \"orange\" is not in the list\n"
   ]
  },
  {
   "cell_type": "code",
   "execution_count": null,
   "id": "4c01073b",
   "metadata": {},
   "outputs": [],
   "source": []
  },
  {
   "cell_type": "markdown",
   "id": "f109f3e8",
   "metadata": {},
   "source": [
    "# Bitwise operators :\n",
    "    In Python are used to perform bitwise operations on integers. These operators work on the binary representation of numbers."
   ]
  },
  {
   "cell_type": "code",
   "execution_count": 21,
   "id": "eeb1edde",
   "metadata": {},
   "outputs": [
    {
     "name": "stdout",
     "output_type": "stream",
     "text": [
      "0\n",
      "14\n",
      "14\n",
      "-11\n",
      "40\n",
      "2\n"
     ]
    }
   ],
   "source": [
    "a = 10  # Binary: 1010\n",
    "b = 4   # Binary: 0100\n",
    "result = a & b  # Bitwise AND\n",
    "print(result)   # (Binary: 0000)\n",
    "result = a | b  # Bitwise OR\n",
    "print(result)   # (Binary: 1110)\n",
    "result = a ^ b  # Bitwise XOR\n",
    "print(result)   # (Binary: 1110)\n",
    "result = ~a     # Bitwise NOT\n",
    "print(result)   # (Binary: 11110101 in 2's complement)\n",
    "result = a << 2  # Left shift\n",
    "print(result)    # (Binary: 101000)\n",
    "result = a >> 2  # Right shift\n",
    "print(result)    # (Binary: 0010)\n"
   ]
  },
  {
   "cell_type": "code",
   "execution_count": null,
   "id": "d11076b2",
   "metadata": {},
   "outputs": [],
   "source": []
  },
  {
   "cell_type": "code",
   "execution_count": null,
   "id": "db47b806",
   "metadata": {},
   "outputs": [],
   "source": []
  }
 ],
 "metadata": {
  "kernelspec": {
   "display_name": "Python 3 (ipykernel)",
   "language": "python",
   "name": "python3"
  },
  "language_info": {
   "codemirror_mode": {
    "name": "ipython",
    "version": 3
   },
   "file_extension": ".py",
   "mimetype": "text/x-python",
   "name": "python",
   "nbconvert_exporter": "python",
   "pygments_lexer": "ipython3",
   "version": "3.11.5"
  }
 },
 "nbformat": 4,
 "nbformat_minor": 5
}
