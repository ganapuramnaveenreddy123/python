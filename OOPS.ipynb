{
 "cells": [
  {
   "cell_type": "markdown",
   "id": "875c2a27",
   "metadata": {},
   "source": [
    "# Scope:\n",
    "the concept of \"Scope\" in Python, which determines the visibility and lifetime of variables within different parts of the code. There are four main types of scopes:"
   ]
  },
  {
   "cell_type": "markdown",
   "id": "a4d765cf",
   "metadata": {},
   "source": [
    "# 1. Local Scope\n",
    "A variable declared inside a function is in the local scope and can only be accessed within that function."
   ]
  },
  {
   "cell_type": "code",
   "execution_count": 1,
   "id": "1780c803",
   "metadata": {},
   "outputs": [],
   "source": [
    "def my_function():\n",
    "    x = 10  # Local variable\n",
    "    print(x)  "
   ]
  },
  {
   "cell_type": "code",
   "execution_count": 2,
   "id": "9d50fa14",
   "metadata": {},
   "outputs": [
    {
     "name": "stdout",
     "output_type": "stream",
     "text": [
      "10\n"
     ]
    }
   ],
   "source": [
    "my_function()"
   ]
  },
  {
   "cell_type": "markdown",
   "id": "e95215fb",
   "metadata": {},
   "source": [
    "# 2. Enclosing (Nonlocal) Scope\n",
    "Variables in the enclosing scope are in the local scope of the enclosing functions. This is relevant for nested functions."
   ]
  },
  {
   "cell_type": "code",
   "execution_count": 152,
   "id": "a7dfa1a9",
   "metadata": {},
   "outputs": [],
   "source": [
    "y = 10\n",
    "def outer_function():\n",
    "    y = 20  # Enclosing variable\n",
    "    \n",
    "    def inner_function():\n",
    "        nonlocal y  # Refers to the enclosing variable y\n",
    "        y = 30\n",
    "        print(f\"Inner: {y}\")\n",
    "\n",
    "    inner_function()\n",
    "    print(f\"outer: {y}\")"
   ]
  },
  {
   "cell_type": "code",
   "execution_count": 153,
   "id": "97e18896",
   "metadata": {},
   "outputs": [
    {
     "name": "stdout",
     "output_type": "stream",
     "text": [
      "Inner: 30\n",
      "outer: 30\n"
     ]
    }
   ],
   "source": [
    "outer_function()"
   ]
  },
  {
   "cell_type": "code",
   "execution_count": 168,
   "id": "582e4bf9",
   "metadata": {},
   "outputs": [],
   "source": [
    "def outer_function():\n",
    "    x = 20  # Enclosing variable\n",
    "    \n",
    "    def inner_function():\n",
    "        print(x)  # Can access the enclosing variable\n",
    "    \n",
    "    inner_function()"
   ]
  },
  {
   "cell_type": "code",
   "execution_count": 169,
   "id": "526d5d52",
   "metadata": {},
   "outputs": [
    {
     "name": "stdout",
     "output_type": "stream",
     "text": [
      "20\n"
     ]
    }
   ],
   "source": [
    "outer_function()"
   ]
  },
  {
   "cell_type": "markdown",
   "id": "3d042ea8",
   "metadata": {},
   "source": [
    "# 3. Global Scope\n",
    "A variable declared at the top level of a script or module, outside any function, is in the global scope. It can be accessed from any part of the code after its declaration."
   ]
  },
  {
   "cell_type": "code",
   "execution_count": 164,
   "id": "ae9e18a7",
   "metadata": {},
   "outputs": [],
   "source": [
    "z = 40  # Global variable\n",
    "\n",
    "def my_function():\n",
    "    global z  # Refers to the global variable z\n",
    "    z = 50\n",
    "    print(f\"Inside function: {z}\")\n",
    "    "
   ]
  },
  {
   "cell_type": "code",
   "execution_count": 166,
   "id": "a7466bdc",
   "metadata": {},
   "outputs": [
    {
     "name": "stdout",
     "output_type": "stream",
     "text": [
      "Inside function: 50\n",
      "Outside function: 50\n"
     ]
    }
   ],
   "source": [
    "my_function()\n",
    "print(f\"Outside function: {z}\")"
   ]
  },
  {
   "cell_type": "markdown",
   "id": "5257cda0",
   "metadata": {},
   "source": [
    "# 4. Built-in Scope\n",
    "This is the scope that contains built-in functions and names in Python. These are available in all scopes."
   ]
  },
  {
   "cell_type": "code",
   "execution_count": 167,
   "id": "321f5eb2",
   "metadata": {},
   "outputs": [
    {
     "name": "stdout",
     "output_type": "stream",
     "text": [
      "5\n",
      "5\n"
     ]
    }
   ],
   "source": [
    "print(len(\"Hello\"))  # len is a built-in function\n",
    "print(max([1, 2, 3, 4, 5]))  # max is a built-in function"
   ]
  },
  {
   "cell_type": "markdown",
   "id": "abb015e5",
   "metadata": {},
   "source": [
    "# 1. Classes and Objects\n",
    "# Class:\n",
    "A blueprint for creating objects (a particular data structure), defining attributes and methods.\n",
    "\n",
    "# Object: \n",
    "An instance of a class."
   ]
  },
  {
   "cell_type": "code",
   "execution_count": 188,
   "id": "b89d1652",
   "metadata": {},
   "outputs": [],
   "source": [
    "class Student:# creating class\n",
    "    name = 'Nani'"
   ]
  },
  {
   "cell_type": "code",
   "execution_count": 189,
   "id": "38c9784c",
   "metadata": {},
   "outputs": [
    {
     "name": "stdout",
     "output_type": "stream",
     "text": [
      "Nani\n"
     ]
    }
   ],
   "source": [
    "x = Student()  # creating object\n",
    "print(x.name)"
   ]
  },
  {
   "cell_type": "markdown",
   "id": "441c3ef6",
   "metadata": {},
   "source": [
    "# Attributes and Methods\n",
    "# Attributes:\n",
    "   * Variables that belong to a class.\n",
    "\n",
    "# Methods:\n",
    "   * Functions that belong to a class."
   ]
  },
  {
   "cell_type": "code",
   "execution_count": 181,
   "id": "ba9f9538",
   "metadata": {},
   "outputs": [],
   "source": [
    "class persons:\n",
    "    def __init__(self, name, roll): \n",
    "        self.name = name  # Attribute\n",
    "        self.roll = roll  # Attribute\n",
    "    \n",
    "    def foo(self):  # Method\n",
    "        print(f\" my Name is {self.name} and my roll no {self.roll}\")"
   ]
  },
  {
   "cell_type": "code",
   "execution_count": 182,
   "id": "677b7d00",
   "metadata": {},
   "outputs": [
    {
     "name": "stdout",
     "output_type": "stream",
     "text": [
      " my Name is nani and my roll no 10\n"
     ]
    }
   ],
   "source": [
    "x = persons('nani',10) # Creating an object\n",
    "x.foo()"
   ]
  },
  {
   "cell_type": "markdown",
   "id": "888476ee",
   "metadata": {},
   "source": [
    "# self :\n",
    "The self parameter in Python is used in instance methods to refer to the object that is calling the method."
   ]
  },
  {
   "cell_type": "code",
   "execution_count": 78,
   "id": "c3c48767",
   "metadata": {},
   "outputs": [],
   "source": [
    "class person:\n",
    "    def __init__(): # Constructor method\n",
    "        self.name = 'nani'\n",
    "        self.roll = 10 "
   ]
  },
  {
   "cell_type": "code",
   "execution_count": 80,
   "id": "9fdd38ff",
   "metadata": {},
   "outputs": [
    {
     "ename": "TypeError",
     "evalue": "person.__init__() takes 0 positional arguments but 1 was given",
     "output_type": "error",
     "traceback": [
      "\u001b[1;31m---------------------------------------------------------------------------\u001b[0m",
      "\u001b[1;31mTypeError\u001b[0m                                 Traceback (most recent call last)",
      "Cell \u001b[1;32mIn[80], line 1\u001b[0m\n\u001b[1;32m----> 1\u001b[0m x \u001b[38;5;241m=\u001b[39m person()\n\u001b[0;32m      2\u001b[0m x\u001b[38;5;241m.\u001b[39mname\n",
      "\u001b[1;31mTypeError\u001b[0m: person.__init__() takes 0 positional arguments but 1 was given"
     ]
    }
   ],
   "source": [
    "x = person() # error because of the self person\n",
    "x.name"
   ]
  },
  {
   "cell_type": "code",
   "execution_count": 81,
   "id": "bac20699",
   "metadata": {},
   "outputs": [],
   "source": [
    "class person:\n",
    "    def __init__(self): # Constructor method\n",
    "        self.name = 'nani'\n",
    "        self.roll = 10 "
   ]
  },
  {
   "cell_type": "code",
   "execution_count": 82,
   "id": "eae75b1b",
   "metadata": {},
   "outputs": [
    {
     "data": {
      "text/plain": [
       "'nani'"
      ]
     },
     "execution_count": 82,
     "metadata": {},
     "output_type": "execute_result"
    }
   ],
   "source": [
    "x = person() # error because of the self person\n",
    "x.name"
   ]
  },
  {
   "cell_type": "markdown",
   "id": "ce685d14",
   "metadata": {},
   "source": [
    "# Constructor\n",
    "* A constructor is a special method in a class that is automatically called when an object of that class is created. It is used to initialize the attributes of the object.\n",
    "\n",
    "* In Python, the constructor method iscalled  _ _init_ _()."
   ]
  },
  {
   "cell_type": "code",
   "execution_count": 144,
   "id": "936c66f1",
   "metadata": {},
   "outputs": [],
   "source": [
    "# Defualt Constructor\n",
    "class person:\n",
    "    def __init__(self): # Constructor method\n",
    "        self.name = 'nani'\n",
    "        self.roll = 10"
   ]
  },
  {
   "cell_type": "code",
   "execution_count": 145,
   "id": "714e2ffc",
   "metadata": {},
   "outputs": [
    {
     "name": "stdout",
     "output_type": "stream",
     "text": [
      "nani\n"
     ]
    }
   ],
   "source": [
    "x = person()\n",
    "print(x.name)"
   ]
  },
  {
   "cell_type": "code",
   "execution_count": 178,
   "id": "092bb006",
   "metadata": {},
   "outputs": [],
   "source": [
    "# parameterised Constructor\n",
    "class persons:\n",
    "    def __init__(self, name, roll): # Constructor method\n",
    "        self.name = name  \n",
    "        self.roll = roll\n",
    "    \n",
    "    def foo(self):\n",
    "        print(f\" my Name is {self.name} and my roll no {self.roll}\")"
   ]
  },
  {
   "cell_type": "code",
   "execution_count": 179,
   "id": "3188fcac",
   "metadata": {},
   "outputs": [
    {
     "name": "stdout",
     "output_type": "stream",
     "text": [
      " my Name is nani and my roll no 10\n"
     ]
    }
   ],
   "source": [
    "x = persons('nani',10) # Creating an object\n",
    "x.foo()"
   ]
  },
  {
   "cell_type": "markdown",
   "id": "8d188cc9",
   "metadata": {},
   "source": [
    "# methods \n",
    "\n",
    "# 1. Instance Methods\n",
    "Instance methods are the most common type of methods. They are defined within a class and operate on instances of that class. They use the self parameter to access or modify the instance's attributes."
   ]
  },
  {
   "cell_type": "code",
   "execution_count": 148,
   "id": "bb2fb64b",
   "metadata": {},
   "outputs": [],
   "source": [
    "# Instance Methods\n",
    "class Instance:\n",
    "    def __init__(self, name, roll): \n",
    "        self.name = name\n",
    "        self.roll = roll\n",
    "    \n",
    "    def foo(self):\n",
    "        print(f\" my Name is {self.name} and my roll no {self.roll}\")\n"
   ]
  },
  {
   "cell_type": "code",
   "execution_count": 149,
   "id": "2839f883",
   "metadata": {},
   "outputs": [
    {
     "name": "stdout",
     "output_type": "stream",
     "text": [
      " my Name is nani and my roll no 10\n"
     ]
    }
   ],
   "source": [
    "x = Instance('nani',10) \n",
    "x.foo()"
   ]
  },
  {
   "cell_type": "markdown",
   "id": "a153e447",
   "metadata": {},
   "source": [
    "# 2. Class Methods :\n",
    "    The class method cannot access the Instance variables by using class method. we can access the class variables by using the objects and we can access by class also.Class methods use the cls parameter to refer to the class itself and are marked with the @classmethod decorator. "
   ]
  },
  {
   "cell_type": "code",
   "execution_count": 166,
   "id": "db71eb07",
   "metadata": {},
   "outputs": [],
   "source": [
    "class persons:\n",
    "    place = 'hyd' # class object variable \n",
    "    \n",
    "    @classmethod\n",
    "    def foo(cls):\n",
    "        #cls.place=places\n",
    "        print(cls.place)\n",
    "        "
   ]
  },
  {
   "cell_type": "code",
   "execution_count": 167,
   "id": "ae95fb98",
   "metadata": {},
   "outputs": [
    {
     "name": "stdout",
     "output_type": "stream",
     "text": [
      "hyd\n"
     ]
    }
   ],
   "source": [
    "persons.foo() # calling by using class "
   ]
  },
  {
   "cell_type": "code",
   "execution_count": 168,
   "id": "59a84039",
   "metadata": {},
   "outputs": [
    {
     "name": "stdout",
     "output_type": "stream",
     "text": [
      "hyd\n"
     ]
    }
   ],
   "source": [
    "x = persons() # calling by using by object \n",
    "x.foo()"
   ]
  },
  {
   "cell_type": "markdown",
   "id": "721f1fca",
   "metadata": {},
   "source": [
    "# 3. Static Methods\n",
    "Static methods do not operate on an instance or a class. They behave like regular functions but belong to the class's namespace. Static methods are marked with the @staticmethod decorator."
   ]
  },
  {
   "cell_type": "code",
   "execution_count": 172,
   "id": "f6fb81d6",
   "metadata": {},
   "outputs": [],
   "source": [
    "class math:\n",
    "    \n",
    "    @staticmethod\n",
    "    def add(a, b):\n",
    "        return a + b"
   ]
  },
  {
   "cell_type": "code",
   "execution_count": 173,
   "id": "5f33eb42",
   "metadata": {},
   "outputs": [
    {
     "data": {
      "text/plain": [
       "4"
      ]
     },
     "execution_count": 173,
     "metadata": {},
     "output_type": "execute_result"
    }
   ],
   "source": [
    "math.add(1,3) # calling class method "
   ]
  },
  {
   "cell_type": "code",
   "execution_count": 174,
   "id": "463130ba",
   "metadata": {},
   "outputs": [
    {
     "data": {
      "text/plain": [
       "4"
      ]
     },
     "execution_count": 174,
     "metadata": {},
     "output_type": "execute_result"
    }
   ],
   "source": [
    "x = math() # calling by using object method \n",
    "x.add(1,3)"
   ]
  },
  {
   "cell_type": "markdown",
   "id": "692b6189",
   "metadata": {},
   "source": [
    "# Type of oops :\n",
    "    \n",
    "# Inheritance:\n",
    "    Inheritance in Python is a way to create a new class (called the derived or child class) that is based on an existing class (called the base or parent class)."
   ]
  },
  {
   "cell_type": "markdown",
   "id": "7fe8fe2f",
   "metadata": {},
   "source": [
    "# 1. Single Inheritance\n",
    "A child class inherits from a single parent class."
   ]
  },
  {
   "cell_type": "code",
   "execution_count": 26,
   "id": "0cbc4adc",
   "metadata": {},
   "outputs": [],
   "source": [
    "class parent:  # parent class\n",
    "    def foo1(self):\n",
    "        print('i am parent')\n",
    "\n",
    "class child(parent): # child class \n",
    "    def foo2(self):\n",
    "        print('i am child')"
   ]
  },
  {
   "cell_type": "code",
   "execution_count": 30,
   "id": "17efc192",
   "metadata": {},
   "outputs": [
    {
     "name": "stdout",
     "output_type": "stream",
     "text": [
      "i am child\n",
      "i am parent\n"
     ]
    }
   ],
   "source": [
    "x = child()\n",
    "x.foo2()\n",
    "x.foo1() # by using child class we can get parent class "
   ]
  },
  {
   "cell_type": "markdown",
   "id": "e80cf042",
   "metadata": {},
   "source": [
    "# 2. Multiple Inheritance\n",
    "A child class inherits from more than one parent class."
   ]
  },
  {
   "cell_type": "code",
   "execution_count": 34,
   "id": "7556eab5",
   "metadata": {},
   "outputs": [],
   "source": [
    "class father:  # father (parent) class \n",
    "    def  foo1(self):\n",
    "        print('i am father')\n",
    "\n",
    "class mother: # mother (parent) class\n",
    "    def foo2(self):\n",
    "        print('i am mother')\n",
    "        \n",
    "class child(father,mother):  # child class\n",
    "    def foo3(self):\n",
    "        print('i am child')"
   ]
  },
  {
   "cell_type": "code",
   "execution_count": 40,
   "id": "101d4ed8",
   "metadata": {},
   "outputs": [
    {
     "name": "stdout",
     "output_type": "stream",
     "text": [
      "i am child\n",
      "i am father\n",
      "i am mother\n"
     ]
    }
   ],
   "source": [
    "x = child()\n",
    "x.foo3()\n",
    "x.foo1()  # by uing child we get father class\n",
    "x.foo2()  # by uing child we get mother class"
   ]
  },
  {
   "cell_type": "markdown",
   "id": "36406388",
   "metadata": {},
   "source": [
    "# 3. Multilevel Inheritance\n",
    "A child class inherits from a parent class, and another child class inherits from the first child class."
   ]
  },
  {
   "cell_type": "code",
   "execution_count": 43,
   "id": "f349b49a",
   "metadata": {},
   "outputs": [],
   "source": [
    "class grandparent:  # grandparent class \n",
    "    def  foo1(self):\n",
    "        print('i am grandparent')\n",
    "\n",
    "class parent(grandparent): # parent class\n",
    "    def foo2(self): \n",
    "        print('i am parent')\n",
    "        \n",
    "class child(parent):  # child class\n",
    "    def foo3(self):\n",
    "        print('i am child')"
   ]
  },
  {
   "cell_type": "code",
   "execution_count": 45,
   "id": "0bde4e56",
   "metadata": {},
   "outputs": [
    {
     "name": "stdout",
     "output_type": "stream",
     "text": [
      "i am grandparent\n",
      "i am parent\n",
      "i am child\n"
     ]
    }
   ],
   "source": [
    "x = child()\n",
    "x.foo1() # by uing child class we get grandparent class\n",
    "x.foo2() # by using child class we  get parent class \n",
    "x.foo3()"
   ]
  },
  {
   "cell_type": "markdown",
   "id": "80f0c5c4",
   "metadata": {},
   "source": [
    "# 4. Hierarchical Inheritance\n",
    "Multiple child classes inherit from a single parent class."
   ]
  },
  {
   "cell_type": "code",
   "execution_count": 47,
   "id": "ceb9622c",
   "metadata": {},
   "outputs": [],
   "source": [
    "class parent:  # parent class \n",
    "    def  foo1(self):\n",
    "        print('i am parent')\n",
    "\n",
    "class child1(parent): # child1 class\n",
    "    def foo2(self):\n",
    "        print('i am child1')\n",
    "        \n",
    "class child2(parent):  # child2 class\n",
    "    def foo3(self):\n",
    "        print('i am child2')"
   ]
  },
  {
   "cell_type": "code",
   "execution_count": 54,
   "id": "ac4abff1",
   "metadata": {},
   "outputs": [
    {
     "name": "stdout",
     "output_type": "stream",
     "text": [
      "i am parent\n",
      "i am child1\n",
      "i am parent\n",
      "i am child2\n"
     ]
    }
   ],
   "source": [
    "x=child1() # child1 class \n",
    "x.foo1() # by using child1 class we can access parent class\n",
    "x.foo2()\n",
    "y=child2() # child2 class\n",
    "y.foo1() # by using child2 class we can access parent class\n",
    "y.foo3()"
   ]
  },
  {
   "cell_type": "markdown",
   "id": "6432f624",
   "metadata": {},
   "source": [
    "# 5. Hybrid Inheritance\n",
    "A combination of two or more types of inheritance. It usually involves a mix of hierarchical and multiple inheritance."
   ]
  },
  {
   "cell_type": "code",
   "execution_count": 60,
   "id": "881f6170",
   "metadata": {},
   "outputs": [],
   "source": [
    "class grandparent:  # grandparent class \n",
    "    def  foo1(self):\n",
    "        print('i am grandparent')\n",
    "\n",
    "class parent1(grandparent): # parent1 class\n",
    "    def foo2(self):\n",
    "        print('i am parent1')\n",
    "        \n",
    "class parent2(parent1):  # parent2 class \n",
    "    def  foo3(self):\n",
    "        print('i am parent2')\n",
    "\n",
    "class child(parent2,parent1): # child class\n",
    "    def foo4(self):\n",
    "        print('i am child')"
   ]
  },
  {
   "cell_type": "code",
   "execution_count": 69,
   "id": "300b7eef",
   "metadata": {},
   "outputs": [
    {
     "name": "stdout",
     "output_type": "stream",
     "text": [
      "i am grandparent\n",
      "i am parent1\n",
      "i am parent2\n",
      "i am child\n"
     ]
    }
   ],
   "source": [
    "x = child()\n",
    "x.foo1()\n",
    "x.foo2()\n",
    "x.foo3()\n",
    "x.foo4()\n"
   ]
  },
  {
   "cell_type": "code",
   "execution_count": null,
   "id": "13fead78",
   "metadata": {},
   "outputs": [],
   "source": []
  },
  {
   "cell_type": "markdown",
   "id": "1518dc32",
   "metadata": {},
   "source": [
    "# 2. Polymorphism :\n",
    "it means \"many forms\" and refers to the ability of different objects to respond to the same method in different ways.  "
   ]
  },
  {
   "cell_type": "code",
   "execution_count": 99,
   "id": "5d54e754",
   "metadata": {},
   "outputs": [],
   "source": [
    "class a:\n",
    "    def foo(self):\n",
    "        print('this is a')\n",
    "        \n",
    "class b:\n",
    "    def foo(self):\n",
    "        print('this is b')\n",
    "        \n",
    "class c:\n",
    "    def foo(self):\n",
    "        print('this is c')\n",
    "        \n",
    "def poly(fun):\n",
    "    fun.foo()\n"
   ]
  },
  {
   "cell_type": "code",
   "execution_count": 102,
   "id": "f8f0862f",
   "metadata": {},
   "outputs": [
    {
     "name": "stdout",
     "output_type": "stream",
     "text": [
      "this is a\n",
      "this is b\n",
      "this is c\n"
     ]
    }
   ],
   "source": [
    "x = a()\n",
    "y = b()\n",
    "z = c()\n",
    "poly(x)\n",
    "poly(y)\n",
    "poly(z)"
   ]
  },
  {
   "cell_type": "markdown",
   "id": "63cf47c6",
   "metadata": {},
   "source": [
    "# Types of Polymorphism :\n",
    "# Compile-time Polymorphism (Method Overloading):\n",
    "    This occurs when multiple methods with the same name but different parameters exist in the same class.\n",
    "# Run-time Polymorphism (Method Overriding):\n",
    "    This occurs when a subclass provides a specific implementation of a method that is already defined in its superclass."
   ]
  },
  {
   "cell_type": "markdown",
   "id": "2683bf18",
   "metadata": {},
   "source": [
    "# Method Overloading:\n",
    "   python dosen't support method overloading. if the class contains more then one method as same name and the methods contaian different data types of parameters. the Method Overloading works on Compile-time for example (a+b) it is Compile-time Polymorphism"
   ]
  },
  {
   "cell_type": "code",
   "execution_count": 77,
   "id": "52f10dfd",
   "metadata": {},
   "outputs": [],
   "source": [
    "class Calculator:\n",
    "    def add(self,a,b): \n",
    "        return a + b \n",
    "    \n",
    "    def add(self,a,b,c=0):\n",
    "        return a+b+c\n",
    "    "
   ]
  },
  {
   "cell_type": "code",
   "execution_count": 78,
   "id": "de122530",
   "metadata": {},
   "outputs": [
    {
     "name": "stdout",
     "output_type": "stream",
     "text": [
      "5\n",
      "9\n"
     ]
    }
   ],
   "source": [
    "x = Calculator()\n",
    "print(x.add(2, 3))\n",
    "print(x.add(2, 3, 4))\n"
   ]
  },
  {
   "cell_type": "markdown",
   "id": "8e769c53",
   "metadata": {},
   "source": [
    "# Method Overriding:\n",
    "    This allows a subclass to provide a specific implementation of a method that is already defined in its superclass. is should have same method and same parameters in both the classes "
   ]
  },
  {
   "cell_type": "code",
   "execution_count": 82,
   "id": "d0b903ed",
   "metadata": {},
   "outputs": [],
   "source": [
    "class parent:\n",
    "    def foo(self): \n",
    "        print('i am parent')\n",
    "\n",
    "class child(parent):\n",
    "    def foo(self):\n",
    "        print('i am child')"
   ]
  },
  {
   "cell_type": "code",
   "execution_count": 83,
   "id": "800f77a4",
   "metadata": {},
   "outputs": [
    {
     "name": "stdout",
     "output_type": "stream",
     "text": [
      "i am child\n"
     ]
    }
   ],
   "source": [
    "x = child()\n",
    "x.foo()"
   ]
  },
  {
   "cell_type": "markdown",
   "id": "f484d857",
   "metadata": {},
   "source": [
    "# 3. Encapsulation :\n",
    "    \n",
    "     Encapsulation is one of the most fundamental concepts in object-oriented programming (OOP). This is the concept of wrapping data and methods that work with data in one unit.   "
   ]
  },
  {
   "cell_type": "markdown",
   "id": "1ae64346",
   "metadata": {},
   "source": [
    "# Types of Encapsulation\n",
    "* Public\n",
    "* _Protected\n",
    "* __Private"
   ]
  },
  {
   "cell_type": "markdown",
   "id": "548e68f0",
   "metadata": {},
   "source": [
    "# 1. Public\n",
    "Public members (attributes and methods) are accessible from outside the class. They are the default type in Python."
   ]
  },
  {
   "cell_type": "code",
   "execution_count": 1,
   "id": "009dc804",
   "metadata": {},
   "outputs": [],
   "source": [
    "class parent:\n",
    "    publice = 10\n",
    "    def foo1(self):\n",
    "        print(self.publice)\n",
    "        \n",
    "class child(parent):\n",
    "    def foo2(self):\n",
    "        print(self.publice)"
   ]
  },
  {
   "cell_type": "code",
   "execution_count": 4,
   "id": "55ed7fe8",
   "metadata": {},
   "outputs": [
    {
     "name": "stdout",
     "output_type": "stream",
     "text": [
      "10\n",
      "10\n",
      "10\n",
      "10\n"
     ]
    }
   ],
   "source": [
    "x = parent() \n",
    "x.foo1() \n",
    "print(x.publice)\n",
    "y = child()\n",
    "y.foo2()\n",
    "print(y.publice)"
   ]
  },
  {
   "cell_type": "markdown",
   "id": "4c339676",
   "metadata": {},
   "source": [
    "# 2. _Protected:\n",
    "Protected members have a single underscore _ prefix and are meant to be accessible within the class and its subclasses. They are not strictly enforced by Python but are a convention to indicate that these members are intended for internal use."
   ]
  },
  {
   "cell_type": "code",
   "execution_count": 7,
   "id": "ecf3f224",
   "metadata": {},
   "outputs": [],
   "source": [
    "class parent:\n",
    "    _protect = 10\n",
    "    def foo1(self):\n",
    "        print(self._protect)\n",
    "        \n",
    "class child(parent):\n",
    "    def foo2(self):\n",
    "        print(self._protect)"
   ]
  },
  {
   "cell_type": "code",
   "execution_count": 8,
   "id": "6453dba6",
   "metadata": {},
   "outputs": [
    {
     "name": "stdout",
     "output_type": "stream",
     "text": [
      "10\n",
      "10\n",
      "10\n",
      "10\n"
     ]
    }
   ],
   "source": [
    "x = parent() \n",
    "x.foo1() \n",
    "print(x._protect)\n",
    "y = child()\n",
    "y.foo2()\n",
    "print(y._protect)"
   ]
  },
  {
   "cell_type": "markdown",
   "id": "652627b6",
   "metadata": {},
   "source": [
    "# 3. __Private\n",
    "Private members have a double underscore __ prefix and are not accessible from outside the class. They are intended to be accessed only within the class itself."
   ]
  },
  {
   "cell_type": "code",
   "execution_count": 9,
   "id": "3b4b6ed4",
   "metadata": {},
   "outputs": [],
   "source": [
    "class parent:\n",
    "    __Private = 10\n",
    "    def foo1(self):\n",
    "        print(self.__Private)\n",
    "        \n",
    "class child(parent):\n",
    "    def foo2(self):\n",
    "        print(self.__Private)"
   ]
  },
  {
   "cell_type": "code",
   "execution_count": 13,
   "id": "bb512b29",
   "metadata": {},
   "outputs": [
    {
     "name": "stdout",
     "output_type": "stream",
     "text": [
      "10\n"
     ]
    },
    {
     "ename": "AttributeError",
     "evalue": "'child' object has no attribute '_child__Private'",
     "output_type": "error",
     "traceback": [
      "\u001b[1;31m---------------------------------------------------------------------------\u001b[0m",
      "\u001b[1;31mAttributeError\u001b[0m                            Traceback (most recent call last)",
      "Cell \u001b[1;32mIn[13], line 4\u001b[0m\n\u001b[0;32m      2\u001b[0m x\u001b[38;5;241m.\u001b[39mfoo1() \n\u001b[0;32m      3\u001b[0m y \u001b[38;5;241m=\u001b[39m child()\n\u001b[1;32m----> 4\u001b[0m y\u001b[38;5;241m.\u001b[39mfoo2()\n",
      "Cell \u001b[1;32mIn[9], line 8\u001b[0m, in \u001b[0;36mchild.foo2\u001b[1;34m(self)\u001b[0m\n\u001b[0;32m      7\u001b[0m \u001b[38;5;28;01mdef\u001b[39;00m \u001b[38;5;21mfoo2\u001b[39m(\u001b[38;5;28mself\u001b[39m):\n\u001b[1;32m----> 8\u001b[0m     \u001b[38;5;28mprint\u001b[39m(\u001b[38;5;28mself\u001b[39m\u001b[38;5;241m.\u001b[39m__Private)\n",
      "\u001b[1;31mAttributeError\u001b[0m: 'child' object has no attribute '_child__Private'"
     ]
    }
   ],
   "source": [
    "x = parent() \n",
    "x.foo1() \n",
    "y = child() # __Private is not support another class  \n",
    "y.foo2()"
   ]
  },
  {
   "cell_type": "markdown",
   "id": "a64b3b53",
   "metadata": {},
   "source": [
    "# Name mangling :\n",
    "Name mangling is a technique we use to protect instance variables from being accidentally overwritten or shadowed by instance variables with the same name in derived classes."
   ]
  },
  {
   "cell_type": "code",
   "execution_count": 16,
   "id": "c0d678d2",
   "metadata": {},
   "outputs": [],
   "source": [
    "class parent:\n",
    "    __Private = 10\n",
    "    def foo1(self):\n",
    "        print(self.__Private)\n",
    "        \n",
    "class child(parent):\n",
    "    def foo2(self):\n",
    "        print(self.__Private)"
   ]
  },
  {
   "cell_type": "code",
   "execution_count": 19,
   "id": "4a551a5b",
   "metadata": {},
   "outputs": [
    {
     "name": "stdout",
     "output_type": "stream",
     "text": [
      "10\n"
     ]
    },
    {
     "data": {
      "text/plain": [
       "10"
      ]
     },
     "execution_count": 19,
     "metadata": {},
     "output_type": "execute_result"
    }
   ],
   "source": [
    "x = parent() \n",
    "x.foo1() \n",
    "y = child() \n",
    "y._parent__Private #  by using we can access the another class "
   ]
  },
  {
   "cell_type": "markdown",
   "id": "c2629d84",
   "metadata": {},
   "source": [
    "# 4. Abstraction\n",
    "Abstraction, a foundational concept in Python, allows developers to create a superclass that carries common features and functions of subclasses without having an object of its own."
   ]
  },
  {
   "cell_type": "code",
   "execution_count": 30,
   "id": "c1b07838",
   "metadata": {},
   "outputs": [],
   "source": [
    "from abc import ABC, abstractmethod\n",
    "\n",
    "class a(ABC):\n",
    "    \n",
    "    @abstractmethod\n",
    "    def foo1(self):\n",
    "        pass\n",
    "    \n",
    "    def foo2(self):\n",
    "        print('class a')\n",
    "        \n",
    "class b(a):\n",
    "    def foo1(self):\n",
    "        print('class b')"
   ]
  },
  {
   "cell_type": "code",
   "execution_count": 31,
   "id": "ab24161c",
   "metadata": {},
   "outputs": [
    {
     "name": "stdout",
     "output_type": "stream",
     "text": [
      "class b\n",
      "class a\n"
     ]
    }
   ],
   "source": [
    "x = b()\n",
    "x.foo1()\n",
    "x.foo2()"
   ]
  },
  {
   "cell_type": "code",
   "execution_count": null,
   "id": "85a70a65",
   "metadata": {},
   "outputs": [],
   "source": []
  }
 ],
 "metadata": {
  "kernelspec": {
   "display_name": "Python 3 (ipykernel)",
   "language": "python",
   "name": "python3"
  },
  "language_info": {
   "codemirror_mode": {
    "name": "ipython",
    "version": 3
   },
   "file_extension": ".py",
   "mimetype": "text/x-python",
   "name": "python",
   "nbconvert_exporter": "python",
   "pygments_lexer": "ipython3",
   "version": "3.11.5"
  }
 },
 "nbformat": 4,
 "nbformat_minor": 5
}
