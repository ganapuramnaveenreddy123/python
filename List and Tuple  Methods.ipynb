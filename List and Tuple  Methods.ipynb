{
 "cells": [
  {
   "cell_type": "markdown",
   "id": "aa7684de",
   "metadata": {},
   "source": [
    "# List :\n",
    "A list in Python is a collection data type that is ordered, mutable (changeable), and allows duplicate elements. Lists are used to store multiple items in a single variable. we can store any type of data in list like (int,str,bool). list is heterogenous"
   ]
  },
  {
   "cell_type": "code",
   "execution_count": 6,
   "id": "a82e38de",
   "metadata": {},
   "outputs": [
    {
     "name": "stdout",
     "output_type": "stream",
     "text": [
      "[1, 2, 3, 4]\n",
      "['nani', 'mani', 'hari']\n",
      "[1, 'naveen', True, 1.0]\n",
      "[]\n",
      "[1, 2, 3, [4, 5], 5, 6]\n"
     ]
    }
   ],
   "source": [
    "x = [1,2,3,4] # homogenus list\n",
    "y = ['nani', 'mani', 'hari']\n",
    "z = [1, 'naveen', True, 1.0]  # heterogenous \n",
    "a = [] # empty  list\n",
    "b = [1,2,3,[4,5],5,6] # nested-list\n",
    "print(x)\n",
    "print(y)\n",
    "print(z)\n",
    "print(a)\n",
    "print(b)"
   ]
  },
  {
   "cell_type": "markdown",
   "id": "c45b2185",
   "metadata": {},
   "source": [
    "# List Methods :"
   ]
  },
  {
   "cell_type": "markdown",
   "id": "171ca5aa",
   "metadata": {},
   "source": [
    "# 1. append() :\n",
    "\n",
    "Adds an element to the end of the list."
   ]
  },
  {
   "cell_type": "code",
   "execution_count": 30,
   "id": "b90ac4a9",
   "metadata": {},
   "outputs": [
    {
     "name": "stdout",
     "output_type": "stream",
     "text": [
      "[1, 2, 3, 4, 5, 1]\n",
      "[1, 2, 3, 4, 5, [1, 2]]\n"
     ]
    }
   ],
   "source": [
    "x = [1, 2, 3, 4, 5]\n",
    "y = [1, 2, 3, 4, 5]\n",
    "x.append(1)\n",
    "y.append([1,2])\n",
    "print(x)\n",
    "print(y)"
   ]
  },
  {
   "cell_type": "markdown",
   "id": "fae89a33",
   "metadata": {},
   "source": [
    "# 2. extend()\n",
    "\n",
    "Adds all elements of a list (or any iterable) to the end of the current list."
   ]
  },
  {
   "cell_type": "code",
   "execution_count": 37,
   "id": "f2f25a34",
   "metadata": {},
   "outputs": [
    {
     "name": "stdout",
     "output_type": "stream",
     "text": [
      "[1, 2, 3, 4, 5, 1, 2, 'n', 'a', 'n', 'i']\n"
     ]
    }
   ],
   "source": [
    "x = [1, 2, 3, 4, 5]\n",
    "x.extend([1,2])\n",
    "x.extend('nani')\n",
    "print(x)"
   ]
  },
  {
   "cell_type": "markdown",
   "id": "54e59805",
   "metadata": {},
   "source": [
    "# 3. insert()\n",
    "\n",
    "Inserts an element at a specified position."
   ]
  },
  {
   "cell_type": "code",
   "execution_count": 39,
   "id": "50126be1",
   "metadata": {},
   "outputs": [
    {
     "data": {
      "text/plain": [
       "[1, 2, 'a', 3, 4, 5]"
      ]
     },
     "execution_count": 39,
     "metadata": {},
     "output_type": "execute_result"
    }
   ],
   "source": [
    "x = [1, 2, 3, 4, 5] # in this we added 'a' at the position of 2\n",
    "x.insert(2, 'a') \n",
    "x"
   ]
  },
  {
   "cell_type": "markdown",
   "id": "0151969f",
   "metadata": {},
   "source": [
    "# 4. remove()\n",
    "\n",
    "The remove() method removes the first occurrence of the element with the specified value."
   ]
  },
  {
   "cell_type": "code",
   "execution_count": 45,
   "id": "64c6a3e5",
   "metadata": {},
   "outputs": [
    {
     "data": {
      "text/plain": [
       "[1, 3, 4, 5]"
      ]
     },
     "execution_count": 45,
     "metadata": {},
     "output_type": "execute_result"
    }
   ],
   "source": [
    "x = [1, 2, 3, 4, 5]\n",
    "x.remove(2)\n",
    "x"
   ]
  },
  {
   "cell_type": "markdown",
   "id": "205a846a",
   "metadata": {},
   "source": [
    "# 5. pop()\n",
    "\n",
    "Removes the element at the specified position and returns it. If no index is specified, it removes and returns the last item."
   ]
  },
  {
   "cell_type": "code",
   "execution_count": 58,
   "id": "2c4abb9f",
   "metadata": {},
   "outputs": [
    {
     "name": "stdout",
     "output_type": "stream",
     "text": [
      "[1, 2, 3, 4]\n",
      "[1, 2, 4, 5]\n"
     ]
    }
   ],
   "source": [
    "x = [1, 2, 3, 4, 5]\n",
    "y = [1, 2, 3, 4, 5]\n",
    "x.pop()\n",
    "y.pop(2)\n",
    "print(x)\n",
    "print(y)"
   ]
  },
  {
   "cell_type": "markdown",
   "id": "ba2c9fd0",
   "metadata": {},
   "source": [
    "# 6. clear()\n",
    "\n",
    "Removes all items from the list. its returns the empty list "
   ]
  },
  {
   "cell_type": "code",
   "execution_count": null,
   "id": "6872d9cd",
   "metadata": {},
   "outputs": [],
   "source": [
    "x = [1, 2, 3, 4, 5]\n",
    "x.clear()\n",
    "x"
   ]
  },
  {
   "cell_type": "markdown",
   "id": "bcab501d",
   "metadata": {},
   "source": [
    "# 7. index()\n",
    "\n",
    "Returns the index of the first element with the specified value. its give the position of the given element"
   ]
  },
  {
   "cell_type": "code",
   "execution_count": 61,
   "id": "3709a55c",
   "metadata": {},
   "outputs": [
    {
     "data": {
      "text/plain": [
       "1"
      ]
     },
     "execution_count": 61,
     "metadata": {},
     "output_type": "execute_result"
    }
   ],
   "source": [
    "x = [1, 2, 3, 4, 5]\n",
    "x.index(2)"
   ]
  },
  {
   "cell_type": "markdown",
   "id": "ea34bb05",
   "metadata": {},
   "source": [
    "# 8. count()\n",
    "\n",
    "Returns the number of elements with the specified value.\n"
   ]
  },
  {
   "cell_type": "code",
   "execution_count": 62,
   "id": "dcbbc262",
   "metadata": {},
   "outputs": [
    {
     "data": {
      "text/plain": [
       "1"
      ]
     },
     "execution_count": 62,
     "metadata": {},
     "output_type": "execute_result"
    }
   ],
   "source": [
    "x = [1, 2, 3, 4, 5]\n",
    "x.count(2)"
   ]
  },
  {
   "cell_type": "markdown",
   "id": "a1dab7db",
   "metadata": {},
   "source": [
    "# 9. sort()\n",
    "\n",
    "Sorts the list in ascending order by default. Can be customized with a key and reverse parameters."
   ]
  },
  {
   "cell_type": "code",
   "execution_count": 67,
   "id": "6d02fca6",
   "metadata": {},
   "outputs": [
    {
     "data": {
      "text/plain": [
       "[3, 4, 5, 6]"
      ]
     },
     "execution_count": 67,
     "metadata": {},
     "output_type": "execute_result"
    }
   ],
   "source": [
    "x = [3,5,6,4]\n",
    "x.sort()\n",
    "x"
   ]
  },
  {
   "cell_type": "markdown",
   "id": "c84d9871",
   "metadata": {},
   "source": [
    "# 10. reverse()\n",
    "\n",
    "Reverses the order of the list."
   ]
  },
  {
   "cell_type": "code",
   "execution_count": 69,
   "id": "75fbc56e",
   "metadata": {},
   "outputs": [
    {
     "data": {
      "text/plain": [
       "[5, 4, 3, 2, 1]"
      ]
     },
     "execution_count": 69,
     "metadata": {},
     "output_type": "execute_result"
    }
   ],
   "source": [
    "x = [1, 2, 3, 4, 5]\n",
    "x.reverse()\n",
    "x"
   ]
  },
  {
   "cell_type": "markdown",
   "id": "445d9938",
   "metadata": {},
   "source": [
    "# 11. copy()\n",
    "\n",
    "Returns a shallow copy of the list."
   ]
  },
  {
   "cell_type": "code",
   "execution_count": 36,
   "id": "8cdcfd14",
   "metadata": {},
   "outputs": [
    {
     "data": {
      "text/plain": [
       "[1, 2, 3, 4, 5]"
      ]
     },
     "execution_count": 36,
     "metadata": {},
     "output_type": "execute_result"
    }
   ],
   "source": [
    "x = [1, 2, 3, 4, 5]\n",
    "x.copy()\n",
    "x"
   ]
  },
  {
   "cell_type": "code",
   "execution_count": null,
   "id": "ee8d764a",
   "metadata": {},
   "outputs": [],
   "source": []
  },
  {
   "cell_type": "markdown",
   "id": "2ec149ba",
   "metadata": {},
   "source": [
    "# Tuple () :\n",
    "    A Tuple in Python is a collection data type that is ordered, immutable (unchangeable), and allows duplicate elements. Tuples are used to store multiple items in a single variable. we can store any type of data in list like (int,str,bool). Tuple is heterogenous."
   ]
  },
  {
   "cell_type": "code",
   "execution_count": 24,
   "id": "2fe0a06f",
   "metadata": {},
   "outputs": [
    {
     "name": "stdout",
     "output_type": "stream",
     "text": [
      "<class 'tuple'>\n",
      "<class 'tuple'>\n",
      "<class 'tuple'>\n",
      "<class 'tuple'>\n",
      "<class 'tuple'>\n",
      "<class 'int'>\n",
      "<class 'tuple'>\n"
     ]
    }
   ],
   "source": [
    "x = (1,2,3,4) # homogenus tuple\n",
    "y = ('nani', 'mani', 'hari')\n",
    "z = (1, 'naveen', True, 1.0)  # heterogenous \n",
    "a =  () # empty  tuple\n",
    "b = (1,2,3,(4,5),5,6) # nested-tuple\n",
    "c = (2) # is gives the int type because after the element we have to put (,) comma\n",
    "d = (2,) # it is correct Tuple \n",
    "print(type(x))\n",
    "print(type(y))\n",
    "print(type(z))\n",
    "print(type(a))\n",
    "print(type(b))\n",
    "print(type(c))\n",
    "print(type(d))"
   ]
  },
  {
   "cell_type": "code",
   "execution_count": null,
   "id": "e67d4aba",
   "metadata": {},
   "outputs": [],
   "source": []
  },
  {
   "cell_type": "markdown",
   "id": "f563fff9",
   "metadata": {},
   "source": [
    "# Tuple Methods:"
   ]
  },
  {
   "cell_type": "markdown",
   "id": "e95ded39",
   "metadata": {},
   "source": [
    "# 1. count():\n",
    "    Returns the number of times a specified value appears in the tuple."
   ]
  },
  {
   "cell_type": "code",
   "execution_count": 28,
   "id": "5e26229e",
   "metadata": {},
   "outputs": [
    {
     "name": "stdout",
     "output_type": "stream",
     "text": [
      "3\n"
     ]
    }
   ],
   "source": [
    "Tuple = (1, 2, 3, 2, 2, 4)\n",
    "print(Tuple.count(2))  \n"
   ]
  },
  {
   "cell_type": "markdown",
   "id": "eb534031",
   "metadata": {},
   "source": [
    "# 2. index():\n",
    "    Returns the index of the first occurrence of a specified value in the tuple."
   ]
  },
  {
   "cell_type": "code",
   "execution_count": 30,
   "id": "ea19bb10",
   "metadata": {},
   "outputs": [
    {
     "name": "stdout",
     "output_type": "stream",
     "text": [
      "1\n"
     ]
    }
   ],
   "source": [
    "Tuple = (1, 2, 3, 2, 2, 4)\n",
    "print(Tuple.index(2))  \n"
   ]
  },
  {
   "cell_type": "markdown",
   "id": "44e28e19",
   "metadata": {},
   "source": [
    "# 3. slicing ( start : end : step): \n",
    "    slicing in Python allows you to access elements from the end of a sequence, such as a string, list, or tuple."
   ]
  },
  {
   "cell_type": "code",
   "execution_count": 34,
   "id": "3f694479",
   "metadata": {},
   "outputs": [
    {
     "name": "stdout",
     "output_type": "stream",
     "text": [
      "(1, 2)\n",
      "(1, 2, 3, 2, 2, 4)\n",
      "(1, 3, 2)\n"
     ]
    }
   ],
   "source": [
    "Tuple = (1, 2, 3, 2, 2, 4)\n",
    "print(Tuple[:2])  \n",
    "print(Tuple[:])\n",
    "print(Tuple[::2])"
   ]
  },
  {
   "cell_type": "code",
   "execution_count": null,
   "id": "ef1d63a1",
   "metadata": {},
   "outputs": [],
   "source": []
  },
  {
   "cell_type": "code",
   "execution_count": null,
   "id": "5f43cba7",
   "metadata": {},
   "outputs": [],
   "source": []
  }
 ],
 "metadata": {
  "kernelspec": {
   "display_name": "Python 3 (ipykernel)",
   "language": "python",
   "name": "python3"
  },
  "language_info": {
   "codemirror_mode": {
    "name": "ipython",
    "version": 3
   },
   "file_extension": ".py",
   "mimetype": "text/x-python",
   "name": "python",
   "nbconvert_exporter": "python",
   "pygments_lexer": "ipython3",
   "version": "3.11.5"
  }
 },
 "nbformat": 4,
 "nbformat_minor": 5
}
