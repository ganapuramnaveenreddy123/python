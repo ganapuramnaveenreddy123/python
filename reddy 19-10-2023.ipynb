{
 "cells": [
  {
   "cell_type": "code",
   "execution_count": null,
   "id": "eb24edd0",
   "metadata": {},
   "outputs": [],
   "source": []
  },
  {
   "cell_type": "markdown",
   "id": "c82f26cf",
   "metadata": {},
   "source": [
    "# STRING FUNCTIONS\n",
    "\n",
    "find():\n",
    "\n",
    "find() method is used to find the index of a substring in a string.\n",
    "\n",
    "It returns the index of the first occurrence of the substring, or -1 if the substring is not found in the string."
   ]
  },
  {
   "cell_type": "code",
   "execution_count": 6,
   "id": "c2fb7220",
   "metadata": {},
   "outputs": [
    {
     "data": {
      "text/plain": [
       "'nani'"
      ]
     },
     "execution_count": 6,
     "metadata": {},
     "output_type": "execute_result"
    }
   ],
   "source": [
    "a = 'nani'\n",
    "a"
   ]
  },
  {
   "cell_type": "code",
   "execution_count": 7,
   "id": "9ca100ad",
   "metadata": {},
   "outputs": [
    {
     "data": {
      "text/plain": [
       "-1"
      ]
     },
     "execution_count": 7,
     "metadata": {},
     "output_type": "execute_result"
    }
   ],
   "source": [
    "a.find('b')\n",
    "\n"
   ]
  },
  {
   "cell_type": "code",
   "execution_count": 9,
   "id": "8ce6707f",
   "metadata": {},
   "outputs": [
    {
     "data": {
      "text/plain": [
       "3"
      ]
     },
     "execution_count": 9,
     "metadata": {},
     "output_type": "execute_result"
    }
   ],
   "source": [
    "a.find('i')"
   ]
  },
  {
   "cell_type": "code",
   "execution_count": 10,
   "id": "d5dce54a",
   "metadata": {},
   "outputs": [
    {
     "data": {
      "text/plain": [
       "-1"
      ]
     },
     "execution_count": 10,
     "metadata": {},
     "output_type": "execute_result"
    }
   ],
   "source": [
    "a.find('n',1,2)"
   ]
  },
  {
   "cell_type": "markdown",
   "id": "a082d5bb",
   "metadata": {},
   "source": [
    "# rfind():\n",
    "\n",
    "\n",
    "* rfind() used to find the highest (rightmost) index at which a specified substring is found within a string.\n",
    "* If the substring is not found, it returns -1\n"
   ]
  },
  {
   "cell_type": "code",
   "execution_count": 11,
   "id": "19ae4ae5",
   "metadata": {},
   "outputs": [
    {
     "data": {
      "text/plain": [
       "'Egiri paddavante erukovadaniki emukalu kuda migalavu!'"
      ]
     },
     "execution_count": 11,
     "metadata": {},
     "output_type": "execute_result"
    }
   ],
   "source": [
    "x = \"Egiri paddavante erukovadaniki emukalu kuda migalavu!\"\n",
    "x"
   ]
  },
  {
   "cell_type": "code",
   "execution_count": 13,
   "id": "c0b148c8",
   "metadata": {},
   "outputs": [
    {
     "data": {
      "text/plain": [
       "41"
      ]
     },
     "execution_count": 13,
     "metadata": {},
     "output_type": "execute_result"
    }
   ],
   "source": [
    "x.rfind('d')"
   ]
  },
  {
   "cell_type": "code",
   "execution_count": 15,
   "id": "2293caf6",
   "metadata": {},
   "outputs": [
    {
     "data": {
      "text/plain": [
       "-1"
      ]
     },
     "execution_count": 15,
     "metadata": {},
     "output_type": "execute_result"
    }
   ],
   "source": [
    "x.rfind('e,10,25')"
   ]
  },
  {
   "cell_type": "markdown",
   "id": "9ba01ae5",
   "metadata": {},
   "source": [
    "# count():\n",
    "* The count() functions return the numbers of times a specified values appears in the string"
   ]
  },
  {
   "cell_type": "code",
   "execution_count": 19,
   "id": "21988294",
   "metadata": {},
   "outputs": [
    {
     "data": {
      "text/plain": [
       "2"
      ]
     },
     "execution_count": 19,
     "metadata": {},
     "output_type": "execute_result"
    }
   ],
   "source": [
    "s = \"missumaa\"\n",
    "s.count('s')"
   ]
  },
  {
   "cell_type": "code",
   "execution_count": 18,
   "id": "06fff05b",
   "metadata": {},
   "outputs": [
    {
     "data": {
      "text/plain": [
       "2"
      ]
     },
     "execution_count": 18,
     "metadata": {},
     "output_type": "execute_result"
    }
   ],
   "source": [
    "s.count('a')"
   ]
  },
  {
   "cell_type": "code",
   "execution_count": 20,
   "id": "25f91469",
   "metadata": {},
   "outputs": [
    {
     "data": {
      "text/plain": [
       "2"
      ]
     },
     "execution_count": 20,
     "metadata": {},
     "output_type": "execute_result"
    }
   ],
   "source": [
    "s = [1,1,3,2,4,4,6,3,]\n",
    "s.count(1)"
   ]
  },
  {
   "cell_type": "code",
   "execution_count": 23,
   "id": "4f97d745",
   "metadata": {},
   "outputs": [
    {
     "data": {
      "text/plain": [
       "1"
      ]
     },
     "execution_count": 23,
     "metadata": {},
     "output_type": "execute_result"
    }
   ],
   "source": [
    "s.count(6)"
   ]
  },
  {
   "cell_type": "markdown",
   "id": "ea4eada3",
   "metadata": {},
   "source": [
    "# index():\n",
    "\n",
    "* This function obtains index of the specified values\n",
    "* If the specified values doesnot exist the we get value Error\n",
    "* It is similar to the find() method, but with one key difference: if the element or substring is not found, index() raises a ValueErro"
   ]
  },
  {
   "cell_type": "code",
   "execution_count": 32,
   "id": "b9e2bf21",
   "metadata": {},
   "outputs": [
    {
     "data": {
      "text/plain": [
       "2"
      ]
     },
     "execution_count": 32,
     "metadata": {},
     "output_type": "execute_result"
    }
   ],
   "source": [
    "x = \"i love you\"\n",
    "x.index(\"l\")"
   ]
  },
  {
   "cell_type": "code",
   "execution_count": 35,
   "id": "d0308912",
   "metadata": {},
   "outputs": [
    {
     "data": {
      "text/plain": [
       "1"
      ]
     },
     "execution_count": 35,
     "metadata": {},
     "output_type": "execute_result"
    }
   ],
   "source": [
    "x.index(\" \")"
   ]
  },
  {
   "cell_type": "code",
   "execution_count": 37,
   "id": "c138f20a",
   "metadata": {},
   "outputs": [
    {
     "data": {
      "text/plain": [
       "10"
      ]
     },
     "execution_count": 37,
     "metadata": {},
     "output_type": "execute_result"
    }
   ],
   "source": [
    "x.index(\"u\")"
   ]
  },
  {
   "cell_type": "code",
   "execution_count": 46,
   "id": "e111be93",
   "metadata": {},
   "outputs": [
    {
     "data": {
      "text/plain": [
       "2"
      ]
     },
     "execution_count": 46,
     "metadata": {},
     "output_type": "execute_result"
    }
   ],
   "source": [
    "l=['python',25.5,40,True]\n",
    "l.index(40)"
   ]
  },
  {
   "cell_type": "markdown",
   "id": "8c1de959",
   "metadata": {},
   "source": [
    "# rindex():\n",
    "\n",
    "* This Function obtains index of last occurrence of the specified element or substring.\n",
    "* If the specified values doesnot exist then we get value error\n",
    "\n",
    "\n",
    "string.rindex(substring, start, end)"
   ]
  },
  {
   "cell_type": "code",
   "execution_count": 48,
   "id": "bd88491b",
   "metadata": {},
   "outputs": [
    {
     "data": {
      "text/plain": [
       "'python programming language'"
      ]
     },
     "execution_count": 48,
     "metadata": {},
     "output_type": "execute_result"
    }
   ],
   "source": [
    "x=\"python programming language\"\n",
    "x"
   ]
  },
  {
   "cell_type": "code",
   "execution_count": 50,
   "id": "1c3ac288",
   "metadata": {},
   "outputs": [
    {
     "data": {
      "text/plain": [
       "7"
      ]
     },
     "execution_count": 50,
     "metadata": {},
     "output_type": "execute_result"
    }
   ],
   "source": [
    "x.rindex('p')"
   ]
  },
  {
   "cell_type": "code",
   "execution_count": 52,
   "id": "d354498a",
   "metadata": {},
   "outputs": [
    {
     "data": {
      "text/plain": [
       "4"
      ]
     },
     "execution_count": 52,
     "metadata": {},
     "output_type": "execute_result"
    }
   ],
   "source": [
    "x.index('o',2,15)"
   ]
  },
  {
   "cell_type": "markdown",
   "id": "7e0f5bfe",
   "metadata": {},
   "source": [
    "# replace():\n",
    "* The replace() method replaces a specified phrase with another specified phrase.\n",
    "* If the substring not exist then it give entire string"
   ]
  },
  {
   "cell_type": "code",
   "execution_count": 53,
   "id": "a6a096f5",
   "metadata": {},
   "outputs": [
    {
     "data": {
      "text/plain": [
       "'python programming language'"
      ]
     },
     "execution_count": 53,
     "metadata": {},
     "output_type": "execute_result"
    }
   ],
   "source": [
    "x=\"python programming language\"\n",
    "x"
   ]
  },
  {
   "cell_type": "code",
   "execution_count": 56,
   "id": "8ba2becf",
   "metadata": {},
   "outputs": [
    {
     "data": {
      "text/plain": [
       "'Python Programming language'"
      ]
     },
     "execution_count": 56,
     "metadata": {},
     "output_type": "execute_result"
    }
   ],
   "source": [
    "s= x.replace('p', 'P')\n",
    "s"
   ]
  },
  {
   "cell_type": "code",
   "execution_count": 57,
   "id": "43dc7b93",
   "metadata": {},
   "outputs": [
    {
     "data": {
      "text/plain": [
       "'missumaa'"
      ]
     },
     "execution_count": 57,
     "metadata": {},
     "output_type": "execute_result"
    }
   ],
   "source": [
    "x = \"missumaa\"\n",
    "x"
   ]
  },
  {
   "cell_type": "code",
   "execution_count": 58,
   "id": "ea7ec999",
   "metadata": {},
   "outputs": [
    {
     "data": {
      "text/plain": [
       "'miSSumaa'"
      ]
     },
     "execution_count": 58,
     "metadata": {},
     "output_type": "execute_result"
    }
   ],
   "source": [
    "x.replace('s','S',3)"
   ]
  },
  {
   "cell_type": "markdown",
   "id": "0dcaddb5",
   "metadata": {},
   "source": [
    "# split():\n",
    "\n",
    "* This Function is used for splitting the give string data into different words base specified delimter(- , _ ,#,%,^,;,...etc)\n",
    "* The default delimeter is space\n",
    "* The function return splitting data in to form of list object"
   ]
  },
  {
   "cell_type": "code",
   "execution_count": 59,
   "id": "941bced0",
   "metadata": {},
   "outputs": [
    {
     "data": {
      "text/plain": [
       "'python programming language'"
      ]
     },
     "execution_count": 59,
     "metadata": {},
     "output_type": "execute_result"
    }
   ],
   "source": [
    "x=\"python programming language\"\n",
    "x"
   ]
  },
  {
   "cell_type": "code",
   "execution_count": 60,
   "id": "eb7e4cbf",
   "metadata": {},
   "outputs": [
    {
     "data": {
      "text/plain": [
       "['python', 'programming', 'language']"
      ]
     },
     "execution_count": 60,
     "metadata": {},
     "output_type": "execute_result"
    }
   ],
   "source": [
    "x.split()"
   ]
  },
  {
   "cell_type": "code",
   "execution_count": 61,
   "id": "3c3aa278",
   "metadata": {},
   "outputs": [
    {
     "data": {
      "text/plain": [
       "['python', 'programming', 'language']"
      ]
     },
     "execution_count": 61,
     "metadata": {},
     "output_type": "execute_result"
    }
   ],
   "source": [
    "x.split( )"
   ]
  },
  {
   "cell_type": "code",
   "execution_count": 67,
   "id": "8526326f",
   "metadata": {},
   "outputs": [
    {
     "data": {
      "text/plain": [
       "'Egiri paddavante erukovadaniki emukalu kuda migalavu!'"
      ]
     },
     "execution_count": 67,
     "metadata": {},
     "output_type": "execute_result"
    }
   ],
   "source": [
    "x =\"Egiri paddavante erukovadaniki emukalu kuda migalavu!\"\n",
    "x"
   ]
  },
  {
   "cell_type": "code",
   "execution_count": 68,
   "id": "c305f41c",
   "metadata": {},
   "outputs": [
    {
     "data": {
      "text/plain": [
       "['Egiri', 'paddavante', 'erukovadaniki emukalu kuda migalavu!']"
      ]
     },
     "execution_count": 68,
     "metadata": {},
     "output_type": "execute_result"
    }
   ],
   "source": [
    "x.split(maxsplit=2)"
   ]
  },
  {
   "cell_type": "markdown",
   "id": "c959d41b",
   "metadata": {},
   "source": [
    "# rsplit():\n",
    "\n",
    "* This Function is used for splitting the give string data into different words base specified delimter\n",
    "* The only difference between the split() and rsplit() is when the maxsplit parameter is specified. If the maxsplit parameter is specified, then the rsplit() method starts splitting a string from the right side (from the last character), whereas the split() method starts splitting from the left side (from the first character)."
   ]
  },
  {
   "cell_type": "code",
   "execution_count": 69,
   "id": "079ee781",
   "metadata": {},
   "outputs": [
    {
     "data": {
      "text/plain": [
       "'python programming language'"
      ]
     },
     "execution_count": 69,
     "metadata": {},
     "output_type": "execute_result"
    }
   ],
   "source": [
    "x=\"python programming language\"\n",
    "x"
   ]
  },
  {
   "cell_type": "code",
   "execution_count": 70,
   "id": "87cf9182",
   "metadata": {},
   "outputs": [
    {
     "data": {
      "text/plain": [
       "['python', 'programming', 'language']"
      ]
     },
     "execution_count": 70,
     "metadata": {},
     "output_type": "execute_result"
    }
   ],
   "source": [
    "x.rsplit()"
   ]
  },
  {
   "cell_type": "code",
   "execution_count": 71,
   "id": "ae3aa28f",
   "metadata": {},
   "outputs": [
    {
     "data": {
      "text/plain": [
       "['python', 'programming', 'language']"
      ]
     },
     "execution_count": 71,
     "metadata": {},
     "output_type": "execute_result"
    }
   ],
   "source": [
    "x.rsplit(maxsplit=2)"
   ]
  },
  {
   "cell_type": "markdown",
   "id": "9c89aedf",
   "metadata": {},
   "source": [
    "# partition():\n",
    "\n",
    "* This function splits the string at the first occurrence of the specified separator argument and returns a tuple containing the part before the separator,\n",
    "* If the specified separator is not found, then the partition() function returns the string itself as a first element and two empty string elements."
   ]
  },
  {
   "cell_type": "code",
   "execution_count": 72,
   "id": "cae75616",
   "metadata": {},
   "outputs": [
    {
     "data": {
      "text/plain": [
       "'i love you'"
      ]
     },
     "execution_count": 72,
     "metadata": {},
     "output_type": "execute_result"
    }
   ],
   "source": [
    "s = \"i love you\"\n",
    "s"
   ]
  },
  {
   "cell_type": "code",
   "execution_count": 77,
   "id": "ce613327",
   "metadata": {},
   "outputs": [
    {
     "data": {
      "text/plain": [
       "('i ', 'love', ' you')"
      ]
     },
     "execution_count": 77,
     "metadata": {},
     "output_type": "execute_result"
    }
   ],
   "source": [
    "s.partition('love')"
   ]
  },
  {
   "cell_type": "code",
   "execution_count": 80,
   "id": "d70830b7",
   "metadata": {},
   "outputs": [
    {
     "data": {
      "text/plain": [
       "('', 'i', ' love you')"
      ]
     },
     "execution_count": 80,
     "metadata": {},
     "output_type": "execute_result"
    }
   ],
   "source": [
    "s.partition('i')"
   ]
  },
  {
   "cell_type": "code",
   "execution_count": 81,
   "id": "2ee8c995",
   "metadata": {},
   "outputs": [
    {
     "data": {
      "text/plain": [
       "('i love you', '', '')"
      ]
     },
     "execution_count": 81,
     "metadata": {},
     "output_type": "execute_result"
    }
   ],
   "source": [
    "s.partition('z')"
   ]
  },
  {
   "cell_type": "markdown",
   "id": "2210d9b0",
   "metadata": {},
   "source": [
    "# rpartition():\n",
    "* this function searches for the last occurrence of a specified string, and splits the string into a tuple containing three elements."
   ]
  },
  {
   "cell_type": "code",
   "execution_count": 82,
   "id": "7e0ed05e",
   "metadata": {},
   "outputs": [
    {
     "data": {
      "text/plain": [
       "'i love u'"
      ]
     },
     "execution_count": 82,
     "metadata": {},
     "output_type": "execute_result"
    }
   ],
   "source": [
    "s= \"i love u\"\n",
    "s"
   ]
  },
  {
   "cell_type": "code",
   "execution_count": 83,
   "id": "3c236d1a",
   "metadata": {},
   "outputs": [
    {
     "data": {
      "text/plain": [
       "('i ', 'love', ' u')"
      ]
     },
     "execution_count": 83,
     "metadata": {},
     "output_type": "execute_result"
    }
   ],
   "source": [
    "s.rpartition('love')"
   ]
  },
  {
   "cell_type": "code",
   "execution_count": 84,
   "id": "af4bd282",
   "metadata": {},
   "outputs": [
    {
     "data": {
      "text/plain": [
       "('i love ', 'u', '')"
      ]
     },
     "execution_count": 84,
     "metadata": {},
     "output_type": "execute_result"
    }
   ],
   "source": [
    "s.rpartition('u')"
   ]
  },
  {
   "cell_type": "code",
   "execution_count": 85,
   "id": "ace62eba",
   "metadata": {},
   "outputs": [
    {
     "data": {
      "text/plain": [
       "('', '', 'i love u')"
      ]
     },
     "execution_count": 85,
     "metadata": {},
     "output_type": "execute_result"
    }
   ],
   "source": [
    "s.rpartition('b')"
   ]
  },
  {
   "cell_type": "markdown",
   "id": "f5774b9a",
   "metadata": {},
   "source": [
    "# splitlines():\n",
    "* The splitlines() method splits the string at line breaks and returns a list.."
   ]
  },
  {
   "cell_type": "code",
   "execution_count": 86,
   "id": "8ca1a2fc",
   "metadata": {},
   "outputs": [
    {
     "data": {
      "text/plain": [
       "'Poni ne uri nadiboddulo chusundama place nuvu cheppina sare nannu cheppamanna sare time nuvu cheppina sare nannu cheppamanna sare eppududaina sare akkadina sare kattulatho kadura kanti chuputho champesta!!'"
      ]
     },
     "execution_count": 86,
     "metadata": {},
     "output_type": "execute_result"
    }
   ],
   "source": [
    "a = \"Poni ne uri nadiboddulo chusundama place nuvu cheppina sare nannu cheppamanna sare time nuvu cheppina sare nannu cheppamanna sare eppududaina sare akkadina sare kattulatho kadura kanti chuputho champesta!!\"\n",
    "a"
   ]
  },
  {
   "cell_type": "code",
   "execution_count": 90,
   "id": "d4543b8d",
   "metadata": {},
   "outputs": [
    {
     "ename": "AttributeError",
     "evalue": "'str' object has no attribute 'splitline'",
     "output_type": "error",
     "traceback": [
      "\u001b[1;31m---------------------------------------------------------------------------\u001b[0m",
      "\u001b[1;31mAttributeError\u001b[0m                            Traceback (most recent call last)",
      "Cell \u001b[1;32mIn[90], line 1\u001b[0m\n\u001b[1;32m----> 1\u001b[0m a\u001b[38;5;241m.\u001b[39msplitline()\n",
      "\u001b[1;31mAttributeError\u001b[0m: 'str' object has no attribute 'splitline'"
     ]
    }
   ],
   "source": [
    "a.splitline()"
   ]
  },
  {
   "cell_type": "code",
   "execution_count": null,
   "id": "db7bf91a",
   "metadata": {},
   "outputs": [],
   "source": []
  },
  {
   "cell_type": "code",
   "execution_count": null,
   "id": "2aa6d5f8",
   "metadata": {},
   "outputs": [],
   "source": []
  },
  {
   "cell_type": "code",
   "execution_count": null,
   "id": "2e5e1360",
   "metadata": {},
   "outputs": [],
   "source": []
  },
  {
   "cell_type": "code",
   "execution_count": null,
   "id": "e05032a9",
   "metadata": {},
   "outputs": [],
   "source": []
  },
  {
   "cell_type": "code",
   "execution_count": null,
   "id": "0cad2f14",
   "metadata": {},
   "outputs": [],
   "source": []
  },
  {
   "cell_type": "code",
   "execution_count": null,
   "id": "32273b46",
   "metadata": {},
   "outputs": [],
   "source": []
  },
  {
   "cell_type": "code",
   "execution_count": null,
   "id": "f2a3bfea",
   "metadata": {},
   "outputs": [],
   "source": []
  },
  {
   "cell_type": "code",
   "execution_count": null,
   "id": "288e8f2c",
   "metadata": {},
   "outputs": [],
   "source": []
  },
  {
   "cell_type": "code",
   "execution_count": null,
   "id": "80b1a44a",
   "metadata": {},
   "outputs": [],
   "source": []
  },
  {
   "cell_type": "code",
   "execution_count": null,
   "id": "5c017057",
   "metadata": {},
   "outputs": [],
   "source": []
  },
  {
   "cell_type": "code",
   "execution_count": null,
   "id": "36173e69",
   "metadata": {},
   "outputs": [],
   "source": []
  },
  {
   "cell_type": "code",
   "execution_count": null,
   "id": "6f33b3ea",
   "metadata": {},
   "outputs": [],
   "source": []
  },
  {
   "cell_type": "code",
   "execution_count": null,
   "id": "bec1f5f3",
   "metadata": {},
   "outputs": [],
   "source": []
  },
  {
   "cell_type": "code",
   "execution_count": null,
   "id": "a3bf3089",
   "metadata": {},
   "outputs": [],
   "source": []
  },
  {
   "cell_type": "code",
   "execution_count": null,
   "id": "1df2c958",
   "metadata": {},
   "outputs": [],
   "source": []
  },
  {
   "cell_type": "code",
   "execution_count": null,
   "id": "981e263f",
   "metadata": {},
   "outputs": [],
   "source": []
  },
  {
   "cell_type": "code",
   "execution_count": null,
   "id": "bd592d5c",
   "metadata": {},
   "outputs": [],
   "source": []
  },
  {
   "cell_type": "code",
   "execution_count": null,
   "id": "cdfae17c",
   "metadata": {},
   "outputs": [],
   "source": []
  },
  {
   "cell_type": "code",
   "execution_count": null,
   "id": "855a81ee",
   "metadata": {},
   "outputs": [],
   "source": []
  },
  {
   "cell_type": "code",
   "execution_count": null,
   "id": "10ded625",
   "metadata": {},
   "outputs": [],
   "source": []
  },
  {
   "cell_type": "code",
   "execution_count": null,
   "id": "18392e4a",
   "metadata": {},
   "outputs": [],
   "source": []
  },
  {
   "cell_type": "code",
   "execution_count": null,
   "id": "fa0fb0c3",
   "metadata": {},
   "outputs": [],
   "source": []
  },
  {
   "cell_type": "code",
   "execution_count": null,
   "id": "995a75d5",
   "metadata": {},
   "outputs": [],
   "source": []
  },
  {
   "cell_type": "code",
   "execution_count": null,
   "id": "92c84305",
   "metadata": {},
   "outputs": [],
   "source": []
  },
  {
   "cell_type": "code",
   "execution_count": null,
   "id": "2647891a",
   "metadata": {},
   "outputs": [],
   "source": []
  },
  {
   "cell_type": "code",
   "execution_count": null,
   "id": "b3f5f820",
   "metadata": {},
   "outputs": [],
   "source": []
  }
 ],
 "metadata": {
  "kernelspec": {
   "display_name": "Python 3 (ipykernel)",
   "language": "python",
   "name": "python3"
  },
  "language_info": {
   "codemirror_mode": {
    "name": "ipython",
    "version": 3
   },
   "file_extension": ".py",
   "mimetype": "text/x-python",
   "name": "python",
   "nbconvert_exporter": "python",
   "pygments_lexer": "ipython3",
   "version": "3.11.5"
  }
 },
 "nbformat": 4,
 "nbformat_minor": 5
}
