{
 "cells": [
  {
   "cell_type": "markdown",
   "id": "a352da33",
   "metadata": {},
   "source": [
    "# exception:\n",
    "    An exception is an event that occurs during the execution of a program that disrupts its normal flow. Common examples include division by zero, file not found, and invalid input.\n",
    "    \n",
    "    "
   ]
  },
  {
   "cell_type": "markdown",
   "id": "0ed35d1d",
   "metadata": {},
   "source": [
    "# 1. Compile-Time Error\n",
    "Compile-time errors occur during the compilation process, meaning they are detected before the program runs. These errors prevent the code from being successfully compiled into an executable form.\n",
    "\n",
    "ex:\n",
    "* Syntax error "
   ]
  },
  {
   "cell_type": "code",
   "execution_count": 1,
   "id": "90702962",
   "metadata": {},
   "outputs": [
    {
     "ename": "SyntaxError",
     "evalue": "Missing parentheses in call to 'print'. Did you mean print(...)? (1518037911.py, line 1)",
     "output_type": "error",
     "traceback": [
      "\u001b[1;36m  Cell \u001b[1;32mIn[1], line 1\u001b[1;36m\u001b[0m\n\u001b[1;33m    print 'example' # Syntax error\u001b[0m\n\u001b[1;37m    ^\u001b[0m\n\u001b[1;31mSyntaxError\u001b[0m\u001b[1;31m:\u001b[0m Missing parentheses in call to 'print'. Did you mean print(...)?\n"
     ]
    }
   ],
   "source": [
    "print 'example' # Syntax error"
   ]
  },
  {
   "cell_type": "markdown",
   "id": "da123eb6",
   "metadata": {},
   "source": [
    "# Runtime (exception) :\n",
    "   The Runtime errors occur during the execution of the program, usually due to unexpected condition by the user. the runtime errors can handle in exception.\n",
    "  \n",
    "Ex:\n",
    "* ZeroDivisionError  \n",
    "* NameError. Etc....\n"
   ]
  },
  {
   "cell_type": "code",
   "execution_count": null,
   "id": "1be771fc",
   "metadata": {},
   "outputs": [],
   "source": [
    "x = int(input('enter the number :')) # ZeroDivisionError\n",
    "y = int(input('enter the number :')) \n",
    "z = x/y\n",
    "z"
   ]
  },
  {
   "cell_type": "code",
   "execution_count": null,
   "id": "6693ba9f",
   "metadata": {},
   "outputs": [],
   "source": [
    "x = int(input('enter the number :')) # NameError\n",
    "y = int(input('enter the number :')) \n",
    "z = a/y\n",
    "z"
   ]
  },
  {
   "cell_type": "markdown",
   "id": "4dd9c588",
   "metadata": {},
   "source": [
    "# Using Try-Except Block:\n",
    "To handle exceptions, Python provides a mechanism called the try-except block. "
   ]
  },
  {
   "cell_type": "code",
   "execution_count": 1,
   "id": "09164057",
   "metadata": {},
   "outputs": [
    {
     "name": "stdout",
     "output_type": "stream",
     "text": [
      "enter the number :10\n",
      "enter the number :0\n",
      "enter valid input\n"
     ]
    }
   ],
   "source": [
    "try:    \n",
    "    x = int(input('enter the number :')) \n",
    "    y = int(input('enter the number :')) \n",
    "    z = r/y # NameError \n",
    "    print(z)\n",
    "    \n",
    "except : # defaultly it takes all the errors  \n",
    "    print('enter valid input')"
   ]
  },
  {
   "cell_type": "markdown",
   "id": "215acf7c",
   "metadata": {},
   "source": [
    "# Handling Multiple Exceptions:\n",
    "\n",
    "You can handle multiple types of exceptions using multiple except blocks or a single except block with multiple exceptions:"
   ]
  },
  {
   "cell_type": "code",
   "execution_count": 3,
   "id": "5ac70a1c",
   "metadata": {},
   "outputs": [
    {
     "name": "stdout",
     "output_type": "stream",
     "text": [
      "enter the number :10\n",
      "enter the number :0\n",
      "the ZeroDivisionError occerd\n"
     ]
    }
   ],
   "source": [
    "try:    \n",
    "    x = int(input('enter the number :')) \n",
    "    y = int(input('enter the number :')) \n",
    "    z = x/y  \n",
    "    print(z)\n",
    "    \n",
    "except ZeroDivisionError :   # ZeroDivisionError\n",
    "    print('the ZeroDivisionError occerd')\n",
    "    \n",
    "except NameError : # NameError\n",
    "    print('the NameError occerd')\n",
    "\n",
    "except ValueError: # ValueError\n",
    "    print('the ValueError occerd')\n"
   ]
  },
  {
   "cell_type": "code",
   "execution_count": 4,
   "id": "46394d5f",
   "metadata": {},
   "outputs": [
    {
     "name": "stdout",
     "output_type": "stream",
     "text": [
      "enter the number :10\n",
      "enter the number :2\n",
      "the NameError occerd\n"
     ]
    }
   ],
   "source": [
    "try:    \n",
    "    x = int(input('enter the number :')) \n",
    "    y = int(input('enter the number :')) \n",
    "    z = a/y  \n",
    "    print(z)\n",
    "    \n",
    "except ZeroDivisionError :   \n",
    "    print('the ZeroDivisionError occerd')\n",
    "    \n",
    "except NameError :\n",
    "    print('the NameError occerd')\n",
    "\n",
    "except ValueError:\n",
    "    print('the ValueError occerd')\n"
   ]
  },
  {
   "cell_type": "code",
   "execution_count": 2,
   "id": "69c1c026",
   "metadata": {},
   "outputs": [
    {
     "name": "stdout",
     "output_type": "stream",
     "text": [
      "enter the number :'22'\n",
      "the ValueError occerd\n"
     ]
    }
   ],
   "source": [
    "try:    \n",
    "    x = int(input('enter the number :')) \n",
    "    y = int(input('enter the number :')) \n",
    "    z = x/y  \n",
    "    print(z)\n",
    "    \n",
    "except ZeroDivisionError :   \n",
    "    print('the ZeroDivisionError occerd')\n",
    "    \n",
    "except NameError :\n",
    "    print('the NameError occerd')\n",
    "\n",
    "except ValueError:\n",
    "    print('the ValueError occerd')\n"
   ]
  },
  {
   "cell_type": "markdown",
   "id": "f65b146f",
   "metadata": {},
   "source": [
    "# from the below  example we are creat except block of TypeError so its give the error directly "
   ]
  },
  {
   "cell_type": "code",
   "execution_count": 9,
   "id": "956602a8",
   "metadata": {},
   "outputs": [
    {
     "name": "stdout",
     "output_type": "stream",
     "text": [
      "enter the number :10\n",
      "enter the number :0\n"
     ]
    },
    {
     "ename": "TypeError",
     "evalue": "unsupported operand type(s) for /: 'str' and 'str'",
     "output_type": "error",
     "traceback": [
      "\u001b[1;31m---------------------------------------------------------------------------\u001b[0m",
      "\u001b[1;31mTypeError\u001b[0m                                 Traceback (most recent call last)",
      "Cell \u001b[1;32mIn[9], line 4\u001b[0m\n\u001b[0;32m      2\u001b[0m     x \u001b[38;5;241m=\u001b[39m \u001b[38;5;28minput\u001b[39m(\u001b[38;5;124m'\u001b[39m\u001b[38;5;124menter the number :\u001b[39m\u001b[38;5;124m'\u001b[39m)\n\u001b[0;32m      3\u001b[0m     y \u001b[38;5;241m=\u001b[39m \u001b[38;5;28minput\u001b[39m(\u001b[38;5;124m'\u001b[39m\u001b[38;5;124menter the number :\u001b[39m\u001b[38;5;124m'\u001b[39m)\n\u001b[1;32m----> 4\u001b[0m     z \u001b[38;5;241m=\u001b[39m x\u001b[38;5;241m/\u001b[39my  \n\u001b[0;32m      5\u001b[0m     \u001b[38;5;28mprint\u001b[39m(z)\n\u001b[0;32m      7\u001b[0m \u001b[38;5;28;01mexcept\u001b[39;00m \u001b[38;5;167;01mZeroDivisionError\u001b[39;00m :   \n",
      "\u001b[1;31mTypeError\u001b[0m: unsupported operand type(s) for /: 'str' and 'str'"
     ]
    }
   ],
   "source": [
    "try:    \n",
    "    x = input('enter the number :')\n",
    "    y = input('enter the number :')\n",
    "    z = x/y  \n",
    "    print(z)\n",
    "    \n",
    "except ZeroDivisionError :   \n",
    "    print('the ZeroDivisionError occerd')\n",
    "    \n",
    "except NameError :\n",
    "    print('the NameError occerd')\n",
    "\n",
    "except ValueError:\n",
    "    print('the ValueError occerd')"
   ]
  },
  {
   "cell_type": "markdown",
   "id": "ccce613f",
   "metadata": {},
   "source": [
    "# in below the example we handle the error but we dont know the what error it is "
   ]
  },
  {
   "cell_type": "code",
   "execution_count": 3,
   "id": "388303a1",
   "metadata": {},
   "outputs": [
    {
     "name": "stdout",
     "output_type": "stream",
     "text": [
      "enter the number :10\n",
      "enter the number :0\n",
      "something error occerd\n"
     ]
    }
   ],
   "source": [
    "try:    \n",
    "    x = input('enter the number :')\n",
    "    y = input('enter the number :')\n",
    "    z = x/y  \n",
    "    print(z)\n",
    "    \n",
    "except ZeroDivisionError :   \n",
    "    print('the ZeroDivisionError occerd')\n",
    "    \n",
    "except NameError :\n",
    "    print('the NameError occerd')\n",
    "\n",
    "except ValueError:\n",
    "    print('the ValueError occerd')\n",
    "    \n",
    "except :\n",
    "    print('something error occerd')"
   ]
  },
  {
   "cell_type": "markdown",
   "id": "16dd5917",
   "metadata": {},
   "source": [
    "# in this below example we can know the what error occerd by import the sys, traceback  and from the sys again import exc_info"
   ]
  },
  {
   "cell_type": "code",
   "execution_count": 5,
   "id": "9d8db6ab",
   "metadata": {},
   "outputs": [],
   "source": [
    "import sys, traceback\n",
    "from sys import exc_info"
   ]
  },
  {
   "cell_type": "code",
   "execution_count": 6,
   "id": "9967ad5f",
   "metadata": {},
   "outputs": [
    {
     "name": "stdout",
     "output_type": "stream",
     "text": [
      "enter the number :10\n",
      "enter the number :0\n"
     ]
    },
    {
     "name": "stderr",
     "output_type": "stream",
     "text": [
      "Traceback (most recent call last):\n",
      "  File \"C:\\Users\\Lenova\\AppData\\Local\\Temp\\ipykernel_12792\\825437956.py\", line 6, in <module>\n",
      "    z = x/y\n",
      "      ~^~\n",
      "ZeroDivisionError: division by zero\n"
     ]
    },
    {
     "name": "stdout",
     "output_type": "stream",
     "text": [
      "None\n",
      "enter valid input\n",
      "enter the number :10\n",
      "enter the number :2\n",
      "5.0\n"
     ]
    }
   ],
   "source": [
    "while True:\n",
    "    \n",
    "    try:    \n",
    "        x = int(input('enter the number :'))\n",
    "        y = int(input('enter the number :'))\n",
    "        z = x/y  \n",
    "        print(z)\n",
    "        break\n",
    "    \n",
    "    except NameError :\n",
    "        print('the NameError occerd')\n",
    "\n",
    "    except ValueError:\n",
    "        print('the ValueError occerd')\n",
    "    \n",
    "    except :\n",
    "        print(traceback.print_exc())\n",
    "        print('enter valid input')"
   ]
  },
  {
   "cell_type": "markdown",
   "id": "e7b58ec8",
   "metadata": {},
   "source": [
    "# In this below example the default except will must at the last after the all valid errors. if we give frist it's gives erros that is SyntaxError "
   ]
  },
  {
   "cell_type": "code",
   "execution_count": 7,
   "id": "ec38710a",
   "metadata": {},
   "outputs": [
    {
     "ename": "SyntaxError",
     "evalue": "default 'except:' must be last (345344738.py, line 7)",
     "output_type": "error",
     "traceback": [
      "\u001b[1;36m  Cell \u001b[1;32mIn[7], line 7\u001b[1;36m\u001b[0m\n\u001b[1;33m    except:\u001b[0m\n\u001b[1;37m    ^\u001b[0m\n\u001b[1;31mSyntaxError\u001b[0m\u001b[1;31m:\u001b[0m default 'except:' must be last\n"
     ]
    }
   ],
   "source": [
    "try:    \n",
    "    x = int(input('enter the number :')) \n",
    "    y = int(input('enter the number :')) \n",
    "    z = x/y  \n",
    "    print(z)\n",
    "    \n",
    "except:\n",
    "    print('enter valid input')\n",
    "    \n",
    "except ZeroDivisionError :   \n",
    "    print('the ZeroDivisionError occerd')\n",
    "    \n",
    "except NameError :\n",
    "    print('the NameError occerd')\n",
    "\n",
    "#except ValueError:\n",
    "    #print('the ValueError occerd')\n",
    "\n"
   ]
  },
  {
   "cell_type": "markdown",
   "id": "7108121a",
   "metadata": {},
   "source": [
    "# Using else and finally Blocks:\n",
    "\n",
    "Optionally, you can use else and finally blocks with try and except:"
   ]
  },
  {
   "cell_type": "code",
   "execution_count": 8,
   "id": "b056cdb5",
   "metadata": {},
   "outputs": [
    {
     "name": "stdout",
     "output_type": "stream",
     "text": [
      "enter the number :10\n",
      "enter the number :2\n",
      "5.0\n",
      "no error 5.0\n",
      "code ended\n"
     ]
    }
   ],
   "source": [
    "try:    \n",
    "    x = int(input('enter the number :')) \n",
    "    y = int(input('enter the number :')) \n",
    "    z = x/y  \n",
    "    print(z)\n",
    "    \n",
    "except ZeroDivisionError :   # ZeroDivisionError \n",
    "    print('the ZeroDivisionError occerd')\n",
    "\n",
    "else: # the no error occer the else block return\n",
    "    print('no error', z)\n",
    "    \n",
    "finally:\n",
    "    print('code ended')"
   ]
  },
  {
   "cell_type": "markdown",
   "id": "9a2c170c",
   "metadata": {},
   "source": [
    "# raise Error:\n",
    "    \n",
    "To raise a generic error in Python, you can use the raise statement without specifying a particular exception class. "
   ]
  },
  {
   "cell_type": "code",
   "execution_count": 9,
   "id": "e31f9ce5",
   "metadata": {},
   "outputs": [
    {
     "name": "stdout",
     "output_type": "stream",
     "text": [
      "enter the number :10\n",
      "enter the number :0\n",
      "the ZeroDivisionError occerd\n"
     ]
    }
   ],
   "source": [
    "try:    \n",
    "    x = int(input('enter the number :')) \n",
    "    y = int(input('enter the number :')) \n",
    "    z = x/y  \n",
    "    print(z)\n",
    "    raise ZeroDivisionError\n",
    "    \n",
    "except  ZeroDivisionError :   \n",
    "    print('the ZeroDivisionError occerd')"
   ]
  },
  {
   "cell_type": "markdown",
   "id": "eeb73bc3",
   "metadata": {},
   "source": [
    "# Custom Exceptions:\n",
    "\n",
    "Define custom exceptions by creating a new exception class that inherits from Python's built-in Exception class:"
   ]
  },
  {
   "cell_type": "code",
   "execution_count": 10,
   "id": "7222f83a",
   "metadata": {},
   "outputs": [
    {
     "name": "stdout",
     "output_type": "stream",
     "text": [
      "This is a custom error message\n"
     ]
    }
   ],
   "source": [
    "class CustomError(Exception):\n",
    "    def __init__(self, message):\n",
    "        self.message = message\n",
    "\n",
    "try:\n",
    "    raise CustomError(\"This is a custom error message\")\n",
    "except CustomError as ce:\n",
    "    print(ce.message)\n"
   ]
  },
  {
   "cell_type": "code",
   "execution_count": null,
   "id": "df9e69b3",
   "metadata": {},
   "outputs": [],
   "source": []
  },
  {
   "cell_type": "code",
   "execution_count": null,
   "id": "4dacee7d",
   "metadata": {},
   "outputs": [],
   "source": []
  },
  {
   "cell_type": "markdown",
   "id": "2f6b4a7d",
   "metadata": {},
   "source": [
    "# File Handling:\n",
    "    File handling in programming refers to how we work with files stored on a computer's disk. It allows us to read data from files, write data to files, and manage files within our programs."
   ]
  },
  {
   "cell_type": "markdown",
   "id": "c74b062d",
   "metadata": {},
   "source": [
    "# creating the file (X) :\n",
    "    By using \"x\" we can creat the new file and we can give file name  \n",
    "    "
   ]
  },
  {
   "cell_type": "code",
   "execution_count": 12,
   "id": "58b77c5a",
   "metadata": {},
   "outputs": [],
   "source": [
    "try:\n",
    "    x = open('filehandling.txt', 'x')\n",
    "    x.write('nani')\n",
    "finally:\n",
    "    x.close()"
   ]
  },
  {
   "cell_type": "markdown",
   "id": "03f5eddd",
   "metadata": {},
   "source": [
    "# 'w' - Write :\n",
    "    Write (creates a new file or truncates the existing file)"
   ]
  },
  {
   "cell_type": "code",
   "execution_count": 13,
   "id": "d4ae9022",
   "metadata": {},
   "outputs": [],
   "source": [
    "try:\n",
    "    x = open('filehandling.txt', 'w')\n",
    "    x.write('nani\\n') \n",
    "    a ,b = 'mani\\n', 'hari\\n'\n",
    "    x.writelines([a,b]) # The writelines() method writes multiple lines to the file.\n",
    "\n",
    "finally:\n",
    "    x.close() # Writes a list of strings to the file."
   ]
  },
  {
   "cell_type": "markdown",
   "id": "dbcfdb24",
   "metadata": {},
   "source": [
    "# 'r' – Read (default mode):\n",
    "   You can read the contents of a file using methods like read(), readline(), or readlines().\n",
    "\n",
    "* read(): Reads the entire file.\n",
    "* readline(): Reads one line at a time.\n",
    "* readlines(): Reads all the lines into a list."
   ]
  },
  {
   "cell_type": "code",
   "execution_count": 14,
   "id": "8ee0fc59",
   "metadata": {},
   "outputs": [
    {
     "name": "stdout",
     "output_type": "stream",
     "text": [
      "nani\n",
      "mani\n",
      "hari\n",
      "\n"
     ]
    }
   ],
   "source": [
    "try:\n",
    "    x = open('filehandling.txt', 'r')\n",
    "    y = x.read() # Reads the entire file.\n",
    "    print(y)\n",
    "finally:\n",
    "    x.close()"
   ]
  },
  {
   "cell_type": "code",
   "execution_count": 11,
   "id": "ce53b877",
   "metadata": {},
   "outputs": [
    {
     "name": "stdout",
     "output_type": "stream",
     "text": [
      "nani\n",
      "\n"
     ]
    }
   ],
   "source": [
    "try:\n",
    "    x = open('filehandling.txt', 'r')\n",
    "    y = x.readline() #Reads one line at a time.\n",
    "    print(y)\n",
    "finally:\n",
    "    x.close()"
   ]
  },
  {
   "cell_type": "code",
   "execution_count": 12,
   "id": "ec6383e6",
   "metadata": {},
   "outputs": [
    {
     "name": "stdout",
     "output_type": "stream",
     "text": [
      "['nani\\n', 'mani\\n', 'hari\\n']\n"
     ]
    }
   ],
   "source": [
    "try:\n",
    "    x = open('filehandling.txt', 'r')\n",
    "    y = x.readlines() # Reads all the lines into a list.\n",
    "    print(y)\n",
    "finally:\n",
    "    x.close()"
   ]
  },
  {
   "cell_type": "markdown",
   "id": "0c4f2390",
   "metadata": {},
   "source": [
    "# 'a' Append:\n",
    "    Append (adds data to the end of the file)"
   ]
  },
  {
   "cell_type": "code",
   "execution_count": 19,
   "id": "7b7d7ace",
   "metadata": {},
   "outputs": [],
   "source": [
    "try:\n",
    "    x = open('filehandling.txt', 'a')\n",
    "    y= x.write('pavan')\n",
    "    \n",
    "finally:\n",
    "    x.close()"
   ]
  },
  {
   "cell_type": "code",
   "execution_count": null,
   "id": "7e5db6c8",
   "metadata": {},
   "outputs": [],
   "source": []
  },
  {
   "cell_type": "code",
   "execution_count": null,
   "id": "04150809",
   "metadata": {},
   "outputs": [],
   "source": []
  }
 ],
 "metadata": {
  "kernelspec": {
   "display_name": "Python 3 (ipykernel)",
   "language": "python",
   "name": "python3"
  },
  "language_info": {
   "codemirror_mode": {
    "name": "ipython",
    "version": 3
   },
   "file_extension": ".py",
   "mimetype": "text/x-python",
   "name": "python",
   "nbconvert_exporter": "python",
   "pygments_lexer": "ipython3",
   "version": "3.11.5"
  }
 },
 "nbformat": 4,
 "nbformat_minor": 5
}
