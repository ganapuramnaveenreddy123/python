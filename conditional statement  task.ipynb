{
 "cells": [
  {
   "cell_type": "markdown",
   "id": "d5b88851",
   "metadata": {},
   "source": [
    "1. Write a Python program that asks the user for their age and prints \"You are an adult\" if the age is 18 or older, otherwise prints \"You are a minor'."
   ]
  },
  {
   "cell_type": "code",
   "execution_count": 4,
   "id": "b1ff049e",
   "metadata": {},
   "outputs": [
    {
     "name": "stdout",
     "output_type": "stream",
     "text": [
      "enter the age 12\n",
      "your an minor\n"
     ]
    }
   ],
   "source": [
    "age = int(input('enter the age '))\n",
    "if age>=18:\n",
    "    print('you are an adult')\n",
    "else:\n",
    "    print('your an minor')\n",
    "   "
   ]
  },
  {
   "cell_type": "markdown",
   "id": "b3daab25",
   "metadata": {},
   "source": [
    " 2. Write a program that takes a numerical grade (out of 100) as input and prints the corresponding letter grade according to the following scale:\n",
    " * 90-100: A\n",
    " * 80-89: B\n",
    " * 70-79: C\n",
    " * 60-69: D\n",
    " * Below 60: F\n"
   ]
  },
  {
   "cell_type": "code",
   "execution_count": 12,
   "id": "25ecb3b9",
   "metadata": {},
   "outputs": [
    {
     "name": "stdout",
     "output_type": "stream",
     "text": [
      "enter the marks50\n",
      "grade Below 60:F\n"
     ]
    }
   ],
   "source": [
    " marks = int(input('enter the marks'))\n",
    "if 0<=marks>=100:\n",
    "    print('grade 90-100:A')\n",
    "elif marks>=89:\n",
    "    print('grade 80-89:B')\n",
    "elif marks>=79:\n",
    "    print('grade 70-79:c')\n",
    "elif marks>=69:\n",
    "    print('grade 60-69:D')\n",
    "else:\n",
    "    print('grade Below 60:F')"
   ]
  },
  {
   "cell_type": "markdown",
   "id": "0156b561",
   "metadata": {},
   "source": [
    "3. Write a program that calculates the Body Mass Index (BMI) of a person. The user should input their weight in kilograms and height in meters. The program should then print whether the person is underweight, normal weight, overweight, or obese"
   ]
  },
  {
   "cell_type": "code",
   "execution_count": 14,
   "id": "f84a0320",
   "metadata": {},
   "outputs": [
    {
     "name": "stdout",
     "output_type": "stream",
     "text": [
      "enter your weight : 50\n",
      "enter your height : 5.3\n",
      "you are underweight\n"
     ]
    }
   ],
   "source": [
    "weight = (int(input('enter your weight : ')))\n",
    "height = (float(input('enter your height : ')))\n",
    "bmi = weight / (height ** 2)\n",
    "\n",
    "if bmi <= 16:\n",
    "    print('you are underweight')\n",
    "elif 18.5 <= bmi < 23.6:\n",
    "    print('you are in the normal weight range')\n",
    "elif 25 <= bmi < 30.0:\n",
    "    print('you are overweight')\n",
    "else:\n",
    "    print('you are obese')\n"
   ]
  },
  {
   "cell_type": "markdown",
   "id": "4af754a4",
   "metadata": {},
   "source": [
    "4. Write a program that asks the user for three numbers and prints the maximum of the three."
   ]
  },
  {
   "cell_type": "code",
   "execution_count": 2,
   "id": "9afe2dcd",
   "metadata": {},
   "outputs": [
    {
     "name": "stdout",
     "output_type": "stream",
     "text": [
      "enter a value : 15\n",
      "enter b value : 20\n",
      "enter c value : 25\n",
      "c is maximum\n"
     ]
    }
   ],
   "source": [
    "a = int(input('enter a value : '))\n",
    "b = int(input('enter b value : '))\n",
    "c = int(input('enter c value : '))\n",
    "\n",
    "if a>b and a>c:\n",
    "    print('a is maximum')\n",
    "elif b>a and b>c:\n",
    "    print('b is maximum')\n",
    "else:\n",
    "    print('c is maximum')\n"
   ]
  },
  {
   "cell_type": "markdown",
   "id": "2a3be0e2",
   "metadata": {},
   "source": [
    "5. Write a program that asks the user for a temperature (in Celsius) and prints \"It's freezing\" if the temperature is below 0, \"It's cool\" if it's between 0 and 10, \"It's warm\" if it's between 10 and 20, and \"It's hot\" if it's above 20\n"
   ]
  },
  {
   "cell_type": "code",
   "execution_count": 5,
   "id": "286cff70",
   "metadata": {},
   "outputs": [
    {
     "name": "stdout",
     "output_type": "stream",
     "text": [
      "enter the temp10\n",
      "it's cool\n"
     ]
    }
   ],
   "source": [
    "temp = int(input('enter the temp'))\n",
    "if temp <=0:\n",
    "  print(\"it's freezing\")\n",
    "elif temp <=10:\n",
    "  print(\"it's cool\")\n",
    "elif temp <=20:\n",
    "  print(\"it's warm\")\n",
    "else:\n",
    "    print(\"it's hot\")"
   ]
  },
  {
   "cell_type": "code",
   "execution_count": 6,
   "id": "b9e7a609",
   "metadata": {},
   "outputs": [
    {
     "name": "stdout",
     "output_type": "stream",
     "text": [
      "enter the temp20\n",
      "it's warm\n"
     ]
    }
   ],
   "source": [
    "temp = int(input('enter the temp'))\n",
    "if temp<=0:\n",
    "  print(\"it's freezing\")\n",
    "elif temp<=10:\n",
    "  print(\"it's cool\")\n",
    "elif temp<=20:\n",
    "  print(\"it's warm\")\n",
    "else:\n",
    "    print(\"it's hot\")\n",
    "    "
   ]
  },
  {
   "cell_type": "code",
   "execution_count": 7,
   "id": "adb56abf",
   "metadata": {},
   "outputs": [
    {
     "name": "stdout",
     "output_type": "stream",
     "text": [
      "enter the temp21\n",
      "it's hot\n"
     ]
    }
   ],
   "source": [
    "temp = int(input('enter the temp'))\n",
    "if temp<=0:\n",
    "  print(\"it's freezing\")\n",
    "elif temp<=10:\n",
    "  print(\"it's cool\")\n",
    "elif temp<=20:\n",
    "  print(\"it's warm\")\n",
    "else:\n",
    "    print(\"it's hot\")"
   ]
  },
  {
   "cell_type": "markdown",
   "id": "ebbe54d1",
   "metadata": {},
   "source": [
    "6. Write a program that asks the user for a 6. number (1-7) and prints the corresponding day of the week."
   ]
  },
  {
   "cell_type": "code",
   "execution_count": 8,
   "id": "6745ec3a",
   "metadata": {},
   "outputs": [
    {
     "name": "stdout",
     "output_type": "stream",
     "text": [
      "enter a number : 6\n",
      "friday\n"
     ]
    }
   ],
   "source": [
    "x = int(input('enter a number : '))\n",
    "\n",
    "if x==1:\n",
    "    print('sunday')\n",
    "elif x==2:\n",
    "    print('monday')\n",
    "elif x==3:\n",
    "    print('tuesday')\n",
    "elif x==4:\n",
    "    print('wednesday')\n",
    "elif x==5:\n",
    "    print('thursday')\n",
    "elif x==6:\n",
    "    print('friday')\n",
    "elif x==7:\n",
    "    print('saturday')\n",
    "else:\n",
    "    print('invalid number')"
   ]
  },
  {
   "cell_type": "code",
   "execution_count": 10,
   "id": "6b615c4c",
   "metadata": {},
   "outputs": [
    {
     "name": "stdout",
     "output_type": "stream",
     "text": [
      "enter a number : 8\n",
      "invalid number\n"
     ]
    }
   ],
   "source": [
    "x = int(input('enter a number : '))\n",
    "\n",
    "if x==1:\n",
    "    print('sunday')\n",
    "elif x==2:\n",
    "    print('monday')\n",
    "elif x==3:\n",
    "    print('tuesday')\n",
    "elif x==4:\n",
    "    print('wednesday')\n",
    "elif x==5:\n",
    "    print('thursday')\n",
    "elif x==6:\n",
    "    print('friday')\n",
    "elif x==7:\n",
    "    print('saturday')\n",
    "else:\n",
    "    print('invalid number')"
   ]
  },
  {
   "cell_type": "markdown",
   "id": "599e31ce",
   "metadata": {},
   "source": [
    "7. Write a program that asks the user for a number and prints \"In range\" if the number is between 10 and 20 (inclusive), and \"Out of range\" otherwise."
   ]
  },
  {
   "cell_type": "code",
   "execution_count": 12,
   "id": "ab9222f3",
   "metadata": {
    "scrolled": true
   },
   "outputs": [
    {
     "name": "stdout",
     "output_type": "stream",
     "text": [
      "enter a number : 20\n",
      "in range\n"
     ]
    }
   ],
   "source": [
    "x = int(input('enter a number : '))\n",
    "\n",
    "if x in range(10, 21):\n",
    "    print('in range')\n",
    "else:\n",
    "    print('out of range')\n"
   ]
  },
  {
   "cell_type": "code",
   "execution_count": 13,
   "id": "2d904e21",
   "metadata": {},
   "outputs": [
    {
     "name": "stdout",
     "output_type": "stream",
     "text": [
      "enter a number : 22\n",
      "out of range\n"
     ]
    }
   ],
   "source": [
    "x = int(input('enter a number : '))\n",
    "\n",
    "if x in range(10, 21):\n",
    "    print('in range')\n",
    "else:\n",
    "    print('out of range')"
   ]
  },
  {
   "cell_type": "markdown",
   "id": "63bc122c",
   "metadata": {},
   "source": [
    "8. Write a program that asks the user for an integer and prints whether it's even or odd.\n"
   ]
  },
  {
   "cell_type": "code",
   "execution_count": 15,
   "id": "8e87f521",
   "metadata": {},
   "outputs": [
    {
     "name": "stdout",
     "output_type": "stream",
     "text": [
      "enter a number : 12\n",
      "even number\n"
     ]
    }
   ],
   "source": [
    "x = int(input('enter a number : '))\n",
    "\n",
    "if x % 6 == 0:\n",
    "    print('even number')\n",
    "else:\n",
    "    print('odd number')\n"
   ]
  },
  {
   "cell_type": "code",
   "execution_count": 16,
   "id": "adbdbfc9",
   "metadata": {},
   "outputs": [
    {
     "name": "stdout",
     "output_type": "stream",
     "text": [
      "enter a number : 15\n",
      "odd number\n"
     ]
    }
   ],
   "source": [
    "x = int(input('enter a number : '))\n",
    "\n",
    "if x % 6 == 0:\n",
    "    print('even number')\n",
    "else:\n",
    "    print('odd number')"
   ]
  },
  {
   "cell_type": "markdown",
   "id": "361cf0ea",
   "metadata": {},
   "source": [
    "9. Write a Python program to add 'ing' at the end of a given string (string length should be equal to or more than 3). If the given string already ends with 'ing' then add 'ly' instead.If the string length of the given string is less than 3, leave it unchanged"
   ]
  },
  {
   "cell_type": "code",
   "execution_count": 24,
   "id": "029d184c",
   "metadata": {},
   "outputs": [
    {
     "name": "stdout",
     "output_type": "stream",
     "text": [
      "enter a string  hi\n",
      "hi\n"
     ]
    }
   ],
   "source": [
    "x=input('enter a string  ')\n",
    "\n",
    "if len(x)==2:\n",
    "    print((x))\n",
    "elif y.endswith('ing'):\n",
    "    print((x).replace('ing','ly'))\n",
    "else:\n",
    "    print((x)+('ing'))\n"
   ]
  },
  {
   "cell_type": "code",
   "execution_count": null,
   "id": "3b5f3d42",
   "metadata": {},
   "outputs": [],
   "source": []
  },
  {
   "cell_type": "code",
   "execution_count": null,
   "id": "b84ab3a8",
   "metadata": {},
   "outputs": [],
   "source": []
  },
  {
   "cell_type": "code",
   "execution_count": null,
   "id": "61216ab5",
   "metadata": {},
   "outputs": [],
   "source": []
  },
  {
   "cell_type": "code",
   "execution_count": null,
   "id": "8087a7a3",
   "metadata": {},
   "outputs": [],
   "source": []
  },
  {
   "cell_type": "code",
   "execution_count": null,
   "id": "00f84957",
   "metadata": {},
   "outputs": [],
   "source": []
  },
  {
   "cell_type": "code",
   "execution_count": null,
   "id": "85bddfa5",
   "metadata": {},
   "outputs": [],
   "source": []
  },
  {
   "cell_type": "code",
   "execution_count": null,
   "id": "44825778",
   "metadata": {},
   "outputs": [],
   "source": []
  },
  {
   "cell_type": "code",
   "execution_count": null,
   "id": "d934abd0",
   "metadata": {},
   "outputs": [],
   "source": []
  },
  {
   "cell_type": "code",
   "execution_count": null,
   "id": "7e4080ca",
   "metadata": {},
   "outputs": [],
   "source": []
  },
  {
   "cell_type": "code",
   "execution_count": null,
   "id": "fa3dacde",
   "metadata": {},
   "outputs": [],
   "source": []
  },
  {
   "cell_type": "code",
   "execution_count": null,
   "id": "a3264b1d",
   "metadata": {},
   "outputs": [],
   "source": []
  },
  {
   "cell_type": "code",
   "execution_count": null,
   "id": "cebde4d4",
   "metadata": {},
   "outputs": [],
   "source": []
  },
  {
   "cell_type": "code",
   "execution_count": null,
   "id": "ac3427b4",
   "metadata": {},
   "outputs": [],
   "source": []
  },
  {
   "cell_type": "code",
   "execution_count": null,
   "id": "99d2d778",
   "metadata": {},
   "outputs": [],
   "source": []
  },
  {
   "cell_type": "code",
   "execution_count": null,
   "id": "ddf746e3",
   "metadata": {},
   "outputs": [],
   "source": []
  },
  {
   "cell_type": "code",
   "execution_count": null,
   "id": "2608c4de",
   "metadata": {},
   "outputs": [],
   "source": []
  },
  {
   "cell_type": "code",
   "execution_count": null,
   "id": "ec6199ad",
   "metadata": {},
   "outputs": [],
   "source": []
  },
  {
   "cell_type": "code",
   "execution_count": null,
   "id": "e7a41fd0",
   "metadata": {},
   "outputs": [],
   "source": []
  },
  {
   "cell_type": "code",
   "execution_count": null,
   "id": "8507c2b2",
   "metadata": {},
   "outputs": [],
   "source": []
  },
  {
   "cell_type": "code",
   "execution_count": null,
   "id": "bbdaad25",
   "metadata": {},
   "outputs": [],
   "source": []
  },
  {
   "cell_type": "code",
   "execution_count": null,
   "id": "5d3fd4c6",
   "metadata": {},
   "outputs": [],
   "source": []
  },
  {
   "cell_type": "code",
   "execution_count": null,
   "id": "1510f707",
   "metadata": {},
   "outputs": [],
   "source": []
  },
  {
   "cell_type": "code",
   "execution_count": null,
   "id": "b4a88a38",
   "metadata": {},
   "outputs": [],
   "source": []
  },
  {
   "cell_type": "code",
   "execution_count": null,
   "id": "14323d21",
   "metadata": {},
   "outputs": [],
   "source": []
  },
  {
   "cell_type": "code",
   "execution_count": null,
   "id": "530d00ba",
   "metadata": {},
   "outputs": [],
   "source": []
  },
  {
   "cell_type": "code",
   "execution_count": null,
   "id": "449cecb0",
   "metadata": {},
   "outputs": [],
   "source": []
  },
  {
   "cell_type": "code",
   "execution_count": null,
   "id": "596d54e4",
   "metadata": {},
   "outputs": [],
   "source": []
  },
  {
   "cell_type": "code",
   "execution_count": null,
   "id": "ee374278",
   "metadata": {},
   "outputs": [],
   "source": []
  },
  {
   "cell_type": "code",
   "execution_count": null,
   "id": "360f2959",
   "metadata": {},
   "outputs": [],
   "source": []
  },
  {
   "cell_type": "code",
   "execution_count": null,
   "id": "38dfa585",
   "metadata": {},
   "outputs": [],
   "source": []
  },
  {
   "cell_type": "code",
   "execution_count": null,
   "id": "1ce626a9",
   "metadata": {},
   "outputs": [],
   "source": []
  },
  {
   "cell_type": "code",
   "execution_count": null,
   "id": "c49673fd",
   "metadata": {},
   "outputs": [],
   "source": []
  },
  {
   "cell_type": "code",
   "execution_count": null,
   "id": "9996000e",
   "metadata": {},
   "outputs": [],
   "source": []
  },
  {
   "cell_type": "code",
   "execution_count": null,
   "id": "7a60f245",
   "metadata": {},
   "outputs": [],
   "source": []
  },
  {
   "cell_type": "code",
   "execution_count": null,
   "id": "b99b3c3f",
   "metadata": {},
   "outputs": [],
   "source": []
  },
  {
   "cell_type": "code",
   "execution_count": null,
   "id": "8a02a51d",
   "metadata": {},
   "outputs": [],
   "source": []
  },
  {
   "cell_type": "code",
   "execution_count": null,
   "id": "7133dbcd",
   "metadata": {},
   "outputs": [],
   "source": []
  },
  {
   "cell_type": "code",
   "execution_count": null,
   "id": "584409a3",
   "metadata": {},
   "outputs": [],
   "source": []
  },
  {
   "cell_type": "code",
   "execution_count": null,
   "id": "dd8e6d3a",
   "metadata": {},
   "outputs": [],
   "source": []
  },
  {
   "cell_type": "code",
   "execution_count": null,
   "id": "4f95a7bc",
   "metadata": {},
   "outputs": [],
   "source": []
  },
  {
   "cell_type": "code",
   "execution_count": null,
   "id": "2ec76a8e",
   "metadata": {},
   "outputs": [],
   "source": []
  },
  {
   "cell_type": "code",
   "execution_count": null,
   "id": "a6699a89",
   "metadata": {},
   "outputs": [],
   "source": []
  },
  {
   "cell_type": "code",
   "execution_count": null,
   "id": "5c159629",
   "metadata": {},
   "outputs": [],
   "source": []
  },
  {
   "cell_type": "code",
   "execution_count": null,
   "id": "1a7d0bc4",
   "metadata": {},
   "outputs": [],
   "source": []
  },
  {
   "cell_type": "code",
   "execution_count": null,
   "id": "5b7ecae8",
   "metadata": {},
   "outputs": [],
   "source": []
  },
  {
   "cell_type": "code",
   "execution_count": null,
   "id": "a23685d0",
   "metadata": {},
   "outputs": [],
   "source": []
  },
  {
   "cell_type": "code",
   "execution_count": null,
   "id": "28a3814f",
   "metadata": {},
   "outputs": [],
   "source": []
  },
  {
   "cell_type": "code",
   "execution_count": null,
   "id": "06773fbe",
   "metadata": {},
   "outputs": [],
   "source": []
  },
  {
   "cell_type": "code",
   "execution_count": null,
   "id": "93d73537",
   "metadata": {},
   "outputs": [],
   "source": []
  },
  {
   "cell_type": "code",
   "execution_count": null,
   "id": "b5090591",
   "metadata": {},
   "outputs": [],
   "source": []
  },
  {
   "cell_type": "code",
   "execution_count": null,
   "id": "3b51153c",
   "metadata": {},
   "outputs": [],
   "source": []
  },
  {
   "cell_type": "code",
   "execution_count": null,
   "id": "47cf445f",
   "metadata": {},
   "outputs": [],
   "source": []
  },
  {
   "cell_type": "code",
   "execution_count": null,
   "id": "35de5376",
   "metadata": {},
   "outputs": [],
   "source": []
  },
  {
   "cell_type": "code",
   "execution_count": null,
   "id": "c5e2e712",
   "metadata": {},
   "outputs": [],
   "source": []
  },
  {
   "cell_type": "code",
   "execution_count": null,
   "id": "7abc20cb",
   "metadata": {},
   "outputs": [],
   "source": []
  },
  {
   "cell_type": "code",
   "execution_count": null,
   "id": "17486886",
   "metadata": {},
   "outputs": [],
   "source": []
  },
  {
   "cell_type": "code",
   "execution_count": null,
   "id": "8d45e1c8",
   "metadata": {},
   "outputs": [],
   "source": []
  },
  {
   "cell_type": "code",
   "execution_count": null,
   "id": "2556a213",
   "metadata": {},
   "outputs": [],
   "source": []
  },
  {
   "cell_type": "code",
   "execution_count": null,
   "id": "f689f888",
   "metadata": {},
   "outputs": [],
   "source": []
  },
  {
   "cell_type": "code",
   "execution_count": null,
   "id": "a08ed4b6",
   "metadata": {},
   "outputs": [],
   "source": []
  },
  {
   "cell_type": "code",
   "execution_count": null,
   "id": "1b231e80",
   "metadata": {},
   "outputs": [],
   "source": []
  },
  {
   "cell_type": "code",
   "execution_count": null,
   "id": "2731cf82",
   "metadata": {},
   "outputs": [],
   "source": []
  },
  {
   "cell_type": "code",
   "execution_count": null,
   "id": "e8f26696",
   "metadata": {},
   "outputs": [],
   "source": []
  },
  {
   "cell_type": "code",
   "execution_count": null,
   "id": "16b0d938",
   "metadata": {},
   "outputs": [],
   "source": []
  },
  {
   "cell_type": "code",
   "execution_count": null,
   "id": "3225dc97",
   "metadata": {},
   "outputs": [],
   "source": []
  },
  {
   "cell_type": "code",
   "execution_count": null,
   "id": "ba4d8e17",
   "metadata": {},
   "outputs": [],
   "source": []
  },
  {
   "cell_type": "code",
   "execution_count": null,
   "id": "fd523424",
   "metadata": {},
   "outputs": [],
   "source": []
  },
  {
   "cell_type": "code",
   "execution_count": null,
   "id": "7d574f86",
   "metadata": {},
   "outputs": [],
   "source": []
  },
  {
   "cell_type": "code",
   "execution_count": null,
   "id": "34f5f360",
   "metadata": {},
   "outputs": [],
   "source": []
  },
  {
   "cell_type": "code",
   "execution_count": null,
   "id": "9dca05d1",
   "metadata": {},
   "outputs": [],
   "source": []
  },
  {
   "cell_type": "code",
   "execution_count": null,
   "id": "e5a8b52b",
   "metadata": {},
   "outputs": [],
   "source": []
  },
  {
   "cell_type": "code",
   "execution_count": null,
   "id": "ba966090",
   "metadata": {},
   "outputs": [],
   "source": []
  },
  {
   "cell_type": "code",
   "execution_count": null,
   "id": "f466a338",
   "metadata": {},
   "outputs": [],
   "source": []
  },
  {
   "cell_type": "code",
   "execution_count": null,
   "id": "6d497cca",
   "metadata": {},
   "outputs": [],
   "source": []
  },
  {
   "cell_type": "code",
   "execution_count": null,
   "id": "5160e67a",
   "metadata": {},
   "outputs": [],
   "source": []
  },
  {
   "cell_type": "code",
   "execution_count": null,
   "id": "a2ef814b",
   "metadata": {},
   "outputs": [],
   "source": []
  },
  {
   "cell_type": "code",
   "execution_count": null,
   "id": "b69daed6",
   "metadata": {},
   "outputs": [],
   "source": []
  },
  {
   "cell_type": "code",
   "execution_count": null,
   "id": "1316187d",
   "metadata": {},
   "outputs": [],
   "source": []
  },
  {
   "cell_type": "code",
   "execution_count": null,
   "id": "a77a26a6",
   "metadata": {},
   "outputs": [],
   "source": []
  },
  {
   "cell_type": "code",
   "execution_count": null,
   "id": "12062f41",
   "metadata": {},
   "outputs": [],
   "source": []
  },
  {
   "cell_type": "code",
   "execution_count": null,
   "id": "b0d71281",
   "metadata": {},
   "outputs": [],
   "source": []
  },
  {
   "cell_type": "code",
   "execution_count": null,
   "id": "f85ad893",
   "metadata": {},
   "outputs": [],
   "source": []
  },
  {
   "cell_type": "code",
   "execution_count": null,
   "id": "3ef394fc",
   "metadata": {},
   "outputs": [],
   "source": []
  },
  {
   "cell_type": "code",
   "execution_count": null,
   "id": "552fe5ad",
   "metadata": {},
   "outputs": [],
   "source": []
  },
  {
   "cell_type": "code",
   "execution_count": null,
   "id": "e45a4c32",
   "metadata": {},
   "outputs": [],
   "source": []
  },
  {
   "cell_type": "code",
   "execution_count": null,
   "id": "e2188570",
   "metadata": {},
   "outputs": [],
   "source": []
  },
  {
   "cell_type": "code",
   "execution_count": null,
   "id": "72f3be79",
   "metadata": {},
   "outputs": [],
   "source": []
  },
  {
   "cell_type": "code",
   "execution_count": null,
   "id": "618bd6ab",
   "metadata": {},
   "outputs": [],
   "source": []
  },
  {
   "cell_type": "code",
   "execution_count": null,
   "id": "0a9826c5",
   "metadata": {},
   "outputs": [],
   "source": []
  }
 ],
 "metadata": {
  "kernelspec": {
   "display_name": "Python 3 (ipykernel)",
   "language": "python",
   "name": "python3"
  },
  "language_info": {
   "codemirror_mode": {
    "name": "ipython",
    "version": 3
   },
   "file_extension": ".py",
   "mimetype": "text/x-python",
   "name": "python",
   "nbconvert_exporter": "python",
   "pygments_lexer": "ipython3",
   "version": "3.11.5"
  }
 },
 "nbformat": 4,
 "nbformat_minor": 5
}
