{
 "cells": [
  {
   "cell_type": "markdown",
   "id": "5a5e1946",
   "metadata": {},
   "source": [
    "# regular expression (regex) :\n",
    "    A regular expression (regex) is a sequence of characters that forms a search pattern. You can use this pattern to search, match, and manipulate strings. Regex is often used in programming, data validation, and text processing."
   ]
  },
  {
   "cell_type": "markdown",
   "id": "f2047efe",
   "metadata": {},
   "source": [
    "# Functions :\n",
    "    "
   ]
  },
  {
   "cell_type": "markdown",
   "id": "11396aa0",
   "metadata": {},
   "source": [
    "# 1. re.match()\n",
    "* Purpose: Checks for a match only at the beginning of the string.\n",
    "* Usage: re.match(pattern, string)"
   ]
  },
  {
   "cell_type": "code",
   "execution_count": 118,
   "id": "a8049bce",
   "metadata": {},
   "outputs": [],
   "source": [
    "import regex as re"
   ]
  },
  {
   "cell_type": "code",
   "execution_count": 3,
   "id": "bfaf12c3",
   "metadata": {},
   "outputs": [],
   "source": [
    "x = 'Text messages are used for personal, family, business, and social purposes.'"
   ]
  },
  {
   "cell_type": "code",
   "execution_count": 4,
   "id": "b41722d8",
   "metadata": {},
   "outputs": [
    {
     "data": {
      "text/plain": [
       "<regex.Match object; span=(0, 4), match='Text'>"
      ]
     },
     "execution_count": 4,
     "metadata": {},
     "output_type": "execute_result"
    }
   ],
   "source": [
    "re.match('Text', x) # snap is give the index position of the word "
   ]
  },
  {
   "cell_type": "code",
   "execution_count": 6,
   "id": "2543755b",
   "metadata": {},
   "outputs": [
    {
     "name": "stdout",
     "output_type": "stream",
     "text": [
      "None\n"
     ]
    }
   ],
   "source": [
    "print(re.match('used', x)) # if the given text was not found at the frist its gives 'None'"
   ]
  },
  {
   "cell_type": "markdown",
   "id": "c7181d12",
   "metadata": {},
   "source": [
    "# 2. re.search()\n",
    "* Purpose: Searches the string for a match, anywhere in the string.\n",
    "* Usage: re.search(pattern, string)"
   ]
  },
  {
   "cell_type": "code",
   "execution_count": 8,
   "id": "87f1e137",
   "metadata": {},
   "outputs": [],
   "source": [
    "x = 'Give papa a cup of proper coffee in a copper coffee cup.'"
   ]
  },
  {
   "cell_type": "code",
   "execution_count": 9,
   "id": "01c141b7",
   "metadata": {},
   "outputs": [
    {
     "data": {
      "text/plain": [
       "<regex.Match object; span=(12, 15), match='cup'>"
      ]
     },
     "execution_count": 9,
     "metadata": {},
     "output_type": "execute_result"
    }
   ],
   "source": [
    "re.search('cup', x) # its consider the frist word from the string "
   ]
  },
  {
   "cell_type": "markdown",
   "id": "df8a647a",
   "metadata": {},
   "source": [
    "# 3. re.findall()\n",
    "Purpose: Returns a list of all matches in the string.\n",
    "Usage: re.findall(pattern, string)"
   ]
  },
  {
   "cell_type": "code",
   "execution_count": null,
   "id": "22b98af8",
   "metadata": {},
   "outputs": [],
   "source": [
    "x = 'Give papa a cup of proper coffee in a copper coffee cup.'"
   ]
  },
  {
   "cell_type": "code",
   "execution_count": 10,
   "id": "b9704de0",
   "metadata": {},
   "outputs": [
    {
     "data": {
      "text/plain": [
       "['cup', 'cup']"
      ]
     },
     "execution_count": 10,
     "metadata": {},
     "output_type": "execute_result"
    }
   ],
   "source": [
    "re.findall('cup', x) "
   ]
  },
  {
   "cell_type": "markdown",
   "id": "0dffc9ff",
   "metadata": {},
   "source": [
    "# 4. re.split()\n",
    "* Purpose: Splits the string by the occurrences of the pattern.\n",
    "* Usage: re.split(pattern, string)"
   ]
  },
  {
   "cell_type": "code",
   "execution_count": 33,
   "id": "b52e676c",
   "metadata": {},
   "outputs": [],
   "source": [
    "x = 'Give papa a cup of proper coffee in a copper coffee cup.'"
   ]
  },
  {
   "cell_type": "code",
   "execution_count": 34,
   "id": "34921f1b",
   "metadata": {},
   "outputs": [
    {
     "data": {
      "text/plain": [
       "['Give ', ' a cup of proper coffee in a copper coffee cup.']"
      ]
     },
     "execution_count": 34,
     "metadata": {},
     "output_type": "execute_result"
    }
   ],
   "source": [
    "re.split(r'papa', x, ) # its split with the (comma ',') "
   ]
  },
  {
   "cell_type": "markdown",
   "id": "faae583a",
   "metadata": {},
   "source": [
    "# 5. re.sub()\n",
    "* Purpose: Replaces the matches with a string.\n",
    "* Usage: re.sub(pattern, replacement, string)"
   ]
  },
  {
   "cell_type": "code",
   "execution_count": null,
   "id": "b79f2bbe",
   "metadata": {},
   "outputs": [],
   "source": [
    "x = 'Give papa a cup of proper coffee in a copper coffee cup.'"
   ]
  },
  {
   "cell_type": "code",
   "execution_count": 12,
   "id": "8ff50b7b",
   "metadata": {},
   "outputs": [
    {
     "data": {
      "text/plain": [
       "'Give dad a cup of proper coffee in a copper coffee cup.'"
      ]
     },
     "execution_count": 12,
     "metadata": {},
     "output_type": "execute_result"
    }
   ],
   "source": [
    "re.sub('papa', 'dad', x) "
   ]
  },
  {
   "cell_type": "markdown",
   "id": "fb28333d",
   "metadata": {},
   "source": [
    "# 6. re.compile()\n",
    "* Purpose: Compiles a regex pattern into a regex object for reuse.\n",
    "* Usage: re.compile(pattern)"
   ]
  },
  {
   "cell_type": "code",
   "execution_count": 65,
   "id": "2e6ceca4",
   "metadata": {},
   "outputs": [],
   "source": [
    "x = 'Give papa a cup of proper coffee in a copper coffee cup.'"
   ]
  },
  {
   "cell_type": "code",
   "execution_count": 66,
   "id": "61954514",
   "metadata": {},
   "outputs": [],
   "source": [
    "pattern = re.compile(r'papa')"
   ]
  },
  {
   "cell_type": "code",
   "execution_count": 67,
   "id": "62151b6b",
   "metadata": {},
   "outputs": [
    {
     "name": "stdout",
     "output_type": "stream",
     "text": [
      "<regex.Match object; span=(5, 9), match='papa'>\n"
     ]
    }
   ],
   "source": [
    "print(re.search(pattern,x))"
   ]
  },
  {
   "cell_type": "markdown",
   "id": "7e92cb38",
   "metadata": {},
   "source": [
    "# 7. flags (re.IGNORECASE (or re.I)):\n",
    "    Makes the pattern matching case-insensitive."
   ]
  },
  {
   "cell_type": "code",
   "execution_count": 77,
   "id": "2e823dc8",
   "metadata": {},
   "outputs": [],
   "source": [
    "x = 'Give PAPA a cup of proper coffee in a copper coffee cup.'"
   ]
  },
  {
   "cell_type": "code",
   "execution_count": 78,
   "id": "619ec2f3",
   "metadata": {},
   "outputs": [],
   "source": [
    "pattern = re.compile(r'papa')"
   ]
  },
  {
   "cell_type": "code",
   "execution_count": 80,
   "id": "05d4c182",
   "metadata": {},
   "outputs": [
    {
     "name": "stdout",
     "output_type": "stream",
     "text": [
      "None\n"
     ]
    }
   ],
   "source": [
    "print(re.search(pattern,x))"
   ]
  },
  {
   "cell_type": "code",
   "execution_count": 81,
   "id": "87a5ad09",
   "metadata": {},
   "outputs": [],
   "source": [
    "pattern = re.compile(r'papa', re.I)"
   ]
  },
  {
   "cell_type": "code",
   "execution_count": 82,
   "id": "148fe0d4",
   "metadata": {},
   "outputs": [
    {
     "name": "stdout",
     "output_type": "stream",
     "text": [
      "<regex.Match object; span=(5, 9), match='PAPA'>\n"
     ]
    }
   ],
   "source": [
    "print(re.search(pattern,x))"
   ]
  },
  {
   "cell_type": "markdown",
   "id": "49be36d2",
   "metadata": {},
   "source": [
    "# 8.group()\n",
    "* Purpose: Returns the string matched by the regex pattern or a specific subgroup if an argument is provided.\n",
    "* Usage: match.group([group1, ...])"
   ]
  },
  {
   "cell_type": "code",
   "execution_count": 151,
   "id": "0362ae1d",
   "metadata": {},
   "outputs": [],
   "source": [
    "x = '25-07-2024'"
   ]
  },
  {
   "cell_type": "code",
   "execution_count": 152,
   "id": "a7c7b069",
   "metadata": {},
   "outputs": [],
   "source": [
    "pattern = re.compile(r'(\\d.*)-(\\d.*)-(\\d.*)')"
   ]
  },
  {
   "cell_type": "code",
   "execution_count": 153,
   "id": "af79f254",
   "metadata": {},
   "outputs": [],
   "source": [
    "y = re.match(pattern,x)"
   ]
  },
  {
   "cell_type": "code",
   "execution_count": 181,
   "id": "26614e01",
   "metadata": {},
   "outputs": [
    {
     "name": "stdout",
     "output_type": "stream",
     "text": [
      "25-07-2024\n",
      "25\n",
      "07\n",
      "2024\n"
     ]
    }
   ],
   "source": [
    "print(y.group())\n",
    "print(y.group(1))\n",
    "print(y.group(2))\n",
    "print(y.group(3))"
   ]
  },
  {
   "cell_type": "markdown",
   "id": "d4172375",
   "metadata": {},
   "source": [
    "# 9. groups()\n",
    "The groups() method returns a tuple of all the subgroups in the match, from 1 to the last. It does not include the entire match, only the captured groups defined by parentheses in the pattern."
   ]
  },
  {
   "cell_type": "code",
   "execution_count": 376,
   "id": "fc5bfea3",
   "metadata": {},
   "outputs": [],
   "source": [
    "x = '25-07-2024'"
   ]
  },
  {
   "cell_type": "code",
   "execution_count": 377,
   "id": "38bda7de",
   "metadata": {},
   "outputs": [],
   "source": [
    "pattern = re.compile(r'(\\d.*)-(\\d.*)-(\\d.*)')"
   ]
  },
  {
   "cell_type": "code",
   "execution_count": 378,
   "id": "885c1c23",
   "metadata": {},
   "outputs": [
    {
     "data": {
      "text/plain": [
       "<regex.Match object; span=(0, 10), match='25-07-2024'>"
      ]
     },
     "execution_count": 378,
     "metadata": {},
     "output_type": "execute_result"
    }
   ],
   "source": [
    "y = re.match(pattern,x)\n",
    "y"
   ]
  },
  {
   "cell_type": "code",
   "execution_count": 379,
   "id": "c71e6bef",
   "metadata": {},
   "outputs": [
    {
     "name": "stdout",
     "output_type": "stream",
     "text": [
      "('25', '07', '2024')\n"
     ]
    }
   ],
   "source": [
    "print(y.groups())"
   ]
  },
  {
   "cell_type": "markdown",
   "id": "70668bfb",
   "metadata": {},
   "source": [
    "# Meta characters:\n",
    "    Meta characters in regular expressions are special characters that have a unique meaning and help define patterns."
   ]
  },
  {
   "cell_type": "markdown",
   "id": "7b277899",
   "metadata": {},
   "source": [
    "# 1. '.' (Dot)\n",
    "\n",
    "Purpose: Matches any single character except newline."
   ]
  },
  {
   "cell_type": "code",
   "execution_count": 191,
   "id": "c1ec8192",
   "metadata": {},
   "outputs": [],
   "source": [
    "x = 'Give papa a cup of proper coffee in a copper coffee cup.'"
   ]
  },
  {
   "cell_type": "code",
   "execution_count": 198,
   "id": "5e81ace5",
   "metadata": {},
   "outputs": [
    {
     "data": {
      "text/plain": [
       "['cof', 'cof']"
      ]
     },
     "execution_count": 198,
     "metadata": {},
     "output_type": "execute_result"
    }
   ],
   "source": [
    "re.findall('c.f', x) # it gives the single character bewtten ('c.f') "
   ]
  },
  {
   "cell_type": "code",
   "execution_count": 199,
   "id": "2875d1ac",
   "metadata": {},
   "outputs": [
    {
     "data": {
      "text/plain": [
       "[]"
      ]
     },
     "execution_count": 199,
     "metadata": {},
     "output_type": "execute_result"
    }
   ],
   "source": [
    "re.findall('c.e', x) "
   ]
  },
  {
   "cell_type": "code",
   "execution_count": 201,
   "id": "c45785d2",
   "metadata": {},
   "outputs": [
    {
     "data": {
      "text/plain": [
       "['coffe', 'coppe', 'coffe']"
      ]
     },
     "execution_count": 201,
     "metadata": {},
     "output_type": "execute_result"
    }
   ],
   "source": [
    "re.findall('c...e', x) "
   ]
  },
  {
   "cell_type": "markdown",
   "id": "76f46866",
   "metadata": {},
   "source": [
    "# 2. ^ (Caret)\n",
    "\n",
    "Purpose: Matches the start of the string."
   ]
  },
  {
   "cell_type": "code",
   "execution_count": null,
   "id": "54891a8b",
   "metadata": {},
   "outputs": [],
   "source": [
    "x = 'Give papa a cup of proper coffee in a copper coffee cup.'"
   ]
  },
  {
   "cell_type": "code",
   "execution_count": 204,
   "id": "2d818f9e",
   "metadata": {},
   "outputs": [
    {
     "data": {
      "text/plain": [
       "['Give']"
      ]
     },
     "execution_count": 204,
     "metadata": {},
     "output_type": "execute_result"
    }
   ],
   "source": [
    "re.findall(r'^Give',x)"
   ]
  },
  {
   "cell_type": "code",
   "execution_count": 205,
   "id": "bd3b3165",
   "metadata": {},
   "outputs": [
    {
     "data": {
      "text/plain": [
       "[]"
      ]
     },
     "execution_count": 205,
     "metadata": {},
     "output_type": "execute_result"
    }
   ],
   "source": [
    "re.findall(r'^papa',x)"
   ]
  },
  {
   "cell_type": "markdown",
   "id": "a1979862",
   "metadata": {},
   "source": [
    "# 3. $ (Dollar)\n",
    "\n",
    "Purpose: Matches the end of the string."
   ]
  },
  {
   "cell_type": "code",
   "execution_count": 207,
   "id": "0c3ffc04",
   "metadata": {},
   "outputs": [],
   "source": [
    "x = 'Give papa a cup of proper coffee in a copper coffee cup'"
   ]
  },
  {
   "cell_type": "code",
   "execution_count": 208,
   "id": "c6c5ad58",
   "metadata": {},
   "outputs": [
    {
     "data": {
      "text/plain": [
       "['cup']"
      ]
     },
     "execution_count": 208,
     "metadata": {},
     "output_type": "execute_result"
    }
   ],
   "source": [
    "re.findall(r'cup$',x)"
   ]
  },
  {
   "cell_type": "code",
   "execution_count": 209,
   "id": "3eb26030",
   "metadata": {},
   "outputs": [
    {
     "data": {
      "text/plain": [
       "[]"
      ]
     },
     "execution_count": 209,
     "metadata": {},
     "output_type": "execute_result"
    }
   ],
   "source": [
    "re.findall(r'Give$',x)"
   ]
  },
  {
   "cell_type": "markdown",
   "id": "7b3bfbc2",
   "metadata": {},
   "source": [
    "# 4. * (Asterisk)\n",
    "\n",
    "Purpose: Matches 0 or more repetitions of the preceding pattern.\n"
   ]
  },
  {
   "cell_type": "code",
   "execution_count": 260,
   "id": "3666cce0",
   "metadata": {},
   "outputs": [],
   "source": [
    "x = 'abbbc'"
   ]
  },
  {
   "cell_type": "code",
   "execution_count": 263,
   "id": "57f2d741",
   "metadata": {},
   "outputs": [
    {
     "data": {
      "text/plain": [
       "['abbbc']"
      ]
     },
     "execution_count": 263,
     "metadata": {},
     "output_type": "execute_result"
    }
   ],
   "source": [
    "re.findall(r'a.*c',x)"
   ]
  },
  {
   "cell_type": "code",
   "execution_count": 264,
   "id": "dc62f504",
   "metadata": {},
   "outputs": [
    {
     "data": {
      "text/plain": [
       "[]"
      ]
     },
     "execution_count": 264,
     "metadata": {},
     "output_type": "execute_result"
    }
   ],
   "source": [
    "re.findall(r'l.*', x)"
   ]
  },
  {
   "cell_type": "markdown",
   "id": "10a1ab51",
   "metadata": {},
   "source": [
    "# 5. + (Plus)\n",
    "\n",
    "Purpose: Matches 1 or more repetitions of the preceding pattern."
   ]
  },
  {
   "cell_type": "code",
   "execution_count": 266,
   "id": "9fc89d59",
   "metadata": {},
   "outputs": [],
   "source": [
    "x = 'abbc'"
   ]
  },
  {
   "cell_type": "code",
   "execution_count": 269,
   "id": "e4ba13ad",
   "metadata": {},
   "outputs": [
    {
     "data": {
      "text/plain": [
       "['abbc']"
      ]
     },
     "execution_count": 269,
     "metadata": {},
     "output_type": "execute_result"
    }
   ],
   "source": [
    "re.findall(r'ab+c',x)"
   ]
  },
  {
   "cell_type": "code",
   "execution_count": 271,
   "id": "edfcb705",
   "metadata": {},
   "outputs": [
    {
     "data": {
      "text/plain": [
       "[]"
      ]
     },
     "execution_count": 271,
     "metadata": {},
     "output_type": "execute_result"
    }
   ],
   "source": [
    "re.findall(r'a+c',x)"
   ]
  },
  {
   "cell_type": "markdown",
   "id": "401dc0c9",
   "metadata": {},
   "source": [
    "# 6. ? (Question Mark)\n",
    "\n",
    "Purpose: Matches 0 or 1 repetition of the preceding pattern."
   ]
  },
  {
   "cell_type": "code",
   "execution_count": 297,
   "id": "b4da294e",
   "metadata": {},
   "outputs": [],
   "source": [
    "x = 'abc' # 1 occerance"
   ]
  },
  {
   "cell_type": "code",
   "execution_count": 298,
   "id": "f1266c15",
   "metadata": {},
   "outputs": [
    {
     "data": {
      "text/plain": [
       "['abc']"
      ]
     },
     "execution_count": 298,
     "metadata": {},
     "output_type": "execute_result"
    }
   ],
   "source": [
    "re.findall(r'ab?c',x)"
   ]
  },
  {
   "cell_type": "code",
   "execution_count": 299,
   "id": "10ba72a1",
   "metadata": {},
   "outputs": [],
   "source": [
    "x = 'ac' # 0 occerence"
   ]
  },
  {
   "cell_type": "code",
   "execution_count": 300,
   "id": "80ea1481",
   "metadata": {},
   "outputs": [
    {
     "data": {
      "text/plain": [
       "['ac']"
      ]
     },
     "execution_count": 300,
     "metadata": {},
     "output_type": "execute_result"
    }
   ],
   "source": [
    "re.findall(r'ab?c',x)"
   ]
  },
  {
   "cell_type": "markdown",
   "id": "efebbd94",
   "metadata": {},
   "source": [
    "# 7. [ ] (Square Brackets)\n",
    "\n",
    "Purpose: Matches any one of the characters inside the brackets."
   ]
  },
  {
   "cell_type": "code",
   "execution_count": 314,
   "id": "35a20ea0",
   "metadata": {},
   "outputs": [],
   "source": [
    "x = 'nani1234'"
   ]
  },
  {
   "cell_type": "code",
   "execution_count": 315,
   "id": "dda05bcd",
   "metadata": {},
   "outputs": [
    {
     "data": {
      "text/plain": [
       "['1', '2', '3', '4']"
      ]
     },
     "execution_count": 315,
     "metadata": {},
     "output_type": "execute_result"
    }
   ],
   "source": [
    "re.findall(r'[0-9]', x)"
   ]
  },
  {
   "cell_type": "code",
   "execution_count": 316,
   "id": "e30df4b6",
   "metadata": {},
   "outputs": [
    {
     "data": {
      "text/plain": [
       "['n', 'a', 'n', 'i']"
      ]
     },
     "execution_count": 316,
     "metadata": {},
     "output_type": "execute_result"
    }
   ],
   "source": [
    "re.findall(r'[a-z]', x)"
   ]
  },
  {
   "cell_type": "markdown",
   "id": "5dbabb4f",
   "metadata": {},
   "source": [
    "# 8. | (Pipe)\n",
    "\n",
    "Purpose: Matches either the pattern before or the pattern after the '|' ."
   ]
  },
  {
   "cell_type": "code",
   "execution_count": 322,
   "id": "b7e3184e",
   "metadata": {},
   "outputs": [],
   "source": [
    "x = 'Give papa a cup of proper coffee in a copper coffee cup'"
   ]
  },
  {
   "cell_type": "code",
   "execution_count": 323,
   "id": "440ab796",
   "metadata": {},
   "outputs": [
    {
     "data": {
      "text/plain": [
       "['papa']"
      ]
     },
     "execution_count": 323,
     "metadata": {},
     "output_type": "execute_result"
    }
   ],
   "source": [
    "re.findall(r'papa|nani', x)"
   ]
  },
  {
   "cell_type": "code",
   "execution_count": 324,
   "id": "31b36270",
   "metadata": {},
   "outputs": [
    {
     "data": {
      "text/plain": [
       "['Give', 'papa']"
      ]
     },
     "execution_count": 324,
     "metadata": {},
     "output_type": "execute_result"
    }
   ],
   "source": [
    "re.findall(r'papa|Give', x)"
   ]
  },
  {
   "cell_type": "markdown",
   "id": "a8a2705c",
   "metadata": {},
   "source": [
    "# 9. () (Parentheses)\n",
    "\n",
    "Purpose: Groups patterns together and captures the matched text."
   ]
  },
  {
   "cell_type": "code",
   "execution_count": 382,
   "id": "7286906b",
   "metadata": {},
   "outputs": [],
   "source": [
    "x =  'abcd'"
   ]
  },
  {
   "cell_type": "code",
   "execution_count": 387,
   "id": "82120816",
   "metadata": {},
   "outputs": [
    {
     "data": {
      "text/plain": [
       "<regex.Match object; span=(0, 4), match='abcd'>"
      ]
     },
     "execution_count": 387,
     "metadata": {},
     "output_type": "execute_result"
    }
   ],
   "source": [
    "y = re.match(r'(ab)(cd)', x)\n",
    "y"
   ]
  },
  {
   "cell_type": "code",
   "execution_count": 389,
   "id": "cc39652f",
   "metadata": {},
   "outputs": [
    {
     "name": "stdout",
     "output_type": "stream",
     "text": [
      "ab\n",
      "cd\n"
     ]
    }
   ],
   "source": [
    "if y:\n",
    "    print(y.group(1))\n",
    "    print(y.group(2))"
   ]
  },
  {
   "cell_type": "markdown",
   "id": "b26a36f0",
   "metadata": {},
   "source": [
    "# 10. \\ (Backslash)\n",
    "\n",
    "Purpose: Escapes a meta character to match it literally."
   ]
  },
  {
   "cell_type": "code",
   "execution_count": 391,
   "id": "40b4f14a",
   "metadata": {},
   "outputs": [],
   "source": [
    "x = 'abcd$'"
   ]
  },
  {
   "cell_type": "code",
   "execution_count": 393,
   "id": "42f5951d",
   "metadata": {},
   "outputs": [
    {
     "data": {
      "text/plain": [
       "['$']"
      ]
     },
     "execution_count": 393,
     "metadata": {},
     "output_type": "execute_result"
    }
   ],
   "source": [
    "re.findall('\\$', x)"
   ]
  },
  {
   "cell_type": "markdown",
   "id": "75dc3acd",
   "metadata": {},
   "source": [
    "# Special Sequences :\n",
    "Special sequences in regular expressions provide a shorthand way to represent commonly used character classes and anchors. They simplify patterns and make regex more readable."
   ]
  },
  {
   "cell_type": "markdown",
   "id": "03f91ef0",
   "metadata": {},
   "source": [
    "# 1.  \\d\n",
    "\n",
    "Purpose: Matches any digit (0-9).\n"
   ]
  },
  {
   "cell_type": "code",
   "execution_count": 402,
   "id": "3c8d8dea",
   "metadata": {},
   "outputs": [],
   "source": [
    "x = 'abcd1230'"
   ]
  },
  {
   "cell_type": "code",
   "execution_count": 403,
   "id": "3c7bbabd",
   "metadata": {},
   "outputs": [
    {
     "data": {
      "text/plain": [
       "['1', '2', '3', '0']"
      ]
     },
     "execution_count": 403,
     "metadata": {},
     "output_type": "execute_result"
    }
   ],
   "source": [
    "re.findall(r'\\d', x)"
   ]
  },
  {
   "cell_type": "markdown",
   "id": "261e649f",
   "metadata": {},
   "source": [
    "# 2. \\D\n",
    "\n",
    "Purpose: Matches any non-digit character."
   ]
  },
  {
   "cell_type": "code",
   "execution_count": 404,
   "id": "ed3168bb",
   "metadata": {},
   "outputs": [],
   "source": [
    "x = 'abcd1230'"
   ]
  },
  {
   "cell_type": "code",
   "execution_count": 405,
   "id": "14f61985",
   "metadata": {},
   "outputs": [
    {
     "data": {
      "text/plain": [
       "['a', 'b', 'c', 'd']"
      ]
     },
     "execution_count": 405,
     "metadata": {},
     "output_type": "execute_result"
    }
   ],
   "source": [
    "re.findall(r'\\D', x)"
   ]
  },
  {
   "cell_type": "markdown",
   "id": "77fc0310",
   "metadata": {},
   "source": [
    "# 3. \\w\n",
    "\n",
    "Purpose: Matches any word character (alphanumeric + underscore)."
   ]
  },
  {
   "cell_type": "code",
   "execution_count": 413,
   "id": "d0ec2533",
   "metadata": {},
   "outputs": [],
   "source": [
    "x = 'abcd_1230$#'"
   ]
  },
  {
   "cell_type": "code",
   "execution_count": 414,
   "id": "fb33bae9",
   "metadata": {},
   "outputs": [
    {
     "data": {
      "text/plain": [
       "['abcd_1230']"
      ]
     },
     "execution_count": 414,
     "metadata": {},
     "output_type": "execute_result"
    }
   ],
   "source": [
    "re.findall(r'\\w+', x)"
   ]
  },
  {
   "cell_type": "markdown",
   "id": "2b04e2bc",
   "metadata": {},
   "source": [
    "# 4. \\W\n",
    "\n",
    "Purpose: Matches any non-word character."
   ]
  },
  {
   "cell_type": "code",
   "execution_count": 415,
   "id": "409b8145",
   "metadata": {},
   "outputs": [],
   "source": [
    "x = 'abcd_1230$#'"
   ]
  },
  {
   "cell_type": "code",
   "execution_count": 416,
   "id": "95297d3e",
   "metadata": {},
   "outputs": [
    {
     "data": {
      "text/plain": [
       "['$#']"
      ]
     },
     "execution_count": 416,
     "metadata": {},
     "output_type": "execute_result"
    }
   ],
   "source": [
    "re.findall(r'\\W+', x)"
   ]
  },
  {
   "cell_type": "markdown",
   "id": "635228e5",
   "metadata": {},
   "source": [
    "# 5. \\s\n",
    "\n",
    "Purpose: Matches any whitespace character (space, tab, newline)."
   ]
  },
  {
   "cell_type": "code",
   "execution_count": 418,
   "id": "46000b2f",
   "metadata": {},
   "outputs": [],
   "source": [
    "x = 'abcd 1230 $#'"
   ]
  },
  {
   "cell_type": "code",
   "execution_count": 419,
   "id": "dd19ac44",
   "metadata": {},
   "outputs": [
    {
     "data": {
      "text/plain": [
       "[' ', ' ']"
      ]
     },
     "execution_count": 419,
     "metadata": {},
     "output_type": "execute_result"
    }
   ],
   "source": [
    "re.findall(r'\\s+', x)"
   ]
  },
  {
   "cell_type": "markdown",
   "id": "d551c926",
   "metadata": {},
   "source": [
    "# 6. \\S\n",
    "\n",
    "Purpose: Matches any non-whitespace character."
   ]
  },
  {
   "cell_type": "code",
   "execution_count": 426,
   "id": "3a63ca66",
   "metadata": {},
   "outputs": [],
   "source": [
    "x = 'abcd_1230 $#'"
   ]
  },
  {
   "cell_type": "code",
   "execution_count": 427,
   "id": "0b48da8e",
   "metadata": {},
   "outputs": [
    {
     "data": {
      "text/plain": [
       "['abcd_1230', '$#']"
      ]
     },
     "execution_count": 427,
     "metadata": {},
     "output_type": "execute_result"
    }
   ],
   "source": [
    "re.findall(r'\\S+', x)"
   ]
  },
  {
   "cell_type": "markdown",
   "id": "f2983bcc",
   "metadata": {},
   "source": [
    "# 7. \\b\n",
    "\n",
    "Purpose: Matches a word boundary (position between a word and a non-word character)."
   ]
  },
  {
   "cell_type": "code",
   "execution_count": 461,
   "id": "a324e914",
   "metadata": {},
   "outputs": [],
   "source": [
    "x =  'abcd'"
   ]
  },
  {
   "cell_type": "code",
   "execution_count": 463,
   "id": "85d3d7a8",
   "metadata": {},
   "outputs": [
    {
     "data": {
      "text/plain": [
       "['abcd']"
      ]
     },
     "execution_count": 463,
     "metadata": {},
     "output_type": "execute_result"
    }
   ],
   "source": [
    "re.findall(r'\\babcd', x)"
   ]
  },
  {
   "cell_type": "code",
   "execution_count": 464,
   "id": "e68689f7",
   "metadata": {},
   "outputs": [
    {
     "data": {
      "text/plain": [
       "['abcd']"
      ]
     },
     "execution_count": 464,
     "metadata": {},
     "output_type": "execute_result"
    }
   ],
   "source": [
    "re.findall(r'abcd\\b', x)"
   ]
  },
  {
   "cell_type": "markdown",
   "id": "6c5e62e6",
   "metadata": {},
   "source": [
    "# 8. \\B\n",
    "\n",
    "Purpose: Matches a non-word boundary."
   ]
  },
  {
   "cell_type": "code",
   "execution_count": 473,
   "id": "0994b010",
   "metadata": {},
   "outputs": [],
   "source": [
    "x =  'abcd'"
   ]
  },
  {
   "cell_type": "code",
   "execution_count": 474,
   "id": "8e3fb57e",
   "metadata": {},
   "outputs": [
    {
     "data": {
      "text/plain": [
       "['d']"
      ]
     },
     "execution_count": 474,
     "metadata": {},
     "output_type": "execute_result"
    }
   ],
   "source": [
    "re.findall(r'\\Bd', x)"
   ]
  },
  {
   "cell_type": "code",
   "execution_count": 475,
   "id": "98e34524",
   "metadata": {},
   "outputs": [
    {
     "data": {
      "text/plain": [
       "['a']"
      ]
     },
     "execution_count": 475,
     "metadata": {},
     "output_type": "execute_result"
    }
   ],
   "source": [
    "re.findall(r'a\\B', x)"
   ]
  },
  {
   "cell_type": "markdown",
   "id": "52c9c86e",
   "metadata": {},
   "source": [
    "# 9. \\A\n",
    "\n",
    "Purpose: Matches the start of the string."
   ]
  },
  {
   "cell_type": "code",
   "execution_count": null,
   "id": "f2d8a167",
   "metadata": {},
   "outputs": [],
   "source": [
    "x = 'abcd'"
   ]
  },
  {
   "cell_type": "code",
   "execution_count": 477,
   "id": "d2b84cb8",
   "metadata": {},
   "outputs": [
    {
     "data": {
      "text/plain": [
       "['a']"
      ]
     },
     "execution_count": 477,
     "metadata": {},
     "output_type": "execute_result"
    }
   ],
   "source": [
    "re.findall(r'\\Aa', x)"
   ]
  },
  {
   "cell_type": "code",
   "execution_count": 478,
   "id": "a08af456",
   "metadata": {},
   "outputs": [
    {
     "data": {
      "text/plain": [
       "[]"
      ]
     },
     "execution_count": 478,
     "metadata": {},
     "output_type": "execute_result"
    }
   ],
   "source": [
    "re.findall(r'\\Ab', x)"
   ]
  },
  {
   "cell_type": "markdown",
   "id": "a15d3d76",
   "metadata": {},
   "source": [
    "# 10. \\Z\n",
    "\n",
    "Purpose: Matches the end of the string."
   ]
  },
  {
   "cell_type": "code",
   "execution_count": 511,
   "id": "677f42f1",
   "metadata": {},
   "outputs": [],
   "source": [
    "x = 'abcd'"
   ]
  },
  {
   "cell_type": "code",
   "execution_count": 513,
   "id": "f95352e8",
   "metadata": {},
   "outputs": [
    {
     "data": {
      "text/plain": [
       "['d']"
      ]
     },
     "execution_count": 513,
     "metadata": {},
     "output_type": "execute_result"
    }
   ],
   "source": [
    "re.findall(r'd\\Z', x)"
   ]
  },
  {
   "cell_type": "code",
   "execution_count": 514,
   "id": "b62e97c7",
   "metadata": {},
   "outputs": [
    {
     "data": {
      "text/plain": [
       "[]"
      ]
     },
     "execution_count": 514,
     "metadata": {},
     "output_type": "execute_result"
    }
   ],
   "source": [
    "re.findall(r'a\\Z', x)"
   ]
  },
  {
   "cell_type": "code",
   "execution_count": null,
   "id": "a96e6730",
   "metadata": {},
   "outputs": [],
   "source": []
  }
 ],
 "metadata": {
  "kernelspec": {
   "display_name": "Python 3 (ipykernel)",
   "language": "python",
   "name": "python3"
  },
  "language_info": {
   "codemirror_mode": {
    "name": "ipython",
    "version": 3
   },
   "file_extension": ".py",
   "mimetype": "text/x-python",
   "name": "python",
   "nbconvert_exporter": "python",
   "pygments_lexer": "ipython3",
   "version": "3.11.5"
  }
 },
 "nbformat": 4,
 "nbformat_minor": 5
}
