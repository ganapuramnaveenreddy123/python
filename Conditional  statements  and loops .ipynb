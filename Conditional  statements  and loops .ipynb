{
 "cells": [
  {
   "cell_type": "markdown",
   "id": "bdf8377a",
   "metadata": {},
   "source": [
    "# Conditional statements :\n",
    "    \n",
    "   Conditional statements in Python allow you to execute certain pieces of code based on whether a condition is true or false."
   ]
  },
  {
   "cell_type": "markdown",
   "id": "c26fe6d3",
   "metadata": {},
   "source": [
    "# 1. if Statement : \n",
    "The if statement is used to test a condition. If the condition is true, the code block under the if statement is executed.\n",
    "\n",
    "# Syntax:\n",
    " if condition:\n",
    " * code to execute if condition is true\n"
   ]
  },
  {
   "attachments": {},
   "cell_type": "markdown",
   "id": "773fc0b6",
   "metadata": {},
   "source": [
    "<img scr= 'attachment:image.png' style = 'height=200px'/>"
   ]
  },
  {
   "attachments": {},
   "cell_type": "markdown",
   "id": "75b5d01c",
   "metadata": {},
   "source": [
    "<img scr=![image.png](attachment:image.png), style=20,30>"
   ]
  },
  {
   "cell_type": "code",
   "execution_count": 2,
   "id": "12b84951",
   "metadata": {},
   "outputs": [
    {
     "name": "stdout",
     "output_type": "stream",
     "text": [
      "enter the age : 18\n",
      "You are an adult.\n"
     ]
    }
   ],
   "source": [
    "age = int(input('enter the age : '))\n",
    "if age >= 18:\n",
    "    print(\"You are an adult.\")\n"
   ]
  },
  {
   "cell_type": "markdown",
   "id": "7d670d4e",
   "metadata": {},
   "source": [
    "# 2. if-else Statement\n",
    "The if-else statement provides an alternative block of code to execute if the condition is false.\n",
    "\n",
    "# syntax :\n",
    "if condition:\n",
    "* code to execute if condition is true\n",
    "\n",
    "else:\n",
    " * code to execute if condition is false"
   ]
  },
  {
   "cell_type": "code",
   "execution_count": 3,
   "id": "7d3f7da9",
   "metadata": {},
   "outputs": [
    {
     "name": "stdout",
     "output_type": "stream",
     "text": [
      "enter the age : 15\n",
      "You are not adult.\n"
     ]
    }
   ],
   "source": [
    "age = int(input('enter the age : '))\n",
    "if age >= 18:\n",
    "    print(\"You are an adult.\")\n",
    "else:\n",
    "    print(\"You are not adult.\")"
   ]
  },
  {
   "cell_type": "markdown",
   "id": "07e87c2d",
   "metadata": {},
   "source": [
    "# 3. if-elif-else Statement\n",
    "The if-elif-else statement allows you to check multiple conditions. The first true condition’s code block is executed.\n",
    "\n",
    "# Syntax:\n",
    "\n",
    "if condition1:\n",
    "* code to execute if condition1 is true\n",
    "\n",
    "elif condition2:\n",
    "* code to execute if condition2 is true\n",
    "\n",
    "else:\n",
    "* code to execute if all conditions are false\n"
   ]
  },
  {
   "cell_type": "code",
   "execution_count": 32,
   "id": "9992bb14",
   "metadata": {},
   "outputs": [
    {
     "name": "stdout",
     "output_type": "stream",
     "text": [
      "enter the age : 91\n",
      "Grade: A\n"
     ]
    }
   ],
   "source": [
    "marks = int(input('enter the age : '))\n",
    "if marks >= 90:\n",
    "    print(\"Grade: A\")\n",
    "elif marks >= 80:\n",
    "    print(\"Grade: B\")\n",
    "elif marks >= 40:\n",
    "    print(\"Grade: C\")\n",
    "elif marks >=35:\n",
    "    print(\"Grade: d\")\n",
    "else:\n",
    "    print('fail')\n"
   ]
  },
  {
   "cell_type": "markdown",
   "id": "5a3d007a",
   "metadata": {},
   "source": [
    "# Nested if-else :\n",
    "Nested if-else statements in Python allow you to have multiple levels of conditions. This means having an if statement inside another if statement, and optionally an else block for each if statement.\n",
    "# syntax :\n",
    "if condition1:\n",
    "  * code to execute if condition1 is true\n",
    "    \n",
    "    if condition2:\n",
    "       * code to execute if both condition1 and condition2 are true\n",
    "        \n",
    "    else:\n",
    "       *  code to execute if condition1 is true but condition2 is false\n",
    "        \n",
    "else:\n",
    "   *  code to execute if condition1 is false\n",
    "\n",
    "\n"
   ]
  },
  {
   "cell_type": "code",
   "execution_count": 29,
   "id": "30e7e0ca",
   "metadata": {},
   "outputs": [
    {
     "name": "stdout",
     "output_type": "stream",
     "text": [
      "enter the age :14\n",
      "You have not been selected due to less age\n"
     ]
    }
   ],
   "source": [
    "age = int(input('enter the age :'))\n",
    "\n",
    "if age >= 18:\n",
    "    print('you are selected for 2nd level')\n",
    "    \n",
    "    height = int(input('enter the heigth in cm'))\n",
    "    if height >= 170:\n",
    "        print('you are selected')\n",
    "    else:\n",
    "        print('you are not selected')\n",
    "else:\n",
    "    print(\"You have not been selected due to less age\")\n",
    "    \n",
    "                    "
   ]
  },
  {
   "cell_type": "markdown",
   "id": "0a1bf381",
   "metadata": {},
   "source": [
    "# problems :\n",
    "    "
   ]
  },
  {
   "cell_type": "markdown",
   "id": "2da88945",
   "metadata": {},
   "source": [
    "1. A company decided to give bonus of 5% to employee if his/her year of service is more than 5 years.\n",
    "      Ask user for their salary and year of service and print the net bonus amount."
   ]
  },
  {
   "cell_type": "code",
   "execution_count": 41,
   "id": "a14e4ef5",
   "metadata": {},
   "outputs": [
    {
     "name": "stdout",
     "output_type": "stream",
     "text": [
      "enter the service :4\n",
      "enter the salary :4000\n",
      "do not get bonus\n"
     ]
    }
   ],
   "source": [
    "service = int(input('enter the service :'))\n",
    "salary = int(input('enter the salary :'))\n",
    "\n",
    "if service>5:\n",
    "    print(\"bonus is\",salary*0.5)\n",
    "else:\n",
    "    print('do not get bonus')"
   ]
  },
  {
   "cell_type": "markdown",
   "id": "61a000bd",
   "metadata": {},
   "source": [
    "* 2.Take values of length and breadth of a rectangle from user and check if it is square or not."
   ]
  },
  {
   "cell_type": "code",
   "execution_count": 43,
   "id": "b976062f",
   "metadata": {},
   "outputs": [
    {
     "name": "stdout",
     "output_type": "stream",
     "text": [
      "enter the length :1\n",
      "enter the breadth :1\n",
      "it is square\n"
     ]
    }
   ],
   "source": [
    "length = int(input('enter the length :'))\n",
    "breadth = int(input('enter the breadth :'))\n",
    "\n",
    "if length == breadth:\n",
    "    print('it is square')\n",
    "else:\n",
    "    print('it is rectangle')"
   ]
  },
  {
   "cell_type": "markdown",
   "id": "62366c15",
   "metadata": {},
   "source": [
    "3. Take two int values from user and print greatest among them."
   ]
  },
  {
   "cell_type": "code",
   "execution_count": 46,
   "id": "914c34bd",
   "metadata": {},
   "outputs": [
    {
     "name": "stdout",
     "output_type": "stream",
     "text": [
      "enter the number x :4\n",
      "enter the number y :5\n",
      "y is grater\n"
     ]
    }
   ],
   "source": [
    "x = int(input('enter the number x :'))\n",
    "y = int(input('enter the number y :'))\n",
    "\n",
    "if x>y:\n",
    "    print('x is greater ')\n",
    "elif y>x:\n",
    "    print('y is grater')\n",
    "else:\n",
    "    print('both are equal')"
   ]
  },
  {
   "cell_type": "markdown",
   "id": "f7077e67",
   "metadata": {},
   "source": [
    "4. A shop will give discount of 10% if the cost of purchased quantity is more than 1000.\n",
    "* Ask user for quantity\n",
    "* Suppose, one unit will cost 100.\n",
    "* Judge and print total cost for user."
   ]
  },
  {
   "cell_type": "code",
   "execution_count": 55,
   "id": "3b788bcb",
   "metadata": {},
   "outputs": [
    {
     "name": "stdout",
     "output_type": "stream",
     "text": [
      "enter the quantity :10\n",
      "discount amount 100.0\n"
     ]
    }
   ],
   "source": [
    "quantity = int(input('enter the quantity :'))\n",
    "unit = 100\n",
    "total_cost = quantity*unit\n",
    "if total_cost>=1000:\n",
    "    (total_cost*0.10)-(total_cost>1000)\n",
    "    print('discount amount',(total_cost*0.10)-(total_cost>1000))\n",
    "else:\n",
    "    print('actual amount ',total_cost )\n",
    "    "
   ]
  },
  {
   "cell_type": "code",
   "execution_count": null,
   "id": "75a4caef",
   "metadata": {},
   "outputs": [],
   "source": []
  },
  {
   "cell_type": "markdown",
   "id": "4be06ade",
   "metadata": {},
   "source": [
    "# Loops :\n",
    "    Loops in Python are used to execute a block of code repeatedly, which is useful for tasks that require repetitive operations. There are two main types of loops in Python: for loops and while loops."
   ]
  },
  {
   "cell_type": "markdown",
   "id": "527e2d6c",
   "metadata": {},
   "source": [
    "# 1. for Loop\n",
    "A for loop is used to iterate over a sequence (such as a list, tuple, dictionary, set, or string) and execute a block of code for each item in the sequence."
   ]
  },
  {
   "cell_type": "markdown",
   "id": "4ba00732",
   "metadata": {},
   "source": [
    "# syntax\n",
    "for item in sequence:\n",
    "   * code to execute for each item\n"
   ]
  },
  {
   "cell_type": "code",
   "execution_count": 98,
   "id": "6c14cc47",
   "metadata": {},
   "outputs": [
    {
     "name": "stdout",
     "output_type": "stream",
     "text": [
      "1\n",
      "2\n",
      "3\n",
      "4\n",
      "5\n"
     ]
    }
   ],
   "source": [
    "numbers = [1, 2, 3, 4, 5]\n",
    "for i in numbers:\n",
    "    print(i)\n"
   ]
  },
  {
   "cell_type": "markdown",
   "id": "3f51cdd5",
   "metadata": {},
   "source": [
    "# 2. while Loop\n",
    "A while loop is used to repeatedly execute a block of code as long as a condition is true.\n",
    "\n",
    "# syntax\n",
    "\n",
    "while condition:\n",
    "   * code to execute as long as condition is true\n"
   ]
  },
  {
   "cell_type": "code",
   "execution_count": 99,
   "id": "9216dc4b",
   "metadata": {},
   "outputs": [
    {
     "name": "stdout",
     "output_type": "stream",
     "text": [
      "1\n",
      "2\n",
      "3\n",
      "4\n",
      "5\n"
     ]
    }
   ],
   "source": [
    "i = 1\n",
    "while i <= 5:\n",
    "    print(i)\n",
    "    i += 1\n"
   ]
  },
  {
   "cell_type": "markdown",
   "id": "4d14bf44",
   "metadata": {},
   "source": [
    "# 3. Nested Loops:\n",
    "    You can also have loops inside loops, which are called nested loops.\n",
    "# syntax :\n",
    "for outer_variable in outer_sequence:\n",
    "\n",
    "    for inner_variable in inner_sequence:\n",
    "    \n",
    "        # Code to execute in the inner loop\n",
    "    # Code to execute in the outer loop\n"
   ]
  },
  {
   "cell_type": "code",
   "execution_count": 97,
   "id": "9bafc92a",
   "metadata": {
    "scrolled": true
   },
   "outputs": [
    {
     "name": "stdout",
     "output_type": "stream",
     "text": [
      "4 x 1 = 4\n",
      "4 x 2 = 8\n",
      "4 x 3 = 12\n",
      "4 x 4 = 16\n",
      "4 x 5 = 20\n",
      "4 x 6 = 24\n",
      "4 x 7 = 28\n",
      "4 x 8 = 32\n",
      "4 x 9 = 36\n",
      "4 x 10 = 40\n"
     ]
    }
   ],
   "source": [
    "for i in range(4,5):  \n",
    "    for j in range(1, 11):  \n",
    "        print(f\"{i} x {j} = {i * j}\")"
   ]
  }
 ],
 "metadata": {
  "kernelspec": {
   "display_name": "Python 3 (ipykernel)",
   "language": "python",
   "name": "python3"
  },
  "language_info": {
   "codemirror_mode": {
    "name": "ipython",
    "version": 3
   },
   "file_extension": ".py",
   "mimetype": "text/x-python",
   "name": "python",
   "nbconvert_exporter": "python",
   "pygments_lexer": "ipython3",
   "version": "3.11.5"
  }
 },
 "nbformat": 4,
 "nbformat_minor": 5
}
