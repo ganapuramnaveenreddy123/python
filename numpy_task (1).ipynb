{
 "cells": [
  {
   "cell_type": "code",
   "execution_count": 6,
   "id": "3f19a001",
   "metadata": {},
   "outputs": [],
   "source": [
    "import numpy as np"
   ]
  },
  {
   "cell_type": "code",
   "execution_count": 7,
   "id": "ada7b8c8",
   "metadata": {},
   "outputs": [],
   "source": [
    "from numpy import genfromtxt"
   ]
  },
  {
   "cell_type": "code",
   "execution_count": 8,
   "id": "61a7c68b",
   "metadata": {},
   "outputs": [],
   "source": [
    "fpath = r'C:\\Users\\Lenova\\Desktop\\pythonlkm\\tipsf.csv'"
   ]
  },
  {
   "cell_type": "code",
   "execution_count": 9,
   "id": "f799aaf6",
   "metadata": {},
   "outputs": [],
   "source": [
    "data = np.genfromtxt(fpath, delimiter= ',',skip_header = True)"
   ]
  },
  {
   "cell_type": "code",
   "execution_count": 10,
   "id": "7c75b4ac",
   "metadata": {},
   "outputs": [
    {
     "data": {
      "text/plain": [
       "array([[  0.  ,  16.99,   1.01, ...,   1.  ,   0.  ,   2.  ],\n",
       "       [  1.  ,  10.34,   1.66, ...,   1.  ,   0.  ,   3.  ],\n",
       "       [  2.  ,  21.01,   3.5 , ...,   1.  ,   0.  ,   3.  ],\n",
       "       ...,\n",
       "       [241.  ,  22.67,   2.  , ...,   0.  ,   0.  ,   2.  ],\n",
       "       [242.  ,  17.82,   1.75, ...,   0.  ,   0.  ,   2.  ],\n",
       "       [243.  ,  18.78,   3.  , ...,   2.  ,   0.  ,   2.  ]])"
      ]
     },
     "execution_count": 10,
     "metadata": {},
     "output_type": "execute_result"
    }
   ],
   "source": [
    "data"
   ]
  },
  {
   "cell_type": "markdown",
   "id": "311821aa",
   "metadata": {},
   "source": [
    "# 1. what is the total bill value ?"
   ]
  },
  {
   "cell_type": "code",
   "execution_count": 11,
   "id": "832bf8d8",
   "metadata": {},
   "outputs": [
    {
     "data": {
      "text/plain": [
       "4827.77"
      ]
     },
     "execution_count": 11,
     "metadata": {},
     "output_type": "execute_result"
    }
   ],
   "source": [
    "total_bill = np.sum(data[:,1])\n",
    "total_bill"
   ]
  },
  {
   "cell_type": "markdown",
   "id": "529772f1",
   "metadata": {},
   "source": [
    "# 2. what is the total tip value ?"
   ]
  },
  {
   "cell_type": "code",
   "execution_count": 12,
   "id": "75ca19c2",
   "metadata": {},
   "outputs": [
    {
     "data": {
      "text/plain": [
       "731.5799999999999"
      ]
     },
     "execution_count": 12,
     "metadata": {},
     "output_type": "execute_result"
    }
   ],
   "source": [
    "tip = np.sum(data[:,2])\n",
    "tip"
   ]
  },
  {
   "cell_type": "markdown",
   "id": "cad9771b",
   "metadata": {},
   "source": [
    "# 3. count how many sun,sat,thur,fri are there ?"
   ]
  },
  {
   "cell_type": "code",
   "execution_count": 69,
   "id": "cb71de5b",
   "metadata": {},
   "outputs": [
    {
     "name": "stdout",
     "output_type": "stream",
     "text": [
      "sunday: 87\n",
      "saturday: 76\n",
      "thursday: 62\n",
      "friday: 19\n"
     ]
    }
   ],
   "source": [
    "days = data[: ,5]\n",
    "x, y = np.unique(days, return_counts = True)\n",
    "zip(x,y)\n",
    "print('sunday:' ,y[0])\n",
    "print('saturday:' ,y[1])\n",
    "print('thursday:' ,y[2])\n",
    "print('friday:' ,y[3])\n"
   ]
  },
  {
   "cell_type": "markdown",
   "id": "35516fbd",
   "metadata": {},
   "source": [
    "# 4. how many smokers are there ?"
   ]
  },
  {
   "cell_type": "code",
   "execution_count": 98,
   "id": "c39779db",
   "metadata": {},
   "outputs": [
    {
     "data": {
      "text/plain": [
       "93.0"
      ]
     },
     "execution_count": 98,
     "metadata": {},
     "output_type": "execute_result"
    }
   ],
   "source": [
    "smokers=data[:,4]\n",
    "x=np.unique(smokers)\n",
    "sum(smokers)"
   ]
  },
  {
   "cell_type": "markdown",
   "id": "48668a5c",
   "metadata": {},
   "source": [
    "# 5. what is the average tip given by female and male ?"
   ]
  },
  {
   "cell_type": "code",
   "execution_count": 111,
   "id": "fe656183",
   "metadata": {},
   "outputs": [
    {
     "name": "stdout",
     "output_type": "stream",
     "text": [
      "2.8334482758620685\n",
      "3.0896178343949043\n"
     ]
    }
   ],
   "source": [
    "tip=data[:,2]\n",
    "sex=data[:,3]\n",
    "men=np.mean(tip[sex==0])\n",
    "print(men)\n",
    "female=np.mean(tip[sex==1])\n",
    "print(female)"
   ]
  },
  {
   "cell_type": "markdown",
   "id": "e2dfbbc4",
   "metadata": {},
   "source": [
    "# 6. how much amount have been spent by female and male ?"
   ]
  },
  {
   "cell_type": "code",
   "execution_count": 121,
   "id": "562288cb",
   "metadata": {},
   "outputs": [
    {
     "name": "stdout",
     "output_type": "stream",
     "text": [
      "1570.9499999999996\n",
      "3256.8199999999997\n"
     ]
    }
   ],
   "source": [
    "total_bill = data[:,1]\n",
    "sex=data[:,3]\n",
    "male=np.sum(total_bill[sex==0])\n",
    "print(male)\n",
    "female=np.sum(total_bill[sex==1])\n",
    "print(female)"
   ]
  },
  {
   "cell_type": "markdown",
   "id": "2a17cc0a",
   "metadata": {},
   "source": [
    "# 7. What is the min and max tip given ?"
   ]
  },
  {
   "cell_type": "code",
   "execution_count": 126,
   "id": "bb7cf544",
   "metadata": {},
   "outputs": [
    {
     "data": {
      "text/plain": [
       "1.0"
      ]
     },
     "execution_count": 126,
     "metadata": {},
     "output_type": "execute_result"
    }
   ],
   "source": [
    "tip=data[:,2]\n",
    "tip.min()"
   ]
  },
  {
   "cell_type": "code",
   "execution_count": 127,
   "id": "e3d6676f",
   "metadata": {},
   "outputs": [
    {
     "data": {
      "text/plain": [
       "10.0"
      ]
     },
     "execution_count": 127,
     "metadata": {},
     "output_type": "execute_result"
    }
   ],
   "source": [
    "tip=data[:,2]\n",
    "tip.max()"
   ]
  },
  {
   "cell_type": "markdown",
   "id": "25f52210",
   "metadata": {},
   "source": [
    "# 8.How many Male and Females are going for Lunch and Dinner ?\n"
   ]
  },
  {
   "cell_type": "code",
   "execution_count": 147,
   "id": "d7410a49",
   "metadata": {},
   "outputs": [
    {
     "name": "stdout",
     "output_type": "stream",
     "text": [
      "33\n",
      "124\n"
     ]
    }
   ],
   "source": [
    "time=data[:,6]\n",
    "sex=data[:,3]\n",
    "male=np.sum((time==1)&(sex==1))\n",
    "print(male)\n",
    "female=np.sum((time==0)&(sex==1))\n",
    "print(female)"
   ]
  },
  {
   "cell_type": "code",
   "execution_count": 148,
   "id": "a771ced5",
   "metadata": {},
   "outputs": [
    {
     "name": "stdout",
     "output_type": "stream",
     "text": [
      "52\n",
      "124\n"
     ]
    }
   ],
   "source": [
    "time=data[:,6]\n",
    "sex=data[:,3]\n",
    "male=np.sum((time==0)&(sex==0))\n",
    "print(male)\n",
    "female=np.sum((time==0)&(sex==1))\n",
    "print(female)"
   ]
  },
  {
   "cell_type": "markdown",
   "id": "5ba25996",
   "metadata": {},
   "source": [
    "# 9. find out the average size ?"
   ]
  },
  {
   "cell_type": "code",
   "execution_count": 152,
   "id": "61283162",
   "metadata": {},
   "outputs": [
    {
     "data": {
      "text/plain": [
       "2.569672131147541"
      ]
     },
     "execution_count": 152,
     "metadata": {},
     "output_type": "execute_result"
    }
   ],
   "source": [
    "size=data[:,7]\n",
    "np.mean(size)"
   ]
  },
  {
   "cell_type": "markdown",
   "id": "2cc3afbd",
   "metadata": {},
   "source": [
    "# 10. How many Female smokers are there and Male smokers are there ?"
   ]
  },
  {
   "cell_type": "code",
   "execution_count": 156,
   "id": "6abcff8b",
   "metadata": {},
   "outputs": [
    {
     "name": "stdout",
     "output_type": "stream",
     "text": [
      "33\n",
      "97\n"
     ]
    }
   ],
   "source": [
    "smokers=data[:,4]\n",
    "sex=data[:,3]\n",
    "male=np.sum((smokers==1)&(sex==0))\n",
    "print(male)\n",
    "female=np.sum((smokers==0)&(sex==1))\n",
    "print(female)"
   ]
  },
  {
   "cell_type": "code",
   "execution_count": null,
   "id": "070b0b16",
   "metadata": {},
   "outputs": [],
   "source": []
  }
 ],
 "metadata": {
  "kernelspec": {
   "display_name": "Python 3 (ipykernel)",
   "language": "python",
   "name": "python3"
  },
  "language_info": {
   "codemirror_mode": {
    "name": "ipython",
    "version": 3
   },
   "file_extension": ".py",
   "mimetype": "text/x-python",
   "name": "python",
   "nbconvert_exporter": "python",
   "pygments_lexer": "ipython3",
   "version": "3.11.5"
  }
 },
 "nbformat": 4,
 "nbformat_minor": 5
}
