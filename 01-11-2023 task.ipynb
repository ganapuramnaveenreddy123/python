{
 "cells": [
  {
   "cell_type": "markdown",
   "id": "c6feb947",
   "metadata": {},
   "source": [
    "# 10. Create rock-paper-scissors by using the if condition.\n"
   ]
  },
  {
   "cell_type": "code",
   "execution_count": 2,
   "id": "f26e6287",
   "metadata": {},
   "outputs": [
    {
     "name": "stdout",
     "output_type": "stream",
     "text": [
      "enter a's input rock or paper or scissor:rock\n",
      "enter b's input rock or paper or scissor:paper\n",
      "b win\n"
     ]
    }
   ],
   "source": [
    "r='rock'\n",
    "p='paper'\n",
    "s='scissor' ##You define the variables r, p, and s to represent the choices 'rock', 'paper', and 'scissor' respectively.\n",
    "x=('rock,paper,scissor') ##You create a tuple x containing the valid choices.\n",
    "a=input('enter a\\'s input rock or paper or scissor:')\n",
    "b=input('enter b\\'s input rock or paper or scissor:') ##If both inputs are valid, you proceed to check the combinations of choices to determine the winner and print the result.\n",
    "if a in x and b in x:  ## Determine the winner using if conditions\n",
    "    if a==r and b==p:\n",
    "        print('b win')\n",
    "    elif a==r and b==s:\n",
    "        print('a win')\n",
    "    elif a==p  and b==s:\n",
    "        print('b win')\n",
    "    elif  a==p and b==r:\n",
    "        print('a win')\n",
    "    elif a==s and b==r:\n",
    "        print('b win')\n",
    "    elif a==s  and b==p:\n",
    "        print('a win')\n",
    "    elif a==r and b==r:\n",
    "        print('both wins')\n",
    "    elif a==p and b==p:\n",
    "        print('both wins')\n",
    "    elif a==s and b==s:\n",
    "        print('both wins')\n",
    "else :\n",
    "    print('enter valide name') ##If either of the inputs is not valid, you print a message asking the user to enter a valid name."
   ]
  },
  {
   "cell_type": "markdown",
   "id": "57d6c181",
   "metadata": {},
   "source": [
    "\n"
   ]
  },
  {
   "cell_type": "markdown",
   "id": "ad578aa7",
   "metadata": {},
   "source": [
    "# 11. Create a dynamic calculator which asks for numbers and operator and return the answers,\n",
    "\n",
    "             Example:\n",
    "    Input: Type first number: 10\",\n",
    "    Type any of this (+, -, *, /, %, **): ,*\n",
    "    Assignment-2 ,\n",
    "   Type second number: 19,\n",
    "    Output:Answer is 190\n"
   ]
  },
  {
   "cell_type": "code",
   "execution_count": 5,
   "id": "772e2a73",
   "metadata": {},
   "outputs": [
    {
     "name": "stdout",
     "output_type": "stream",
     "text": [
      "enter frist number: 10\n",
      "enter secomd number: 20\n",
      "enter the operators  (+,-,*,/,%,**)%\n",
      "10\n"
     ]
    }
   ],
   "source": [
    "a = int(input(\"enter frist number: \"))\n",
    "b = int(input(\"enter secomd number: \")) ##You use the input function to get the first number (a), the second number (b), and the operator (c) from the user.\n",
    "c = input(\"enter the operators  (+,-,*,/,%,**)\")\n",
    "  ##You use if and elif statements to check the value of the operator (c) and perform the corresponding operation.\n",
    "    \n",
    "if c=='+': ##If the operator is '+', you add a and b.\n",
    "    print(a+b)\n",
    "elif c=='-': ##If the operator is '-', you subtract b from a.\n",
    "    print(a-b)\n",
    "elif c=='*': ##If the operator is '*', you multiply a and b.\n",
    "    print(a*b)\n",
    "elif c=='/':  ##If the operator is '/', you divide a by b.\n",
    "    print(a/b)\n",
    "elif c=='%': ##If the operator is '%', you calculate the remainder of a divided by b.\n",
    "    print(a%b)\n",
    "elif c=='**': ##If the operator is '**', you calculate a raised to the power of b.\n",
    "    print(a**b)\n",
    "else:\n",
    "    print('invalid operator') ##If the operator is none of the valid operators, you print \"invalid operator.\""
   ]
  },
  {
   "cell_type": "code",
   "execution_count": 6,
   "id": "25a50120",
   "metadata": {},
   "outputs": [
    {
     "name": "stdout",
     "output_type": "stream",
     "text": [
      "enter frist number: 52\n",
      "enter secomd number: 35\n",
      "enter the operators  (+,-,*,/,%,**)*\n",
      "1820\n"
     ]
    }
   ],
   "source": [
    "a = int(input(\"enter frist number: \"))\n",
    "b = int(input(\"enter secomd number: \"))  ##You use the input function to get the first number (a), the second number (b), and the operator (c) from the user.\n",
    "c = input(\"enter the operators  (+,-,*,/,%,**)\")\n",
    "\n",
    "if c=='+': ##If the operator is '+', you add a and b.\n",
    "    print(a+b)\n",
    "elif c=='-': ##If the operator is '-', you subtract b from a.\n",
    "    print(a-b)\n",
    "elif c=='*': ##If the operator is '*', you multiply a and b.\n",
    "    print(a*b)\n",
    "elif c=='/': ##If the operator is '/', you divide a by b.\n",
    "    print(a/b)\n",
    "elif c=='%': ##If the operator is '%', you calculate the remainder of a divided by b.\n",
    "    print(a%b)\n",
    "elif c=='**': ##If the operator is '**', you calculate a raised to the power of b.\n",
    "    print(a**b)\n",
    "else:\n",
    "    print('invalid operator')  ##If the operator is none of the valid operators, you print \"invalid operator.\"\n",
    "    "
   ]
  },
  {
   "cell_type": "markdown",
   "id": "97a2a24e",
   "metadata": {},
   "source": [
    "# 12. Manoj Kumar has family and friends. Help him remind them who is who. Given a string with a name, return the relation of that person to Manoj Kumar.,\n",
    " Person Relation,\n",
    "    \n",
    " (Shiva father ,Letha mother, Tarun brother,Kavitha sister ,,Strange Coder.)\n"
   ]
  },
  {
   "cell_type": "code",
   "execution_count": 9,
   "id": "367cbd23",
   "metadata": {},
   "outputs": [
    {
     "name": "stdout",
     "output_type": "stream",
     "text": [
      "enter name: shiva\n",
      "father\n"
     ]
    }
   ],
   "source": [
    " x = input('enter name: ') ##You use the input function to get a name (x) from the user.\n",
    "y = ('shiva', 'letha','tarun', 'kavitha', )  ##You have a predefined tuple y containing a list of names.\n",
    "\n",
    "if x in y:  ##You check if the input name (x) is in the list of names (y) using the in operator.\n",
    "    if x == 'shiva':  ##If the input name is 'shiva', it prints 'father'. \n",
    "        print('father')\n",
    "    elif x =='letha': ## If it's 'letha', it prints 'mother'.\n",
    "        print('mother')\n",
    "    elif x == 'tarun':  ## If it's 'tarun', it prints 'brother'\n",
    "        print('brother')\n",
    "    elif x == 'kavitha':  ##If it's 'kavitha', it prints 'sister'.\n",
    "        print('sister')\n",
    "    elif x == 'stanger':  ##If it's 'stranger', it prints 'coder'.\n",
    "        print('coder')\n",
    "else: \n",
    "  print('invalid name ') ## it prints 'invalid name'."
   ]
  },
  {
   "cell_type": "code",
   "execution_count": 11,
   "id": "9f56a7ab",
   "metadata": {},
   "outputs": [
    {
     "name": "stdout",
     "output_type": "stream",
     "text": [
      "enter name: Shiva\n",
      "invalid name \n"
     ]
    }
   ],
   "source": [
    " x = input('enter name: ').lower\n",
    "y = ('shiva', 'letha','tarun', 'kavitha', )\n",
    "if x in y:\n",
    "    if x == 'shiva':\n",
    "        print('father')\n",
    "    elif x =='letha':\n",
    "        print('mother')\n",
    "    elif x == 'tarun':\n",
    "        print('brother')\n",
    "    elif x == 'kavitha':\n",
    "        print('sister')\n",
    "    elif x == 'stanger':\n",
    "        print('coder')\n",
    "else:\n",
    "    print('invalid name ')"
   ]
  },
  {
   "cell_type": "markdown",
   "id": "0763c64a",
   "metadata": {},
   "source": [
    "# 13. Write a python program that takes in a word and determines whether or not it is plural. A plural word is one that ends with “s”\n"
   ]
  },
  {
   "cell_type": "code",
   "execution_count": null,
   "id": "eee71e4c",
   "metadata": {},
   "outputs": [],
   "source": []
  },
  {
   "cell_type": "code",
   "execution_count": 22,
   "id": "c850899d",
   "metadata": {},
   "outputs": [
    {
     "name": "stdout",
     "output_type": "stream",
     "text": [
      "Enter a word: nanis\n",
      "word is plural\n"
     ]
    }
   ],
   "source": [
    "word = input(\"Enter a word: \")  ##You use the input function to get a word from the user and store it in the word variable.\n",
    "\n",
    "if word.endswith('s'):  #You use an if statement to check if the word ends with the letter 's' using the endswith method.\n",
    "    print('word is plural')\n",
    "elif not word.endswith('s'): ##However, the elif not word.endswith('s') part is unnecessary \n",
    "    print('word is not plural')\n",
    "else:\n",
    "    print('enter correct word') ##The else part is used to catch any unexpected input that doesn't match either of the previous conditions and prints 'enter correct word'."
   ]
  },
  {
   "cell_type": "markdown",
   "id": "f7537fb6",
   "metadata": {},
   "source": [
    "# 14. A company decided to give a bonus of 5% to employees if his/her year of service is more than 5 years.Ask user for their salary and year of service and print the net bonus amount.\n"
   ]
  },
  {
   "cell_type": "code",
   "execution_count": 30,
   "id": "d8803180",
   "metadata": {},
   "outputs": [
    {
     "name": "stdout",
     "output_type": "stream",
     "text": [
      "Enter the employee's salary: 20000\n",
      "Enter the employee's years of service: 4\n",
      "No bonus for less than 5 years.\n"
     ]
    }
   ],
   "source": [
    "a = float(input(\"Enter the employee's salary: \"))\n",
    "b = int(input(\"Enter the employee's years of service: \"))\n",
    "  ##You use the input function to get the employee's salary and years of service from the user and store them in the variables a and b, respectively.\n",
    "    \n",
    "if b >= 5:  #You use an if statement to check if the years of service (b) are greater than or equal to 5.\n",
    "    print(\"The bonus amount is:\",a+(5/100*a))  ##the bonus as 5% of the salary (i.e., 5/100 * a) and add it to the salary. Then, you print the total amount including the bonus.\n",
    "else:\n",
    "    print(\"No bonus for less than 5 years.\") ##If the years of service are less than 5, you print \"No bonus for less than 5 years.\"\n"
   ]
  },
  {
   "cell_type": "code",
   "execution_count": 31,
   "id": "2635efb0",
   "metadata": {},
   "outputs": [
    {
     "name": "stdout",
     "output_type": "stream",
     "text": [
      "Enter the employee's salary: 20000\n",
      "Enter the employee's years of service: 7\n",
      "The bonus amount is: 21000.0\n"
     ]
    }
   ],
   "source": [
    "a = float(input(\"Enter the employee's salary: \"))\n",
    "b = int(input(\"Enter the employee's years of service: \"))\n",
    "##You use the input function to get the employee's salary and years of service from the user and store them in the variables a and b, respectively.\n",
    "\n",
    "if b >= 5: ##You use an if statement to check if the years of service (b) are greater than or equal to 5.\n",
    "    print(\"The bonus amount is:\",a+(5/100*a))  ##the bonus as 5% of the salary (i.e., 5/100 * a) and add it to the salary. Then, you print the total amount including the bonus.\n",
    "else:\n",
    "    print(\"No bonus for less than 5 years.\") #3If the years of service are less than 5, you print \"No bonus for less than 5 years.\"\n",
    "\n",
    "    "
   ]
  },
  {
   "cell_type": "markdown",
   "id": "952023db",
   "metadata": {},
   "source": [
    "# 15. Take values of length and breadth of a rectangle from the user and check if it is square or not.\n"
   ]
  },
  {
   "cell_type": "code",
   "execution_count": 3,
   "id": "72dec33b",
   "metadata": {},
   "outputs": [
    {
     "name": "stdout",
     "output_type": "stream",
     "text": [
      "Enter the length of the rectangle: 10\n",
      "Enter the breadth of the rectangle: 10\n",
      "It's a square.\n"
     ]
    }
   ],
   "source": [
    "length = int(input(\"Enter the length of the rectangle: \"))\n",
    "breadth = int(input(\"Enter the breadth of the rectangle: \")) ##input from the user and then checks whether it's a square based on the equality of the length and breadth. \n",
    "\n",
    "if length == breadth: ##If the length and breadth are equal\n",
    "    print(\"It's a square.\") ##, it prints \"It's a square,\n",
    "else:\n",
    "    print(\"It's not a square.\") ## it prints \"It's not a square.\""
   ]
  },
  {
   "cell_type": "code",
   "execution_count": 4,
   "id": "bb1313d8",
   "metadata": {},
   "outputs": [
    {
     "name": "stdout",
     "output_type": "stream",
     "text": [
      "Enter the length of the rectangle: 10\n",
      "Enter the breadth of the rectangle: 52\n",
      "It's not a square.\n"
     ]
    }
   ],
   "source": [
    "length = int(input(\"Enter the length of the rectangle: \"))\n",
    "breadth = int(input(\"Enter the breadth of the rectangle: \"))\n",
    "\n",
    "if length == breadth:\n",
    "    print(\"It's a square.\")\n",
    "else:\n",
    "    print(\"It's not a square.\")"
   ]
  },
  {
   "cell_type": "markdown",
   "id": "9fee2359",
   "metadata": {},
   "source": [
    "# 16. Accept any city from the user and display the momentum of the city \n",
    " * Hyderabad  : “charminar”\n",
    "* “Delhi”         : “red fort\n",
    "* “Agra           : Taj mahal\n",
    "* If the city name is not given correctly, give him a warning message.\n"
   ]
  },
  {
   "cell_type": "code",
   "execution_count": 16,
   "id": "c00499b5",
   "metadata": {},
   "outputs": [
    {
     "name": "stdout",
     "output_type": "stream",
     "text": [
      "enter city name: agra\n",
      "taj mahal\n"
     ]
    }
   ],
   "source": [
    "x = input('enter city name: ').lower() ##You use the input function to get a city name from the user and store it in the variable x. \n",
    "y = ('hyderabad','delhi','agra')  ##You have a predefined tuple y containing a list of city names.\n",
    "\n",
    "if x in y: ##You check if the input city name (x) is in the list of cities (y) using the in operator.\n",
    "    if x =='hyderabad':  ##If the city is 'hyderabad', it prints 'charminar'.\n",
    "        print('charminar')\n",
    "    elif x == 'delhi':   ##If it's 'delhi', it prints 'red fort'.\n",
    "        print('red fort')\n",
    "    elif x== 'agra':  ##it's 'agra', it prints 'taj mahal'.\n",
    "        print('taj mahal')\n",
    "else:\n",
    "    print('invalid city ')  ##If the input city name is not in the list, it prints 'invalid city'."
   ]
  },
  {
   "cell_type": "code",
   "execution_count": 17,
   "id": "4b58273a",
   "metadata": {},
   "outputs": [
    {
     "name": "stdout",
     "output_type": "stream",
     "text": [
      "enter city name: vikarabad\n",
      "invalid city \n"
     ]
    }
   ],
   "source": [
    "x = input('enter city name: ').lower()\n",
    "y = ('hyderabad','delhi','agra')\n",
    "if x in y:\n",
    "    if x =='hyderabad':\n",
    "        print('charminar')\n",
    "    elif x == 'delhi':\n",
    "        print('red fort')\n",
    "    elif x== 'agra':\n",
    "        print('taj mahal')\n",
    "else:\n",
    "    print('invalid city ')"
   ]
  },
  {
   "cell_type": "markdown",
   "id": "52b8258f",
   "metadata": {},
   "source": [
    "# 17. Write a program to check whether a person is eligible for voting or not  (voting age>=18).\n"
   ]
  },
  {
   "cell_type": "code",
   "execution_count": 22,
   "id": "5a97fe93",
   "metadata": {},
   "outputs": [
    {
     "name": "stdout",
     "output_type": "stream",
     "text": [
      "enter age for voting 18\n",
      "elgiblr for vote\n"
     ]
    }
   ],
   "source": [
    "x = int(input('enter age for voting '))\n",
    "if x>=18: ##if statement to determine eligibility. If the age is 18 or older\n",
    "    print('elgiblr for vote' )  ## it prints \"eligible for vote\"; \n",
    "else:\n",
    "    print('not eligible for vote')  ##it prints \"not eligible for vote.\"\n",
    "    "
   ]
  },
  {
   "cell_type": "code",
   "execution_count": 23,
   "id": "14771f5f",
   "metadata": {},
   "outputs": [
    {
     "name": "stdout",
     "output_type": "stream",
     "text": [
      "enter age for voting 1\n",
      "not eligible for vote\n"
     ]
    }
   ],
   "source": [
    "x = int(input('enter age for voting '))\n",
    "if x>=18:\n",
    "    print('eligible for vote' )\n",
    "else:\n",
    "    print('not eligible for vote')\n",
    "    "
   ]
  },
  {
   "cell_type": "markdown",
   "id": "940f9ad9",
   "metadata": {},
   "source": [
    "# 18. Accept three sides of the triangle and check whether the triangle is possible or not.(Triangle is possible only when the sum of any two sides is greater than 3 rd side).\n"
   ]
  },
  {
   "cell_type": "code",
   "execution_count": 32,
   "id": "baedd1c9",
   "metadata": {},
   "outputs": [
    {
     "name": "stdout",
     "output_type": "stream",
     "text": [
      "Enter the length of the first side: 10\n",
      "Enter the length of the second side: 10\n",
      "Enter the length of the third side: 10\n",
      "It's a possible triangle.\n"
     ]
    }
   ],
   "source": [
    "a = int(input(\"Enter the length of the first side: \"))\n",
    "b = int(input(\"Enter the length of the second side: \"))\n",
    "c = int(input(\"Enter the length of the third side: \"))\n",
    "##You use the input function to get the lengths of the three sides of the triangle (a, b, and c) from the user.\n",
    "\n",
    "if (a + b > c) and (a + c > b) and (b + c > a): ##You use an if statement to check if the sum of the lengths of any two sides is greater than the length of the third side for all three possible combinations.\n",
    "    print(\"It's a possible triangle.\")  ##it prints \"It's a possible triangle.\"\n",
    "else:\n",
    "    print(\"It's not a possible triangle.\") ##it prints \"It's not a possible triangle.\"\n",
    "          "
   ]
  },
  {
   "cell_type": "code",
   "execution_count": 33,
   "id": "7e553cd1",
   "metadata": {},
   "outputs": [
    {
     "name": "stdout",
     "output_type": "stream",
     "text": [
      "Enter the length of the first side: 10\n",
      "Enter the length of the second side: 16\n",
      "Enter the length of the third side: 02\n",
      "It's not a possible triangle.\n"
     ]
    }
   ],
   "source": [
    "a = int(input(\"Enter the length of the first side: \"))\n",
    "b = int(input(\"Enter the length of the second side: \"))\n",
    "c = int(input(\"Enter the length of the third side: \"))\n",
    "\n",
    "if (a + b > c) and (a + c > b) and (b + c > a):\n",
    "    print(\"It's a possible triangle.\")\n",
    "else:\n",
    "    print(\"It's not a possible triangle.\")"
   ]
  },
  {
   "cell_type": "code",
   "execution_count": null,
   "id": "dbefa443",
   "metadata": {},
   "outputs": [],
   "source": []
  },
  {
   "cell_type": "code",
   "execution_count": null,
   "id": "1e2f4293",
   "metadata": {},
   "outputs": [],
   "source": []
  },
  {
   "cell_type": "code",
   "execution_count": null,
   "id": "95e2e34a",
   "metadata": {},
   "outputs": [],
   "source": []
  },
  {
   "cell_type": "code",
   "execution_count": null,
   "id": "977612fe",
   "metadata": {},
   "outputs": [],
   "source": []
  },
  {
   "cell_type": "code",
   "execution_count": null,
   "id": "cbc5c549",
   "metadata": {},
   "outputs": [],
   "source": []
  },
  {
   "cell_type": "code",
   "execution_count": null,
   "id": "975f11d6",
   "metadata": {},
   "outputs": [],
   "source": []
  },
  {
   "cell_type": "code",
   "execution_count": null,
   "id": "00283fd6",
   "metadata": {},
   "outputs": [],
   "source": []
  },
  {
   "cell_type": "code",
   "execution_count": null,
   "id": "7e82ceed",
   "metadata": {},
   "outputs": [],
   "source": []
  },
  {
   "cell_type": "code",
   "execution_count": null,
   "id": "fe5a4cc4",
   "metadata": {},
   "outputs": [],
   "source": []
  },
  {
   "cell_type": "code",
   "execution_count": null,
   "id": "a85e46a3",
   "metadata": {},
   "outputs": [],
   "source": []
  },
  {
   "cell_type": "code",
   "execution_count": null,
   "id": "52ba9db5",
   "metadata": {},
   "outputs": [],
   "source": []
  },
  {
   "cell_type": "code",
   "execution_count": null,
   "id": "242bf051",
   "metadata": {},
   "outputs": [],
   "source": []
  },
  {
   "cell_type": "code",
   "execution_count": null,
   "id": "c667cdf8",
   "metadata": {},
   "outputs": [],
   "source": []
  },
  {
   "cell_type": "code",
   "execution_count": null,
   "id": "5cb489a2",
   "metadata": {},
   "outputs": [],
   "source": []
  },
  {
   "cell_type": "code",
   "execution_count": null,
   "id": "bb1639c6",
   "metadata": {},
   "outputs": [],
   "source": []
  },
  {
   "cell_type": "code",
   "execution_count": null,
   "id": "5df70bfa",
   "metadata": {},
   "outputs": [],
   "source": []
  },
  {
   "cell_type": "code",
   "execution_count": null,
   "id": "dd1ddf04",
   "metadata": {},
   "outputs": [],
   "source": []
  },
  {
   "cell_type": "code",
   "execution_count": null,
   "id": "86a5a476",
   "metadata": {},
   "outputs": [],
   "source": []
  },
  {
   "cell_type": "code",
   "execution_count": null,
   "id": "a99864f6",
   "metadata": {},
   "outputs": [],
   "source": []
  },
  {
   "cell_type": "code",
   "execution_count": null,
   "id": "3f9cf2a9",
   "metadata": {},
   "outputs": [],
   "source": []
  },
  {
   "cell_type": "code",
   "execution_count": null,
   "id": "ee99afbe",
   "metadata": {},
   "outputs": [],
   "source": []
  },
  {
   "cell_type": "code",
   "execution_count": null,
   "id": "3ebfaa0e",
   "metadata": {},
   "outputs": [],
   "source": []
  },
  {
   "cell_type": "code",
   "execution_count": null,
   "id": "4ce7ac6e",
   "metadata": {},
   "outputs": [],
   "source": []
  },
  {
   "cell_type": "code",
   "execution_count": null,
   "id": "98cf8fbf",
   "metadata": {},
   "outputs": [],
   "source": []
  },
  {
   "cell_type": "code",
   "execution_count": null,
   "id": "7c68adb4",
   "metadata": {},
   "outputs": [],
   "source": []
  },
  {
   "cell_type": "code",
   "execution_count": null,
   "id": "4ddab311",
   "metadata": {},
   "outputs": [],
   "source": []
  },
  {
   "cell_type": "code",
   "execution_count": null,
   "id": "502634b3",
   "metadata": {},
   "outputs": [],
   "source": []
  },
  {
   "cell_type": "code",
   "execution_count": null,
   "id": "9154e09c",
   "metadata": {},
   "outputs": [],
   "source": []
  },
  {
   "cell_type": "code",
   "execution_count": null,
   "id": "3f949b36",
   "metadata": {},
   "outputs": [],
   "source": []
  },
  {
   "cell_type": "code",
   "execution_count": null,
   "id": "2ab5003d",
   "metadata": {},
   "outputs": [],
   "source": []
  },
  {
   "cell_type": "code",
   "execution_count": null,
   "id": "53318e87",
   "metadata": {},
   "outputs": [],
   "source": []
  },
  {
   "cell_type": "code",
   "execution_count": null,
   "id": "b620a7ca",
   "metadata": {},
   "outputs": [],
   "source": []
  },
  {
   "cell_type": "code",
   "execution_count": null,
   "id": "6b257a0a",
   "metadata": {},
   "outputs": [],
   "source": []
  },
  {
   "cell_type": "code",
   "execution_count": null,
   "id": "e434cbb3",
   "metadata": {},
   "outputs": [],
   "source": []
  },
  {
   "cell_type": "code",
   "execution_count": null,
   "id": "7851d251",
   "metadata": {},
   "outputs": [],
   "source": []
  },
  {
   "cell_type": "code",
   "execution_count": null,
   "id": "63e9be57",
   "metadata": {},
   "outputs": [],
   "source": []
  },
  {
   "cell_type": "code",
   "execution_count": null,
   "id": "44f1184e",
   "metadata": {},
   "outputs": [],
   "source": []
  },
  {
   "cell_type": "code",
   "execution_count": null,
   "id": "9ce32997",
   "metadata": {},
   "outputs": [],
   "source": []
  },
  {
   "cell_type": "code",
   "execution_count": null,
   "id": "ed4e36b7",
   "metadata": {},
   "outputs": [],
   "source": []
  },
  {
   "cell_type": "code",
   "execution_count": null,
   "id": "4207dc69",
   "metadata": {},
   "outputs": [],
   "source": []
  },
  {
   "cell_type": "code",
   "execution_count": null,
   "id": "31917fea",
   "metadata": {},
   "outputs": [],
   "source": []
  },
  {
   "cell_type": "code",
   "execution_count": null,
   "id": "e5e7d4a8",
   "metadata": {},
   "outputs": [],
   "source": []
  },
  {
   "cell_type": "code",
   "execution_count": null,
   "id": "3f56ef9c",
   "metadata": {},
   "outputs": [],
   "source": []
  },
  {
   "cell_type": "code",
   "execution_count": null,
   "id": "17fe22fa",
   "metadata": {},
   "outputs": [],
   "source": []
  },
  {
   "cell_type": "code",
   "execution_count": null,
   "id": "43dac181",
   "metadata": {},
   "outputs": [],
   "source": []
  },
  {
   "cell_type": "code",
   "execution_count": null,
   "id": "67cf4e3b",
   "metadata": {},
   "outputs": [],
   "source": []
  },
  {
   "cell_type": "code",
   "execution_count": null,
   "id": "3cfe2973",
   "metadata": {},
   "outputs": [],
   "source": []
  },
  {
   "cell_type": "code",
   "execution_count": null,
   "id": "edc78258",
   "metadata": {},
   "outputs": [],
   "source": []
  },
  {
   "cell_type": "code",
   "execution_count": null,
   "id": "c6534fd8",
   "metadata": {},
   "outputs": [],
   "source": []
  },
  {
   "cell_type": "code",
   "execution_count": null,
   "id": "8573d178",
   "metadata": {},
   "outputs": [],
   "source": []
  },
  {
   "cell_type": "code",
   "execution_count": null,
   "id": "089bbc03",
   "metadata": {},
   "outputs": [],
   "source": []
  },
  {
   "cell_type": "code",
   "execution_count": null,
   "id": "33dbc218",
   "metadata": {},
   "outputs": [],
   "source": []
  },
  {
   "cell_type": "code",
   "execution_count": null,
   "id": "3a3708c6",
   "metadata": {},
   "outputs": [],
   "source": []
  },
  {
   "cell_type": "code",
   "execution_count": null,
   "id": "458a97d3",
   "metadata": {},
   "outputs": [],
   "source": []
  },
  {
   "cell_type": "code",
   "execution_count": null,
   "id": "ad1121e6",
   "metadata": {},
   "outputs": [],
   "source": []
  },
  {
   "cell_type": "code",
   "execution_count": null,
   "id": "e700e2e2",
   "metadata": {},
   "outputs": [],
   "source": []
  },
  {
   "cell_type": "code",
   "execution_count": null,
   "id": "6b484285",
   "metadata": {},
   "outputs": [],
   "source": []
  },
  {
   "cell_type": "code",
   "execution_count": null,
   "id": "b6fea5df",
   "metadata": {},
   "outputs": [],
   "source": []
  },
  {
   "cell_type": "code",
   "execution_count": null,
   "id": "dc5d654d",
   "metadata": {},
   "outputs": [],
   "source": []
  },
  {
   "cell_type": "code",
   "execution_count": null,
   "id": "04800f64",
   "metadata": {},
   "outputs": [],
   "source": []
  },
  {
   "cell_type": "code",
   "execution_count": null,
   "id": "dc687b06",
   "metadata": {},
   "outputs": [],
   "source": []
  },
  {
   "cell_type": "code",
   "execution_count": null,
   "id": "4d09ad9a",
   "metadata": {},
   "outputs": [],
   "source": []
  },
  {
   "cell_type": "code",
   "execution_count": null,
   "id": "02487b21",
   "metadata": {},
   "outputs": [],
   "source": []
  },
  {
   "cell_type": "code",
   "execution_count": null,
   "id": "60b4505e",
   "metadata": {},
   "outputs": [],
   "source": []
  },
  {
   "cell_type": "code",
   "execution_count": null,
   "id": "5e4aee57",
   "metadata": {},
   "outputs": [],
   "source": []
  },
  {
   "cell_type": "code",
   "execution_count": null,
   "id": "f1bb8add",
   "metadata": {},
   "outputs": [],
   "source": []
  },
  {
   "cell_type": "code",
   "execution_count": null,
   "id": "c436da16",
   "metadata": {},
   "outputs": [],
   "source": []
  },
  {
   "cell_type": "code",
   "execution_count": null,
   "id": "2f2ebd90",
   "metadata": {},
   "outputs": [],
   "source": []
  },
  {
   "cell_type": "code",
   "execution_count": null,
   "id": "99e185f4",
   "metadata": {},
   "outputs": [],
   "source": []
  },
  {
   "cell_type": "code",
   "execution_count": null,
   "id": "81a8e898",
   "metadata": {},
   "outputs": [],
   "source": []
  },
  {
   "cell_type": "code",
   "execution_count": null,
   "id": "ba412e58",
   "metadata": {},
   "outputs": [],
   "source": []
  },
  {
   "cell_type": "code",
   "execution_count": null,
   "id": "fffa0584",
   "metadata": {},
   "outputs": [],
   "source": []
  },
  {
   "cell_type": "code",
   "execution_count": null,
   "id": "7e796d34",
   "metadata": {},
   "outputs": [],
   "source": []
  },
  {
   "cell_type": "code",
   "execution_count": null,
   "id": "e9895c66",
   "metadata": {},
   "outputs": [],
   "source": []
  },
  {
   "cell_type": "code",
   "execution_count": null,
   "id": "7c60b04f",
   "metadata": {},
   "outputs": [],
   "source": []
  },
  {
   "cell_type": "code",
   "execution_count": null,
   "id": "9fa87962",
   "metadata": {},
   "outputs": [],
   "source": []
  },
  {
   "cell_type": "code",
   "execution_count": null,
   "id": "fd41d48c",
   "metadata": {},
   "outputs": [],
   "source": []
  },
  {
   "cell_type": "code",
   "execution_count": null,
   "id": "edad4716",
   "metadata": {},
   "outputs": [],
   "source": []
  },
  {
   "cell_type": "code",
   "execution_count": null,
   "id": "15c4bab8",
   "metadata": {},
   "outputs": [],
   "source": []
  },
  {
   "cell_type": "code",
   "execution_count": null,
   "id": "ba0e71de",
   "metadata": {},
   "outputs": [],
   "source": []
  },
  {
   "cell_type": "code",
   "execution_count": null,
   "id": "539f0a92",
   "metadata": {},
   "outputs": [],
   "source": []
  },
  {
   "cell_type": "code",
   "execution_count": null,
   "id": "0a765d08",
   "metadata": {},
   "outputs": [],
   "source": []
  },
  {
   "cell_type": "code",
   "execution_count": null,
   "id": "2b0be312",
   "metadata": {},
   "outputs": [],
   "source": []
  },
  {
   "cell_type": "code",
   "execution_count": null,
   "id": "2e318506",
   "metadata": {},
   "outputs": [],
   "source": []
  },
  {
   "cell_type": "code",
   "execution_count": null,
   "id": "0b0941ef",
   "metadata": {},
   "outputs": [],
   "source": []
  },
  {
   "cell_type": "code",
   "execution_count": null,
   "id": "503f6f0e",
   "metadata": {},
   "outputs": [],
   "source": []
  },
  {
   "cell_type": "code",
   "execution_count": null,
   "id": "3934bf2b",
   "metadata": {},
   "outputs": [],
   "source": []
  },
  {
   "cell_type": "code",
   "execution_count": null,
   "id": "a27cfd83",
   "metadata": {},
   "outputs": [],
   "source": []
  },
  {
   "cell_type": "code",
   "execution_count": null,
   "id": "0b2220d8",
   "metadata": {},
   "outputs": [],
   "source": []
  },
  {
   "cell_type": "code",
   "execution_count": null,
   "id": "8cf1bd70",
   "metadata": {},
   "outputs": [],
   "source": []
  },
  {
   "cell_type": "code",
   "execution_count": null,
   "id": "bec5871c",
   "metadata": {},
   "outputs": [],
   "source": []
  },
  {
   "cell_type": "code",
   "execution_count": null,
   "id": "06ee7f66",
   "metadata": {},
   "outputs": [],
   "source": []
  },
  {
   "cell_type": "code",
   "execution_count": null,
   "id": "2ff9c67a",
   "metadata": {},
   "outputs": [],
   "source": []
  },
  {
   "cell_type": "code",
   "execution_count": null,
   "id": "4c00431c",
   "metadata": {},
   "outputs": [],
   "source": [
    "\n"
   ]
  }
 ],
 "metadata": {
  "kernelspec": {
   "display_name": "Python 3 (ipykernel)",
   "language": "python",
   "name": "python3"
  },
  "language_info": {
   "codemirror_mode": {
    "name": "ipython",
    "version": 3
   },
   "file_extension": ".py",
   "mimetype": "text/x-python",
   "name": "python",
   "nbconvert_exporter": "python",
   "pygments_lexer": "ipython3",
   "version": "3.11.5"
  }
 },
 "nbformat": 4,
 "nbformat_minor": 5
}
