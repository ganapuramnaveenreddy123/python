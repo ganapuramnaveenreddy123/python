{
 "cells": [
  {
   "cell_type": "markdown",
   "id": "8d57a53e",
   "metadata": {},
   "source": [
    "# strings\n",
    "It is a Python Data type strings are sequence of characters which are Present inside a double or single quotes ('' '',  ' ' ), strings are immutable\n",
    "\n",
    "ex : 'abc!@12'\n"
   ]
  },
  {
   "cell_type": "code",
   "execution_count": 3,
   "id": "1b8cda04",
   "metadata": {},
   "outputs": [
    {
     "data": {
      "text/plain": [
       "str"
      ]
     },
     "execution_count": 3,
     "metadata": {},
     "output_type": "execute_result"
    }
   ],
   "source": [
    "a = 'abc!@12'\n",
    "type(a)"
   ]
  },
  {
   "cell_type": "markdown",
   "id": "e3859171",
   "metadata": {},
   "source": [
    "# escape characters :\n",
    "'\\n', '\\t', '\\r'"
   ]
  },
  {
   "cell_type": "code",
   "execution_count": 3,
   "id": "9bbba8ae",
   "metadata": {},
   "outputs": [
    {
     "name": "stdout",
     "output_type": "stream",
     "text": [
      "a\n",
      "b\n",
      "a\tb\n",
      "abd\r",
      "ggc\n"
     ]
    }
   ],
   "source": [
    "print('a\\nb') # new line\n",
    "print('a\\tb') # tab/four spaces\n",
    "print('abd\\rggc') # moves the cursur to start of the line"
   ]
  },
  {
   "cell_type": "markdown",
   "id": "50f39e16",
   "metadata": {},
   "source": [
    "# Positive Index value : \n",
    "whenever we go from left  to right the indene value starts with o and up to (n-1)\n",
    "\n",
    " ex : 'Naveen '\n",
    "      0123456 (position)"
   ]
  },
  {
   "cell_type": "code",
   "execution_count": 16,
   "id": "aa33e304",
   "metadata": {},
   "outputs": [
    {
     "name": "stdout",
     "output_type": "stream",
     "text": [
      "n\n"
     ]
    }
   ],
   "source": [
    "x = 'Naveen ' # \n",
    "print(x[5])"
   ]
  },
  {
   "cell_type": "markdown",
   "id": "f98aa2f7",
   "metadata": {},
   "source": [
    "# Negative Index value :\n",
    "whenever we go from   right to leftthe index value starts with -l and up to -n\n",
    "\n",
    "ex : 'Naveen '  -7-6-5-4-3-2-1(position)"
   ]
  },
  {
   "cell_type": "code",
   "execution_count": 23,
   "id": "9bd654e8",
   "metadata": {},
   "outputs": [
    {
     "data": {
      "text/plain": [
       "'N'"
      ]
     },
     "execution_count": 23,
     "metadata": {},
     "output_type": "execute_result"
    }
   ],
   "source": [
    "x = 'Naveen '\n",
    "x[-7]"
   ]
  },
  {
   "cell_type": "markdown",
   "id": "7b53d2ed",
   "metadata": {},
   "source": [
    "# Positive slicing :\n",
    "Positive slicing in Python allows you to extract a part (substring) of a string using indices.\n",
    "# Syntax\n",
    "var[start_index : end_index : step_size]"
   ]
  },
  {
   "cell_type": "code",
   "execution_count": 24,
   "id": "5c61fa66",
   "metadata": {},
   "outputs": [
    {
     "name": "stdout",
     "output_type": "stream",
     "text": [
      "40\n",
      "i am not sure\n",
      "i am not sure what to take as an example\n",
      "ia o uewa otk sa xml\n",
      "i am not sure what to take as an example\n",
      "i am not sure what to take as an example\n",
      "what\n"
     ]
    }
   ],
   "source": [
    "x = 'i am not sure what to take as an example'\n",
    "print(len(x))\n",
    "print(x[0:13])\n",
    "print(x[0:41])\n",
    "print(x[0:41:2])\n",
    "print(x[0:41:1])\n",
    "print(x[::]) # defalut values\n",
    "print(x[14:18:1])"
   ]
  },
  {
   "cell_type": "markdown",
   "id": "97950133",
   "metadata": {},
   "source": [
    "# Negative slicing:\n",
    "    Negative slicing in Python allows you to access elements from the end of a sequence, such as a string, list, or tuple. Negative indices count backward from the end of the sequence, where -1 represents the last element, -2 represents the second last element, and so on."
   ]
  },
  {
   "cell_type": "code",
   "execution_count": 43,
   "id": "a7e1f22b",
   "metadata": {
    "scrolled": true
   },
   "outputs": [
    {
     "name": "stdout",
     "output_type": "stream",
     "text": [
      "40\n",
      "a\n",
      " am not sure what to take as an exampl\n",
      "i\n",
      "i am not sure what to take as an exampl\n",
      "i am not sure what to take as an example\n",
      "elpmaxe na sa ekat ot tahw erus ton ma i\n"
     ]
    }
   ],
   "source": [
    "x = 'i am not sure what to take as an example'\n",
    "print(len(x))\n",
    "print(x[-13])\n",
    "print(x[-39:-1])\n",
    "print(x[-40::-2])\n",
    "print(x[-40:-1:1])\n",
    "print(x[::]) # defalut values\n",
    "print(x[::-1])"
   ]
  },
  {
   "cell_type": "markdown",
   "id": "926dac9d",
   "metadata": {},
   "source": [
    "# Format strings:\n",
    " Use placeholders {} to insert dynamic data. Use f-strings."
   ]
  },
  {
   "cell_type": "code",
   "execution_count": 45,
   "id": "747ce0ae",
   "metadata": {},
   "outputs": [
    {
     "name": "stdout",
     "output_type": "stream",
     "text": [
      "My name is Nani and I am 23 years old.\n"
     ]
    }
   ],
   "source": [
    "name = \"Nani\"\n",
    "age = 23\n",
    "x = f\"My name is {name} and I am {age} years old.\"\n",
    "print(x)  "
   ]
  },
  {
   "cell_type": "markdown",
   "id": "b3234300",
   "metadata": {},
   "source": [
    "# Raw strings :\n",
    "Raw strings treat backslashes (\\) as literal characters, meaning that escape sequences are not processed. This is useful for regular expressions, file paths, and other cases where backslashes are common."
   ]
  },
  {
   "cell_type": "code",
   "execution_count": 52,
   "id": "536b741a",
   "metadata": {},
   "outputs": [
    {
     "name": "stdout",
     "output_type": "stream",
     "text": [
      "c:\\abc\\\\newfolder\\j.jpg\n",
      "c:\u0007bc\\newfolder\\j.jpg\n"
     ]
    }
   ],
   "source": [
    "x = r'c:\\abc\\\\newfolder\\j.jpg' # by using Raw String\n",
    "y = 'c:\\abc\\\\newfolder\\j.jpg'  # without using Raw string \n",
    "\n",
    "print(x)\n",
    "print(y)"
   ]
  },
  {
   "cell_type": "markdown",
   "id": "c850b77d",
   "metadata": {},
   "source": [
    "# string methods "
   ]
  },
  {
   "cell_type": "markdown",
   "id": "4418516b",
   "metadata": {},
   "source": [
    "# 1. capitalize()\n",
    "It gives the frist letter Capital from the given string "
   ]
  },
  {
   "cell_type": "code",
   "execution_count": 53,
   "id": "183c8fb8",
   "metadata": {},
   "outputs": [
    {
     "name": "stdout",
     "output_type": "stream",
     "text": [
      "Hello world\n"
     ]
    }
   ],
   "source": [
    "s = \"hello world\" # It gives the frist letter Capital from the given string \n",
    "print(s.capitalize())  \n"
   ]
  },
  {
   "cell_type": "markdown",
   "id": "71506124",
   "metadata": {},
   "source": [
    "# 2. casefold()\n",
    "The casefold Converts the string to lowercase of all the character of string "
   ]
  },
  {
   "cell_type": "code",
   "execution_count": 58,
   "id": "459a6722",
   "metadata": {},
   "outputs": [
    {
     "name": "stdout",
     "output_type": "stream",
     "text": [
      "hello world\n"
     ]
    }
   ],
   "source": [
    "s = \"HELLO WORLD\"   # The casefold Converts the string to lowercase of all the character of string \n",
    "print(s.casefold())  "
   ]
  },
  {
   "cell_type": "markdown",
   "id": "48eb271c",
   "metadata": {},
   "source": [
    "# 3. center() : \n",
    "Centers the string in a field of specified width with optional fill character."
   ]
  },
  {
   "cell_type": "code",
   "execution_count": 61,
   "id": "aac26767",
   "metadata": {},
   "outputs": [
    {
     "name": "stdout",
     "output_type": "stream",
     "text": [
      "**hello***\n"
     ]
    }
   ],
   "source": [
    "s = \"hello\"\n",
    "print(s.center(10, '*'))  "
   ]
  },
  {
   "cell_type": "markdown",
   "id": "67edf288",
   "metadata": {},
   "source": [
    "# 4. count() : \n",
    "Returns the number of non-overlapping occurrences of substring in the string."
   ]
  },
  {
   "cell_type": "code",
   "execution_count": 88,
   "id": "b27978de",
   "metadata": {},
   "outputs": [
    {
     "name": "stdout",
     "output_type": "stream",
     "text": [
      "3\n",
      "1\n"
     ]
    }
   ],
   "source": [
    "s = \"hollo world\"\n",
    "print(s.count('o'))  # in this we cen get over all the string how may 'o' where there \n",
    "print(s.count('o',2,5)) # from this based on index value we got the values from the string "
   ]
  },
  {
   "cell_type": "markdown",
   "id": "7d805c39",
   "metadata": {},
   "source": [
    "# 5. encode() :\n",
    "The encode() method converts a string into a bytes object using the specified encoding. By default, it uses 'utf-8' encoding, which can represent any character in the Unicode standard."
   ]
  },
  {
   "cell_type": "code",
   "execution_count": 93,
   "id": "54885c68",
   "metadata": {},
   "outputs": [
    {
     "name": "stdout",
     "output_type": "stream",
     "text": [
      "b'Naveen'\n"
     ]
    }
   ],
   "source": [
    "x = \"Naveen\"\n",
    "print(x.encode())  \n"
   ]
  },
  {
   "cell_type": "markdown",
   "id": "bb4d559f",
   "metadata": {},
   "source": [
    "# 6. endswith() : \n",
    "It gives Boolean values (True or False) Checks if the string ends with the specified suffix."
   ]
  },
  {
   "cell_type": "code",
   "execution_count": 95,
   "id": "3ba29eae",
   "metadata": {},
   "outputs": [
    {
     "name": "stdout",
     "output_type": "stream",
     "text": [
      "True\n"
     ]
    }
   ],
   "source": [
    "text = \"hello world\" # it's checks the given string ends or not \n",
    "print(text.endswith(\"world\"))  \n"
   ]
  },
  {
   "cell_type": "markdown",
   "id": "b7a1040f",
   "metadata": {},
   "source": [
    "# 7. expandtabs(tabsize=8) : \n",
    "Expands tabs in the string to spaces using the specified tab size."
   ]
  },
  {
   "cell_type": "code",
   "execution_count": 123,
   "id": "6616be50",
   "metadata": {},
   "outputs": [
    {
     "name": "stdout",
     "output_type": "stream",
     "text": [
      "my      name    is      Naveen\n",
      "my      name    is      Naveen\n"
     ]
    }
   ],
   "source": [
    "x = \"my\\tname\\tis\\tNaveen\" # in this we should specified the size of space \n",
    "print(x.expandtabs(8))  # 8 spaces privided \n",
    "print(x.expandtabs())   # defaultly it takes 8 spaces "
   ]
  },
  {
   "cell_type": "markdown",
   "id": "c6bad043",
   "metadata": {},
   "source": [
    "# 8. find() :\n",
    "Finds the first occurrence of a substring."
   ]
  },
  {
   "cell_type": "code",
   "execution_count": 127,
   "id": "3a4b4aa9",
   "metadata": {},
   "outputs": [
    {
     "data": {
      "text/plain": [
       "19"
      ]
     },
     "execution_count": 127,
     "metadata": {},
     "output_type": "execute_result"
    }
   ],
   "source": [
    "x = '''Peter Piper picked a peck of pickled peppers.\n",
    "A peck of pickled peppers Peter Piper picked.\n",
    "If Peter Piper picked a peck of pickled peppers,\n",
    "Where’s the peck of pickled peppers Peter Piper picked'''\n",
    "\n",
    "\n",
    "print(x.find('a'))  # its give the index position of the first occurrence of a substring "
   ]
  },
  {
   "cell_type": "code",
   "execution_count": null,
   "id": "6236f3a7",
   "metadata": {},
   "outputs": [],
   "source": []
  },
  {
   "cell_type": "markdown",
   "id": "51a50b01",
   "metadata": {},
   "source": [
    "# 9. format_map() :\n",
    "    Formats the string using the specified mapping."
   ]
  },
  {
   "cell_type": "code",
   "execution_count": 128,
   "id": "0f40b98a",
   "metadata": {},
   "outputs": [
    {
     "name": "stdout",
     "output_type": "stream",
     "text": [
      "Hello, world!\n"
     ]
    }
   ],
   "source": [
    "text = \"Hello, {name}!\"\n",
    "print(text.format_map({\"name\": \"world\"}))  \n"
   ]
  },
  {
   "cell_type": "markdown",
   "id": "ac537cfe",
   "metadata": {},
   "source": [
    "# 10. index()\n",
    "Finds the first occurrence of a substring and raises an error if not found."
   ]
  },
  {
   "cell_type": "code",
   "execution_count": 130,
   "id": "152c0a02",
   "metadata": {},
   "outputs": [
    {
     "name": "stdout",
     "output_type": "stream",
     "text": [
      "6\n"
     ]
    },
    {
     "ename": "ValueError",
     "evalue": "substring not found",
     "output_type": "error",
     "traceback": [
      "\u001b[1;31m---------------------------------------------------------------------------\u001b[0m",
      "\u001b[1;31mValueError\u001b[0m                                Traceback (most recent call last)",
      "Cell \u001b[1;32mIn[130], line 3\u001b[0m\n\u001b[0;32m      1\u001b[0m text \u001b[38;5;241m=\u001b[39m \u001b[38;5;124m\"\u001b[39m\u001b[38;5;124mhello world\u001b[39m\u001b[38;5;124m\"\u001b[39m\n\u001b[0;32m      2\u001b[0m \u001b[38;5;28mprint\u001b[39m(text\u001b[38;5;241m.\u001b[39mindex(\u001b[38;5;124m\"\u001b[39m\u001b[38;5;124mworld\u001b[39m\u001b[38;5;124m\"\u001b[39m))  \n\u001b[1;32m----> 3\u001b[0m \u001b[38;5;28mprint\u001b[39m(text\u001b[38;5;241m.\u001b[39mindex(\u001b[38;5;124m\"\u001b[39m\u001b[38;5;124mhi\u001b[39m\u001b[38;5;124m\"\u001b[39m))\n",
      "\u001b[1;31mValueError\u001b[0m: substring not found"
     ]
    }
   ],
   "source": [
    "text = \"hello world\"\n",
    "print(text.index(\"world\")) # it gives the index position of given string  \n",
    "print(text.index(\"hi\")) # if substring is not found its give error "
   ]
  },
  {
   "cell_type": "markdown",
   "id": "f18659c7",
   "metadata": {},
   "source": [
    "# 11.isalnum():\n",
    "    Checks if all characters in the string are alphanumeric."
   ]
  },
  {
   "cell_type": "code",
   "execution_count": 134,
   "id": "59092402",
   "metadata": {},
   "outputs": [
    {
     "name": "stdout",
     "output_type": "stream",
     "text": [
      "True\n"
     ]
    }
   ],
   "source": [
    "x = \"hello123\" # it give the boolean values (True or False)\n",
    "print(x.isalnum()) \n"
   ]
  },
  {
   "cell_type": "markdown",
   "id": "5fe04283",
   "metadata": {},
   "source": [
    "# 12. isalpha():\n",
    "    Checks if all characters in the string are alphabetic."
   ]
  },
  {
   "cell_type": "code",
   "execution_count": 136,
   "id": "f4972dd2",
   "metadata": {},
   "outputs": [
    {
     "name": "stdout",
     "output_type": "stream",
     "text": [
      "True\n",
      "False\n"
     ]
    }
   ],
   "source": [
    "x = \"hello\"\n",
    "y  = 'hello123' # Checks if all characters in the string are alphabetic other wise its give False \n",
    "print(x.isalpha()) \n",
    "print(y.isalpha()) "
   ]
  },
  {
   "cell_type": "markdown",
   "id": "d3a6d7c2",
   "metadata": {},
   "source": [
    "# 13. isascii(): \n",
    "    Checks if all characters in the string are ASCII."
   ]
  },
  {
   "cell_type": "code",
   "execution_count": 139,
   "id": "cdac1b68",
   "metadata": {},
   "outputs": [
    {
     "name": "stdout",
     "output_type": "stream",
     "text": [
      "True\n"
     ]
    }
   ],
   "source": [
    "x = \"hello\"\n",
    "print(x.isascii())  \n"
   ]
  },
  {
   "cell_type": "markdown",
   "id": "fb651ca6",
   "metadata": {},
   "source": [
    "# 14.isdecimal():\n",
    "    Checks if all characters in the string are decimal."
   ]
  },
  {
   "cell_type": "code",
   "execution_count": 140,
   "id": "0852653b",
   "metadata": {},
   "outputs": [
    {
     "name": "stdout",
     "output_type": "stream",
     "text": [
      "True\n"
     ]
    }
   ],
   "source": [
    "text = \"123\"\n",
    "print(text.isdecimal()) "
   ]
  },
  {
   "cell_type": "markdown",
   "id": "95a2f656",
   "metadata": {},
   "source": [
    "# 15.isdigit(): \n",
    "    Checks if all characters in the string are digits.\n",
    "\n",
    "\n"
   ]
  },
  {
   "cell_type": "code",
   "execution_count": 141,
   "id": "a8d90e23",
   "metadata": {},
   "outputs": [
    {
     "name": "stdout",
     "output_type": "stream",
     "text": [
      "True\n"
     ]
    }
   ],
   "source": [
    "text = \"123\"\n",
    "print(text.isdigit())  \n"
   ]
  },
  {
   "cell_type": "markdown",
   "id": "7e56f1be",
   "metadata": {},
   "source": [
    "# 16.isidentifier():\n",
    "    Checks if the string is a valid identifier."
   ]
  },
  {
   "cell_type": "code",
   "execution_count": 145,
   "id": "8b856d23",
   "metadata": {},
   "outputs": [
    {
     "name": "stdout",
     "output_type": "stream",
     "text": [
      "True\n",
      "False\n",
      "True\n"
     ]
    }
   ],
   "source": [
    "x = \"Naveen_reddy\" \n",
    "y = \"Naveen reddy\"\n",
    "z='_nani'\n",
    "print(x.isidentifier())   \n",
    "print(y.isidentifier())\n",
    "print(z.isidentifier())\n",
    "# Checks if the string is a valid identifier. it is like an variable "
   ]
  },
  {
   "cell_type": "markdown",
   "id": "a70522f5",
   "metadata": {},
   "source": [
    "# 17.islower():\n",
    "    Checks if all characters in the string are lowercase."
   ]
  },
  {
   "cell_type": "code",
   "execution_count": 147,
   "id": "15adc5a7",
   "metadata": {},
   "outputs": [
    {
     "name": "stdout",
     "output_type": "stream",
     "text": [
      "True\n",
      "False\n"
     ]
    }
   ],
   "source": [
    "x = \"hello\" # Checks if all characters in the string are lowercase. otherwise it gives False\n",
    "y = \"HELLO\"\n",
    "print(x.islower())  \n",
    "print(y.islower())"
   ]
  },
  {
   "cell_type": "markdown",
   "id": "4c71fadf",
   "metadata": {},
   "source": [
    "# 18.isnumeric():\n",
    "    Checks if all characters in the string are numeric."
   ]
  },
  {
   "cell_type": "code",
   "execution_count": 148,
   "id": "714f9186",
   "metadata": {},
   "outputs": [
    {
     "name": "stdout",
     "output_type": "stream",
     "text": [
      "True\n"
     ]
    }
   ],
   "source": [
    "x = \"123\"\n",
    "print(x.isnumeric())\n"
   ]
  },
  {
   "cell_type": "markdown",
   "id": "7a30eae9",
   "metadata": {},
   "source": [
    "# 19.isprintable(): \n",
    "    Checks if all characters in the string are printable."
   ]
  },
  {
   "cell_type": "code",
   "execution_count": 158,
   "id": "a4c29657",
   "metadata": {},
   "outputs": [
    {
     "name": "stdout",
     "output_type": "stream",
     "text": [
      "True\n"
     ]
    }
   ],
   "source": [
    "x = \"hello\"\n",
    "print(x.isprintable())  \n"
   ]
  },
  {
   "cell_type": "markdown",
   "id": "2261498f",
   "metadata": {},
   "source": [
    "# 20.isspace(): \n",
    "    Checks if all characters in the string are whitespace."
   ]
  },
  {
   "cell_type": "code",
   "execution_count": 162,
   "id": "aea36437",
   "metadata": {},
   "outputs": [
    {
     "name": "stdout",
     "output_type": "stream",
     "text": [
      "False\n",
      "True\n"
     ]
    }
   ],
   "source": [
    "x = \"  n \"\n",
    "y = \"   \"\n",
    "print(x.isspace())  \n",
    "print(y.isspace())"
   ]
  },
  {
   "cell_type": "markdown",
   "id": "d27aefce",
   "metadata": {},
   "source": [
    "# 21. istitle():\n",
    "    Checks if the string is title-cased. the first letter of string is capital"
   ]
  },
  {
   "cell_type": "code",
   "execution_count": 165,
   "id": "5cb2375c",
   "metadata": {},
   "outputs": [
    {
     "name": "stdout",
     "output_type": "stream",
     "text": [
      "True\n"
     ]
    }
   ],
   "source": [
    "x = \"Hello World\"\n",
    "print(x.istitle())  \n"
   ]
  },
  {
   "cell_type": "markdown",
   "id": "5f3c6397",
   "metadata": {},
   "source": [
    "# 22.isupper(): \n",
    "    Checks if all characters in the string are uppercase."
   ]
  },
  {
   "cell_type": "code",
   "execution_count": 166,
   "id": "0259b228",
   "metadata": {},
   "outputs": [
    {
     "name": "stdout",
     "output_type": "stream",
     "text": [
      "True\n"
     ]
    }
   ],
   "source": [
    "x = \"HELLO\"\n",
    "print(x.isupper()) \n"
   ]
  },
  {
   "cell_type": "markdown",
   "id": "37057671",
   "metadata": {},
   "source": [
    "# 23. join(iterable):\n",
    "    Joins the elements of an iterable with the string as separator."
   ]
  },
  {
   "cell_type": "code",
   "execution_count": 167,
   "id": "32526c35",
   "metadata": {},
   "outputs": [
    {
     "name": "stdout",
     "output_type": "stream",
     "text": [
      "hello-world\n"
     ]
    }
   ],
   "source": [
    "x = \"-\"\n",
    "print(x.join([\"hello\", \"world\"]))  \n"
   ]
  },
  {
   "cell_type": "markdown",
   "id": "ad36050d",
   "metadata": {},
   "source": [
    "# 24. ljust(width[, fillchar]): \n",
    "    Left-justifies the string in a field of a given width."
   ]
  },
  {
   "cell_type": "code",
   "execution_count": 177,
   "id": "26d7f7e7",
   "metadata": {},
   "outputs": [
    {
     "name": "stdout",
     "output_type": "stream",
     "text": [
      "hello-----\n"
     ]
    }
   ],
   "source": [
    "x = \"hello\"\n",
    "print(x.ljust(10, '-'))"
   ]
  },
  {
   "cell_type": "markdown",
   "id": "0665fe1c",
   "metadata": {},
   "source": [
    "# 25. lower():\n",
    "    Converts the string uppercase to lowercase."
   ]
  },
  {
   "cell_type": "code",
   "execution_count": 178,
   "id": "500560ac",
   "metadata": {},
   "outputs": [
    {
     "name": "stdout",
     "output_type": "stream",
     "text": [
      "nani\n"
     ]
    }
   ],
   "source": [
    "x = \"NANI\"\n",
    "print(x.lower())"
   ]
  },
  {
   "cell_type": "markdown",
   "id": "1b208947",
   "metadata": {},
   "source": [
    "# 26. lstrip([chars]):\n",
    "    Removes leading characters from the string."
   ]
  },
  {
   "cell_type": "code",
   "execution_count": 203,
   "id": "cac604ec",
   "metadata": {},
   "outputs": [
    {
     "name": "stdout",
     "output_type": "stream",
     "text": [
      "hello\n"
     ]
    }
   ],
   "source": [
    "text = \"    hello\"\n",
    "print(text.lstrip()) \n"
   ]
  },
  {
   "cell_type": "markdown",
   "id": "b04bc0c4",
   "metadata": {},
   "source": [
    "# 27. partition():\n",
    "    Partitions the string into three parts around the separator."
   ]
  },
  {
   "cell_type": "code",
   "execution_count": 204,
   "id": "d75e7111",
   "metadata": {},
   "outputs": [
    {
     "name": "stdout",
     "output_type": "stream",
     "text": [
      "('hello', ' ', 'world')\n"
     ]
    }
   ],
   "source": [
    "text = \"hello world\"  # Partitions the string into three parts around the separator.\n",
    "print(text.partition(\" \"))  \n"
   ]
  },
  {
   "cell_type": "markdown",
   "id": "50f8f3f1",
   "metadata": {},
   "source": [
    "# 29. replace(): \n",
    "    Replaces occurrences of a substring with another substring."
   ]
  },
  {
   "cell_type": "code",
   "execution_count": 209,
   "id": "617bd9ad",
   "metadata": {},
   "outputs": [
    {
     "name": "stdout",
     "output_type": "stream",
     "text": [
      "hello Python\n"
     ]
    }
   ],
   "source": [
    "x = \"hello world\"\n",
    "print(x.replace(\"world\", \"Python\"))  \n"
   ]
  },
  {
   "cell_type": "markdown",
   "id": "673ebbd7",
   "metadata": {},
   "source": [
    "# 29. rfind(sub[, start[, end]]):\n",
    "    Finds the last occurrence of a substring. its find from the right side "
   ]
  },
  {
   "cell_type": "code",
   "execution_count": 217,
   "id": "f76f8fb5",
   "metadata": {},
   "outputs": [
    {
     "name": "stdout",
     "output_type": "stream",
     "text": [
      "0\n",
      "12\n"
     ]
    }
   ],
   "source": [
    "x = \"hello world\"   \n",
    "y = \"hello world hello\"\n",
    "print(x.rfind(\"hello\")) \n",
    "print(y.rfind(\"hello\")) "
   ]
  },
  {
   "cell_type": "markdown",
   "id": "a3954703",
   "metadata": {},
   "source": [
    "# 30.rindex():\n",
    "    Finds the last occurrence of a substring and raises an error if not found."
   ]
  },
  {
   "cell_type": "code",
   "execution_count": 221,
   "id": "7a70f403",
   "metadata": {},
   "outputs": [
    {
     "name": "stdout",
     "output_type": "stream",
     "text": [
      "12\n"
     ]
    },
    {
     "ename": "ValueError",
     "evalue": "substring not found",
     "output_type": "error",
     "traceback": [
      "\u001b[1;31m---------------------------------------------------------------------------\u001b[0m",
      "\u001b[1;31mValueError\u001b[0m                                Traceback (most recent call last)",
      "Cell \u001b[1;32mIn[221], line 5\u001b[0m\n\u001b[0;32m      2\u001b[0m y \u001b[38;5;241m=\u001b[39m \u001b[38;5;124m\"\u001b[39m\u001b[38;5;124mworld \u001b[39m\u001b[38;5;124m\"\u001b[39m\n\u001b[0;32m      4\u001b[0m \u001b[38;5;28mprint\u001b[39m(x\u001b[38;5;241m.\u001b[39mrindex(\u001b[38;5;124m\"\u001b[39m\u001b[38;5;124mhello\u001b[39m\u001b[38;5;124m\"\u001b[39m)) \n\u001b[1;32m----> 5\u001b[0m \u001b[38;5;28mprint\u001b[39m(y\u001b[38;5;241m.\u001b[39mrindex(\u001b[38;5;124m\"\u001b[39m\u001b[38;5;124mhello\u001b[39m\u001b[38;5;124m\"\u001b[39m))\n",
      "\u001b[1;31mValueError\u001b[0m: substring not found"
     ]
    }
   ],
   "source": [
    "x = \"hello world hello\"\n",
    "y = \"world \"\n",
    " \n",
    "print(x.rindex(\"hello\")) \n",
    "print(y.rindex(\"hello\")) "
   ]
  },
  {
   "cell_type": "markdown",
   "id": "68a2ea59",
   "metadata": {},
   "source": [
    "# 31. rjust(width[, fillchar]):\n",
    "    Right-justifies the string in a field of a given width."
   ]
  },
  {
   "cell_type": "code",
   "execution_count": 222,
   "id": "6f047bc9",
   "metadata": {},
   "outputs": [
    {
     "name": "stdout",
     "output_type": "stream",
     "text": [
      "-----hello\n"
     ]
    }
   ],
   "source": [
    "x = \"hello\"\n",
    "print(x.rjust(10, '-')) \n"
   ]
  },
  {
   "cell_type": "markdown",
   "id": "ffc26e8f",
   "metadata": {},
   "source": [
    "# 32. rpartition(sep): \n",
    "    Partitions the string into three parts around the last occurrence of the separator."
   ]
  },
  {
   "cell_type": "code",
   "execution_count": 228,
   "id": "7d134b1d",
   "metadata": {},
   "outputs": [
    {
     "name": "stdout",
     "output_type": "stream",
     "text": [
      "('ganapuram naveen', ' ', 'reddy')\n"
     ]
    }
   ],
   "source": [
    "x = \"ganapuram naveen reddy\"\n",
    "print(x.rpartition(' '))"
   ]
  },
  {
   "cell_type": "markdown",
   "id": "9f7c9637",
   "metadata": {},
   "source": [
    "# 33. rsplit(sep=None, maxsplit=-1): \n",
    "    Splits the string from the right at the separator."
   ]
  },
  {
   "cell_type": "code",
   "execution_count": 232,
   "id": "6b0a1c1f",
   "metadata": {},
   "outputs": [
    {
     "name": "stdout",
     "output_type": "stream",
     "text": [
      "['hello world', 'hello']\n"
     ]
    }
   ],
   "source": [
    "x = \"hello world hello\"\n",
    "print(x.rsplit(\" \", 1))  \n"
   ]
  },
  {
   "cell_type": "markdown",
   "id": "5b23d2c0",
   "metadata": {},
   "source": [
    "# 34. rstrip([chars]):\n",
    "    Removes trailing characters from the string."
   ]
  },
  {
   "cell_type": "code",
   "execution_count": 263,
   "id": "48d1a7ad",
   "metadata": {},
   "outputs": [
    {
     "name": "stdout",
     "output_type": "stream",
     "text": [
      "##hello\n"
     ]
    }
   ],
   "source": [
    "x = \"##hello###\"\n",
    "print(x.rstrip('#'))  "
   ]
  },
  {
   "cell_type": "markdown",
   "id": "947f67b7",
   "metadata": {},
   "source": [
    "# 35.split():\n",
    "    Splits the string at the separator."
   ]
  },
  {
   "cell_type": "code",
   "execution_count": 261,
   "id": "8456bdfe",
   "metadata": {},
   "outputs": [
    {
     "name": "stdout",
     "output_type": "stream",
     "text": [
      "['ganapura,', 'naveen', 'reddy']\n"
     ]
    }
   ],
   "source": [
    "x = \"ganapura, naveen reddy\"\n",
    "print(x.split())"
   ]
  },
  {
   "cell_type": "markdown",
   "id": "6de3d2a6",
   "metadata": {},
   "source": [
    "# 36. splitlines([keepends]): \n",
    "    Splits the string at line breaks."
   ]
  },
  {
   "cell_type": "code",
   "execution_count": 264,
   "id": "6892ba9b",
   "metadata": {},
   "outputs": [
    {
     "name": "stdout",
     "output_type": "stream",
     "text": [
      "['hello', 'world']\n"
     ]
    }
   ],
   "source": [
    "x = \"hello\\nworld\"\n",
    "print(x.splitlines())  "
   ]
  },
  {
   "cell_type": "markdown",
   "id": "ac3155bc",
   "metadata": {},
   "source": [
    "# 37. startswith(prefix[, start[, end]]):\n",
    "    Checks if the string starts with the specified prefix."
   ]
  },
  {
   "cell_type": "code",
   "execution_count": 267,
   "id": "001daceb",
   "metadata": {},
   "outputs": [
    {
     "name": "stdout",
     "output_type": "stream",
     "text": [
      "True\n"
     ]
    }
   ],
   "source": [
    "x = \"hello world\"\n",
    "print(x.startswith(\"hello\"))  \n"
   ]
  },
  {
   "cell_type": "markdown",
   "id": "bd631dd1",
   "metadata": {},
   "source": [
    "# 38. strip([chars]):\n",
    "    Removes leading and trailing characters from the string."
   ]
  },
  {
   "cell_type": "code",
   "execution_count": 266,
   "id": "cc1d422c",
   "metadata": {},
   "outputs": [
    {
     "name": "stdout",
     "output_type": "stream",
     "text": [
      "hello\n"
     ]
    }
   ],
   "source": [
    "text = \"###hello####\"\n",
    "print(text.strip('#'))  \n"
   ]
  },
  {
   "cell_type": "markdown",
   "id": "f7e9f6a0",
   "metadata": {},
   "source": [
    "# 39.swapcase(): \n",
    "    Swaps the case of all characters in the string."
   ]
  },
  {
   "cell_type": "code",
   "execution_count": 271,
   "id": "beed71e4",
   "metadata": {},
   "outputs": [
    {
     "name": "stdout",
     "output_type": "stream",
     "text": [
      "hELLO wORLD \n"
     ]
    }
   ],
   "source": [
    "text = \"Hello World \" # it swap the letter upper to lower and lower to upper \n",
    "print(text.swapcase())  "
   ]
  },
  {
   "cell_type": "markdown",
   "id": "a3bd2746",
   "metadata": {},
   "source": [
    "# 40. title():\n",
    "    Converts the string to title case."
   ]
  },
  {
   "cell_type": "code",
   "execution_count": 274,
   "id": "539ec5fd",
   "metadata": {},
   "outputs": [
    {
     "name": "stdout",
     "output_type": "stream",
     "text": [
      "Hello World\n"
     ]
    }
   ],
   "source": [
    "x = \"hello world\" # it give  each word frist letter in capital from the given  string \n",
    "print(x.title())\n"
   ]
  },
  {
   "cell_type": "markdown",
   "id": "37f31195",
   "metadata": {},
   "source": [
    "# 41.  zfill() :\n",
    "    The method in Python is used to pad a string with zeros on the left until it reaches a specified length. This is particularly useful when you need to ensure that strings representing numbers are of equal length by adding leading zeros."
   ]
  },
  {
   "cell_type": "code",
   "execution_count": 277,
   "id": "fb26f683",
   "metadata": {},
   "outputs": [
    {
     "name": "stdout",
     "output_type": "stream",
     "text": [
      "00042\n",
      "12345\n"
     ]
    }
   ],
   "source": [
    "x = \"42\"\n",
    "y = \"12345\"\n",
    "print(x.zfill(5))  \n",
    "print(y.zfill(5)) "
   ]
  },
  {
   "cell_type": "code",
   "execution_count": null,
   "id": "cb043efc",
   "metadata": {},
   "outputs": [],
   "source": []
  }
 ],
 "metadata": {
  "kernelspec": {
   "display_name": "Python 3 (ipykernel)",
   "language": "python",
   "name": "python3"
  },
  "language_info": {
   "codemirror_mode": {
    "name": "ipython",
    "version": 3
   },
   "file_extension": ".py",
   "mimetype": "text/x-python",
   "name": "python",
   "nbconvert_exporter": "python",
   "pygments_lexer": "ipython3",
   "version": "3.11.5"
  }
 },
 "nbformat": 4,
 "nbformat_minor": 5
}
