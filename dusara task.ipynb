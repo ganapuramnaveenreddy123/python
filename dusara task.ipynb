{
 "cells": [
  {
   "cell_type": "markdown",
   "id": "b8ea7902",
   "metadata": {},
   "source": [
    "# Easy "
   ]
  },
  {
   "cell_type": "markdown",
   "id": "7fdef17b",
   "metadata": {},
   "source": [
    "# 18. Create a function that returns the mean of all digits.\n",
    "\n",
    "Examples\n",
    "mean(42) ➞ 3"
   ]
  },
  {
   "cell_type": "code",
   "execution_count": 1,
   "id": "fdb225a5",
   "metadata": {},
   "outputs": [
    {
     "name": "stdout",
     "output_type": "stream",
     "text": [
      "2\n"
     ]
    }
   ],
   "source": [
    "li=[1,2,3,4]\n",
    "x=0\n",
    "sum=0\n",
    "while x<len(li):\n",
    "    sum=sum+li[x]\n",
    "    x+=1\n",
    "print(sum//len(li))"
   ]
  },
  {
   "cell_type": "code",
   "execution_count": 9,
   "id": "ce454929",
   "metadata": {},
   "outputs": [
    {
     "name": "stdout",
     "output_type": "stream",
     "text": [
      "2\n"
     ]
    }
   ],
   "source": [
    "l=[1,2,3,4]\n",
    "sum=0\n",
    "for x in l:\n",
    "    sum=sum+x\n",
    "print(sum//len(li))"
   ]
  },
  {
   "cell_type": "markdown",
   "id": "4ec8c55e",
   "metadata": {},
   "source": [
    "# 19. You're in the midst of creating a typing game.\n",
    "\n",
    "Create a function that takes in two lists: the list of user-typed words, and the list of correctly-typed words and outputs a list containing 1s (correctly-typed words) and -1s (incorrectly-typed words)."
   ]
  },
  {
   "cell_type": "code",
   "execution_count": 10,
   "id": "f52f190b",
   "metadata": {},
   "outputs": [
    {
     "name": "stdout",
     "output_type": "stream",
     "text": [
      "[1, 1, -1, -1, 1]\n"
     ]
    }
   ],
   "source": [
    "l1 = [\"cat\", \"blue\", \"skt\", \"umbrells\", \"paddy\"]\n",
    "l2 = [\"cat\", \"blue\", \"sky\", \"umbrella\", \"paddy\"]\n",
    "z = []\n",
    "x = 0\n",
    "while x < len(l1):\n",
    "    if l1[x]==l2[x]:\n",
    "        z.append(1)\n",
    "    else:\n",
    "        z.append(-1)\n",
    "    x+=1\n",
    "print(z)"
   ]
  },
  {
   "cell_type": "code",
   "execution_count": 13,
   "id": "b89325ac",
   "metadata": {},
   "outputs": [
    {
     "name": "stdout",
     "output_type": "stream",
     "text": [
      "[1, 1, -1, -1, 1]\n"
     ]
    }
   ],
   "source": [
    "l1 = [\"cat\", \"blue\", \"skt\", \"umbrells\", \"paddy\"]\n",
    "l2 = [\"cat\", \"blue\", \"sky\", \"umbrella\", \"paddy\"]\n",
    "z = []\n",
    "x = 0\n",
    "for x in range(0,5):\n",
    "    if l1[x]==l2[x]:\n",
    "        z.append(1)\n",
    "    else:\n",
    "        z.append(-1)\n",
    "    x+=1\n",
    "print(z)"
   ]
  },
  {
   "cell_type": "markdown",
   "id": "b0296c24",
   "metadata": {},
   "source": [
    "# 20. Create a function which returns a list of booleans, from a given number. Iterating through the number one digit at a time, append True if the digit is 1 and False if it is 0."
   ]
  },
  {
   "cell_type": "code",
   "execution_count": 19,
   "id": "697bb413",
   "metadata": {},
   "outputs": [
    {
     "name": "stdout",
     "output_type": "stream",
     "text": [
      "Enter a value either 0 or 1:10100\n",
      "['True', 'False', 'True', 'False', 'False']\n"
     ]
    }
   ],
   "source": [
    "n=int(input(\"Enter a value either 0 or 1:\"))\n",
    "li=[]\n",
    "while n>0:\n",
    "    m=n%10\n",
    "    if m==1:\n",
    "        li.append(\"True\")\n",
    "    else:\n",
    "        li.append(\"False\")\n",
    "    n=n//10\n",
    "li.reverse()\n",
    "print(li)"
   ]
  },
  {
   "cell_type": "code",
   "execution_count": 41,
   "id": "9e63f9a4",
   "metadata": {},
   "outputs": [
    {
     "name": "stdout",
     "output_type": "stream",
     "text": [
      "Enter how many inputs you want to give :1\n",
      "Enter (0) or (1) :1\n",
      "['True']\n"
     ]
    }
   ],
   "source": [
    "n=int(input(\"Enter how many inputs you want to give :\")) \n",
    "li=[]\n",
    "for i in range(n):\n",
    "    bin=int(input(\"Enter (0) or (1) :\"))\n",
    "    m=bin%10\n",
    "    if m==1:\n",
    "        li.append(\"True\")\n",
    "    else:\n",
    "        li.append(\"False\")\n",
    "    n=n//10\n",
    "print(li)"
   ]
  },
  {
   "cell_type": "markdown",
   "id": "eda76d7b",
   "metadata": {},
   "source": [
    "# 21. Create a function that returns True if the first list is a subset of the second. Return False otherwise."
   ]
  },
  {
   "cell_type": "code",
   "execution_count": 47,
   "id": "aa81eb54",
   "metadata": {},
   "outputs": [
    {
     "name": "stdout",
     "output_type": "stream",
     "text": [
      "Enter number of values you want to enter in aset : 5\n",
      "Enter elements : 1\n",
      "Enter elements : 2\n",
      "Enter elements : 2\n",
      "Enter elements : 3\n",
      "Enter elements : 6\n",
      "{1, 2, 3, 6}\n",
      "Enter number of values you want to enter in aset : 2\n",
      "Enter elements : 6\n",
      "Enter elements : 5\n",
      "{5, 6}\n",
      "False\n"
     ]
    }
   ],
   "source": [
    "num1 = int(input(\"Enter number of values you want to enter in aset : \"))\n",
    "aset=set()\n",
    "bset=set()\n",
    "i=0\n",
    "while (i<num1):\n",
    "    element1=int(input(\"Enter elements : \"))\n",
    "    aset.add(element1)\n",
    "    i+=1\n",
    "print(aset)\n",
    "num2 = int(input(\"Enter number of values you want to enter in aset : \"))\n",
    "j=0\n",
    "while (j<num2):\n",
    "    element2=int(input(\"Enter elements : \"))\n",
    "    bset.add(element2)\n",
    "    j+=1\n",
    "print(bset)\n",
    "if bset.issubset(aset):\n",
    "    print(\"True\")\n",
    "else:\n",
    "    print(\"False\")"
   ]
  },
  {
   "cell_type": "code",
   "execution_count": 48,
   "id": "a69aba31",
   "metadata": {},
   "outputs": [
    {
     "name": "stdout",
     "output_type": "stream",
     "text": [
      "Enter number of values you want to enter in aset : 4\n",
      "Enter elements : 1\n",
      "Enter elements : 2\n",
      "Enter elements : 3\n",
      "Enter elements : 4\n",
      "Enter number of values you want to enter in bset : 3\n",
      "Enter elements : 1\n",
      "Enter elements : 2\n",
      "Enter elements : 3\n",
      "True\n",
      "[1, 2, 3, 4]\n",
      "[1, 2, 3]\n"
     ]
    }
   ],
   "source": [
    "num1 = int(input(\"Enter number of values you want to enter in aset : \"))\n",
    "aset=set()\n",
    "bset=set()\n",
    "for i in range(num1):\n",
    "    element1=int(input(\"Enter elements : \"))\n",
    "    aset.add(element1)\n",
    "num2 = int(input(\"Enter number of values you want to enter in bset : \"))\n",
    "for j in range(num2):\n",
    "    element2=int(input(\"Enter elements : \"))\n",
    "    bset.add(element2)\n",
    "if bset.issubset(aset):\n",
    "    print(\"True\")\n",
    "else:\n",
    "    print(\"False\")\n",
    "print(list(aset))\n",
    "print(list(bset))"
   ]
  },
  {
   "cell_type": "markdown",
   "id": "7b4fcf92",
   "metadata": {},
   "source": [
    "# 22. Given a list of scrabble tiles (as dictionaries), create a function that outputs the maximum possible score a player can achieve by summing up the total number of points for all the tiles in their hand. Each hand contains 7 scrabble tiles."
   ]
  },
  {
   "cell_type": "code",
   "execution_count": 125,
   "id": "c27ea534",
   "metadata": {},
   "outputs": [
    {
     "name": "stdout",
     "output_type": "stream",
     "text": [
      "28\n"
     ]
    }
   ],
   "source": [
    "l = [\n",
    "  { \"tile\": \"N\", \"score\": 1 },\n",
    "  { \"tile\": \"K\", \"score\": 5 },\n",
    "  { \"tile\": \"Z\", \"score\": 10 },\n",
    "  { \"tile\": \"X\", \"score\": 8 },\n",
    "  { \"tile\": \"D\", \"score\": 2 },\n",
    "  { \"tile\": \"A\", \"score\": 1 },\n",
    "  { \"tile\": \"E\", \"score\": 1 }\n",
    "]\n",
    "x = 0\n",
    "i = 0\n",
    "while i<len(l):\n",
    "    y =l[i]\n",
    "    x+=y['score']\n",
    "    i+=1\n",
    "print(x)"
   ]
  },
  {
   "cell_type": "code",
   "execution_count": 129,
   "id": "a9f8370f",
   "metadata": {},
   "outputs": [
    {
     "name": "stdout",
     "output_type": "stream",
     "text": [
      "28\n"
     ]
    }
   ],
   "source": [
    "l = [\n",
    "  { \"tile\": \"N\", \"score\": 1 },\n",
    "  { \"tile\": \"K\", \"score\": 5 },\n",
    "  { \"tile\": \"Z\", \"score\": 10 },\n",
    "  { \"tile\": \"X\", \"score\": 8 },\n",
    "  { \"tile\": \"D\", \"score\": 2 },\n",
    "  { \"tile\": \"A\", \"score\": 1 },\n",
    "  { \"tile\": \"E\", \"score\": 1 }\n",
    "]\n",
    "x = 0\n",
    "\n",
    "for y in l:\n",
    "    x+=y['score']\n",
    "print(x)"
   ]
  },
  {
   "cell_type": "markdown",
   "id": "1b876640",
   "metadata": {},
   "source": [
    "# 23. Create a function that takes an integer and returns a list from 1 to the given number, where:\n",
    "\n",
    "If the number can be divided evenly by 4, amplify it by 10 (i.e. return 10 times the number).\n",
    "If the number cannot be divided evenly by 4, simply return the number."
   ]
  },
  {
   "cell_type": "code",
   "execution_count": 3,
   "id": "c7d11255",
   "metadata": {},
   "outputs": [
    {
     "name": "stdout",
     "output_type": "stream",
     "text": [
      "[1, 2, 3, 40, 5, 6, 7, 80, 9, 10]\n"
     ]
    }
   ],
   "source": [
    "n = 10\n",
    "x = []\n",
    "i=1\n",
    "for i in range(1,n+1):\n",
    "    if i%4==0:\n",
    "        x.append(i*10)\n",
    "    else:\n",
    "        x.append(i)\n",
    "    i+=1\n",
    "print(x)\n",
    "        \n",
    "        "
   ]
  },
  {
   "cell_type": "code",
   "execution_count": 105,
   "id": "7d56f67d",
   "metadata": {},
   "outputs": [
    {
     "name": "stdout",
     "output_type": "stream",
     "text": [
      "[1, 2, 3, 40, 5, 6, 7, 80, 9, 10]\n"
     ]
    }
   ],
   "source": [
    "n = 10\n",
    "x = []\n",
    "i =1\n",
    "while i<=n:\n",
    "    if i % 4==0:\n",
    "        x.append(i*10)\n",
    "    else:\n",
    "        x.append(i)\n",
    "    i+=1\n",
    "print(x)\n",
    "        \n",
    "        "
   ]
  },
  {
   "cell_type": "markdown",
   "id": "b6a52c51",
   "metadata": {},
   "source": [
    "# 24. Return the smallest number of steps it takes to convert a string entirely into uppercase or entirely into lower case, whichever takes the fewest number of steps. A step consists of changing one character from lower to upper case, or vice versa."
   ]
  },
  {
   "cell_type": "code",
   "execution_count": 13,
   "id": "3987dd24",
   "metadata": {},
   "outputs": [
    {
     "name": "stdout",
     "output_type": "stream",
     "text": [
      "Enter combination of upper&lower case string : NANI\n",
      "0\n"
     ]
    }
   ],
   "source": [
    "str1=input(\"Enter combination of upper&lower case string : \") #aABC\n",
    "lowercase=0\n",
    "uppercase=0\n",
    "for i in str1:\n",
    "    if i.islower():\n",
    "        lowercase+=1\n",
    "    else:\n",
    "        uppercase+=1\n",
    "if lowercase<=uppercase:\n",
    "    print(lowercase)\n",
    "else:\n",
    "    print(uppercase)"
   ]
  },
  {
   "cell_type": "code",
   "execution_count": 12,
   "id": "908fc379",
   "metadata": {},
   "outputs": [
    {
     "name": "stdout",
     "output_type": "stream",
     "text": [
      "Enter combination of upper&lower case string : NANI\n",
      "0\n"
     ]
    }
   ],
   "source": [
    "str1=input(\"Enter combination of upper&lower case string : \") #aABC\n",
    "lowercase=0\n",
    "uppercase=0\n",
    "while i< str1:\n",
    "    if i.islower():\n",
    "        lowercase+=1\n",
    "    else:\n",
    "        uppercase+=1\n",
    "if lowercase<=uppercase:\n",
    "    print(lowercase)\n",
    "else:\n",
    "    print(uppercase)"
   ]
  },
  {
   "cell_type": "markdown",
   "id": "8ed15d95",
   "metadata": {},
   "source": [
    "# 25. Imagine a messaging device with only one button. For the letter A, you press the button one time, for E, you press it five times, for G, it's pressed seven times, etc, etc.\n",
    "\n",
    "Write a function that takes a string (the message) and returns the total number of times the button is pressed."
   ]
  },
  {
   "cell_type": "code",
   "execution_count": 3,
   "id": "4693bd17",
   "metadata": {},
   "outputs": [
    {
     "name": "stdout",
     "output_type": "stream",
     "text": [
      "enter string :nani\n",
      "38\n"
     ]
    }
   ],
   "source": [
    "x = input('enter string :')\n",
    "button ={\n",
    "        'a': 1, 'b': 2, 'c': 3, 'd': 4, 'e': 5,\n",
    "        'f': 6, 'g': 7, 'h': 8, 'i': 9, 'j': 10,\n",
    "        'k': 11, 'l': 12, 'm': 13, 'n': 14, 'o': 15,\n",
    "        'p': 16, 'q': 17, 'r': 18, 's': 19, 't': 20,\n",
    "        'u': 21, 'v': 22, 'w': 23, 'x': 24, 'y': 25, 'z': 26\n",
    "    }\n",
    "y = 0\n",
    "i =0\n",
    "for i in x:\n",
    "    z = i.lower()\n",
    "    if z in button:\n",
    "            y += button[z]\n",
    "print(y)\n",
    "        "
   ]
  },
  {
   "cell_type": "code",
   "execution_count": 123,
   "id": "541d6d93",
   "metadata": {},
   "outputs": [
    {
     "name": "stdout",
     "output_type": "stream",
     "text": [
      "enter string :b\n",
      "2\n"
     ]
    }
   ],
   "source": [
    "x = input('enter string :')\n",
    "button ={\n",
    "        'a': 1, 'b': 2, 'c': 3, 'd': 4, 'e': 5,\n",
    "        'f': 6, 'g': 7, 'h': 8, 'i': 9, 'j': 10,\n",
    "        'k': 11, 'l': 12, 'm': 13, 'n': 14, 'o': 15,\n",
    "        'p': 16, 'q': 17, 'r': 18, 's': 19, 't': 20,\n",
    "        'u': 21, 'v': 22, 'w': 23, 'x': 24, 'y': 25, 'z': 26\n",
    "    }\n",
    "y = 0\n",
    "i = 0\n",
    "z = 0\n",
    "while i<len(x):\n",
    "    z = x.lower()\n",
    "    if x in button:\n",
    "        y+= button[x]\n",
    "    i+=1\n",
    "print(y)\n"
   ]
  },
  {
   "cell_type": "markdown",
   "id": "86011095",
   "metadata": {},
   "source": []
  },
  {
   "cell_type": "markdown",
   "id": "442a0653",
   "metadata": {},
   "source": [
    "# 26.  You are given a list of dates in the format Dec 11 and a month in the format Dec as arguments. Each date represents a video that was uploaded on that day. Return the number of uploads for a given month.\n",
    "\n",
    "Examples\n",
    "upload_count([\"Sept 22\", \"Sept 21\", \"Oct 15\"], \"Sept\") ➞ 2\n",
    "\n"
   ]
  },
  {
   "cell_type": "code",
   "execution_count": 142,
   "id": "bce664fe",
   "metadata": {},
   "outputs": [
    {
     "name": "stdout",
     "output_type": "stream",
     "text": [
      "2\n"
     ]
    }
   ],
   "source": [
    "dates = [\"Sept 22\", \"Sept 21\", \"Oct 15\"]\n",
    "t_month = \"Sept\"\n",
    "x = 0\n",
    "i = 0\n",
    "while i<len(dates):\n",
    "    z = dates[i].split()\n",
    "    if len(z) == 2:\n",
    "        month = z[0]\n",
    "        if month == t_month:\n",
    "            x+=1\n",
    "    i+=1\n",
    "\n",
    "print(x)"
   ]
  },
  {
   "cell_type": "code",
   "execution_count": 12,
   "id": "0398f7fa",
   "metadata": {},
   "outputs": [
    {
     "name": "stdout",
     "output_type": "stream",
     "text": [
      "2\n"
     ]
    }
   ],
   "source": [
    "dates = [\"Sept 22\", \"Sept 21\", \"Oct 15\"]\n",
    "t_month = \"Sept\"\n",
    "x = 0\n",
    "for i in dates:\n",
    "    z = dates[x].split()\n",
    "    if len(z) == 2:\n",
    "        month = z[0]\n",
    "    if month == t_month:\n",
    "            x+=1\n",
    "\n",
    "print(x)"
   ]
  },
  {
   "cell_type": "markdown",
   "id": "4303fece",
   "metadata": {},
   "source": [
    "# 27.  I'm trying to watch some lectures to study for my next exam but I keep getting distracted by meme compilations, vine compilations, anime, and more on my favorite video platform.\n",
    "\n",
    "* Your job is to help me create a function that takes a string and checks to see if it contains the following words or phrases:\n",
    "\n",
    "* \"anime\"\n",
    "* \"meme\"\n",
    "* \"vines\"\n",
    "* \"roasts\"\n",
    "* \"Danny DeVito\"\n",
    "* If it does, return \"NO!\". Otherwise, return \"Safe watching!\"."
   ]
  },
  {
   "cell_type": "code",
   "execution_count": 30,
   "id": "ca1f39ba",
   "metadata": {},
   "outputs": [
    {
     "name": "stdout",
     "output_type": "stream",
     "text": [
      "enter platform:anime\n",
      "NO!\n"
     ]
    }
   ],
   "source": [
    "z = input('enter platform:')\n",
    "x = [\"anime\", \"meme\", \"vines\", \"roasts\", \"Danny DeVito\"]\n",
    "i=1\n",
    "for i in x:\n",
    "    if i==z:\n",
    "        print('NO!')\n",
    "        break\n",
    "else:\n",
    "    print('safe wartching')\n",
    "    "
   ]
  },
  {
   "cell_type": "code",
   "execution_count": 69,
   "id": "e9524ea8",
   "metadata": {},
   "outputs": [
    {
     "name": "stdout",
     "output_type": "stream",
     "text": [
      "enter platform:meme\n",
      "NO!\n"
     ]
    }
   ],
   "source": [
    "z = input('enter platform:')\n",
    "x = [\"anime\", \"meme\", \"vines\", \"roasts\", \"Danny DeVito\"]\n",
    "while i < len(x):\n",
    "    if x[i] in z:\n",
    "        i+=0\n",
    "        print('NO!')\n",
    "        break\n",
    "else:\n",
    "    print('safe wartching')"
   ]
  },
  {
   "cell_type": "markdown",
   "id": "629d153b",
   "metadata": {},
   "source": [
    "# 28. Create a function that returns the sum of all even elements in a 2D matrix.\n",
    "\n",
    "Examples\n",
    "* sum_of_evens([\n",
    "  [1, 1, 2],\n",
    "  [5, 5, 7],\n",
    "  [9, 4, 3]\n",
    "]) ➞ 6\n",
    "\n",
    "// 2 + 4 = 6"
   ]
  },
  {
   "cell_type": "code",
   "execution_count": 12,
   "id": "fe0e3793",
   "metadata": {},
   "outputs": [
    {
     "name": "stdout",
     "output_type": "stream",
     "text": [
      "6\n"
     ]
    }
   ],
   "source": [
    "l = [ [1, 1, 2], [5, 5, 7], [9, 4, 3] ]\n",
    "x = 0\n",
    "z = 0\n",
    "for i in l:\n",
    "    for x in i:\n",
    "        if x%2==0:\n",
    "            z+=x\n",
    "print(z)"
   ]
  },
  {
   "cell_type": "code",
   "execution_count": 9,
   "id": "7c3beeb7",
   "metadata": {},
   "outputs": [
    {
     "name": "stdout",
     "output_type": "stream",
     "text": [
      "6\n"
     ]
    }
   ],
   "source": [
    "l = [ [1, 1, 2], [5, 5, 7], [9, 4, 3] ]\n",
    "i = 0\n",
    "z = 0\n",
    "while i < len(l):\n",
    "    j = 0\n",
    "    while j < len(l[i]):\n",
    "        if l[i][j] % 2 == 0:\n",
    "            z += l[i][j]\n",
    "        j += 1\n",
    "    i += 1\n",
    "\n",
    "print(z)\n"
   ]
  },
  {
   "cell_type": "code",
   "execution_count": 6,
   "id": "85673402",
   "metadata": {},
   "outputs": [
    {
     "data": {
      "text/plain": [
       "[1, 1, 2]"
      ]
     },
     "execution_count": 6,
     "metadata": {},
     "output_type": "execute_result"
    }
   ],
   "source": [
    "l[0]"
   ]
  },
  {
   "cell_type": "markdown",
   "id": "6785d135",
   "metadata": {},
   "source": [
    "# 29. A factor chain is a list where each previous element is a factor of the next consecutive element. The following is a factor chain:\n",
    "\n",
    "[3, 6, 12, 36]\n",
    "\n",
    "3 is a factor of 6"
   ]
  },
  {
   "cell_type": "code",
   "execution_count": 169,
   "id": "3196da55",
   "metadata": {},
   "outputs": [
    {
     "name": "stdout",
     "output_type": "stream",
     "text": [
      "True\n"
     ]
    }
   ],
   "source": [
    "lst = [1, 2, 4, 8, 16, 32]\n",
    "for i in range(len(lst)-1):\n",
    "    if lst[i+1]%lst[i]!=0:\n",
    "        print(False)\n",
    "print(True)\n"
   ]
  },
  {
   "cell_type": "code",
   "execution_count": 174,
   "id": "65408aa0",
   "metadata": {},
   "outputs": [
    {
     "name": "stdout",
     "output_type": "stream",
     "text": [
      "True\n"
     ]
    }
   ],
   "source": [
    "lst= [1, 2, 4, 8, 16, 32]\n",
    "i = 0\n",
    "while i < len(lst) - 1:\n",
    "    if lst[i + 1] % lst[i] != 0:\n",
    "        print(False)\n",
    "    i += 1\n",
    "print(True)\n"
   ]
  },
  {
   "cell_type": "markdown",
   "id": "f48f8d00",
   "metadata": {},
   "source": [
    "# 30. Create a function, that will for a given a, b, c, do the following:\n",
    "\n",
    "Add a to itself b times.\n",
    "Check if the result is divisible by c.\n",
    "Examples\n",
    "abcmath(42, 5, 10) ➞ False"
   ]
  },
  {
   "cell_type": "code",
   "execution_count": 185,
   "id": "2b316f83",
   "metadata": {},
   "outputs": [
    {
     "name": "stdout",
     "output_type": "stream",
     "text": [
      "enter number :2\n",
      "enter number :2\n",
      "enter number :5\n",
      "False\n"
     ]
    }
   ],
   "source": [
    "a, b, c =int(input('enter number :')),int(input('enter number :')),int(input('enter number :'))\n",
    "result = a\n",
    "i = 0\n",
    "while i < b:\n",
    "    result += result \n",
    "    i += 1\n",
    "print(result % c == 0)   \n"
   ]
  },
  {
   "cell_type": "code",
   "execution_count": 187,
   "id": "ffba3120",
   "metadata": {},
   "outputs": [
    {
     "name": "stdout",
     "output_type": "stream",
     "text": [
      "enter number :5\n",
      "enter number :2\n",
      "enter number :1\n",
      "True\n"
     ]
    }
   ],
   "source": [
    "a, b, c =int(input('enter number :')),int(input('enter number :')),int(input('enter number :'))\n",
    "result = a\n",
    "for _ in range(b):\n",
    "    result += result \n",
    "print(result % c == 0)   "
   ]
  },
  {
   "cell_type": "markdown",
   "id": "b3804768",
   "metadata": {},
   "source": [
    "# 31. Write a function that takes three arguments (x, y, z) and returns a list containing x sublists (e.g. [[], [], []]), each containing y number of item z.\n",
    "\n",
    "x Number of sublists contained within the main list.\n",
    "y Number of items contained within each sublist.\n",
    "z Item contained within each sublist.\n",
    "Examples\n",
    "matrix(3, 2, 3) ➞ [[3, 3], [3, 3], [3, 3]] "
   ]
  },
  {
   "cell_type": "code",
   "execution_count": 188,
   "id": "075ed7be",
   "metadata": {},
   "outputs": [
    {
     "name": "stdout",
     "output_type": "stream",
     "text": [
      "enter number :3\n",
      "enter number :2\n",
      "enter number :3\n",
      "[[3, 3], [3, 3], [3, 3]]\n"
     ]
    }
   ],
   "source": [
    "x,y,z = int(input('enter number :')),int(input('enter number :')),int(input('enter number :'))\n",
    "result = []\n",
    "while x > 0:\n",
    "    sublist = []\n",
    "    count = y\n",
    "    while count > 0:\n",
    "        sublist.append(z)\n",
    "        count -= 1\n",
    "    result.append(sublist)\n",
    "    x -= 1\n",
    "print(result)\n"
   ]
  },
  {
   "cell_type": "code",
   "execution_count": 189,
   "id": "91d9d92b",
   "metadata": {},
   "outputs": [
    {
     "name": "stdout",
     "output_type": "stream",
     "text": [
      "enter number :3\n",
      "enter number :2\n",
      "enter number :3\n",
      "[[3, 3], [3, 3], [3, 3]]\n"
     ]
    }
   ],
   "source": [
    "x,y,z = int(input('enter number :')),int(input('enter number :')),int(input('enter number :'))\n",
    "result = []\n",
    "for _ in range(x):\n",
    "        sublist = [z] * y\n",
    "        result.append(sublist)\n",
    "print(result)"
   ]
  },
  {
   "cell_type": "markdown",
   "id": "153097c9",
   "metadata": {},
   "source": [
    "# 32. Write a function that finds the largest even number in a list. Return -1 if not found. The use of built-in functions max() and sorted() are prohibited.\n",
    "\n",
    "Examples\n",
    "largest_even([3, 7, 2, 1, 7, 9, 10, 13]) ➞ 10"
   ]
  },
  {
   "cell_type": "code",
   "execution_count": 6,
   "id": "5bacf6e1",
   "metadata": {},
   "outputs": [
    {
     "name": "stdout",
     "output_type": "stream",
     "text": [
      "10\n"
     ]
    }
   ],
   "source": [
    "l = [3, 7, 2, 1, 7, 9, 10, 13]\n",
    "x= -1\n",
    "i = 0\n",
    "while i < len(l):\n",
    "    if l[i] % 2 == 0 and l[i] > x:\n",
    "        x = l[i] \n",
    "    i += 1\n",
    "print(x)"
   ]
  },
  {
   "cell_type": "code",
   "execution_count": 7,
   "id": "78952796",
   "metadata": {},
   "outputs": [
    {
     "name": "stdout",
     "output_type": "stream",
     "text": [
      "10\n"
     ]
    }
   ],
   "source": [
    "l = [3, 7, 2, 1, 7, 9, 10, 13]\n",
    "x= -1\n",
    "for i in l:\n",
    "    if i % 2 == 0 and i > x:\n",
    "        x = i \n",
    "print(x)"
   ]
  },
  {
   "cell_type": "markdown",
   "id": "3e6765c5",
   "metadata": {},
   "source": [
    "# 33. There's a great war between the even and odd numbers. Many numbers already lost their lives in this war and it's your task to end this. You have to determine which group sums larger: the evens or the odds. The larger group wins.\n",
    "\n",
    "Create a function that takes a list of integers, sums the even and odd numbers separately, then returns the difference between the sums of the even and odd numbers.\n",
    "\n",
    "Examples\n",
    "war_of_numbers([2, 8, 7, 5]) ➞ 2\n",
    "# 2 + 8 = 10\n",
    "# 7 + 5 = 12\n",
    "# 12 is larger than 10\n",
    "# So we return 12 - 10 = 2"
   ]
  },
  {
   "cell_type": "code",
   "execution_count": 200,
   "id": "0fabf1fe",
   "metadata": {},
   "outputs": [
    {
     "name": "stdout",
     "output_type": "stream",
     "text": [
      "2\n"
     ]
    }
   ],
   "source": [
    "x = [2, 8, 7, 5]\n",
    "y = 0\n",
    "z = 0\n",
    "i = 0\n",
    "\n",
    "for x in x:\n",
    "    if x % 2 == 0:\n",
    "        y += x\n",
    "    else:\n",
    "        z += x\n",
    "    i += 1\n",
    "\n",
    "print( abs(y - z)) "
   ]
  },
  {
   "cell_type": "code",
   "execution_count": 201,
   "id": "e8579566",
   "metadata": {},
   "outputs": [
    {
     "name": "stdout",
     "output_type": "stream",
     "text": [
      "2\n"
     ]
    }
   ],
   "source": [
    "x = [2, 8, 7, 5]\n",
    "y = 0\n",
    "z = 0\n",
    "i = 0\n",
    "\n",
    "while i < len(x):\n",
    "    if x[i] % 2 == 0:\n",
    "        y += x[i]\n",
    "    else:\n",
    "        z += x[i]\n",
    "    i += 1\n",
    "\n",
    "print( abs(y - z)) "
   ]
  },
  {
   "cell_type": "markdown",
   "id": "425212dc",
   "metadata": {},
   "source": [
    "# 34. Create a function that compares two words based on the sum of their ASCII codes and returns the word with the smaller ASCII sum.\n",
    "\n",
    "Examples\n",
    "ascii_sort([\"hey\", \"man\"]) ➞ \"man\"\n",
    " [\"h\", \"e\", \"y\"] ➞ sum([104, 101, 121]) ➞ 326\n",
    " [\"m\", \"a\", \"n\"] ➞ sum([109, 97, 110]) ➞ 316"
   ]
  },
  {
   "cell_type": "code",
   "execution_count": 202,
   "id": "deae3f24",
   "metadata": {},
   "outputs": [
    {
     "name": "stdout",
     "output_type": "stream",
     "text": [
      "man\n"
     ]
    }
   ],
   "source": [
    "x = [\"hey\", \"man\"]\n",
    "y = float('inf')  \n",
    "z = None\n",
    "i = 0\n",
    "while i < len(x):\n",
    "    word = x[i]\n",
    "    word_sum = sum(ord(char) for char in word)\n",
    "    if word_sum < y:\n",
    "        y = word_sum\n",
    "        z = word\n",
    "    i += 1 \n",
    "print(z)"
   ]
  },
  {
   "cell_type": "code",
   "execution_count": 203,
   "id": "080b0f0a",
   "metadata": {},
   "outputs": [
    {
     "name": "stdout",
     "output_type": "stream",
     "text": [
      "man\n"
     ]
    }
   ],
   "source": [
    "x = [\"hey\", \"man\"]\n",
    "y = float('inf')  \n",
    "z = None\n",
    "i = 0\n",
    "for word in x:\n",
    "    word = x[i]\n",
    "    word_sum = sum(ord(char) for char in word)\n",
    "    if word_sum < y:\n",
    "        y = word_sum\n",
    "        z = word\n",
    "    i += 1 \n",
    "print(z)"
   ]
  },
  {
   "cell_type": "markdown",
   "id": "07e935cb",
   "metadata": {},
   "source": [
    "# medium"
   ]
  },
  {
   "cell_type": "markdown",
   "id": "a31ce072",
   "metadata": {},
   "source": [
    "# Create a function that returns the amount of duplicate characters in a string. It will be case sensitive and spaces are included. If there are no duplicates, return 0.\n",
    "\n",
    "Examples\n",
    "duplicates(\"Hello World!\") ➞ 3\n",
    "# \"o\" = 2, \"l\" = 3.\n",
    "# \"o\" is duplicated 1 extr"
   ]
  },
  {
   "cell_type": "code",
   "execution_count": null,
   "id": "263638ca",
   "metadata": {},
   "outputs": [],
   "source": [
    "num "
   ]
  },
  {
   "cell_type": "code",
   "execution_count": null,
   "id": "be591cbd",
   "metadata": {},
   "outputs": [],
   "source": []
  },
  {
   "cell_type": "code",
   "execution_count": null,
   "id": "65d2d61e",
   "metadata": {},
   "outputs": [],
   "source": []
  },
  {
   "cell_type": "code",
   "execution_count": null,
   "id": "23fbbfcb",
   "metadata": {},
   "outputs": [],
   "source": []
  },
  {
   "cell_type": "code",
   "execution_count": null,
   "id": "1b0aa815",
   "metadata": {},
   "outputs": [],
   "source": []
  },
  {
   "cell_type": "code",
   "execution_count": null,
   "id": "c219f87f",
   "metadata": {},
   "outputs": [],
   "source": []
  },
  {
   "cell_type": "code",
   "execution_count": null,
   "id": "72374462",
   "metadata": {},
   "outputs": [],
   "source": []
  },
  {
   "cell_type": "code",
   "execution_count": null,
   "id": "0245120b",
   "metadata": {},
   "outputs": [],
   "source": []
  },
  {
   "cell_type": "code",
   "execution_count": null,
   "id": "243ac792",
   "metadata": {},
   "outputs": [],
   "source": []
  },
  {
   "cell_type": "code",
   "execution_count": null,
   "id": "e77e5f58",
   "metadata": {},
   "outputs": [],
   "source": []
  },
  {
   "cell_type": "code",
   "execution_count": null,
   "id": "76e99d2d",
   "metadata": {},
   "outputs": [],
   "source": []
  },
  {
   "cell_type": "code",
   "execution_count": null,
   "id": "0442fcb7",
   "metadata": {},
   "outputs": [],
   "source": []
  },
  {
   "cell_type": "code",
   "execution_count": null,
   "id": "718e68f2",
   "metadata": {},
   "outputs": [],
   "source": []
  },
  {
   "cell_type": "code",
   "execution_count": null,
   "id": "3372a3d0",
   "metadata": {},
   "outputs": [],
   "source": []
  }
 ],
 "metadata": {
  "kernelspec": {
   "display_name": "Python 3 (ipykernel)",
   "language": "python",
   "name": "python3"
  },
  "language_info": {
   "codemirror_mode": {
    "name": "ipython",
    "version": 3
   },
   "file_extension": ".py",
   "mimetype": "text/x-python",
   "name": "python",
   "nbconvert_exporter": "python",
   "pygments_lexer": "ipython3",
   "version": "3.11.5"
  }
 },
 "nbformat": 4,
 "nbformat_minor": 5
}
