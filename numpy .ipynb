{
 "cells": [
  {
   "cell_type": "markdown",
   "id": "6a3e648e",
   "metadata": {},
   "source": [
    "# Introduction to NumPy\n",
    "NumPy (Numerical Python) is a powerful library for numerical computing in Python. It provides support for arrays and matrices, along with a large collection of mathematical functions."
   ]
  },
  {
   "cell_type": "code",
   "execution_count": 2,
   "id": "d9d59228",
   "metadata": {},
   "outputs": [],
   "source": [
    "import numpy as np"
   ]
  },
  {
   "cell_type": "markdown",
   "id": "d43595b6",
   "metadata": {},
   "source": [
    "# Diffferent Between List and numpy:\n",
    "List: Slower for numerical operations due to the dynamic typing of elements and lack of optimization for numerical computations.\n",
    "\n",
    "NumPy Array: Faster for numerical operations as it uses fixed data types and optimized C/C++ libraries for performance."
   ]
  },
  {
   "cell_type": "code",
   "execution_count": 85,
   "id": "e78d3eb5",
   "metadata": {},
   "outputs": [],
   "source": [
    "import time\n",
    "from time import time "
   ]
  },
  {
   "cell_type": "code",
   "execution_count": 86,
   "id": "2178f081",
   "metadata": {},
   "outputs": [
    {
     "name": "stdout",
     "output_type": "stream",
     "text": [
      "-1.332486629486084\n"
     ]
    }
   ],
   "source": [
    "x = time()\n",
    "y = [i for i in range(10000000)]\n",
    "z = time()\n",
    "print(x-z)"
   ]
  },
  {
   "cell_type": "code",
   "execution_count": 87,
   "id": "f51b836b",
   "metadata": {},
   "outputs": [
    {
     "name": "stdout",
     "output_type": "stream",
     "text": [
      "-0.24564290046691895\n"
     ]
    }
   ],
   "source": [
    "x = time()\n",
    "y =  np.arange(10000000)\n",
    "z = time()\n",
    "print(x-z)"
   ]
  },
  {
   "cell_type": "markdown",
   "id": "01ddb7a3",
   "metadata": {},
   "source": [
    "# Creating Arrays\n",
    "Arrays are the central data structure in NumPy. You can create arrays using various functions."
   ]
  },
  {
   "cell_type": "code",
   "execution_count": 89,
   "id": "24cf0743",
   "metadata": {},
   "outputs": [
    {
     "name": "stdout",
     "output_type": "stream",
     "text": [
      "[1 2 3 4]\n",
      "\n",
      "[0 1 2 3 4]\n",
      "\n",
      "<class 'numpy.ndarray'>\n",
      "\n",
      "<class 'numpy.ndarray'>\n",
      "\n",
      "1\n",
      "\n",
      "1\n"
     ]
    }
   ],
   "source": [
    "x = np.array([1,2,3,4])   # 1D arrary\n",
    "y = np.arange(0,5)\n",
    "print(x, y ,type(x) ,type(y),x.ndim, y.ndim, sep='\\n\\n')"
   ]
  },
  {
   "cell_type": "code",
   "execution_count": 70,
   "id": "4d3a6f7b",
   "metadata": {},
   "outputs": [
    {
     "name": "stdout",
     "output_type": "stream",
     "text": [
      "[[1 2 3]\n",
      " [4 5 6]]\n",
      "\n",
      "[[0 1 2]\n",
      " [3 4 5]\n",
      " [6 7 8]]\n",
      "\n",
      "<class 'numpy.ndarray'>\n",
      "\n",
      "<class 'numpy.ndarray'>\n",
      "\n",
      "2\n",
      "\n",
      "2\n"
     ]
    }
   ],
   "source": [
    "x = np.array([[1,2,3],  \n",
    "             [4,5,6]])   # 2D arrary\n",
    "y = np.arange(9).reshape(3,3)\n",
    "print(x, y ,type(x),type(y), x.ndim, y.ndim ,sep='\\n\\n')"
   ]
  },
  {
   "cell_type": "code",
   "execution_count": 73,
   "id": "fc3f5081",
   "metadata": {},
   "outputs": [
    {
     "name": "stdout",
     "output_type": "stream",
     "text": [
      "[[[ 1  2  3]\n",
      "  [ 4  5  6]]\n",
      "\n",
      " [[ 7  8  9]\n",
      "  [10 11 12]]]\n",
      "\n",
      "[[[ 0  1  2]\n",
      "  [ 3  4  5]\n",
      "  [ 6  7  8]]\n",
      "\n",
      " [[ 9 10 11]\n",
      "  [12 13 14]\n",
      "  [15 16 17]]]\n",
      "\n",
      "<class 'numpy.ndarray'>\n",
      "\n",
      "<class 'numpy.ndarray'>\n",
      "\n",
      "3\n",
      "\n",
      "3\n"
     ]
    }
   ],
   "source": [
    "x = np.array([[[1,2,3],  \n",
    "             [4,5,6]],\n",
    "             [[7,8,9],\n",
    "             [10,11,12]]])   # 3D arrary\n",
    "y = np.arange(18).reshape(2,3,3)\n",
    "print(x, y ,type(x),type(y), x.ndim, y.ndim ,sep='\\n\\n')"
   ]
  },
  {
   "cell_type": "markdown",
   "id": "cbe64cd4",
   "metadata": {},
   "source": [
    "# Array Attributes:"
   ]
  },
  {
   "cell_type": "code",
   "execution_count": 146,
   "id": "d659b289",
   "metadata": {},
   "outputs": [
    {
     "name": "stdout",
     "output_type": "stream",
     "text": [
      "[[ 0  1  2]\n",
      " [ 3  4  5]\n",
      " [ 6  7  8]\n",
      " [ 9 10 11]]\n",
      "Shape: (4, 3)\n",
      "Data type: int32\n",
      "Size: 12\n",
      "Number of dimensions: 2\n",
      "size of elments(in bytes) is itemssize : 4\n"
     ]
    }
   ],
   "source": [
    "x = np.arange(12).reshape(4,3)\n",
    "print(x)\n",
    "print(\"Shape:\", x.shape)\n",
    "print(\"Data type:\", x.dtype)\n",
    "print(\"Size:\", x.size)\n",
    "print(\"Number of dimensions:\", x.ndim)\n",
    "print(\"size of elments(in bytes) is itemssize :\", x.itemsize)"
   ]
  },
  {
   "cell_type": "markdown",
   "id": "fc0475c8",
   "metadata": {},
   "source": [
    "# Using zeros and ones:\n",
    "* zeros:\n",
    "\n",
    "   zeros is a function in NumPy that creates an array filled with zeros. You can specify the shape of the array by passing a tuple of dimensions as an argument.\n",
    "* ones : \n",
    "\n",
    "    np.ones creates an array filled with ones. You can specify the shape of the array, such as 1D, 2D, etc.\n"
   ]
  },
  {
   "cell_type": "code",
   "execution_count": 109,
   "id": "2a7de1c8",
   "metadata": {},
   "outputs": [
    {
     "name": "stdout",
     "output_type": "stream",
     "text": [
      "[[0. 0. 0.]\n",
      " [0. 0. 0.]\n",
      " [0. 0. 0.]]\n",
      "\n",
      "[[1. 1. 1.]\n",
      " [1. 1. 1.]\n",
      " [1. 1. 1.]]\n"
     ]
    }
   ],
   "source": [
    "x = np.zeros((3,3))\n",
    "y = np.ones((3,3))\n",
    "print(x,y, sep='\\n\\n') "
   ]
  },
  {
   "cell_type": "markdown",
   "id": "2b751997",
   "metadata": {},
   "source": [
    "# linspace\n",
    "The numpy.linspace function generates evenly spaced numbers between a specified start and end value. You can choose how many numbers you want in that range.\n"
   ]
  },
  {
   "cell_type": "code",
   "execution_count": 7,
   "id": "d8933780",
   "metadata": {},
   "outputs": [
    {
     "data": {
      "text/plain": [
       "array([ 0.        ,  0.34482759,  0.68965517,  1.03448276,  1.37931034,\n",
       "        1.72413793,  2.06896552,  2.4137931 ,  2.75862069,  3.10344828,\n",
       "        3.44827586,  3.79310345,  4.13793103,  4.48275862,  4.82758621,\n",
       "        5.17241379,  5.51724138,  5.86206897,  6.20689655,  6.55172414,\n",
       "        6.89655172,  7.24137931,  7.5862069 ,  7.93103448,  8.27586207,\n",
       "        8.62068966,  8.96551724,  9.31034483,  9.65517241, 10.        ])"
      ]
     },
     "execution_count": 7,
     "metadata": {},
     "output_type": "execute_result"
    }
   ],
   "source": [
    "np.linspace(0,10,30)  # the range 0 to 10 that is equal patrs to 30 "
   ]
  },
  {
   "cell_type": "markdown",
   "id": "0e4d5181",
   "metadata": {},
   "source": [
    "# identity\n",
    "The numpy.identity function creates a square matrix with ones on the main diagonal and zeros elsewhere. It’s useful for creating the identity matrix, which acts as a neutral element in matrix multiplication."
   ]
  },
  {
   "cell_type": "code",
   "execution_count": 8,
   "id": "29006c9f",
   "metadata": {},
   "outputs": [
    {
     "data": {
      "text/plain": [
       "array([[1., 0., 0., 0., 0.],\n",
       "       [0., 1., 0., 0., 0.],\n",
       "       [0., 0., 1., 0., 0.],\n",
       "       [0., 0., 0., 1., 0.],\n",
       "       [0., 0., 0., 0., 1.]])"
      ]
     },
     "execution_count": 8,
     "metadata": {},
     "output_type": "execute_result"
    }
   ],
   "source": [
    "np.identity(5)"
   ]
  },
  {
   "cell_type": "code",
   "execution_count": 11,
   "id": "0d8629ee",
   "metadata": {},
   "outputs": [
    {
     "data": {
      "text/plain": [
       "array([[1., 0., 0., 0., 0.],\n",
       "       [0., 1., 0., 0., 0.],\n",
       "       [0., 0., 1., 0., 0.],\n",
       "       [0., 0., 0., 1., 0.],\n",
       "       [0., 0., 0., 0., 1.]])"
      ]
     },
     "execution_count": 11,
     "metadata": {},
     "output_type": "execute_result"
    }
   ],
   "source": [
    "np.eye(5) # identity"
   ]
  },
  {
   "cell_type": "markdown",
   "id": "9c79b1fc",
   "metadata": {},
   "source": [
    "# np.random.rand\n",
    "np.random.rand generates random numbers from a uniform distribution between 0 and 1."
   ]
  },
  {
   "cell_type": "code",
   "execution_count": 128,
   "id": "ad49443c",
   "metadata": {},
   "outputs": [
    {
     "data": {
      "text/plain": [
       "array([[0.18281374, 0.36821445, 0.0603158 ],\n",
       "       [0.60364102, 0.21273558, 0.28665062],\n",
       "       [0.87741599, 0.53151811, 0.69625793]])"
      ]
     },
     "execution_count": 128,
     "metadata": {},
     "output_type": "execute_result"
    }
   ],
   "source": [
    "np.random.rand(3,3)\n"
   ]
  },
  {
   "cell_type": "markdown",
   "id": "30d4b8cb",
   "metadata": {},
   "source": [
    "# np.random.randint\n",
    "The np.random.randint function generates random integers between a specified low and high value."
   ]
  },
  {
   "cell_type": "code",
   "execution_count": 130,
   "id": "5bf39634",
   "metadata": {},
   "outputs": [
    {
     "data": {
      "text/plain": [
       "array([[7, 2, 6],\n",
       "       [9, 9, 7],\n",
       "       [2, 5, 8]])"
      ]
     },
     "execution_count": 130,
     "metadata": {},
     "output_type": "execute_result"
    }
   ],
   "source": [
    "np.random.randint(0, 10,(3,3))"
   ]
  },
  {
   "cell_type": "markdown",
   "id": "adfca341",
   "metadata": {},
   "source": [
    "# np.random.randn\n",
    "The numpy.random.randn function generates an array of random numbers from a standard normal distribution (mean 0, variance 1)."
   ]
  },
  {
   "cell_type": "code",
   "execution_count": 125,
   "id": "ce109810",
   "metadata": {},
   "outputs": [
    {
     "name": "stdout",
     "output_type": "stream",
     "text": [
      "[[-0.54592653  0.44174691 -0.16855845]\n",
      " [-0.37043551  0.82195904 -1.76749988]\n",
      " [-0.81491078  1.34354001  0.78705635]]\n"
     ]
    }
   ],
   "source": [
    "print(np.random.randn(3, 3))"
   ]
  },
  {
   "cell_type": "markdown",
   "id": "35c5ba1d",
   "metadata": {},
   "source": [
    "# np.random.choice\n",
    "np.random.choice selects random elements from an array or range, with options for choosing with or without replacement."
   ]
  },
  {
   "cell_type": "code",
   "execution_count": 5,
   "id": "5ca9b92a",
   "metadata": {},
   "outputs": [
    {
     "data": {
      "text/plain": [
       "array([[8, 7, 9],\n",
       "       [8, 1, 1],\n",
       "       [7, 3, 7]])"
      ]
     },
     "execution_count": 5,
     "metadata": {},
     "output_type": "execute_result"
    }
   ],
   "source": [
    "np.random.choice(10,(3,3))"
   ]
  },
  {
   "cell_type": "markdown",
   "id": "e28124bb",
   "metadata": {},
   "source": [
    "# np.random.seed()\n",
    "np.random.seed() sets the random seed for NumPy's random number generator, ensuring reproducibility of random results in simulations and experiments."
   ]
  },
  {
   "cell_type": "code",
   "execution_count": 212,
   "id": "8df0c459",
   "metadata": {},
   "outputs": [
    {
     "data": {
      "text/plain": [
       "array([[0.01037415, 0.50187459, 0.49577329],\n",
       "       [0.13382953, 0.14211109, 0.21855868],\n",
       "       [0.41850818, 0.24810117, 0.08405965]])"
      ]
     },
     "execution_count": 212,
     "metadata": {},
     "output_type": "execute_result"
    }
   ],
   "source": [
    "np.random.seed(9)\n",
    "np.random.rand(3,3)"
   ]
  },
  {
   "cell_type": "markdown",
   "id": "c890a2b0",
   "metadata": {},
   "source": [
    "# np.floor\n",
    "np.floor rounds each number in an array down to the nearest integer"
   ]
  },
  {
   "cell_type": "code",
   "execution_count": 132,
   "id": "6323bf0b",
   "metadata": {},
   "outputs": [
    {
     "data": {
      "text/plain": [
       "6.0"
      ]
     },
     "execution_count": 132,
     "metadata": {},
     "output_type": "execute_result"
    }
   ],
   "source": [
    "np.floor(6.6)"
   ]
  },
  {
   "cell_type": "markdown",
   "id": "e63fc3ee",
   "metadata": {},
   "source": [
    "# np.ceil :\n",
    "np.ceil rounds each number in an array up to the nearest integer."
   ]
  },
  {
   "cell_type": "code",
   "execution_count": 133,
   "id": "0bb6637f",
   "metadata": {},
   "outputs": [
    {
     "data": {
      "text/plain": [
       "7.0"
      ]
     },
     "execution_count": 133,
     "metadata": {},
     "output_type": "execute_result"
    }
   ],
   "source": [
    "np.ceil(6.4)"
   ]
  },
  {
   "cell_type": "markdown",
   "id": "e1cf5656",
   "metadata": {},
   "source": [
    "# np.round\n",
    "np.round rounds the elements of an array to a specified number of decimal places."
   ]
  },
  {
   "cell_type": "code",
   "execution_count": 135,
   "id": "c03480bb",
   "metadata": {},
   "outputs": [
    {
     "data": {
      "text/plain": [
       "7.0"
      ]
     },
     "execution_count": 135,
     "metadata": {},
     "output_type": "execute_result"
    }
   ],
   "source": [
    "np.round(6.6)"
   ]
  },
  {
   "cell_type": "code",
   "execution_count": 10,
   "id": "081c371b",
   "metadata": {},
   "outputs": [
    {
     "data": {
      "text/plain": [
       "6.0"
      ]
     },
     "execution_count": 10,
     "metadata": {},
     "output_type": "execute_result"
    }
   ],
   "source": [
    "np.round(6.4)"
   ]
  },
  {
   "cell_type": "markdown",
   "id": "6540b5af",
   "metadata": {},
   "source": [
    "# changing data type :\n",
    "Changing data type means converting the values in an array from one type (like integer) to another type (like float).\n",
    "\n",
    "\n"
   ]
  },
  {
   "cell_type": "code",
   "execution_count": 158,
   "id": "3c3294c1",
   "metadata": {},
   "outputs": [
    {
     "name": "stdout",
     "output_type": "stream",
     "text": [
      "[[[ 0  1  2]\n",
      "  [ 3  4  5]\n",
      "  [ 6  7  8]]\n",
      "\n",
      " [[ 9 10 11]\n",
      "  [12 13 14]\n",
      "  [15 16 17]]] int32\n"
     ]
    }
   ],
   "source": [
    "x = np.arange(18).reshape(2,3,3) \n",
    "print(x,x.dtype)"
   ]
  },
  {
   "cell_type": "code",
   "execution_count": 157,
   "id": "f6093797",
   "metadata": {},
   "outputs": [
    {
     "data": {
      "text/plain": [
       "array([[[ 0.,  1.,  2.],\n",
       "        [ 3.,  4.,  5.],\n",
       "        [ 6.,  7.,  8.]],\n",
       "\n",
       "       [[ 9., 10., 11.],\n",
       "        [12., 13., 14.],\n",
       "        [15., 16., 17.]]], dtype=float32)"
      ]
     },
     "execution_count": 157,
     "metadata": {},
     "output_type": "execute_result"
    }
   ],
   "source": [
    "x.astype('float32')"
   ]
  },
  {
   "cell_type": "markdown",
   "id": "2c910a3c",
   "metadata": {},
   "source": [
    "# Array Operation\n",
    "Array Operations data type: It refers to the type of mathematical operations (like addition or multiplication) that can be performed on arrays and how they affect the data in those array"
   ]
  },
  {
   "cell_type": "code",
   "execution_count": 159,
   "id": "0fdc215c",
   "metadata": {},
   "outputs": [
    {
     "name": "stdout",
     "output_type": "stream",
     "text": [
      "[5 7 9]\n",
      "[ 4 10 18]\n"
     ]
    }
   ],
   "source": [
    "x = np.array([1, 2, 3])\n",
    "y = np.array([4, 5, 6])\n",
    "\n",
    "print(x + y)   # Element-wise addition\n",
    "print(x * y)   # Element-wise multiplication"
   ]
  },
  {
   "cell_type": "markdown",
   "id": "d1209b63",
   "metadata": {},
   "source": [
    "# np.dot\n",
    "The np.dot function performs matrix multiplication or computes the dot product of two arrays. to work the dot product the frist matrix  colum size and second matrix row size should same  \n",
    "ex:\n",
    "(4--r,3--c) and (3--r,4--c)\n"
   ]
  },
  {
   "cell_type": "code",
   "execution_count": 184,
   "id": "329c86dc",
   "metadata": {},
   "outputs": [
    {
     "data": {
      "text/plain": [
       "array([[ 56,  59,  62,  65],\n",
       "       [200, 212, 224, 236],\n",
       "       [344, 365, 386, 407],\n",
       "       [488, 518, 548, 578]])"
      ]
     },
     "execution_count": 184,
     "metadata": {},
     "output_type": "execute_result"
    }
   ],
   "source": [
    "x = np.arange(12).reshape(4,3) \n",
    "y = np.arange(12,24).reshape(3,4)\n",
    "x.dot(y)"
   ]
  },
  {
   "cell_type": "code",
   "execution_count": 187,
   "id": "71cc3da1",
   "metadata": {},
   "outputs": [
    {
     "ename": "ValueError",
     "evalue": "shapes (4,3) and (4,3) not aligned: 3 (dim 1) != 4 (dim 0)",
     "output_type": "error",
     "traceback": [
      "\u001b[1;31m---------------------------------------------------------------------------\u001b[0m",
      "\u001b[1;31mValueError\u001b[0m                                Traceback (most recent call last)",
      "Cell \u001b[1;32mIn[187], line 3\u001b[0m\n\u001b[0;32m      1\u001b[0m x \u001b[38;5;241m=\u001b[39m np\u001b[38;5;241m.\u001b[39marange(\u001b[38;5;241m12\u001b[39m)\u001b[38;5;241m.\u001b[39mreshape(\u001b[38;5;241m4\u001b[39m,\u001b[38;5;241m3\u001b[39m)\n\u001b[0;32m      2\u001b[0m y \u001b[38;5;241m=\u001b[39m np\u001b[38;5;241m.\u001b[39marange(\u001b[38;5;241m12\u001b[39m,\u001b[38;5;241m24\u001b[39m)\u001b[38;5;241m.\u001b[39mreshape(\u001b[38;5;241m4\u001b[39m,\u001b[38;5;241m3\u001b[39m)\n\u001b[1;32m----> 3\u001b[0m x\u001b[38;5;241m.\u001b[39mdot(y)\n",
      "\u001b[1;31mValueError\u001b[0m: shapes (4,3) and (4,3) not aligned: 3 (dim 1) != 4 (dim 0)"
     ]
    }
   ],
   "source": [
    "x = np.arange(12).reshape(4,3)\n",
    "y = np.arange(12,24).reshape(4,3)\n",
    "x.dot(y)"
   ]
  },
  {
   "cell_type": "markdown",
   "id": "0280b3f8",
   "metadata": {},
   "source": [
    "# Universal Functions (ufuncs):\n",
    "    Universal Functions (ufuncs) in NumPy are built-in functions that perform element-wise operations on arrays, like addition, subtraction, or square roots, efficiently."
   ]
  },
  {
   "cell_type": "code",
   "execution_count": 168,
   "id": "96f54197",
   "metadata": {},
   "outputs": [
    {
     "name": "stdout",
     "output_type": "stream",
     "text": [
      "[1.         1.41421356 1.73205081 2.        ]\n",
      "[ 2.71828183  7.3890561  20.08553692 54.59815003]\n",
      "[ 0.84147098  0.90929743  0.14112001 -0.7568025 ]\n"
     ]
    }
   ],
   "source": [
    "x = np.array([1, 2, 3, 4])\n",
    "\n",
    "print(np.sqrt(x))    # Square root\n",
    "print(np.exp(x))     # Exponential\n",
    "print(np.sin(x))     # Sine"
   ]
  },
  {
   "cell_type": "markdown",
   "id": "6785a4a6",
   "metadata": {},
   "source": [
    "# Statistics\n",
    "Statistics involves collecting, analyzing, and interpreting numerical data to make decisions or draw conclusions about a population or phenomenon.\n",
    "\n",
    "\n"
   ]
  },
  {
   "cell_type": "code",
   "execution_count": 17,
   "id": "086004a2",
   "metadata": {},
   "outputs": [
    {
     "name": "stdout",
     "output_type": "stream",
     "text": [
      "3.0\n",
      "3.0\n",
      "1.4142135623730951\n",
      "2.0\n",
      "1\n",
      "5\n",
      "15\n",
      "120\n",
      "4\n",
      "0\n"
     ]
    }
   ],
   "source": [
    "a = np.array([1, 2, 3, 4, 5])\n",
    "\n",
    "print(np.mean(a))   # Mean\n",
    "print(np.median(a)) # Median\n",
    "print(np.std(a))    # Standard deviation\n",
    "print(np.var(a))    # Variance\n",
    "print(np.min(a))    # minimum value \n",
    "print(np.max(a))    # maximum value\n",
    "print(np.sum(a))    # sum of the all values\n",
    "print(np.prod(a))   # multiply all the values (1*2*3*4*5)\n",
    "print(np.argmax(a)) # index position  of maxmimum value\n",
    "print(np.argmin(a)) # index position  of minimum value"
   ]
  },
  {
   "cell_type": "markdown",
   "id": "20880b03",
   "metadata": {},
   "source": [
    "# Transposing:\n",
    "    Flipping a matrix over its diagonal so rows become columns and columns become rows."
   ]
  },
  {
   "cell_type": "code",
   "execution_count": 191,
   "id": "7dc7e9ec",
   "metadata": {},
   "outputs": [
    {
     "data": {
      "text/plain": [
       "array([[0, 1, 2],\n",
       "       [3, 4, 5],\n",
       "       [6, 7, 8]])"
      ]
     },
     "execution_count": 191,
     "metadata": {},
     "output_type": "execute_result"
    }
   ],
   "source": [
    "x = np.arange(9).reshape(3,3)\n",
    "x"
   ]
  },
  {
   "cell_type": "code",
   "execution_count": 192,
   "id": "13d21485",
   "metadata": {},
   "outputs": [
    {
     "data": {
      "text/plain": [
       "array([[0, 3, 6],\n",
       "       [1, 4, 7],\n",
       "       [2, 5, 8]])"
      ]
     },
     "execution_count": 192,
     "metadata": {},
     "output_type": "execute_result"
    }
   ],
   "source": [
    "x.T"
   ]
  },
  {
   "cell_type": "markdown",
   "id": "acbf082f",
   "metadata": {},
   "source": [
    "# ravel\n",
    "In NumPy, the n NumPy, the ravel() function is used to flatten an array, meaning it collapses the array into a 1D array. () function is used to flatten an array, meaning it collapses the array into a 1D array. "
   ]
  },
  {
   "cell_type": "code",
   "execution_count": 145,
   "id": "6e968679",
   "metadata": {},
   "outputs": [
    {
     "data": {
      "text/plain": [
       "array([[0, 1, 2],\n",
       "       [3, 4, 5],\n",
       "       [6, 7, 8]])"
      ]
     },
     "execution_count": 145,
     "metadata": {},
     "output_type": "execute_result"
    }
   ],
   "source": [
    "x = np.arange(9).reshape(3,3)\n",
    "x"
   ]
  },
  {
   "cell_type": "code",
   "execution_count": 146,
   "id": "b7f66d43",
   "metadata": {},
   "outputs": [
    {
     "data": {
      "text/plain": [
       "array([0, 1, 2, 3, 4, 5, 6, 7, 8])"
      ]
     },
     "execution_count": 146,
     "metadata": {},
     "output_type": "execute_result"
    }
   ],
   "source": [
    "np.ravel(x) # its convert to 1D array"
   ]
  },
  {
   "cell_type": "markdown",
   "id": "916fd89d",
   "metadata": {},
   "source": [
    "# Indexing:\n",
    "     Access specific elements of an array using their position.\n",
    "    "
   ]
  },
  {
   "cell_type": "markdown",
   "id": "a13c43c2",
   "metadata": {},
   "source": [
    "# 1d array :"
   ]
  },
  {
   "cell_type": "code",
   "execution_count": 10,
   "id": "4207d7d6",
   "metadata": {},
   "outputs": [
    {
     "data": {
      "text/plain": [
       "array([0, 1, 2, 3, 4])"
      ]
     },
     "execution_count": 10,
     "metadata": {},
     "output_type": "execute_result"
    }
   ],
   "source": [
    "x = np.arange(0,5) # indexing on 1d array\n",
    "x"
   ]
  },
  {
   "cell_type": "code",
   "execution_count": 12,
   "id": "9e12db59",
   "metadata": {},
   "outputs": [
    {
     "data": {
      "text/plain": [
       "2"
      ]
     },
     "execution_count": 12,
     "metadata": {},
     "output_type": "execute_result"
    }
   ],
   "source": [
    "x[2]  # ccessing 2 from the array by using positive index"
   ]
  },
  {
   "cell_type": "code",
   "execution_count": 30,
   "id": "331dd257",
   "metadata": {},
   "outputs": [
    {
     "data": {
      "text/plain": [
       "2"
      ]
     },
     "execution_count": 30,
     "metadata": {},
     "output_type": "execute_result"
    }
   ],
   "source": [
    "x[-3] # ccessing 2 from the array by using negative index "
   ]
  },
  {
   "cell_type": "markdown",
   "id": "d6d85b3e",
   "metadata": {},
   "source": [
    "# 2d array :"
   ]
  },
  {
   "cell_type": "code",
   "execution_count": 27,
   "id": "1d2031ae",
   "metadata": {},
   "outputs": [
    {
     "data": {
      "text/plain": [
       "array([[11,  9,  0],\n",
       "       [ 7,  2, 10],\n",
       "       [ 1,  9, 11]])"
      ]
     },
     "execution_count": 27,
     "metadata": {},
     "output_type": "execute_result"
    }
   ],
   "source": [
    "y = np.random.randint(0,12,(3,3)) # indexing on 2d array\n",
    "y"
   ]
  },
  {
   "cell_type": "code",
   "execution_count": 28,
   "id": "824735c7",
   "metadata": {},
   "outputs": [
    {
     "data": {
      "text/plain": [
       "2"
      ]
     },
     "execution_count": 28,
     "metadata": {},
     "output_type": "execute_result"
    }
   ],
   "source": [
    "y[1,1]  # ccessing 2 from the matrix by using positive index"
   ]
  },
  {
   "cell_type": "code",
   "execution_count": 34,
   "id": "c4876b63",
   "metadata": {},
   "outputs": [
    {
     "data": {
      "text/plain": [
       "2"
      ]
     },
     "execution_count": 34,
     "metadata": {},
     "output_type": "execute_result"
    }
   ],
   "source": [
    "y[-2,-2] # ccessing 2 from the matrix by using negative index "
   ]
  },
  {
   "cell_type": "markdown",
   "id": "e12b6ee5",
   "metadata": {},
   "source": [
    "# 3d array :"
   ]
  },
  {
   "cell_type": "code",
   "execution_count": 46,
   "id": "319748a7",
   "metadata": {},
   "outputs": [
    {
     "data": {
      "text/plain": [
       "array([[[ 4, 43, 95],\n",
       "        [29, 39, 35],\n",
       "        [74, 11, 57]],\n",
       "\n",
       "       [[95, 28, 26],\n",
       "        [26, 56, 36],\n",
       "        [17, 66, 33]]])"
      ]
     },
     "execution_count": 46,
     "metadata": {},
     "output_type": "execute_result"
    }
   ],
   "source": [
    "z = np.random.randint(0,100,(2,3,3)) # indexing on 3d array\n",
    "z"
   ]
  },
  {
   "cell_type": "code",
   "execution_count": 47,
   "id": "b89c9f4a",
   "metadata": {},
   "outputs": [
    {
     "data": {
      "text/plain": [
       "56"
      ]
     },
     "execution_count": 47,
     "metadata": {},
     "output_type": "execute_result"
    }
   ],
   "source": [
    "z[1,1,1]  # ccessing 56 from the matrix by using positive index "
   ]
  },
  {
   "cell_type": "code",
   "execution_count": 48,
   "id": "9cce8d90",
   "metadata": {},
   "outputs": [
    {
     "data": {
      "text/plain": [
       "56"
      ]
     },
     "execution_count": 48,
     "metadata": {},
     "output_type": "execute_result"
    }
   ],
   "source": [
    "z[-1,-2,-2] # ccessing 2 from the matrix by using negative index "
   ]
  },
  {
   "cell_type": "markdown",
   "id": "c958a5d8",
   "metadata": {},
   "source": [
    "# 4d array :"
   ]
  },
  {
   "cell_type": "code",
   "execution_count": 61,
   "id": "8e374fea",
   "metadata": {},
   "outputs": [
    {
     "data": {
      "text/plain": [
       "array([[[[ 2, 55, 16],\n",
       "         [55, 54, 42],\n",
       "         [12, 56,  2]],\n",
       "\n",
       "        [[80, 74, 22],\n",
       "         [24,  9, 84],\n",
       "         [69, 43, 16]]],\n",
       "\n",
       "\n",
       "       [[[76, 70, 53],\n",
       "         [54,  8, 32],\n",
       "         [52, 57, 38]],\n",
       "\n",
       "        [[16,  7, 60],\n",
       "         [66,  5, 33],\n",
       "         [59, 50, 10]]]])"
      ]
     },
     "execution_count": 61,
     "metadata": {},
     "output_type": "execute_result"
    }
   ],
   "source": [
    "z = np.random.randint(0,100,(2,2,3,3)) # indexing on 4d array\n",
    "z"
   ]
  },
  {
   "cell_type": "code",
   "execution_count": 62,
   "id": "15e8c127",
   "metadata": {},
   "outputs": [
    {
     "data": {
      "text/plain": [
       "33"
      ]
     },
     "execution_count": 62,
     "metadata": {},
     "output_type": "execute_result"
    }
   ],
   "source": [
    "z[1,1,1,2]  # ccessing 33 from the matrix by using positive index "
   ]
  },
  {
   "cell_type": "code",
   "execution_count": 64,
   "id": "d63cc735",
   "metadata": {},
   "outputs": [
    {
     "data": {
      "text/plain": [
       "33"
      ]
     },
     "execution_count": 64,
     "metadata": {},
     "output_type": "execute_result"
    }
   ],
   "source": [
    "z[-1,-1,-2,-1] # ccessing 33 from the matrix by using negative index  "
   ]
  },
  {
   "cell_type": "markdown",
   "id": "2bf040be",
   "metadata": {},
   "source": [
    "# Slicing [start : end : step] :\n",
    "    Extract a subset of elements from an array."
   ]
  },
  {
   "cell_type": "markdown",
   "id": "120c8a8e",
   "metadata": {},
   "source": [
    "# 1d array :"
   ]
  },
  {
   "cell_type": "code",
   "execution_count": 66,
   "id": "244f65da",
   "metadata": {},
   "outputs": [
    {
     "data": {
      "text/plain": [
       "array([0, 1, 2, 3, 4])"
      ]
     },
     "execution_count": 66,
     "metadata": {},
     "output_type": "execute_result"
    }
   ],
   "source": [
    "x = np.arange(0,5) # Slicing on 1d array\n",
    "x"
   ]
  },
  {
   "cell_type": "code",
   "execution_count": 68,
   "id": "f82f6eb8",
   "metadata": {},
   "outputs": [
    {
     "data": {
      "text/plain": [
       "array([2, 3, 4])"
      ]
     },
     "execution_count": 68,
     "metadata": {},
     "output_type": "execute_result"
    }
   ],
   "source": [
    "x[2:5] # by using positive slicing ccessing 2 to 4 from the array"
   ]
  },
  {
   "cell_type": "code",
   "execution_count": 82,
   "id": "c0e2ad42",
   "metadata": {},
   "outputs": [
    {
     "data": {
      "text/plain": [
       "array([2, 3, 4])"
      ]
     },
     "execution_count": 82,
     "metadata": {},
     "output_type": "execute_result"
    }
   ],
   "source": [
    "x[-3:]  # by using positive slicing ccessing 2 to 4 from the array"
   ]
  },
  {
   "cell_type": "markdown",
   "id": "c684d4f4",
   "metadata": {},
   "source": [
    "# 2d array :"
   ]
  },
  {
   "cell_type": "code",
   "execution_count": 88,
   "id": "dae035ba",
   "metadata": {},
   "outputs": [
    {
     "data": {
      "text/plain": [
       "array([[13, 17,  0],\n",
       "       [15, 10,  2],\n",
       "       [ 3, 10, 11]])"
      ]
     },
     "execution_count": 88,
     "metadata": {},
     "output_type": "execute_result"
    }
   ],
   "source": [
    "y = np.random.randint(0,20,(3,3)) # indexing on 2d array\n",
    "y"
   ]
  },
  {
   "cell_type": "code",
   "execution_count": 94,
   "id": "2a60d86e",
   "metadata": {},
   "outputs": [
    {
     "data": {
      "text/plain": [
       "array([[13,  0],\n",
       "       [ 3, 11]])"
      ]
     },
     "execution_count": 94,
     "metadata": {},
     "output_type": "execute_result"
    }
   ],
   "source": [
    "y[::2,::2] "
   ]
  },
  {
   "cell_type": "markdown",
   "id": "a5b529c7",
   "metadata": {},
   "source": [
    "# 3d array :"
   ]
  },
  {
   "cell_type": "code",
   "execution_count": 112,
   "id": "df555656",
   "metadata": {},
   "outputs": [
    {
     "data": {
      "text/plain": [
       "array([[[17,  1, 13],\n",
       "        [78, 37, 19],\n",
       "        [18, 79, 36]],\n",
       "\n",
       "       [[45, 37, 20],\n",
       "        [ 2, 69, 56],\n",
       "        [33, 81, 58]],\n",
       "\n",
       "       [[65, 41,  8],\n",
       "        [23, 41, 54],\n",
       "        [21, 19, 21]]])"
      ]
     },
     "execution_count": 112,
     "metadata": {},
     "output_type": "execute_result"
    }
   ],
   "source": [
    "z = np.random.randint(0,100,(3,3,3)) # indexing on 3d array\n",
    "z"
   ]
  },
  {
   "cell_type": "code",
   "execution_count": 115,
   "id": "d378d46b",
   "metadata": {},
   "outputs": [
    {
     "data": {
      "text/plain": [
       "array([[[17, 13],\n",
       "        [18, 36]],\n",
       "\n",
       "       [[65,  8],\n",
       "        [21, 21]]])"
      ]
     },
     "execution_count": 115,
     "metadata": {},
     "output_type": "execute_result"
    }
   ],
   "source": [
    "z[::2,::2,::2]"
   ]
  },
  {
   "cell_type": "markdown",
   "id": "60a393ea",
   "metadata": {},
   "source": [
    "# 4d array :"
   ]
  },
  {
   "cell_type": "code",
   "execution_count": 116,
   "id": "772b0e84",
   "metadata": {},
   "outputs": [
    {
     "data": {
      "text/plain": [
       "array([[[[60, 83, 39],\n",
       "         [49, 84, 75],\n",
       "         [38, 13, 10]],\n",
       "\n",
       "        [[45, 62,  9],\n",
       "         [46,  9, 31],\n",
       "         [35, 25, 74]]],\n",
       "\n",
       "\n",
       "       [[[47, 23, 25],\n",
       "         [38, 65, 10],\n",
       "         [81, 47, 19]],\n",
       "\n",
       "        [[95, 59, 21],\n",
       "         [31, 47, 41],\n",
       "         [74, 61, 42]]]])"
      ]
     },
     "execution_count": 116,
     "metadata": {},
     "output_type": "execute_result"
    }
   ],
   "source": [
    "z = np.random.randint(0,100,(2,2,3,3)) # indexing on 4d array\n",
    "z"
   ]
  },
  {
   "cell_type": "code",
   "execution_count": 124,
   "id": "7c83ed30",
   "metadata": {},
   "outputs": [
    {
     "data": {
      "text/plain": [
       "array([[[[60, 39],\n",
       "         [38, 10]],\n",
       "\n",
       "        [[45,  9],\n",
       "         [35, 74]]],\n",
       "\n",
       "\n",
       "       [[[47, 25],\n",
       "         [81, 19]],\n",
       "\n",
       "        [[95, 21],\n",
       "         [74, 42]]]])"
      ]
     },
     "execution_count": 124,
     "metadata": {},
     "output_type": "execute_result"
    }
   ],
   "source": [
    "z[:,:,::2,::2]"
   ]
  },
  {
   "cell_type": "markdown",
   "id": "0b578249",
   "metadata": {},
   "source": [
    "# Broadcasting\n",
    "* If the arrays do not have the same rank (number of dimensions), prepend the shape of the smaller array with ones until both shapes have the same length.\n",
    "* The sizes of the arrays must match in each dimension, or the size of one of the arrays must be 1."
   ]
  },
  {
   "cell_type": "code",
   "execution_count": 154,
   "id": "573d3ed2",
   "metadata": {},
   "outputs": [
    {
     "name": "stdout",
     "output_type": "stream",
     "text": [
      "[[ 9 11 13]\n",
      " [12 14 16]\n",
      " [15 17 19]]\n"
     ]
    }
   ],
   "source": [
    "x = np.arange(3) \n",
    "y = np.arange(9,18).reshape(3,3)\n",
    "print(x+y)"
   ]
  },
  {
   "cell_type": "markdown",
   "id": "73d68a0b",
   "metadata": {},
   "source": [
    "# Axis:\n",
    "Axis in NumPy refer to the directions along which operations like indexing, slicing, and reductions (e.g., sum, mean) are performed. In a multi-dimensional array, each dimension is associated with an axis. axis = 0 (rows), axis = 1(colums)"
   ]
  },
  {
   "cell_type": "code",
   "execution_count": 128,
   "id": "2ab1b669",
   "metadata": {},
   "outputs": [
    {
     "data": {
      "text/plain": [
       "array([[36, 14, 78],\n",
       "       [57, 61, 39],\n",
       "       [52, 63, 39]])"
      ]
     },
     "execution_count": 128,
     "metadata": {},
     "output_type": "execute_result"
    }
   ],
   "source": [
    "z = np.random.randint(0,100,(3,3)) #  3d array\n",
    "z"
   ]
  },
  {
   "cell_type": "code",
   "execution_count": 131,
   "id": "794480ca",
   "metadata": {},
   "outputs": [
    {
     "data": {
      "text/plain": [
       "array([36, 14, 39])"
      ]
     },
     "execution_count": 131,
     "metadata": {},
     "output_type": "execute_result"
    }
   ],
   "source": [
    "np.min(z, axis=0) # minimum values of each row from the given matrix"
   ]
  },
  {
   "cell_type": "code",
   "execution_count": 132,
   "id": "1c43a18b",
   "metadata": {},
   "outputs": [
    {
     "data": {
      "text/plain": [
       "array([14, 39, 39])"
      ]
     },
     "execution_count": 132,
     "metadata": {},
     "output_type": "execute_result"
    }
   ],
   "source": [
    "np.min(z, axis=1) # minimum values of each colums from the given matrix"
   ]
  },
  {
   "cell_type": "markdown",
   "id": "8513dad1",
   "metadata": {},
   "source": [
    "# iterate\n",
    "In NumPy, you can iterate over arrays in various ways to access and manipulate the elements\n"
   ]
  },
  {
   "cell_type": "code",
   "execution_count": 135,
   "id": "159ea79e",
   "metadata": {},
   "outputs": [
    {
     "data": {
      "text/plain": [
       "array([0, 1, 2, 3, 4])"
      ]
     },
     "execution_count": 135,
     "metadata": {},
     "output_type": "execute_result"
    }
   ],
   "source": [
    "x = np.arange(0,5) # iterate on 1d array\n",
    "x"
   ]
  },
  {
   "cell_type": "code",
   "execution_count": 138,
   "id": "9cb2ef7f",
   "metadata": {},
   "outputs": [
    {
     "name": "stdout",
     "output_type": "stream",
     "text": [
      "0\n",
      "1\n",
      "2\n",
      "3\n",
      "4\n"
     ]
    }
   ],
   "source": [
    "for i in x:\n",
    "    print(i)"
   ]
  },
  {
   "cell_type": "code",
   "execution_count": 4,
   "id": "f673f362",
   "metadata": {},
   "outputs": [
    {
     "data": {
      "text/plain": [
       "2"
      ]
     },
     "execution_count": 4,
     "metadata": {},
     "output_type": "execute_result"
    }
   ],
   "source": [
    "x = np.arange(9).reshape(3,3) # iterate on 2d array\n",
    "x"
   ]
  },
  {
   "cell_type": "code",
   "execution_count": 143,
   "id": "7d7da41d",
   "metadata": {},
   "outputs": [
    {
     "name": "stdout",
     "output_type": "stream",
     "text": [
      "[0 1 2]\n",
      "[3 4 5]\n",
      "[6 7 8]\n"
     ]
    }
   ],
   "source": [
    "for i in x:\n",
    "    print(i)"
   ]
  },
  {
   "cell_type": "code",
   "execution_count": 144,
   "id": "ff1269b5",
   "metadata": {},
   "outputs": [
    {
     "name": "stdout",
     "output_type": "stream",
     "text": [
      "0\n",
      "1\n",
      "2\n",
      "3\n",
      "4\n",
      "5\n",
      "6\n",
      "7\n",
      "8\n"
     ]
    }
   ],
   "source": [
    "for i in np.nditer(x):\n",
    "    print(i)"
   ]
  },
  {
   "cell_type": "markdown",
   "id": "090e7021",
   "metadata": {},
   "source": [
    "# Stacking\n",
    "Stacking involves combining multiple arrays into a single array along a specified axis."
   ]
  },
  {
   "cell_type": "markdown",
   "id": "4559e28b",
   "metadata": {},
   "source": [
    "# Vertical Stacking: np.vstack()\n",
    "Stacks arrays in a row-wise manner (along the first axis).\n",
    "\n"
   ]
  },
  {
   "cell_type": "code",
   "execution_count": 166,
   "id": "d061c00f",
   "metadata": {},
   "outputs": [
    {
     "name": "stdout",
     "output_type": "stream",
     "text": [
      "[[0 1 2]\n",
      " [3 4 5]] \n",
      "\n",
      "[[ 6  7  8]\n",
      " [ 9 10 11]]\n"
     ]
    }
   ],
   "source": [
    "x = np.arange(6).reshape(2,3)\n",
    "y = np.arange(6,12).reshape(2,3)\n",
    "print(x,y, sep=' \\n\\n')"
   ]
  },
  {
   "cell_type": "code",
   "execution_count": 167,
   "id": "7300b579",
   "metadata": {},
   "outputs": [
    {
     "data": {
      "text/plain": [
       "array([[ 0,  1,  2],\n",
       "       [ 3,  4,  5],\n",
       "       [ 6,  7,  8],\n",
       "       [ 9, 10, 11]])"
      ]
     },
     "execution_count": 167,
     "metadata": {},
     "output_type": "execute_result"
    }
   ],
   "source": [
    "np.vstack((x,y))"
   ]
  },
  {
   "cell_type": "markdown",
   "id": "d4eac46e",
   "metadata": {},
   "source": [
    "# Horizontal Stacking: np.hstack()\n",
    "Stacks arrays in a column-wise manner (along the second axis)."
   ]
  },
  {
   "cell_type": "code",
   "execution_count": 169,
   "id": "4a3b5adf",
   "metadata": {},
   "outputs": [
    {
     "name": "stdout",
     "output_type": "stream",
     "text": [
      "[[0 1 2]\n",
      " [3 4 5]] \n",
      "\n",
      "[[ 6  7  8]\n",
      " [ 9 10 11]]\n"
     ]
    }
   ],
   "source": [
    "x = np.arange(6).reshape(2,3)\n",
    "y = np.arange(6,12).reshape(2,3)\n",
    "print(x,y, sep=' \\n\\n')"
   ]
  },
  {
   "cell_type": "code",
   "execution_count": 168,
   "id": "9a468ffd",
   "metadata": {},
   "outputs": [
    {
     "data": {
      "text/plain": [
       "array([[ 0,  1,  2,  6,  7,  8],\n",
       "       [ 3,  4,  5,  9, 10, 11]])"
      ]
     },
     "execution_count": 168,
     "metadata": {},
     "output_type": "execute_result"
    }
   ],
   "source": [
    "np.hstack((x,y))"
   ]
  },
  {
   "cell_type": "markdown",
   "id": "43e4163f",
   "metadata": {},
   "source": [
    "# Splitting Arrays\n",
    "Splitting divides a single array into multiple smaller arrays. There are several methods for splitting arrays."
   ]
  },
  {
   "cell_type": "markdown",
   "id": "6c73dc4e",
   "metadata": {},
   "source": [
    "# Basic Splitting: np.split()\n",
    "Splits an array into multiple sub-arrays."
   ]
  },
  {
   "cell_type": "code",
   "execution_count": 174,
   "id": "bc7b2544",
   "metadata": {},
   "outputs": [
    {
     "data": {
      "text/plain": [
       "array([[0, 1, 2],\n",
       "       [3, 4, 5],\n",
       "       [6, 7, 8]])"
      ]
     },
     "execution_count": 174,
     "metadata": {},
     "output_type": "execute_result"
    }
   ],
   "source": [
    "x = np.arange(9).reshape(3,3)\n",
    "x"
   ]
  },
  {
   "cell_type": "code",
   "execution_count": 177,
   "id": "e886c60d",
   "metadata": {},
   "outputs": [
    {
     "data": {
      "text/plain": [
       "[array([[0, 1, 2]]), array([[3, 4, 5]]), array([[6, 7, 8]])]"
      ]
     },
     "execution_count": 177,
     "metadata": {},
     "output_type": "execute_result"
    }
   ],
   "source": [
    "np.split(x, 3)"
   ]
  },
  {
   "cell_type": "markdown",
   "id": "4fee682e",
   "metadata": {},
   "source": [
    "# Horizontal Split: np.hsplit()\n",
    "Splits an array along the columns."
   ]
  },
  {
   "cell_type": "code",
   "execution_count": 178,
   "id": "fa8e519e",
   "metadata": {},
   "outputs": [
    {
     "data": {
      "text/plain": [
       "array([[0, 1, 2],\n",
       "       [3, 4, 5],\n",
       "       [6, 7, 8]])"
      ]
     },
     "execution_count": 178,
     "metadata": {},
     "output_type": "execute_result"
    }
   ],
   "source": [
    "x = np.arange(9).reshape(3,3)\n",
    "x"
   ]
  },
  {
   "cell_type": "code",
   "execution_count": 179,
   "id": "d9f489dc",
   "metadata": {},
   "outputs": [
    {
     "data": {
      "text/plain": [
       "[array([[0],\n",
       "        [3],\n",
       "        [6]]),\n",
       " array([[1],\n",
       "        [4],\n",
       "        [7]]),\n",
       " array([[2],\n",
       "        [5],\n",
       "        [8]])]"
      ]
     },
     "execution_count": 179,
     "metadata": {},
     "output_type": "execute_result"
    }
   ],
   "source": [
    "np.hsplit(x,3) # it split the columns"
   ]
  },
  {
   "cell_type": "markdown",
   "id": "01013417",
   "metadata": {},
   "source": [
    "# vertical Split: np.vsplit()\n",
    "Splits an array along the rows."
   ]
  },
  {
   "cell_type": "code",
   "execution_count": 180,
   "id": "3946be8d",
   "metadata": {},
   "outputs": [
    {
     "data": {
      "text/plain": [
       "array([[0, 1, 2],\n",
       "       [3, 4, 5],\n",
       "       [6, 7, 8]])"
      ]
     },
     "execution_count": 180,
     "metadata": {},
     "output_type": "execute_result"
    }
   ],
   "source": [
    "x = np.arange(9).reshape(3,3)\n",
    "x"
   ]
  },
  {
   "cell_type": "code",
   "execution_count": 185,
   "id": "d74ad282",
   "metadata": {},
   "outputs": [
    {
     "data": {
      "text/plain": [
       "[array([[0, 1, 2]]), array([[3, 4, 5]]), array([[6, 7, 8]])]"
      ]
     },
     "execution_count": 185,
     "metadata": {},
     "output_type": "execute_result"
    }
   ],
   "source": [
    "np.vsplit(x,3) # it split the rows"
   ]
  },
  {
   "cell_type": "code",
   "execution_count": null,
   "id": "4048c5ab",
   "metadata": {},
   "outputs": [],
   "source": []
  }
 ],
 "metadata": {
  "kernelspec": {
   "display_name": "Python 3 (ipykernel)",
   "language": "python",
   "name": "python3"
  },
  "language_info": {
   "codemirror_mode": {
    "name": "ipython",
    "version": 3
   },
   "file_extension": ".py",
   "mimetype": "text/x-python",
   "name": "python",
   "nbconvert_exporter": "python",
   "pygments_lexer": "ipython3",
   "version": "3.11.5"
  }
 },
 "nbformat": 4,
 "nbformat_minor": 5
}
