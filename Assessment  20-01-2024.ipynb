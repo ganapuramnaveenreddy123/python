{
 "cells": [
  {
   "cell_type": "markdown",
   "id": "58554329",
   "metadata": {},
   "source": [
    "# 1. what will be the output of the following python program ?\n",
    "* a. Error\n",
    "* b. None \n",
    "* c. False\n",
    "* d. True "
   ]
  },
  {
   "cell_type": "code",
   "execution_count": 3,
   "id": "6de9b61d",
   "metadata": {},
   "outputs": [],
   "source": [
    "def foo (x):  #This defines a function named foo that takes a single parameter x.\n",
    "    x[0]=['def']  #Inside the function, it modifies the contents of the list x.\n",
    "    x[1]=['abc']   #It assigns a new list ['def'] to the 0th index and ['abc'] to the 1st index of the input list x.\n",
    "    return id(x)  #Finally, it returns the unique identifier (id) of the modified list x."
   ]
  },
  {
   "cell_type": "code",
   "execution_count": 4,
   "id": "45c5a3d7",
   "metadata": {},
   "outputs": [
    {
     "name": "stdout",
     "output_type": "stream",
     "text": [
      "True\n"
     ]
    }
   ],
   "source": [
    "q=['abc', 'def']  #A list q is initialized with the elements 'abc' and 'def'.\n",
    "print(id(q)==foo(q)) #the comparison id(q) == foo(q) will evaluate to True."
   ]
  },
  {
   "cell_type": "markdown",
   "id": "0c0ec714",
   "metadata": {},
   "source": [
    "# 2. what will be the output of the following python code ?¶\n",
    "* a. error,there is more than one return statement in a single try finally block\n",
    "* b. 1\n",
    "* c. 1    2\n",
    "* d. 2"
   ]
  },
  {
   "cell_type": "code",
   "execution_count": 5,
   "id": "3e7a9316",
   "metadata": {},
   "outputs": [
    {
     "name": "stdout",
     "output_type": "stream",
     "text": [
      "2\n"
     ]
    }
   ],
   "source": [
    "def fun(): # This is a function named 'fun'.\n",
    "    try:   # Inside a 'try' block, which means it's trying to do something.\n",
    "        return 1  # It tries to return the value 1.\n",
    "    finally: # No matter what happens in the 'try' block, this 'finally' block will run.\n",
    "        return 2 # It returns the value 2.\n",
    "k=fun()  ## Call the function 'fun' and store the result in a variable named 'k'.\n",
    "print(k) # Print the value stored in 'k'."
   ]
  },
  {
   "cell_type": "markdown",
   "id": "8f366d37",
   "metadata": {},
   "source": [
    "# 3 ) what will be the output of the following code snippet ?\n",
    "* a. Local\n",
    "* b. Global\n",
    "* c. None\n",
    "* d. Cannot be predictable"
   ]
  },
  {
   "cell_type": "code",
   "execution_count": 7,
   "id": "62eebcbd",
   "metadata": {},
   "outputs": [
    {
     "name": "stdout",
     "output_type": "stream",
     "text": [
      "Local\n"
     ]
    }
   ],
   "source": [
    "def func(): # Define a function named 'func'\n",
    "    global value  # Declare that 'value' inside the function is the global 'value'\n",
    "    value = \"Local\"    # Set the global 'value' to \"Local\"\n",
    "    \n",
    "value = \"Global\"  # Set a global variable 'value' to \"Global\"\n",
    "func() # Call the function 'func'\n",
    "print(value) # Print the value of 'value' after calling the function"
   ]
  },
  {
   "cell_type": "markdown",
   "id": "44451570",
   "metadata": {},
   "source": [
    "# 4) ______expectations are raised as a result of an error in opening a particular file.\n",
    "\n",
    "* a. Vlaue Error\n",
    "* b. TypeError\n",
    "* c. ImportError\n",
    "* d. IOError\n",
    "\n",
    " correct option is 'IOError'\n",
    " "
   ]
  },
  {
   "cell_type": "code",
   "execution_count": 8,
   "id": "f4eaf50a",
   "metadata": {},
   "outputs": [],
   "source": [
    "#Specifically deals with input/output operations, such as opening a file, and is raised when there's an issue with reading or writing to a file. In this case, if there's an error in opening a particular file, an IOError would be raised."
   ]
  },
  {
   "cell_type": "markdown",
   "id": "dadfe85b",
   "metadata": {},
   "source": [
    "# 5 ) In python we do not specify types, it is directly interpreted by the compiler , so consider the following opeations to be performed.\n",
    "* a. x= 13//2\n",
    "* b. x= int(13/2)\n",
    "* c. x=13%2\n",
    "* d. all of the mentioned\n",
    "\n",
    "correct option is ''all of the mentioned'"
   ]
  },
  {
   "cell_type": "code",
   "execution_count": null,
   "id": "47c18fd5",
   "metadata": {},
   "outputs": [],
   "source": [
    "# a. x = 13 // 2 gives 6 (sharing equally without remainder).\n",
    "# b. x = int(13 / 2) gives 6 (taking only the whole part after division).\n",
    "# c. x = 13 % 2 gives 1 (finding the remainder after division).\n",
    "# So, the correct answer is: None of the mentioned (d)."
   ]
  },
  {
   "cell_type": "markdown",
   "id": "beac1d25",
   "metadata": {},
   "source": [
    "# 6 ) what will be the output of the following python code\n",
    "* a. index error\n",
    "* b. name error\n",
    "* c. value erro\n",
    "* d. syntactical error\n",
    "\n",
    " correct option is 'name error'"
   ]
  },
  {
   "cell_type": "code",
   "execution_count": 9,
   "id": "d71d788b",
   "metadata": {},
   "outputs": [
    {
     "ename": "NameError",
     "evalue": "name 't' is not defined",
     "output_type": "error",
     "traceback": [
      "\u001b[1;31m---------------------------------------------------------------------------\u001b[0m",
      "\u001b[1;31mNameError\u001b[0m                                 Traceback (most recent call last)",
      "Cell \u001b[1;32mIn[9], line 1\u001b[0m\n\u001b[1;32m----> 1\u001b[0m t[\u001b[38;5;241m5\u001b[39m]\n",
      "\u001b[1;31mNameError\u001b[0m: name 't' is not defined"
     ]
    }
   ],
   "source": [
    "t[5] "
   ]
  },
  {
   "cell_type": "markdown",
   "id": "b77381d5",
   "metadata": {},
   "source": [
    "# 7 ) A while loop in python is used for what type of iteration.\n",
    "* a. indefinite\n",
    "* b. discriminant\n",
    "* c. definite\n",
    "* d. indeterminate\n",
    " \n",
    " correct option is 'indefinite'"
   ]
  },
  {
   "cell_type": "code",
   "execution_count": 10,
   "id": "fbb01e7f",
   "metadata": {},
   "outputs": [],
   "source": [
    "#Indefinite means you don't have a fixed or definite number of times you want to do something.\n",
    "#A while loop is like a \"keep doing this as long as a certain condition is true\" instruction."
   ]
  },
  {
   "cell_type": "markdown",
   "id": "34261a54",
   "metadata": {},
   "source": [
    "# 8 ) what will be the output of the following python code ?\n",
    "* a. a b c d e\n",
    "* b. abcde\n",
    "* c. i i i i i i i\n",
    "* d. Error\n",
    "    "
   ]
  },
  {
   "cell_type": "code",
   "execution_count": 17,
   "id": "324e13fd",
   "metadata": {},
   "outputs": [
    {
     "ename": "NameError",
     "evalue": "name 'i' is not defined",
     "output_type": "error",
     "traceback": [
      "\u001b[1;31m---------------------------------------------------------------------------\u001b[0m",
      "\u001b[1;31mNameError\u001b[0m                                 Traceback (most recent call last)",
      "Cell \u001b[1;32mIn[17], line 2\u001b[0m\n\u001b[0;32m      1\u001b[0m x \u001b[38;5;241m=\u001b[39m \u001b[38;5;124m\"\u001b[39m\u001b[38;5;124m abcde \u001b[39m\u001b[38;5;124m\"\u001b[39m\n\u001b[1;32m----> 2\u001b[0m \u001b[38;5;28;01mwhile\u001b[39;00m i \u001b[38;5;129;01min\u001b[39;00m x: \n\u001b[0;32m      3\u001b[0m     \u001b[38;5;28mprint\u001b[39m(i,end\u001b[38;5;241m=\u001b[39m\u001b[38;5;124m\"\u001b[39m\u001b[38;5;124m \u001b[39m\u001b[38;5;124m\"\u001b[39m)\n",
      "\u001b[1;31mNameError\u001b[0m: name 'i' is not defined"
     ]
    }
   ],
   "source": [
    "x = \" abcde \"\n",
    "while i in x: \n",
    "    print(i,end=\" \")\n",
    "    \n",
    "#The loop condition is not satisfied initially because there is no 'i' in the string \" abcde \".\n",
    "#Therefore, the loop doesn't execute, and nothing is printed.\n",
    "#So, the correct option is: d. Error   \n"
   ]
  },
  {
   "cell_type": "markdown",
   "id": "5eb52775",
   "metadata": {},
   "source": [
    "# 9 ) what is the main advantages of using decorators in python ?\n",
    "* a. They make the code more complex\n",
    "* b. They simplify the syntax of the decorated.\n",
    "* c. They reduce the performance of the code.\n",
    "* d. They provide additional security features.\n",
    "\n",
    " correct option is 'They simplify the syntax of the decorated.'"
   ]
  },
  {
   "cell_type": "code",
   "execution_count": 22,
   "id": "e161d616",
   "metadata": {},
   "outputs": [],
   "source": [
    "# EIn Python, a decorator is like a sticker for functions. It adds extra features or modifications to a function without making the function itself too complicated. It makes your code look cleaner and more organized.\n",
    "\n",
    "# So, the correct option is:b. They simplify the syntax of the decorated."
   ]
  },
  {
   "cell_type": "markdown",
   "id": "84be1b3b",
   "metadata": {},
   "source": [
    "# 10 ) if return statement is not used inside the funciton,the funciton will return :\n",
    "* a. None\n",
    "* b. 0\n",
    "* c. Null\n",
    "* d. Arbitary Value\n",
    "\n",
    " correct option is 'None'"
   ]
  },
  {
   "cell_type": "code",
   "execution_count": 19,
   "id": "3f4dc884",
   "metadata": {},
   "outputs": [],
   "source": [
    "def foo():\n",
    "    x=0\n",
    "# So, if you don't tell the magic box what to give you, it will give you None.\n",
    "\n",
    "# Therefore, the correct option is:a. None\n"
   ]
  },
  {
   "cell_type": "markdown",
   "id": "e7c9ac6b",
   "metadata": {},
   "source": [
    "# 11 ) what is called when a function is defined inside a class ?\n",
    "* a. class\n",
    "* b. function\n",
    "* c. method\n",
    "* d. module\n",
    "\n",
    " correct option is 'method'"
   ]
  },
  {
   "cell_type": "code",
   "execution_count": 21,
   "id": "c3f28a87",
   "metadata": {},
   "outputs": [],
   "source": [
    "# So, when you define a function inside a class, it becomes a special set of instructions that the class (robot) can follow. We call this special function inside a class a \"method.\"\n",
    "\n",
    "# Therefore, the correct option is: c. method"
   ]
  },
  {
   "cell_type": "markdown",
   "id": "c7fb5888",
   "metadata": {},
   "source": [
    "# 12 ) Which operator is used in python to import modules from packages ?\n",
    "* a. .\n",
    "* b. *\n",
    "* c. ->\n",
    "* d. &\n",
    "\n",
    " correct option is ' . '"
   ]
  },
  {
   "cell_type": "code",
   "execution_count": 23,
   "id": "d77f21a6",
   "metadata": {},
   "outputs": [],
   "source": [
    "# In Python, when you want to bring in a specific module from a package, you use a dot. It's like saying, \"I want this particular toy from that big box.\"\n",
    "\n",
    "# So, the correct option is: a. . (dot)\n"
   ]
  },
  {
   "cell_type": "markdown",
   "id": "c923bc9a",
   "metadata": {},
   "source": [
    "# 13. "
   ]
  },
  {
   "cell_type": "code",
   "execution_count": 27,
   "id": "606a61af",
   "metadata": {},
   "outputs": [],
   "source": [
    "def getMonth(m): # It's like creating a magical box (function) that can do something special with a number you give it.\n",
    "    \n",
    "    if m<1 or m>12: # It's like asking, \"Is the number (month) less than 1 or greater than 12?\"\n",
    "        \n",
    "        raise ValueError (\"Invalid\") #The function raises its hand and says, \"Hey, this is not right! It's an invalid month!\"\n",
    "                                     #This is done using raise ValueError(\"Invalid\").\n",
    "            \n",
    "    print(m) #It prints the month."
   ]
  },
  {
   "cell_type": "code",
   "execution_count": 29,
   "id": "56850a16",
   "metadata": {},
   "outputs": [
    {
     "name": "stdout",
     "output_type": "stream",
     "text": [
      "6\n"
     ]
    }
   ],
   "source": [
    "getMonth(6) #It's like telling the magical box, \"Hey, check the number 6 for me!\"\n",
    "             #Since 6 is a valid month, it prints 6."
   ]
  },
  {
   "cell_type": "markdown",
   "id": "6c1c4a88",
   "metadata": {},
   "source": [
    "# 14 ) in the python programming language syntax error is detected by ___at ____\n",
    "* a. Interpreter / Compile time\n",
    "* b. Run time / interpreter\n",
    "* c. interpreter / Run time\n",
    "* d. Compile time / Run time\n",
    "\n",
    " correct option is 'interpreter / Run time'"
   ]
  },
  {
   "cell_type": "code",
   "execution_count": 30,
   "id": "96f45393",
   "metadata": {},
   "outputs": [],
   "source": [
    "# In the Python programming language, syntax errors are detected by the interpreter at compile time."
   ]
  },
  {
   "cell_type": "markdown",
   "id": "69c84e19",
   "metadata": {},
   "source": [
    "# 15 )\n",
    "* a. both book1 and book2 will have refernece to two different of class Book\n",
    "* b. id(book1) and id(book2) will have same value\n",
    "* c. it will throw error as multiple reference to object is not possible\n",
    "* d. None of the above\n",
    "  \n",
    "  correct option is ' id(book1) and id(book2) will have same value'"
   ]
  },
  {
   "cell_type": "code",
   "execution_count": 31,
   "id": "e5bd0e13",
   "metadata": {},
   "outputs": [],
   "source": [
    "class Book:\n",
    "    def __init__(self,author):\n",
    "        self.author=author\n",
    "book1=Book(\"V.M.Shah\")\n",
    "book2=book1"
   ]
  },
  {
   "cell_type": "code",
   "execution_count": 32,
   "id": "ad28a8bd",
   "metadata": {},
   "outputs": [
    {
     "data": {
      "text/plain": [
       "1405028442384"
      ]
     },
     "execution_count": 32,
     "metadata": {},
     "output_type": "execute_result"
    }
   ],
   "source": [
    "id(book1)"
   ]
  },
  {
   "cell_type": "code",
   "execution_count": 33,
   "id": "86fda9c0",
   "metadata": {},
   "outputs": [
    {
     "data": {
      "text/plain": [
       "1405028442384"
      ]
     },
     "execution_count": 33,
     "metadata": {},
     "output_type": "execute_result"
    }
   ],
   "source": [
    "id(book2)"
   ]
  },
  {
   "cell_type": "code",
   "execution_count": 2,
   "id": "8328e72c",
   "metadata": {},
   "outputs": [],
   "source": [
    "import pandas as pd , numpy as  np"
   ]
  },
  {
   "cell_type": "code",
   "execution_count": 3,
   "id": "15f979f3",
   "metadata": {},
   "outputs": [
    {
     "data": {
      "text/html": [
       "<div>\n",
       "<style scoped>\n",
       "    .dataframe tbody tr th:only-of-type {\n",
       "        vertical-align: middle;\n",
       "    }\n",
       "\n",
       "    .dataframe tbody tr th {\n",
       "        vertical-align: top;\n",
       "    }\n",
       "\n",
       "    .dataframe thead th {\n",
       "        text-align: right;\n",
       "    }\n",
       "</style>\n",
       "<table border=\"1\" class=\"dataframe\">\n",
       "  <thead>\n",
       "    <tr style=\"text-align: right;\">\n",
       "      <th></th>\n",
       "      <th>date</th>\n",
       "      <th>Category</th>\n",
       "      <th>Product</th>\n",
       "      <th>Customer-Id</th>\n",
       "      <th>Quantity</th>\n",
       "      <th>UnitPrice</th>\n",
       "    </tr>\n",
       "  </thead>\n",
       "  <tbody>\n",
       "    <tr>\n",
       "      <th>0</th>\n",
       "      <td>2024-01-01</td>\n",
       "      <td>Beverage</td>\n",
       "      <td>Cappuccino</td>\n",
       "      <td>C004</td>\n",
       "      <td>1</td>\n",
       "      <td>3.0</td>\n",
       "    </tr>\n",
       "    <tr>\n",
       "      <th>1</th>\n",
       "      <td>2024-01-02</td>\n",
       "      <td>Food</td>\n",
       "      <td>Croissant</td>\n",
       "      <td>C002</td>\n",
       "      <td>2</td>\n",
       "      <td>2.0</td>\n",
       "    </tr>\n",
       "    <tr>\n",
       "      <th>2</th>\n",
       "      <td>2024-01-03</td>\n",
       "      <td>Beverage</td>\n",
       "      <td>Espresso</td>\n",
       "      <td>C001</td>\n",
       "      <td>2</td>\n",
       "      <td>2.0</td>\n",
       "    </tr>\n",
       "    <tr>\n",
       "      <th>3</th>\n",
       "      <td>2024-01-10</td>\n",
       "      <td>Beverage</td>\n",
       "      <td>Latte</td>\n",
       "      <td>C001</td>\n",
       "      <td>3</td>\n",
       "      <td>3.5</td>\n",
       "    </tr>\n",
       "    <tr>\n",
       "      <th>4</th>\n",
       "      <td>2024-01-9</td>\n",
       "      <td>Beverage</td>\n",
       "      <td>Lattle</td>\n",
       "      <td>C003</td>\n",
       "      <td>1</td>\n",
       "      <td>3.5</td>\n",
       "    </tr>\n",
       "    <tr>\n",
       "      <th>5</th>\n",
       "      <td>2024-01-8</td>\n",
       "      <td>Food</td>\n",
       "      <td>Muffin</td>\n",
       "      <td>C002</td>\n",
       "      <td>1</td>\n",
       "      <td>2.5</td>\n",
       "    </tr>\n",
       "  </tbody>\n",
       "</table>\n",
       "</div>"
      ],
      "text/plain": [
       "         date  Category     Product Customer-Id  Quantity  UnitPrice\n",
       "0  2024-01-01  Beverage  Cappuccino        C004         1        3.0\n",
       "1  2024-01-02      Food   Croissant        C002         2        2.0\n",
       "2  2024-01-03  Beverage    Espresso        C001         2        2.0\n",
       "3  2024-01-10  Beverage       Latte        C001         3        3.5\n",
       "4   2024-01-9  Beverage      Lattle        C003         1        3.5\n",
       "5   2024-01-8      Food      Muffin        C002         1        2.5"
      ]
     },
     "execution_count": 3,
     "metadata": {},
     "output_type": "execute_result"
    }
   ],
   "source": [
    "data=pd.DataFrame({'date':['2024-01-01','2024-01-02','2024-01-03','2024-01-10','2024-01-9','2024-01-8'],\n",
    "             'Category':['Beverage','Food','Beverage','Beverage','Beverage','Food'],\n",
    "             'Product':['Cappuccino','Croissant','Espresso','Latte','Lattle','Muffin'],\n",
    "             'Customer-Id':['C004','C002','C001','C001','C003','C002'],\n",
    "             'Quantity':[1,2,2,3,1,1,],\n",
    "             'UnitPrice':[3,2,2,3.5,3.5,2.5]}) \n",
    "data"
   ]
  },
  {
   "cell_type": "code",
   "execution_count": 4,
   "id": "e2c4cc64",
   "metadata": {},
   "outputs": [
    {
     "name": "stdout",
     "output_type": "stream",
     "text": [
      "<class 'pandas.core.frame.DataFrame'>\n",
      "RangeIndex: 6 entries, 0 to 5\n",
      "Data columns (total 6 columns):\n",
      " #   Column       Non-Null Count  Dtype  \n",
      "---  ------       --------------  -----  \n",
      " 0   date         6 non-null      object \n",
      " 1   Category     6 non-null      object \n",
      " 2   Product      6 non-null      object \n",
      " 3   Customer-Id  6 non-null      object \n",
      " 4   Quantity     6 non-null      int64  \n",
      " 5   UnitPrice    6 non-null      float64\n",
      "dtypes: float64(1), int64(1), object(4)\n",
      "memory usage: 420.0+ bytes\n"
     ]
    }
   ],
   "source": [
    "data.info()"
   ]
  },
  {
   "cell_type": "code",
   "execution_count": 5,
   "id": "1c6f555c",
   "metadata": {},
   "outputs": [],
   "source": [
    "x=pd.to_datetime(data['date'])"
   ]
  },
  {
   "cell_type": "code",
   "execution_count": 6,
   "id": "407b2b12",
   "metadata": {},
   "outputs": [],
   "source": [
    "data['Date_column']=x"
   ]
  },
  {
   "cell_type": "code",
   "execution_count": 7,
   "id": "fec13600",
   "metadata": {},
   "outputs": [
    {
     "data": {
      "text/html": [
       "<div>\n",
       "<style scoped>\n",
       "    .dataframe tbody tr th:only-of-type {\n",
       "        vertical-align: middle;\n",
       "    }\n",
       "\n",
       "    .dataframe tbody tr th {\n",
       "        vertical-align: top;\n",
       "    }\n",
       "\n",
       "    .dataframe thead th {\n",
       "        text-align: right;\n",
       "    }\n",
       "</style>\n",
       "<table border=\"1\" class=\"dataframe\">\n",
       "  <thead>\n",
       "    <tr style=\"text-align: right;\">\n",
       "      <th></th>\n",
       "      <th>date</th>\n",
       "      <th>Category</th>\n",
       "      <th>Product</th>\n",
       "      <th>Customer-Id</th>\n",
       "      <th>Quantity</th>\n",
       "      <th>UnitPrice</th>\n",
       "      <th>Date_column</th>\n",
       "    </tr>\n",
       "  </thead>\n",
       "  <tbody>\n",
       "    <tr>\n",
       "      <th>0</th>\n",
       "      <td>2024-01-01</td>\n",
       "      <td>Beverage</td>\n",
       "      <td>Cappuccino</td>\n",
       "      <td>C004</td>\n",
       "      <td>1</td>\n",
       "      <td>3.0</td>\n",
       "      <td>2024-01-01</td>\n",
       "    </tr>\n",
       "    <tr>\n",
       "      <th>1</th>\n",
       "      <td>2024-01-02</td>\n",
       "      <td>Food</td>\n",
       "      <td>Croissant</td>\n",
       "      <td>C002</td>\n",
       "      <td>2</td>\n",
       "      <td>2.0</td>\n",
       "      <td>2024-01-02</td>\n",
       "    </tr>\n",
       "    <tr>\n",
       "      <th>2</th>\n",
       "      <td>2024-01-03</td>\n",
       "      <td>Beverage</td>\n",
       "      <td>Espresso</td>\n",
       "      <td>C001</td>\n",
       "      <td>2</td>\n",
       "      <td>2.0</td>\n",
       "      <td>2024-01-03</td>\n",
       "    </tr>\n",
       "    <tr>\n",
       "      <th>3</th>\n",
       "      <td>2024-01-10</td>\n",
       "      <td>Beverage</td>\n",
       "      <td>Latte</td>\n",
       "      <td>C001</td>\n",
       "      <td>3</td>\n",
       "      <td>3.5</td>\n",
       "      <td>2024-01-10</td>\n",
       "    </tr>\n",
       "    <tr>\n",
       "      <th>4</th>\n",
       "      <td>2024-01-9</td>\n",
       "      <td>Beverage</td>\n",
       "      <td>Lattle</td>\n",
       "      <td>C003</td>\n",
       "      <td>1</td>\n",
       "      <td>3.5</td>\n",
       "      <td>2024-01-09</td>\n",
       "    </tr>\n",
       "    <tr>\n",
       "      <th>5</th>\n",
       "      <td>2024-01-8</td>\n",
       "      <td>Food</td>\n",
       "      <td>Muffin</td>\n",
       "      <td>C002</td>\n",
       "      <td>1</td>\n",
       "      <td>2.5</td>\n",
       "      <td>2024-01-08</td>\n",
       "    </tr>\n",
       "  </tbody>\n",
       "</table>\n",
       "</div>"
      ],
      "text/plain": [
       "         date  Category     Product Customer-Id  Quantity  UnitPrice  \\\n",
       "0  2024-01-01  Beverage  Cappuccino        C004         1        3.0   \n",
       "1  2024-01-02      Food   Croissant        C002         2        2.0   \n",
       "2  2024-01-03  Beverage    Espresso        C001         2        2.0   \n",
       "3  2024-01-10  Beverage       Latte        C001         3        3.5   \n",
       "4   2024-01-9  Beverage      Lattle        C003         1        3.5   \n",
       "5   2024-01-8      Food      Muffin        C002         1        2.5   \n",
       "\n",
       "  Date_column  \n",
       "0  2024-01-01  \n",
       "1  2024-01-02  \n",
       "2  2024-01-03  \n",
       "3  2024-01-10  \n",
       "4  2024-01-09  \n",
       "5  2024-01-08  "
      ]
     },
     "execution_count": 7,
     "metadata": {},
     "output_type": "execute_result"
    }
   ],
   "source": [
    "data"
   ]
  },
  {
   "cell_type": "markdown",
   "id": "9c3bb205",
   "metadata": {},
   "source": [
    "# 16 ) How to create a new column 'Revenue' ,which has value equals to the quantity * unitprice of the current row\n",
    "* a. df['Revenue'] = df['Quantity'] * df['UnitPrice']\n",
    "* b. df['Revenue'] = df.apply(lambda x:x['Quantity'] * x['UnitPrice'],axis=1)\n",
    "* c. df['Revenue'] = df.apply(lambda x:x['Quantity'] * x['UnitPrice'],axis=0)\n",
    "* d. df['Revenue'] = df['Quantity'] ** df['UnitPrice']\n",
    "   \n",
    "   correct option is ' a&b'"
   ]
  },
  {
   "cell_type": "code",
   "execution_count": 8,
   "id": "439b5fc5",
   "metadata": {},
   "outputs": [
    {
     "data": {
      "text/html": [
       "<div>\n",
       "<style scoped>\n",
       "    .dataframe tbody tr th:only-of-type {\n",
       "        vertical-align: middle;\n",
       "    }\n",
       "\n",
       "    .dataframe tbody tr th {\n",
       "        vertical-align: top;\n",
       "    }\n",
       "\n",
       "    .dataframe thead th {\n",
       "        text-align: right;\n",
       "    }\n",
       "</style>\n",
       "<table border=\"1\" class=\"dataframe\">\n",
       "  <thead>\n",
       "    <tr style=\"text-align: right;\">\n",
       "      <th></th>\n",
       "      <th>date</th>\n",
       "      <th>Category</th>\n",
       "      <th>Product</th>\n",
       "      <th>Customer-Id</th>\n",
       "      <th>Quantity</th>\n",
       "      <th>UnitPrice</th>\n",
       "      <th>Date_column</th>\n",
       "      <th>Revenue</th>\n",
       "    </tr>\n",
       "  </thead>\n",
       "  <tbody>\n",
       "    <tr>\n",
       "      <th>0</th>\n",
       "      <td>2024-01-01</td>\n",
       "      <td>Beverage</td>\n",
       "      <td>Cappuccino</td>\n",
       "      <td>C004</td>\n",
       "      <td>1</td>\n",
       "      <td>3.0</td>\n",
       "      <td>2024-01-01</td>\n",
       "      <td>3.0</td>\n",
       "    </tr>\n",
       "    <tr>\n",
       "      <th>1</th>\n",
       "      <td>2024-01-02</td>\n",
       "      <td>Food</td>\n",
       "      <td>Croissant</td>\n",
       "      <td>C002</td>\n",
       "      <td>2</td>\n",
       "      <td>2.0</td>\n",
       "      <td>2024-01-02</td>\n",
       "      <td>4.0</td>\n",
       "    </tr>\n",
       "    <tr>\n",
       "      <th>2</th>\n",
       "      <td>2024-01-03</td>\n",
       "      <td>Beverage</td>\n",
       "      <td>Espresso</td>\n",
       "      <td>C001</td>\n",
       "      <td>2</td>\n",
       "      <td>2.0</td>\n",
       "      <td>2024-01-03</td>\n",
       "      <td>4.0</td>\n",
       "    </tr>\n",
       "    <tr>\n",
       "      <th>3</th>\n",
       "      <td>2024-01-10</td>\n",
       "      <td>Beverage</td>\n",
       "      <td>Latte</td>\n",
       "      <td>C001</td>\n",
       "      <td>3</td>\n",
       "      <td>3.5</td>\n",
       "      <td>2024-01-10</td>\n",
       "      <td>10.5</td>\n",
       "    </tr>\n",
       "    <tr>\n",
       "      <th>4</th>\n",
       "      <td>2024-01-9</td>\n",
       "      <td>Beverage</td>\n",
       "      <td>Lattle</td>\n",
       "      <td>C003</td>\n",
       "      <td>1</td>\n",
       "      <td>3.5</td>\n",
       "      <td>2024-01-09</td>\n",
       "      <td>3.5</td>\n",
       "    </tr>\n",
       "    <tr>\n",
       "      <th>5</th>\n",
       "      <td>2024-01-8</td>\n",
       "      <td>Food</td>\n",
       "      <td>Muffin</td>\n",
       "      <td>C002</td>\n",
       "      <td>1</td>\n",
       "      <td>2.5</td>\n",
       "      <td>2024-01-08</td>\n",
       "      <td>2.5</td>\n",
       "    </tr>\n",
       "  </tbody>\n",
       "</table>\n",
       "</div>"
      ],
      "text/plain": [
       "         date  Category     Product Customer-Id  Quantity  UnitPrice  \\\n",
       "0  2024-01-01  Beverage  Cappuccino        C004         1        3.0   \n",
       "1  2024-01-02      Food   Croissant        C002         2        2.0   \n",
       "2  2024-01-03  Beverage    Espresso        C001         2        2.0   \n",
       "3  2024-01-10  Beverage       Latte        C001         3        3.5   \n",
       "4   2024-01-9  Beverage      Lattle        C003         1        3.5   \n",
       "5   2024-01-8      Food      Muffin        C002         1        2.5   \n",
       "\n",
       "  Date_column  Revenue  \n",
       "0  2024-01-01      3.0  \n",
       "1  2024-01-02      4.0  \n",
       "2  2024-01-03      4.0  \n",
       "3  2024-01-10     10.5  \n",
       "4  2024-01-09      3.5  \n",
       "5  2024-01-08      2.5  "
      ]
     },
     "execution_count": 8,
     "metadata": {},
     "output_type": "execute_result"
    }
   ],
   "source": [
    "data['Revenue']=data['Quantity'] * data['UnitPrice']\n",
    "data"
   ]
  },
  {
   "cell_type": "code",
   "execution_count": 9,
   "id": "2fa7edee",
   "metadata": {},
   "outputs": [],
   "source": [
    "data['Revenue'] = data.apply(lambda x:x['Quantity'] * x['UnitPrice'],axis=1) \n",
    "## it multiplies the quantity and unitprice ,by taking axis as 1 ,axis=1 (row wise)"
   ]
  },
  {
   "cell_type": "code",
   "execution_count": 10,
   "id": "47d05c76",
   "metadata": {},
   "outputs": [
    {
     "data": {
      "text/html": [
       "<div>\n",
       "<style scoped>\n",
       "    .dataframe tbody tr th:only-of-type {\n",
       "        vertical-align: middle;\n",
       "    }\n",
       "\n",
       "    .dataframe tbody tr th {\n",
       "        vertical-align: top;\n",
       "    }\n",
       "\n",
       "    .dataframe thead th {\n",
       "        text-align: right;\n",
       "    }\n",
       "</style>\n",
       "<table border=\"1\" class=\"dataframe\">\n",
       "  <thead>\n",
       "    <tr style=\"text-align: right;\">\n",
       "      <th></th>\n",
       "      <th>date</th>\n",
       "      <th>Category</th>\n",
       "      <th>Product</th>\n",
       "      <th>Customer-Id</th>\n",
       "      <th>Quantity</th>\n",
       "      <th>UnitPrice</th>\n",
       "      <th>Date_column</th>\n",
       "      <th>Revenue</th>\n",
       "    </tr>\n",
       "  </thead>\n",
       "  <tbody>\n",
       "    <tr>\n",
       "      <th>0</th>\n",
       "      <td>2024-01-01</td>\n",
       "      <td>Beverage</td>\n",
       "      <td>Cappuccino</td>\n",
       "      <td>C004</td>\n",
       "      <td>1</td>\n",
       "      <td>3.0</td>\n",
       "      <td>2024-01-01</td>\n",
       "      <td>3.0</td>\n",
       "    </tr>\n",
       "    <tr>\n",
       "      <th>1</th>\n",
       "      <td>2024-01-02</td>\n",
       "      <td>Food</td>\n",
       "      <td>Croissant</td>\n",
       "      <td>C002</td>\n",
       "      <td>2</td>\n",
       "      <td>2.0</td>\n",
       "      <td>2024-01-02</td>\n",
       "      <td>4.0</td>\n",
       "    </tr>\n",
       "    <tr>\n",
       "      <th>2</th>\n",
       "      <td>2024-01-03</td>\n",
       "      <td>Beverage</td>\n",
       "      <td>Espresso</td>\n",
       "      <td>C001</td>\n",
       "      <td>2</td>\n",
       "      <td>2.0</td>\n",
       "      <td>2024-01-03</td>\n",
       "      <td>4.0</td>\n",
       "    </tr>\n",
       "    <tr>\n",
       "      <th>3</th>\n",
       "      <td>2024-01-10</td>\n",
       "      <td>Beverage</td>\n",
       "      <td>Latte</td>\n",
       "      <td>C001</td>\n",
       "      <td>3</td>\n",
       "      <td>3.5</td>\n",
       "      <td>2024-01-10</td>\n",
       "      <td>10.5</td>\n",
       "    </tr>\n",
       "    <tr>\n",
       "      <th>4</th>\n",
       "      <td>2024-01-9</td>\n",
       "      <td>Beverage</td>\n",
       "      <td>Lattle</td>\n",
       "      <td>C003</td>\n",
       "      <td>1</td>\n",
       "      <td>3.5</td>\n",
       "      <td>2024-01-09</td>\n",
       "      <td>3.5</td>\n",
       "    </tr>\n",
       "    <tr>\n",
       "      <th>5</th>\n",
       "      <td>2024-01-8</td>\n",
       "      <td>Food</td>\n",
       "      <td>Muffin</td>\n",
       "      <td>C002</td>\n",
       "      <td>1</td>\n",
       "      <td>2.5</td>\n",
       "      <td>2024-01-08</td>\n",
       "      <td>2.5</td>\n",
       "    </tr>\n",
       "  </tbody>\n",
       "</table>\n",
       "</div>"
      ],
      "text/plain": [
       "         date  Category     Product Customer-Id  Quantity  UnitPrice  \\\n",
       "0  2024-01-01  Beverage  Cappuccino        C004         1        3.0   \n",
       "1  2024-01-02      Food   Croissant        C002         2        2.0   \n",
       "2  2024-01-03  Beverage    Espresso        C001         2        2.0   \n",
       "3  2024-01-10  Beverage       Latte        C001         3        3.5   \n",
       "4   2024-01-9  Beverage      Lattle        C003         1        3.5   \n",
       "5   2024-01-8      Food      Muffin        C002         1        2.5   \n",
       "\n",
       "  Date_column  Revenue  \n",
       "0  2024-01-01      3.0  \n",
       "1  2024-01-02      4.0  \n",
       "2  2024-01-03      4.0  \n",
       "3  2024-01-10     10.5  \n",
       "4  2024-01-09      3.5  \n",
       "5  2024-01-08      2.5  "
      ]
     },
     "execution_count": 10,
     "metadata": {},
     "output_type": "execute_result"
    }
   ],
   "source": [
    "data"
   ]
  },
  {
   "cell_type": "markdown",
   "id": "535d5bf0",
   "metadata": {},
   "source": [
    "# 17. what is the syntax to find categorical wise revenue ?\n",
    "* a. df.groupby('Category')['Revenue'].mean()\n",
    "* b. df.groupby('Category')['Revenue'].sum()\n",
    "* c. df.groupby('Category')['Revenue'].agg(np.sum)\n",
    "* d. df.groupby('Category')['Revenue'].agg('sum')\n",
    " \n",
    "  correct option is 'b,c,d'"
   ]
  },
  {
   "cell_type": "code",
   "execution_count": 11,
   "id": "56425982",
   "metadata": {},
   "outputs": [
    {
     "data": {
      "text/plain": [
       "Category\n",
       "Beverage    5.25\n",
       "Food        3.25\n",
       "Name: Revenue, dtype: float64"
      ]
     },
     "execution_count": 11,
     "metadata": {},
     "output_type": "execute_result"
    }
   ],
   "source": [
    "data.groupby('Category')['Revenue'].mean()  # its gives average "
   ]
  },
  {
   "cell_type": "code",
   "execution_count": 12,
   "id": "6e6d1d78",
   "metadata": {},
   "outputs": [
    {
     "data": {
      "text/plain": [
       "Category\n",
       "Beverage    21.0\n",
       "Food         6.5\n",
       "Name: Revenue, dtype: float64"
      ]
     },
     "execution_count": 12,
     "metadata": {},
     "output_type": "execute_result"
    }
   ],
   "source": [
    "data.groupby('Category')['Revenue'].sum() # it finds the total sum ('sum') of revenue for each category. "
   ]
  },
  {
   "cell_type": "code",
   "execution_count": 13,
   "id": "36170a09",
   "metadata": {},
   "outputs": [
    {
     "data": {
      "text/plain": [
       "Category\n",
       "Beverage    21.0\n",
       "Food         6.5\n",
       "Name: Revenue, dtype: float64"
      ]
     },
     "execution_count": 13,
     "metadata": {},
     "output_type": "execute_result"
    }
   ],
   "source": [
    "data.groupby('Category')['Revenue'].agg(np.sum) # finding the sum, but it uses the agg function with np.sum (NumPy sum). "
   ]
  },
  {
   "cell_type": "code",
   "execution_count": 14,
   "id": "d5bc47ce",
   "metadata": {},
   "outputs": [
    {
     "data": {
      "text/plain": [
       "Category\n",
       "Beverage    21.0\n",
       "Food         6.5\n",
       "Name: Revenue, dtype: float64"
      ]
     },
     "execution_count": 14,
     "metadata": {},
     "output_type": "execute_result"
    }
   ],
   "source": [
    "data.groupby('Category')['Revenue'].agg('sum') # data.groupby('Category')['Revenue'].agg('sum').the total sum of revenue for each category."
   ]
  },
  {
   "cell_type": "markdown",
   "id": "acf627e7",
   "metadata": {},
   "source": [
    "# 18. to find the average quantity wrt to date and product,what is the correct syntax ?(\n",
    "* a. df.groupby(['Date','Product'])['Quantity'].avg()\n",
    "* b. df.groupby(['Date','Product'])['Quantity'].mean()\n",
    "* c. df.groupby(['Product','Date'])['Quantity'].avg()\n",
    "* d. df.groupby(['Product','Mean'])['Quanity'].mean()\n",
    " \n",
    " correct option is 'b'"
   ]
  },
  {
   "cell_type": "code",
   "execution_count": 15,
   "id": "9aa57e15",
   "metadata": {},
   "outputs": [
    {
     "data": {
      "text/plain": [
       "Date_column  Product   \n",
       "2024-01-01   Cappuccino    1.0\n",
       "2024-01-02   Croissant     2.0\n",
       "2024-01-03   Espresso      2.0\n",
       "2024-01-08   Muffin        1.0\n",
       "2024-01-09   Lattle        1.0\n",
       "2024-01-10   Latte         3.0\n",
       "Name: Quantity, dtype: float64"
      ]
     },
     "execution_count": 15,
     "metadata": {},
     "output_type": "execute_result"
    }
   ],
   "source": [
    "data.groupby(['Date_column','Product'])['Quantity'].mean() # This part is saying you want to group your data by both 'Date' and 'Product'.\n",
    "                                                           # the average ('mean') quantity."
   ]
  },
  {
   "cell_type": "markdown",
   "id": "7a6a1f50",
   "metadata": {},
   "source": [
    "# 19 ) Categorical wise revenue for beverage and food respectively are\n",
    "* a. 28.5,6.0\n",
    "* b. 6.0,27.5\n",
    "* c. 28.5,7.0\n",
    "* d. 7.0,28.5"
   ]
  },
  {
   "cell_type": "code",
   "execution_count": 16,
   "id": "60f0d4c1",
   "metadata": {},
   "outputs": [
    {
     "name": "stdout",
     "output_type": "stream",
     "text": [
      "Beverage Revenue: 21.0\n",
      "Food Revenue: 6.5\n"
     ]
    }
   ],
   "source": [
    "beverage_revenue = data[data['Category'] == 'Beverage']['Revenue'].sum()\n",
    "food_revenue = data[data['Category'] == 'Food']['Revenue'].sum()\n",
    "print(\"Beverage Revenue:\", beverage_revenue)\n",
    "print(\"Food Revenue:\", food_revenue)"
   ]
  },
  {
   "cell_type": "markdown",
   "id": "24db9c80",
   "metadata": {},
   "source": [
    "# 20 ) using transform what is the syntax to create a column which has a unitprice difference wrt its category mean ?\n",
    "* a. df.groupby('Category')['UnitPrice'].transform(lambda x:x-x.mean())\n",
    "* b. df.groupby('Category')('UnitPrice').transform(lambda x:x-x.mean())\n",
    "* c. df.groupby['Category']['UnitPrice'].transform(lambda x:x-x.mean())\n",
    "* c. df.groupby(['Category','UnitPrice']).transform(lambda x:x-x.mean())\n",
    "  \n",
    "  correct option is 'a'"
   ]
  },
  {
   "cell_type": "code",
   "execution_count": 17,
   "id": "50cdb182",
   "metadata": {},
   "outputs": [
    {
     "data": {
      "text/plain": [
       "0    0.00\n",
       "1   -0.25\n",
       "2   -1.00\n",
       "3    0.50\n",
       "4    0.50\n",
       "5    0.25\n",
       "Name: UnitPrice, dtype: float64"
      ]
     },
     "execution_count": 17,
     "metadata": {},
     "output_type": "execute_result"
    }
   ],
   "source": [
    "data.groupby('Category')['UnitPrice'].transform(lambda x:x-x.mean())\n",
    "# t's like saying, \"For each product category, find the difference between its unit price and the average unit price for that category.\""
   ]
  },
  {
   "cell_type": "markdown",
   "id": "83282b25",
   "metadata": {},
   "source": [
    "# 21 ) what is the correct syntax to get data wrt 'Monday'.\n",
    "* a. df.groupby(df.Date.dt.day_name()).get_groupby('Monday')\n",
    "* b. df.groupby(df.Date.dt.dayname()).get_group('Monday')\n",
    "* c. df.groupby(df.Date.dt.dayofweek()).get_groupby('Monday')\n",
    "* d. df.groupby(df.Date.dt.day_of_week()).get_group('Monday')\n",
    " \n",
    "    correct option is 'a'"
   ]
  },
  {
   "cell_type": "code",
   "execution_count": 18,
   "id": "f1446cc9",
   "metadata": {},
   "outputs": [
    {
     "data": {
      "text/html": [
       "<div>\n",
       "<style scoped>\n",
       "    .dataframe tbody tr th:only-of-type {\n",
       "        vertical-align: middle;\n",
       "    }\n",
       "\n",
       "    .dataframe tbody tr th {\n",
       "        vertical-align: top;\n",
       "    }\n",
       "\n",
       "    .dataframe thead th {\n",
       "        text-align: right;\n",
       "    }\n",
       "</style>\n",
       "<table border=\"1\" class=\"dataframe\">\n",
       "  <thead>\n",
       "    <tr style=\"text-align: right;\">\n",
       "      <th></th>\n",
       "      <th>date</th>\n",
       "      <th>Category</th>\n",
       "      <th>Product</th>\n",
       "      <th>Customer-Id</th>\n",
       "      <th>Quantity</th>\n",
       "      <th>UnitPrice</th>\n",
       "      <th>Date_column</th>\n",
       "      <th>Revenue</th>\n",
       "    </tr>\n",
       "  </thead>\n",
       "  <tbody>\n",
       "    <tr>\n",
       "      <th>0</th>\n",
       "      <td>2024-01-01</td>\n",
       "      <td>Beverage</td>\n",
       "      <td>Cappuccino</td>\n",
       "      <td>C004</td>\n",
       "      <td>1</td>\n",
       "      <td>3.0</td>\n",
       "      <td>2024-01-01</td>\n",
       "      <td>3.0</td>\n",
       "    </tr>\n",
       "    <tr>\n",
       "      <th>5</th>\n",
       "      <td>2024-01-8</td>\n",
       "      <td>Food</td>\n",
       "      <td>Muffin</td>\n",
       "      <td>C002</td>\n",
       "      <td>1</td>\n",
       "      <td>2.5</td>\n",
       "      <td>2024-01-08</td>\n",
       "      <td>2.5</td>\n",
       "    </tr>\n",
       "  </tbody>\n",
       "</table>\n",
       "</div>"
      ],
      "text/plain": [
       "         date  Category     Product Customer-Id  Quantity  UnitPrice  \\\n",
       "0  2024-01-01  Beverage  Cappuccino        C004         1        3.0   \n",
       "5   2024-01-8      Food      Muffin        C002         1        2.5   \n",
       "\n",
       "  Date_column  Revenue  \n",
       "0  2024-01-01      3.0  \n",
       "5  2024-01-08      2.5  "
      ]
     },
     "execution_count": 18,
     "metadata": {},
     "output_type": "execute_result"
    }
   ],
   "source": [
    "data.groupby(data.Date_column.dt.day_name()).get_group('Monday')\n",
    "# data by the day name (Monday, Tuesday, etc.) of the 'Date' column.\n",
    "# group corresponding to 'Monday'. It's like saying, \"Show me the data for Mondays.\""
   ]
  },
  {
   "cell_type": "markdown",
   "id": "b5db91b1",
   "metadata": {},
   "source": [
    "# 22 ) which of the following statements is/are True ?\n",
    "* a. apply() can be applied on rows\n",
    "* b. apply function can't be applied on rows\n",
    "* c. apply applies the function on the entire series at a time.\n",
    "* d. apply apllies the function one cell at a time.\n",
    "  \n",
    "    correct option is 'a&c'"
   ]
  },
  {
   "cell_type": "code",
   "execution_count": 21,
   "id": "bc7f0507",
   "metadata": {},
   "outputs": [],
   "source": [
    "# apply() can be applied on both rows and columns. When you apply it to a DataFrame, you can specify the axis to indicate whether the function should be applied along rows (axis=0) or columns (axis=1).\n",
    "# False. As mentioned in option (a), apply() can indeed be applied on rows.\n",
    "# True. When you use apply() on a series, it applies the specified function to the entire series.\n",
    "# False. This statement is not entirely accurate. When you use apply() on a DataFrame, it can apply the function either along rows or columns, not one cell at a time.\n",
    "\n",
    "# apply() can be used on both rows and columns (a is true).\n",
    "# apply() applies the function on the entire series at a time (c is true).\n"
   ]
  },
  {
   "cell_type": "markdown",
   "id": "99d7e242",
   "metadata": {},
   "source": [
    "# 23 ) Which of the following statement is/are True ?\n",
    "* a. Map applies the functionality on entire data Frame\n",
    "* b. applymap applies the functionality on series be it row or a column\n",
    "* c. apply and map are vectorized applications\n",
    "* d. none of the above\n",
    "\n",
    " correct option is 'c'"
   ]
  },
  {
   "cell_type": "code",
   "execution_count": null,
   "id": "6f3421fa",
   "metadata": {},
   "outputs": [],
   "source": [
    "# False. map() is primarily used for substituting each value in a series with another value. It's not designed for the entire DataFrame but rather for a single series (column).\n",
    "\n",
    "# False. applymap() is used for applying a function to every element in the entire DataFrame. It is not used on individual series (columns) but on the entire DataFrame.\n",
    "\n",
    "# True. Both apply() and map() are considered vectorized operations. This means they can efficiently perform operations on entire series or columns without the need for explicit looping.\n",
    "\n",
    "# False. At least one statement (c) is true."
   ]
  },
  {
   "cell_type": "code",
   "execution_count": 23,
   "id": "201a00a7",
   "metadata": {},
   "outputs": [
    {
     "data": {
      "text/html": [
       "<div>\n",
       "<style scoped>\n",
       "    .dataframe tbody tr th:only-of-type {\n",
       "        vertical-align: middle;\n",
       "    }\n",
       "\n",
       "    .dataframe tbody tr th {\n",
       "        vertical-align: top;\n",
       "    }\n",
       "\n",
       "    .dataframe thead th {\n",
       "        text-align: right;\n",
       "    }\n",
       "</style>\n",
       "<table border=\"1\" class=\"dataframe\">\n",
       "  <thead>\n",
       "    <tr style=\"text-align: right;\">\n",
       "      <th></th>\n",
       "      <th>Date</th>\n",
       "      <th>Region</th>\n",
       "      <th>Salesperson</th>\n",
       "      <th>Product</th>\n",
       "      <th>Quantity</th>\n",
       "      <th>Untprice</th>\n",
       "    </tr>\n",
       "  </thead>\n",
       "  <tbody>\n",
       "    <tr>\n",
       "      <th>0</th>\n",
       "      <td>2024-01-10</td>\n",
       "      <td>North</td>\n",
       "      <td>Ajay</td>\n",
       "      <td>Notebook</td>\n",
       "      <td>5</td>\n",
       "      <td>12</td>\n",
       "    </tr>\n",
       "    <tr>\n",
       "      <th>1</th>\n",
       "      <td>2024-01-11</td>\n",
       "      <td>South</td>\n",
       "      <td>Balu</td>\n",
       "      <td>Pen</td>\n",
       "      <td>10</td>\n",
       "      <td>3</td>\n",
       "    </tr>\n",
       "    <tr>\n",
       "      <th>2</th>\n",
       "      <td>2024-01-10</td>\n",
       "      <td>East</td>\n",
       "      <td>Chirag</td>\n",
       "      <td>Notebook</td>\n",
       "      <td>7</td>\n",
       "      <td>12</td>\n",
       "    </tr>\n",
       "    <tr>\n",
       "      <th>3</th>\n",
       "      <td>2024-01-12</td>\n",
       "      <td>West</td>\n",
       "      <td>Ajay</td>\n",
       "      <td>Pen</td>\n",
       "      <td>15</td>\n",
       "      <td>3</td>\n",
       "    </tr>\n",
       "    <tr>\n",
       "      <th>4</th>\n",
       "      <td>2024-01-11</td>\n",
       "      <td>North</td>\n",
       "      <td>Balu</td>\n",
       "      <td>Binder</td>\n",
       "      <td>20</td>\n",
       "      <td>5</td>\n",
       "    </tr>\n",
       "    <tr>\n",
       "      <th>5</th>\n",
       "      <td>2024-01-12</td>\n",
       "      <td>East</td>\n",
       "      <td>Chirag</td>\n",
       "      <td>Binder</td>\n",
       "      <td>10</td>\n",
       "      <td>5</td>\n",
       "    </tr>\n",
       "  </tbody>\n",
       "</table>\n",
       "</div>"
      ],
      "text/plain": [
       "         Date Region Salesperson   Product  Quantity  Untprice\n",
       "0  2024-01-10  North        Ajay  Notebook         5        12\n",
       "1  2024-01-11  South        Balu       Pen        10         3\n",
       "2  2024-01-10   East      Chirag  Notebook         7        12\n",
       "3  2024-01-12   West        Ajay       Pen        15         3\n",
       "4  2024-01-11  North        Balu    Binder        20         5\n",
       "5  2024-01-12   East      Chirag    Binder        10         5"
      ]
     },
     "execution_count": 23,
     "metadata": {},
     "output_type": "execute_result"
    }
   ],
   "source": [
    "df1=pd.DataFrame({'Date':['2024-01-10','2024-01-11','2024-01-10','2024-01-12','2024-01-11','2024-01-12'],\n",
    "                 'Region':['North','South','East','West','North','East'],\n",
    "                 'Salesperson':['Ajay','Balu','Chirag','Ajay','Balu','Chirag'],\n",
    "                 'Product':['Notebook','Pen','Notebook','Pen','Binder','Binder'],\n",
    "                 'Quantity':[5,10,7,15,20,10],\n",
    "                 'Untprice':[12,3,12,3,5,5]})\n",
    "df1"
   ]
  },
  {
   "cell_type": "markdown",
   "id": "4985caf9",
   "metadata": {},
   "source": [
    "# 24 ) what is the syntax to create a pivot table with indedx as north and south and columns as product where values are sum of quantites sold ?\n",
    "* a. df1[df1['Region'].isin(['North','South']).pivot_table(index='Product',columns='Product',values='Quantity',agg='sum')\n",
    "* b. df1[df1['Region'].isin(['North','South']).pivot_table(index='Product',columns='Product',values='Quantity',aggfun='sum')\n",
    "* c. df1[(df1['Region']=='North')|(df1['Region']=='South')]).pivot_table(index='Product',columns='Product',values='Quantity',agg='sum')\n",
    "* d. df1[(df1['Region']=='North')|(df1['Region']=='South')]).pivot_table(index='Product',columns='Product',values='Quantity',aggfun='sum')\n",
    "          \n",
    " "
   ]
  },
  {
   "cell_type": "code",
   "execution_count": 25,
   "id": "3db58b08",
   "metadata": {},
   "outputs": [
    {
     "data": {
      "text/html": [
       "<div>\n",
       "<style scoped>\n",
       "    .dataframe tbody tr th:only-of-type {\n",
       "        vertical-align: middle;\n",
       "    }\n",
       "\n",
       "    .dataframe tbody tr th {\n",
       "        vertical-align: top;\n",
       "    }\n",
       "\n",
       "    .dataframe thead th {\n",
       "        text-align: right;\n",
       "    }\n",
       "</style>\n",
       "<table border=\"1\" class=\"dataframe\">\n",
       "  <thead>\n",
       "    <tr style=\"text-align: right;\">\n",
       "      <th>Product</th>\n",
       "      <th>Binder</th>\n",
       "      <th>Notebook</th>\n",
       "      <th>Pen</th>\n",
       "    </tr>\n",
       "    <tr>\n",
       "      <th>Region</th>\n",
       "      <th></th>\n",
       "      <th></th>\n",
       "      <th></th>\n",
       "    </tr>\n",
       "  </thead>\n",
       "  <tbody>\n",
       "    <tr>\n",
       "      <th>North</th>\n",
       "      <td>20.0</td>\n",
       "      <td>5.0</td>\n",
       "      <td>NaN</td>\n",
       "    </tr>\n",
       "    <tr>\n",
       "      <th>South</th>\n",
       "      <td>NaN</td>\n",
       "      <td>NaN</td>\n",
       "      <td>10.0</td>\n",
       "    </tr>\n",
       "  </tbody>\n",
       "</table>\n",
       "</div>"
      ],
      "text/plain": [
       "Product  Binder  Notebook   Pen\n",
       "Region                         \n",
       "North      20.0       5.0   NaN\n",
       "South       NaN       NaN  10.0"
      ]
     },
     "execution_count": 25,
     "metadata": {},
     "output_type": "execute_result"
    }
   ],
   "source": [
    "df1[df1['Region'].isin(['North','South'])].pivot_table(index='Region',columns='Product',values='Quantity',aggfunc='sum')"
   ]
  },
  {
   "cell_type": "code",
   "execution_count": 26,
   "id": "1e8813f6",
   "metadata": {},
   "outputs": [],
   "source": [
    "#df1[df1['Region'].isin(['North','South'])].pivot_table(index='Product',columns='Product',values='Quantity',agg='sum')\n",
    "## we dont have agg parameter in pivot_table \n",
    " \n",
    "#df1[(df1['Region']=='North')|(df1['Region']=='South')]).pivot_table(index='Product',columns='Product',values='Quantity',agg='sum')\n",
    "## we dont have agg parameter in pivot_table \n",
    "\n",
    "#df1[(df1['Region']=='North')|(df1['Region']=='South')].pivot_table(index='Product',columns='Product',values='Quantity',aggfunc='sum')"
   ]
  },
  {
   "cell_type": "markdown",
   "id": "71ff2be9",
   "metadata": {},
   "source": [
    "# 25 ) which of the following statements is/are True ?\n",
    "* a. .iloc method includes the last element when used for slicing\n",
    "* b. .loc method doesnt includes the last element when used for slicing\n",
    "* c. we can use .loc method and pass default integer index of rows when slicing\n",
    "* d. None of the above \n",
    "\n",
    "  correct option is 'c'"
   ]
  },
  {
   "cell_type": "code",
   "execution_count": 28,
   "id": "221ae8c1",
   "metadata": {},
   "outputs": [],
   "source": [
    "# False. When using .iloc for slicing, it follows the Python convention of excluding the last element in the range. So, the last element is not included.\n",
    "\n",
    "# False. Similar to .iloc, when using .loc for slicing, the last element is included in the range.\n",
    "\n",
    "# True. You can use .loc and pass the default integer index of rows for slicing. This means you can slice the DataFrame using row indices.\n",
    "\n",
    "# False. At least one statement (c) is true."
   ]
  },
  {
   "cell_type": "markdown",
   "id": "234c8bcb",
   "metadata": {},
   "source": [
    "# 26 ) Using a pivot table is it possible to create a multi-index data frame,if so what is the syntax to have a multi index of Date and Region with total product sold as values\n",
    "* a. no we can't create a multi-index table uisng pivot table\n",
    "* b. df1.pivot_table(index=['Date','Region'],columns='Product',values='Quantity',aggfunc='sum')\n",
    "* c. df1.pivot_table(index=['Date','Region'],columns='Product',values='Quantity',agg='sum')\n",
    "* d. None of these\n"
   ]
  },
  {
   "cell_type": "code",
   "execution_count": 29,
   "id": "9c52bc26",
   "metadata": {},
   "outputs": [
    {
     "data": {
      "text/html": [
       "<div>\n",
       "<style scoped>\n",
       "    .dataframe tbody tr th:only-of-type {\n",
       "        vertical-align: middle;\n",
       "    }\n",
       "\n",
       "    .dataframe tbody tr th {\n",
       "        vertical-align: top;\n",
       "    }\n",
       "\n",
       "    .dataframe thead th {\n",
       "        text-align: right;\n",
       "    }\n",
       "</style>\n",
       "<table border=\"1\" class=\"dataframe\">\n",
       "  <thead>\n",
       "    <tr style=\"text-align: right;\">\n",
       "      <th></th>\n",
       "      <th>Product</th>\n",
       "      <th>Binder</th>\n",
       "      <th>Notebook</th>\n",
       "      <th>Pen</th>\n",
       "    </tr>\n",
       "    <tr>\n",
       "      <th>Date</th>\n",
       "      <th>Region</th>\n",
       "      <th></th>\n",
       "      <th></th>\n",
       "      <th></th>\n",
       "    </tr>\n",
       "  </thead>\n",
       "  <tbody>\n",
       "    <tr>\n",
       "      <th rowspan=\"2\" valign=\"top\">2024-01-10</th>\n",
       "      <th>East</th>\n",
       "      <td>NaN</td>\n",
       "      <td>7.0</td>\n",
       "      <td>NaN</td>\n",
       "    </tr>\n",
       "    <tr>\n",
       "      <th>North</th>\n",
       "      <td>NaN</td>\n",
       "      <td>5.0</td>\n",
       "      <td>NaN</td>\n",
       "    </tr>\n",
       "    <tr>\n",
       "      <th rowspan=\"2\" valign=\"top\">2024-01-11</th>\n",
       "      <th>North</th>\n",
       "      <td>20.0</td>\n",
       "      <td>NaN</td>\n",
       "      <td>NaN</td>\n",
       "    </tr>\n",
       "    <tr>\n",
       "      <th>South</th>\n",
       "      <td>NaN</td>\n",
       "      <td>NaN</td>\n",
       "      <td>10.0</td>\n",
       "    </tr>\n",
       "    <tr>\n",
       "      <th rowspan=\"2\" valign=\"top\">2024-01-12</th>\n",
       "      <th>East</th>\n",
       "      <td>10.0</td>\n",
       "      <td>NaN</td>\n",
       "      <td>NaN</td>\n",
       "    </tr>\n",
       "    <tr>\n",
       "      <th>West</th>\n",
       "      <td>NaN</td>\n",
       "      <td>NaN</td>\n",
       "      <td>15.0</td>\n",
       "    </tr>\n",
       "  </tbody>\n",
       "</table>\n",
       "</div>"
      ],
      "text/plain": [
       "Product            Binder  Notebook   Pen\n",
       "Date       Region                        \n",
       "2024-01-10 East       NaN       7.0   NaN\n",
       "           North      NaN       5.0   NaN\n",
       "2024-01-11 North     20.0       NaN   NaN\n",
       "           South      NaN       NaN  10.0\n",
       "2024-01-12 East      10.0       NaN   NaN\n",
       "           West       NaN       NaN  15.0"
      ]
     },
     "execution_count": 29,
     "metadata": {},
     "output_type": "execute_result"
    }
   ],
   "source": [
    "df1.pivot_table(index=['Date','Region'],columns='Product',values='Quantity',aggfunc='sum') ## by using pivot_table we can create multiple indexes "
   ]
  },
  {
   "cell_type": "markdown",
   "id": "4b453264",
   "metadata": {},
   "source": [
    "# 27 ) what does the margins parameter in the pivot_table( ) function allow you to include in the pivot table ?\n",
    "* a. additional margins and subtotals for rows and columns.\n",
    "* b. a list of column names to exclude from the pivot table\n",
    "* c. the number of rows and columns to skip at the bigginning of the pivot table\n",
    "* d. the maximum number of rows and columns to display in the pivot table\n",
    " \n",
    " correct option is 'a'\n",
    " "
   ]
  },
  {
   "cell_type": "code",
   "execution_count": null,
   "id": "1274a0a2",
   "metadata": {},
   "outputs": [],
   "source": [
    "# a.True adds extra rows and columns with subtotals and totals.\n",
    "# b. A list of column names to exclude from the pivot table: This is not the purpose of the margins parameter.\n",
    "# c. The number of rows and columns to skip at the beginning of the pivot table: This is not the purpose of the margins parameter.\n",
    "# d. The maximum number of rows and columns to display in the pivot table: This is not the purpose of the margins parameter."
   ]
  },
  {
   "cell_type": "code",
   "execution_count": 32,
   "id": "76de7216",
   "metadata": {},
   "outputs": [
    {
     "data": {
      "text/html": [
       "<div>\n",
       "<style scoped>\n",
       "    .dataframe tbody tr th:only-of-type {\n",
       "        vertical-align: middle;\n",
       "    }\n",
       "\n",
       "    .dataframe tbody tr th {\n",
       "        vertical-align: top;\n",
       "    }\n",
       "\n",
       "    .dataframe thead th {\n",
       "        text-align: right;\n",
       "    }\n",
       "</style>\n",
       "<table border=\"1\" class=\"dataframe\">\n",
       "  <thead>\n",
       "    <tr style=\"text-align: right;\">\n",
       "      <th></th>\n",
       "      <th>Fruits</th>\n",
       "      <th>Price</th>\n",
       "    </tr>\n",
       "  </thead>\n",
       "  <tbody>\n",
       "    <tr>\n",
       "      <th>0</th>\n",
       "      <td>apple</td>\n",
       "      <td></td>\n",
       "    </tr>\n",
       "    <tr>\n",
       "      <th>1</th>\n",
       "      <td>banana</td>\n",
       "      <td></td>\n",
       "    </tr>\n",
       "    <tr>\n",
       "      <th>2</th>\n",
       "      <td>apple</td>\n",
       "      <td>205</td>\n",
       "    </tr>\n",
       "    <tr>\n",
       "      <th>3</th>\n",
       "      <td>apple</td>\n",
       "      <td>200</td>\n",
       "    </tr>\n",
       "    <tr>\n",
       "      <th>4</th>\n",
       "      <td>banana</td>\n",
       "      <td>40</td>\n",
       "    </tr>\n",
       "    <tr>\n",
       "      <th>5</th>\n",
       "      <td>apple</td>\n",
       "      <td>210</td>\n",
       "    </tr>\n",
       "    <tr>\n",
       "      <th>6</th>\n",
       "      <td>kiwi</td>\n",
       "      <td>300</td>\n",
       "    </tr>\n",
       "    <tr>\n",
       "      <th>7</th>\n",
       "      <td>kiwi</td>\n",
       "      <td>320</td>\n",
       "    </tr>\n",
       "    <tr>\n",
       "      <th>8</th>\n",
       "      <td>banana</td>\n",
       "      <td></td>\n",
       "    </tr>\n",
       "    <tr>\n",
       "      <th>9</th>\n",
       "      <td>apple</td>\n",
       "      <td>180</td>\n",
       "    </tr>\n",
       "    <tr>\n",
       "      <th>10</th>\n",
       "      <td>kiwi</td>\n",
       "      <td>350</td>\n",
       "    </tr>\n",
       "    <tr>\n",
       "      <th>11</th>\n",
       "      <td>apple</td>\n",
       "      <td></td>\n",
       "    </tr>\n",
       "    <tr>\n",
       "      <th>12</th>\n",
       "      <td>banana</td>\n",
       "      <td>35</td>\n",
       "    </tr>\n",
       "    <tr>\n",
       "      <th>13</th>\n",
       "      <td>grape</td>\n",
       "      <td></td>\n",
       "    </tr>\n",
       "    <tr>\n",
       "      <th>14</th>\n",
       "      <td>apple</td>\n",
       "      <td>215</td>\n",
       "    </tr>\n",
       "    <tr>\n",
       "      <th>15</th>\n",
       "      <td>banana</td>\n",
       "      <td>40</td>\n",
       "    </tr>\n",
       "    <tr>\n",
       "      <th>16</th>\n",
       "      <td>apple</td>\n",
       "      <td></td>\n",
       "    </tr>\n",
       "    <tr>\n",
       "      <th>17</th>\n",
       "      <td>apple</td>\n",
       "      <td></td>\n",
       "    </tr>\n",
       "    <tr>\n",
       "      <th>18</th>\n",
       "      <td>grape</td>\n",
       "      <td></td>\n",
       "    </tr>\n",
       "  </tbody>\n",
       "</table>\n",
       "</div>"
      ],
      "text/plain": [
       "    Fruits Price\n",
       "0    apple      \n",
       "1   banana      \n",
       "2    apple   205\n",
       "3    apple   200\n",
       "4   banana    40\n",
       "5    apple   210\n",
       "6     kiwi   300\n",
       "7     kiwi   320\n",
       "8   banana      \n",
       "9    apple   180\n",
       "10    kiwi   350\n",
       "11   apple      \n",
       "12  banana    35\n",
       "13   grape      \n",
       "14   apple   215\n",
       "15  banana    40\n",
       "16   apple      \n",
       "17   apple      \n",
       "18   grape      "
      ]
     },
     "execution_count": 32,
     "metadata": {},
     "output_type": "execute_result"
    }
   ],
   "source": [
    "df2 = pd.DataFrame({\n",
    "    'Fruits': ['apple', 'banana', 'apple', 'apple', 'banana', 'apple', 'kiwi', 'kiwi', 'banana', 'apple', 'kiwi', 'apple', 'banana', 'grape', 'apple', 'banana', 'apple', 'apple', 'grape'],\n",
    "    'Price': ['', '', 205, 200, 40, 210, 300, 320, '', 180, 350, '', 35, '', 215, 40, '', '', '']\n",
    "})\n",
    "df2"
   ]
  },
  {
   "cell_type": "markdown",
   "id": "e7b24bca",
   "metadata": {},
   "source": [
    "# 28 ) if we choose to impute missing values in price col by chaining ffill() and bfill() while limiting the imputation to 1,1 respectively,how many missing values will be left post imputation ?\n",
    "* a. 2\n",
    "* b. 0\n",
    "* c. 1\n",
    "* d. 3\n",
    "\n",
    "correct option is 'd'"
   ]
  },
  {
   "cell_type": "code",
   "execution_count": 33,
   "id": "c6c5b7a4",
   "metadata": {},
   "outputs": [
    {
     "data": {
      "text/html": [
       "<div>\n",
       "<style scoped>\n",
       "    .dataframe tbody tr th:only-of-type {\n",
       "        vertical-align: middle;\n",
       "    }\n",
       "\n",
       "    .dataframe tbody tr th {\n",
       "        vertical-align: top;\n",
       "    }\n",
       "\n",
       "    .dataframe thead th {\n",
       "        text-align: right;\n",
       "    }\n",
       "</style>\n",
       "<table border=\"1\" class=\"dataframe\">\n",
       "  <thead>\n",
       "    <tr style=\"text-align: right;\">\n",
       "      <th></th>\n",
       "      <th>Fruits</th>\n",
       "      <th>Price</th>\n",
       "    </tr>\n",
       "  </thead>\n",
       "  <tbody>\n",
       "    <tr>\n",
       "      <th>0</th>\n",
       "      <td>apple</td>\n",
       "      <td>NaN</td>\n",
       "    </tr>\n",
       "    <tr>\n",
       "      <th>1</th>\n",
       "      <td>banana</td>\n",
       "      <td>205.0</td>\n",
       "    </tr>\n",
       "    <tr>\n",
       "      <th>2</th>\n",
       "      <td>apple</td>\n",
       "      <td>205.0</td>\n",
       "    </tr>\n",
       "    <tr>\n",
       "      <th>3</th>\n",
       "      <td>apple</td>\n",
       "      <td>200.0</td>\n",
       "    </tr>\n",
       "    <tr>\n",
       "      <th>4</th>\n",
       "      <td>banana</td>\n",
       "      <td>40.0</td>\n",
       "    </tr>\n",
       "    <tr>\n",
       "      <th>5</th>\n",
       "      <td>apple</td>\n",
       "      <td>210.0</td>\n",
       "    </tr>\n",
       "    <tr>\n",
       "      <th>6</th>\n",
       "      <td>kiwi</td>\n",
       "      <td>300.0</td>\n",
       "    </tr>\n",
       "    <tr>\n",
       "      <th>7</th>\n",
       "      <td>kiwi</td>\n",
       "      <td>320.0</td>\n",
       "    </tr>\n",
       "    <tr>\n",
       "      <th>8</th>\n",
       "      <td>banana</td>\n",
       "      <td>320.0</td>\n",
       "    </tr>\n",
       "    <tr>\n",
       "      <th>9</th>\n",
       "      <td>apple</td>\n",
       "      <td>180.0</td>\n",
       "    </tr>\n",
       "    <tr>\n",
       "      <th>10</th>\n",
       "      <td>kiwi</td>\n",
       "      <td>350.0</td>\n",
       "    </tr>\n",
       "    <tr>\n",
       "      <th>11</th>\n",
       "      <td>apple</td>\n",
       "      <td>350.0</td>\n",
       "    </tr>\n",
       "    <tr>\n",
       "      <th>12</th>\n",
       "      <td>banana</td>\n",
       "      <td>35.0</td>\n",
       "    </tr>\n",
       "    <tr>\n",
       "      <th>13</th>\n",
       "      <td>grape</td>\n",
       "      <td>35.0</td>\n",
       "    </tr>\n",
       "    <tr>\n",
       "      <th>14</th>\n",
       "      <td>apple</td>\n",
       "      <td>215.0</td>\n",
       "    </tr>\n",
       "    <tr>\n",
       "      <th>15</th>\n",
       "      <td>banana</td>\n",
       "      <td>40.0</td>\n",
       "    </tr>\n",
       "    <tr>\n",
       "      <th>16</th>\n",
       "      <td>apple</td>\n",
       "      <td>40.0</td>\n",
       "    </tr>\n",
       "    <tr>\n",
       "      <th>17</th>\n",
       "      <td>apple</td>\n",
       "      <td>NaN</td>\n",
       "    </tr>\n",
       "    <tr>\n",
       "      <th>18</th>\n",
       "      <td>grape</td>\n",
       "      <td>NaN</td>\n",
       "    </tr>\n",
       "  </tbody>\n",
       "</table>\n",
       "</div>"
      ],
      "text/plain": [
       "    Fruits  Price\n",
       "0    apple    NaN\n",
       "1   banana  205.0\n",
       "2    apple  205.0\n",
       "3    apple  200.0\n",
       "4   banana   40.0\n",
       "5    apple  210.0\n",
       "6     kiwi  300.0\n",
       "7     kiwi  320.0\n",
       "8   banana  320.0\n",
       "9    apple  180.0\n",
       "10    kiwi  350.0\n",
       "11   apple  350.0\n",
       "12  banana   35.0\n",
       "13   grape   35.0\n",
       "14   apple  215.0\n",
       "15  banana   40.0\n",
       "16   apple   40.0\n",
       "17   apple    NaN\n",
       "18   grape    NaN"
      ]
     },
     "execution_count": 33,
     "metadata": {},
     "output_type": "execute_result"
    }
   ],
   "source": [
    "df2['Price'] = pd.to_numeric(df2['Price'])\n",
    "df2['Price'] = df2['Price'].ffill(limit=1).bfill(limit=1) ## ffill is forward filling,bfill backward fill \n",
    "df2 ## limit =1 is for it only fill one value in both ffill and bfill"
   ]
  },
  {
   "cell_type": "markdown",
   "id": "f1a2321c",
   "metadata": {},
   "source": [
    "# 29 ) what kind of missing values handling technique is appropriate for df2?\n",
    "* a. imputing price col with Price's mean.\n",
    "* b. impution price col with prices median.\n",
    "* c. imputation price col with individuals fruits'prices median\n",
    "* d. dropping missing values\n",
    "\n",
    "  correct option is 'c''"
   ]
  },
  {
   "cell_type": "code",
   "execution_count": 34,
   "id": "5abff243",
   "metadata": {},
   "outputs": [
    {
     "data": {
      "text/html": [
       "<div>\n",
       "<style scoped>\n",
       "    .dataframe tbody tr th:only-of-type {\n",
       "        vertical-align: middle;\n",
       "    }\n",
       "\n",
       "    .dataframe tbody tr th {\n",
       "        vertical-align: top;\n",
       "    }\n",
       "\n",
       "    .dataframe thead th {\n",
       "        text-align: right;\n",
       "    }\n",
       "</style>\n",
       "<table border=\"1\" class=\"dataframe\">\n",
       "  <thead>\n",
       "    <tr style=\"text-align: right;\">\n",
       "      <th></th>\n",
       "      <th>Fruits</th>\n",
       "      <th>Price</th>\n",
       "    </tr>\n",
       "  </thead>\n",
       "  <tbody>\n",
       "    <tr>\n",
       "      <th>0</th>\n",
       "      <td>apple</td>\n",
       "      <td>NaN</td>\n",
       "    </tr>\n",
       "    <tr>\n",
       "      <th>1</th>\n",
       "      <td>banana</td>\n",
       "      <td>205.0</td>\n",
       "    </tr>\n",
       "    <tr>\n",
       "      <th>2</th>\n",
       "      <td>apple</td>\n",
       "      <td>205.0</td>\n",
       "    </tr>\n",
       "    <tr>\n",
       "      <th>3</th>\n",
       "      <td>apple</td>\n",
       "      <td>200.0</td>\n",
       "    </tr>\n",
       "    <tr>\n",
       "      <th>4</th>\n",
       "      <td>banana</td>\n",
       "      <td>40.0</td>\n",
       "    </tr>\n",
       "    <tr>\n",
       "      <th>5</th>\n",
       "      <td>apple</td>\n",
       "      <td>210.0</td>\n",
       "    </tr>\n",
       "    <tr>\n",
       "      <th>6</th>\n",
       "      <td>kiwi</td>\n",
       "      <td>300.0</td>\n",
       "    </tr>\n",
       "    <tr>\n",
       "      <th>7</th>\n",
       "      <td>kiwi</td>\n",
       "      <td>320.0</td>\n",
       "    </tr>\n",
       "    <tr>\n",
       "      <th>8</th>\n",
       "      <td>banana</td>\n",
       "      <td>320.0</td>\n",
       "    </tr>\n",
       "    <tr>\n",
       "      <th>9</th>\n",
       "      <td>apple</td>\n",
       "      <td>180.0</td>\n",
       "    </tr>\n",
       "    <tr>\n",
       "      <th>10</th>\n",
       "      <td>kiwi</td>\n",
       "      <td>350.0</td>\n",
       "    </tr>\n",
       "    <tr>\n",
       "      <th>11</th>\n",
       "      <td>apple</td>\n",
       "      <td>350.0</td>\n",
       "    </tr>\n",
       "    <tr>\n",
       "      <th>12</th>\n",
       "      <td>banana</td>\n",
       "      <td>35.0</td>\n",
       "    </tr>\n",
       "    <tr>\n",
       "      <th>13</th>\n",
       "      <td>grape</td>\n",
       "      <td>35.0</td>\n",
       "    </tr>\n",
       "    <tr>\n",
       "      <th>14</th>\n",
       "      <td>apple</td>\n",
       "      <td>215.0</td>\n",
       "    </tr>\n",
       "    <tr>\n",
       "      <th>15</th>\n",
       "      <td>banana</td>\n",
       "      <td>40.0</td>\n",
       "    </tr>\n",
       "    <tr>\n",
       "      <th>16</th>\n",
       "      <td>apple</td>\n",
       "      <td>40.0</td>\n",
       "    </tr>\n",
       "    <tr>\n",
       "      <th>17</th>\n",
       "      <td>apple</td>\n",
       "      <td>NaN</td>\n",
       "    </tr>\n",
       "    <tr>\n",
       "      <th>18</th>\n",
       "      <td>grape</td>\n",
       "      <td>NaN</td>\n",
       "    </tr>\n",
       "  </tbody>\n",
       "</table>\n",
       "</div>"
      ],
      "text/plain": [
       "    Fruits  Price\n",
       "0    apple    NaN\n",
       "1   banana  205.0\n",
       "2    apple  205.0\n",
       "3    apple  200.0\n",
       "4   banana   40.0\n",
       "5    apple  210.0\n",
       "6     kiwi  300.0\n",
       "7     kiwi  320.0\n",
       "8   banana  320.0\n",
       "9    apple  180.0\n",
       "10    kiwi  350.0\n",
       "11   apple  350.0\n",
       "12  banana   35.0\n",
       "13   grape   35.0\n",
       "14   apple  215.0\n",
       "15  banana   40.0\n",
       "16   apple   40.0\n",
       "17   apple    NaN\n",
       "18   grape    NaN"
      ]
     },
     "execution_count": 34,
     "metadata": {},
     "output_type": "execute_result"
    }
   ],
   "source": [
    "df2"
   ]
  },
  {
   "cell_type": "code",
   "execution_count": 36,
   "id": "0c4348ea",
   "metadata": {},
   "outputs": [
    {
     "data": {
      "text/html": [
       "<div>\n",
       "<style scoped>\n",
       "    .dataframe tbody tr th:only-of-type {\n",
       "        vertical-align: middle;\n",
       "    }\n",
       "\n",
       "    .dataframe tbody tr th {\n",
       "        vertical-align: top;\n",
       "    }\n",
       "\n",
       "    .dataframe thead th {\n",
       "        text-align: right;\n",
       "    }\n",
       "</style>\n",
       "<table border=\"1\" class=\"dataframe\">\n",
       "  <thead>\n",
       "    <tr style=\"text-align: right;\">\n",
       "      <th></th>\n",
       "      <th>Fruits</th>\n",
       "      <th>Price</th>\n",
       "    </tr>\n",
       "  </thead>\n",
       "  <tbody>\n",
       "    <tr>\n",
       "      <th>0</th>\n",
       "      <td>apple</td>\n",
       "      <td>200.0</td>\n",
       "    </tr>\n",
       "    <tr>\n",
       "      <th>1</th>\n",
       "      <td>banana</td>\n",
       "      <td>205.0</td>\n",
       "    </tr>\n",
       "    <tr>\n",
       "      <th>2</th>\n",
       "      <td>apple</td>\n",
       "      <td>205.0</td>\n",
       "    </tr>\n",
       "    <tr>\n",
       "      <th>3</th>\n",
       "      <td>apple</td>\n",
       "      <td>200.0</td>\n",
       "    </tr>\n",
       "    <tr>\n",
       "      <th>4</th>\n",
       "      <td>banana</td>\n",
       "      <td>40.0</td>\n",
       "    </tr>\n",
       "    <tr>\n",
       "      <th>5</th>\n",
       "      <td>apple</td>\n",
       "      <td>210.0</td>\n",
       "    </tr>\n",
       "    <tr>\n",
       "      <th>6</th>\n",
       "      <td>kiwi</td>\n",
       "      <td>300.0</td>\n",
       "    </tr>\n",
       "    <tr>\n",
       "      <th>7</th>\n",
       "      <td>kiwi</td>\n",
       "      <td>320.0</td>\n",
       "    </tr>\n",
       "    <tr>\n",
       "      <th>8</th>\n",
       "      <td>banana</td>\n",
       "      <td>320.0</td>\n",
       "    </tr>\n",
       "    <tr>\n",
       "      <th>9</th>\n",
       "      <td>apple</td>\n",
       "      <td>180.0</td>\n",
       "    </tr>\n",
       "    <tr>\n",
       "      <th>10</th>\n",
       "      <td>kiwi</td>\n",
       "      <td>350.0</td>\n",
       "    </tr>\n",
       "    <tr>\n",
       "      <th>11</th>\n",
       "      <td>apple</td>\n",
       "      <td>350.0</td>\n",
       "    </tr>\n",
       "    <tr>\n",
       "      <th>12</th>\n",
       "      <td>banana</td>\n",
       "      <td>35.0</td>\n",
       "    </tr>\n",
       "    <tr>\n",
       "      <th>13</th>\n",
       "      <td>grape</td>\n",
       "      <td>35.0</td>\n",
       "    </tr>\n",
       "    <tr>\n",
       "      <th>14</th>\n",
       "      <td>apple</td>\n",
       "      <td>215.0</td>\n",
       "    </tr>\n",
       "    <tr>\n",
       "      <th>15</th>\n",
       "      <td>banana</td>\n",
       "      <td>40.0</td>\n",
       "    </tr>\n",
       "    <tr>\n",
       "      <th>16</th>\n",
       "      <td>apple</td>\n",
       "      <td>40.0</td>\n",
       "    </tr>\n",
       "    <tr>\n",
       "      <th>17</th>\n",
       "      <td>apple</td>\n",
       "      <td>200.0</td>\n",
       "    </tr>\n",
       "    <tr>\n",
       "      <th>18</th>\n",
       "      <td>grape</td>\n",
       "      <td>35.0</td>\n",
       "    </tr>\n",
       "  </tbody>\n",
       "</table>\n",
       "</div>"
      ],
      "text/plain": [
       "    Fruits  Price\n",
       "0    apple  200.0\n",
       "1   banana  205.0\n",
       "2    apple  205.0\n",
       "3    apple  200.0\n",
       "4   banana   40.0\n",
       "5    apple  210.0\n",
       "6     kiwi  300.0\n",
       "7     kiwi  320.0\n",
       "8   banana  320.0\n",
       "9    apple  180.0\n",
       "10    kiwi  350.0\n",
       "11   apple  350.0\n",
       "12  banana   35.0\n",
       "13   grape   35.0\n",
       "14   apple  215.0\n",
       "15  banana   40.0\n",
       "16   apple   40.0\n",
       "17   apple  200.0\n",
       "18   grape   35.0"
      ]
     },
     "execution_count": 36,
     "metadata": {},
     "output_type": "execute_result"
    }
   ],
   "source": [
    "df2['Price'] = pd.to_numeric(df2['Price'])#converting to numeric\n",
    "df2['Price'] = df2.groupby('Fruits')['Price'].transform(lambda x: x.fillna(x.mean()))\n",
    "df2"
   ]
  },
  {
   "cell_type": "markdown",
   "id": "9ae01635",
   "metadata": {},
   "source": [
    "# 30 ) if we choose to impute missing values in price col by with individual fruits prices mean how many missing values will be post imputatiion ?\n",
    "* a. 2\n",
    "* b. 0\n",
    "* c. 1\n",
    "* d. 3\n",
    " \n",
    " correct option is 'a'"
   ]
  },
  {
   "cell_type": "code",
   "execution_count": null,
   "id": "32df01cc",
   "metadata": {},
   "outputs": [],
   "source": [
    "# If there were originally 2 missing values and they were successfully imputed, then option a. 2 missing values could be correct."
   ]
  },
  {
   "cell_type": "markdown",
   "id": "ead1866f",
   "metadata": {},
   "source": [
    "# 31. a= pd.Series ([np.nan,1,2,np.nan,np.nan,np.nan,np.nan,4,5,7])\n",
    "## what will be the output of a.interpolate()\n",
    "\n",
    " correct option is 'c'"
   ]
  },
  {
   "cell_type": "code",
   "execution_count": 37,
   "id": "37d2d2c8",
   "metadata": {},
   "outputs": [],
   "source": [
    "a= pd.Series ([np.nan,1,2,np.nan,np.nan,np.nan,np.nan,4,5,7])"
   ]
  },
  {
   "cell_type": "code",
   "execution_count": 38,
   "id": "a5104667",
   "metadata": {},
   "outputs": [
    {
     "data": {
      "text/plain": [
       "0    NaN\n",
       "1    1.0\n",
       "2    2.0\n",
       "3    2.4\n",
       "4    2.8\n",
       "5    3.2\n",
       "6    3.6\n",
       "7    4.0\n",
       "8    5.0\n",
       "9    7.0\n",
       "dtype: float64"
      ]
     },
     "execution_count": 38,
     "metadata": {},
     "output_type": "execute_result"
    }
   ],
   "source": [
    "a.interpolate()"
   ]
  },
  {
   "cell_type": "markdown",
   "id": "51b6b029",
   "metadata": {},
   "source": [
    "# 32 ) what is the use of the normalization parameter in the crosstab method pf pandas ?\n",
    "* a. it is used to normalize values by dividing them by the total count\n",
    "* b. to add margings\n",
    "* c. there is no parameter called as normalize in crosstab.\n",
    "* d. Both a&c\n",
    "\n",
    " correct option is 'a'"
   ]
  },
  {
   "cell_type": "code",
   "execution_count": 39,
   "id": "967ddfe5",
   "metadata": {},
   "outputs": [],
   "source": [
    "# b. To add margins: Adding margins is controlled by the margins parameter, not normalize.\n",
    "# c. There is no parameter called as normalize in crosstab: This is not correct. The normalize parameter does exist in the crosstab method.\n",
    "# a. It is used to normalize values by dividing them by the total count."
   ]
  },
  {
   "cell_type": "code",
   "execution_count": 40,
   "id": "cf2e46ec",
   "metadata": {},
   "outputs": [
    {
     "name": "stdout",
     "output_type": "stream",
     "text": [
      "  Age Group Favorite Color  Gender Has Pet\n",
      "0     26-35           Blue    Male     Yes\n",
      "1     18-25            Red  Female     Yes\n",
      "2     18-25            Red    Male     Yes\n",
      "3     26-35           Blue  Female     Yes\n",
      "4     18-25            Red  Female     Yes\n",
      "5     18-25           Blue  Female      No\n"
     ]
    }
   ],
   "source": [
    "data = {\n",
    "    'Age Group': ['26-35', '18-25', '18-25', '26-35', '18-25', '18-25'],\n",
    "    'Favorite Color': ['Blue', 'Red', 'Red', 'Blue', 'Red', 'Blue'],\n",
    "    'Gender': ['Male', 'Female', 'Male', 'Female', 'Female', 'Female'],\n",
    "    'Has Pet': ['Yes', 'Yes', 'Yes', 'Yes', 'Yes', 'No']\n",
    "}\n",
    "\n",
    "df3 = pd.DataFrame(data)\n",
    "\n",
    "print(df3)"
   ]
  },
  {
   "cell_type": "markdown",
   "id": "3aafad2c",
   "metadata": {},
   "source": [
    "# 33. What is the probabilty of finding a Male and having a Pet in df3\n",
    "* a) 0.333\n",
    "* b) 0.666\n",
    "* c) 0.5\n",
    "* d) 0.1667\n",
    "\n",
    " correct option is 'a'"
   ]
  },
  {
   "cell_type": "code",
   "execution_count": 43,
   "id": "11b6e558",
   "metadata": {},
   "outputs": [
    {
     "data": {
      "text/plain": [
       "0.3333333333333333"
      ]
     },
     "execution_count": 43,
     "metadata": {},
     "output_type": "execute_result"
    }
   ],
   "source": [
    "total_observations = len(df3)\n",
    "male_and_has_pet = len(df3[(df3['Gender'] == 'Male') & (df3['Has Pet'] == 'Yes')])\n",
    "probability = male_and_has_pet / total_observations\n",
    "probability"
   ]
  },
  {
   "cell_type": "markdown",
   "id": "38bdcc0f",
   "metadata": {},
   "source": [
    "# 34. What is the probabilty of finding a person having Pet given they belong to the age group 18-25 in df3\n",
    "* a) 0.25\n",
    "* b) 0\n",
    "* c) 0.75\n",
    "* d) 1\n",
    "  \n",
    "    correct option is 'c'"
   ]
  },
  {
   "cell_type": "code",
   "execution_count": 45,
   "id": "3a755d14",
   "metadata": {},
   "outputs": [
    {
     "name": "stdout",
     "output_type": "stream",
     "text": [
      "0.75\n"
     ]
    }
   ],
   "source": [
    "age_group_18_25 = len(df3[df3['Age Group'] == '18-25'])\n",
    "has_pet_and_age_group_18_25 = len(df3[(df3['Age Group'] == '18-25') & (df3['Has Pet'] == 'Yes')])\n",
    "probability = has_pet_and_age_group_18_25 / age_group_18_25\n",
    "\n",
    "print(probability)"
   ]
  },
  {
   "cell_type": "markdown",
   "id": "ef0beb40",
   "metadata": {},
   "source": [
    "# 35. Which distribution is appropriate for modeling the number of defects in a large batch of products\n",
    "* a) Normal\n",
    "* b) Binomial\n",
    "* c) Bernouli\n",
    "* d) Uniform\n",
    " \n",
    "    correct option is 'b'"
   ]
  },
  {
   "cell_type": "code",
   "execution_count": 47,
   "id": "4272bb1d",
   "metadata": {},
   "outputs": [],
   "source": [
    "# Binomial Distribution: This distribution is suitable for modeling the number of successes (defects, in this case) in a fixed number of independent and identical trials (products in a batch)."
   ]
  },
  {
   "cell_type": "markdown",
   "id": "d2a79ee2",
   "metadata": {},
   "source": [
    "# 36. A survey asks participants to rate their satisfaction with product on a scale of 1 to 5 What type of data is being collected\n",
    "* a) Categorical data\n",
    "* b) Ordinal data\n",
    "* c) Continuous data\n",
    "* d) Discrete data\n",
    " \n",
    "    correct option is 'b'"
   ]
  },
  {
   "cell_type": "code",
   "execution_count": 48,
   "id": "5636c3ee",
   "metadata": {},
   "outputs": [],
   "source": [
    "# Ordinal Data: Imagine you have toys of different sizes. Now, if you arrange them from smallest to largest, you can tell which one is bigger, but you can't say exactly how much bigger. Similarly, in ordinal data, you have categories, and you know the order between them, but the differences between the categories may not be uniform."
   ]
  },
  {
   "cell_type": "markdown",
   "id": "4427a138",
   "metadata": {},
   "source": [
    "# 37. From given fig. in question , what kind of distribution does the data follow\n",
    "* a) Right skewed\n",
    "* b) Left skewed\n",
    "* c) Normal\n",
    "* d) Uniform\n",
    "\n",
    " correct option is 'a'"
   ]
  },
  {
   "cell_type": "markdown",
   "id": "6ad27c71",
   "metadata": {},
   "source": [
    "# 38. In data with outliers , what is the best measure to estimate the dispersion\n",
    "* a) Standard Deviation\n",
    "* b) Z-score\n",
    "* c) Median Absolute Deviation\n",
    "* d) Uniform\n",
    " \n",
    " correct option is 'c'"
   ]
  },
  {
   "cell_type": "code",
   "execution_count": null,
   "id": "207588c0",
   "metadata": {},
   "outputs": [],
   "source": [
    "# a) Standard Deviation: Standard deviation is sensitive to outliers. Outliers can greatly affect the mean, and since standard deviation is based on the mean, it may not be the best choice when dealing with data containing outliers.\n",
    "\n",
    "# b) Z-score: Z-score is a measure of how far a data point is from the mean in terms of standard deviations. Since standard deviation is affected by outliers, Z-score may not be the best choice when there are outliers in the data.\n",
    "\n",
    "# d) Uniform: Uniform is not a measure of dispersion. It refers to a distribution where all values have equal probability.\n",
    "\n",
    " correct option is:\n",
    "# c) Median Absolute Deviation (MAD): Imagine you have a group of friends and you want to find the middle person. The median is like finding the friend in the middle."
   ]
  }
 ],
 "metadata": {
  "kernelspec": {
   "display_name": "Python 3 (ipykernel)",
   "language": "python",
   "name": "python3"
  },
  "language_info": {
   "codemirror_mode": {
    "name": "ipython",
    "version": 3
   },
   "file_extension": ".py",
   "mimetype": "text/x-python",
   "name": "python",
   "nbconvert_exporter": "python",
   "pygments_lexer": "ipython3",
   "version": "3.11.5"
  }
 },
 "nbformat": 4,
 "nbformat_minor": 5
}
