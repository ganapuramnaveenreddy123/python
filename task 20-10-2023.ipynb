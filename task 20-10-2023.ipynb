{
 "cells": [
  {
   "cell_type": "markdown",
   "id": "dc39e344",
   "metadata": {},
   "source": [
    "# string():\n",
    "\n",
    "* strings are \"immutable\" which means they cannot be changed after they are created "
   ]
  },
  {
   "cell_type": "markdown",
   "id": "32e7f225",
   "metadata": {},
   "source": [
    "# capitalize():\n",
    "\n",
    "* The capitalize() method returns a string where the first character is upper case, and the rest is lower case.\n",
    "\n",
    "Syntax\n",
    "string.capitalize()"
   ]
  },
  {
   "cell_type": "code",
   "execution_count": 1,
   "id": "ca8352fc",
   "metadata": {},
   "outputs": [
    {
     "name": "stdout",
     "output_type": "stream",
     "text": [
      "Python is fun!\n"
     ]
    }
   ],
   "source": [
    "txt = \"python is FUN!\"\n",
    "x = txt.capitalize()\n",
    "print (x)"
   ]
  },
  {
   "cell_type": "code",
   "execution_count": 2,
   "id": "157f4992",
   "metadata": {},
   "outputs": [
    {
     "data": {
      "text/plain": [
       "'36 is my age.'"
      ]
     },
     "execution_count": 2,
     "metadata": {},
     "output_type": "execute_result"
    }
   ],
   "source": [
    "txt = \"36 is my age.\"\n",
    "txt.capitalize()\n"
   ]
  },
  {
   "cell_type": "code",
   "execution_count": 3,
   "id": "8ac70f75",
   "metadata": {},
   "outputs": [
    {
     "data": {
      "text/plain": [
       "'I love you.'"
      ]
     },
     "execution_count": 3,
     "metadata": {},
     "output_type": "execute_result"
    }
   ],
   "source": [
    "txt = \"i love you.\"\n",
    "txt.capitalize()"
   ]
  },
  {
   "cell_type": "markdown",
   "id": "1150db4c",
   "metadata": {},
   "source": [
    "# casefold():\n",
    "\n",
    "* The casefold() method returns a string where all the characters are lower case.\n",
    "* This method is similar to the lower() method, but the casefold() method is stronger, more aggressive, meaning that it will *  more characters into lower case, and will find more matches when comparing two strings and both are converted using the casefold() method.\n",
    "\n",
    "Syntax\n",
    "string.casefold()"
   ]
  },
  {
   "cell_type": "code",
   "execution_count": 4,
   "id": "4ae7bede",
   "metadata": {},
   "outputs": [
    {
     "data": {
      "text/plain": [
       "'hello, and welcome to my world!'"
      ]
     },
     "execution_count": 4,
     "metadata": {},
     "output_type": "execute_result"
    }
   ],
   "source": [
    "txt = \"Hello, And Welcome To My World!\"\n",
    "x = txt.casefold()\n",
    "x\n"
   ]
  },
  {
   "cell_type": "code",
   "execution_count": 5,
   "id": "4c8046c3",
   "metadata": {},
   "outputs": [
    {
     "data": {
      "text/plain": [
       "'i dont care bro'"
      ]
     },
     "execution_count": 5,
     "metadata": {},
     "output_type": "execute_result"
    }
   ],
   "source": [
    "txt =\"I dont care bro\"\n",
    "txt.casefold()"
   ]
  },
  {
   "cell_type": "markdown",
   "id": "08185e47",
   "metadata": {},
   "source": [
    "# center():\n",
    "\n",
    "* The center() method will center align the string, using a specified character (space is default) as the fill character.\n",
    "\n",
    "Syntax \n",
    "string.center(length, character)"
   ]
  },
  {
   "cell_type": "markdown",
   "id": "0fe1b55e",
   "metadata": {},
   "source": [
    "# Parameter Values\n",
    "\n",
    "* length\tRequired. ------>The length of the returned string\n",
    "* character\tOptional.  -----> The character to fill the missing space on each side. Default is \" \" (space)\n"
   ]
  },
  {
   "cell_type": "code",
   "execution_count": 9,
   "id": "26d5b0e3",
   "metadata": {},
   "outputs": [
    {
     "name": "stdout",
     "output_type": "stream",
     "text": [
      "#######banana#######\n"
     ]
    }
   ],
   "source": [
    "txt = \"banana\"\n",
    "x = txt.center(20, \"#\")\n",
    "print(x)"
   ]
  },
  {
   "cell_type": "code",
   "execution_count": 8,
   "id": "673fa043",
   "metadata": {},
   "outputs": [
    {
     "data": {
      "text/plain": [
       "'   nani   '"
      ]
     },
     "execution_count": 8,
     "metadata": {},
     "output_type": "execute_result"
    }
   ],
   "source": [
    "txt = \"nani\"\n",
    "txt.center(10)"
   ]
  },
  {
   "cell_type": "markdown",
   "id": "127f16aa",
   "metadata": {},
   "source": [
    "# count()\n",
    "\n",
    "* The count() method returns the number of times a specified value appears in the string.\n",
    "\n",
    "Syntax\n",
    "string.count(value, start, end)"
   ]
  },
  {
   "cell_type": "markdown",
   "id": "9b5daa11",
   "metadata": {},
   "source": [
    "# Parameter Values\n",
    "\n",
    "* value\tRequired. A String. The string to value to search for\n",
    "* Optional. An Integer. The position to start the search. Default is 0\n",
    "* end\tOptional. An Integer. The position to end the search. Default is the end of the string\n",
    "\n"
   ]
  },
  {
   "cell_type": "code",
   "execution_count": 10,
   "id": "ef5f187c",
   "metadata": {},
   "outputs": [
    {
     "name": "stdout",
     "output_type": "stream",
     "text": [
      "2\n"
     ]
    }
   ],
   "source": [
    "txt = \"I love apples, apple are my favorite fruit\"\n",
    "x = txt.count(\"apple\")\n",
    "print(x)"
   ]
  },
  {
   "cell_type": "code",
   "execution_count": 11,
   "id": "f111a840",
   "metadata": {},
   "outputs": [
    {
     "name": "stdout",
     "output_type": "stream",
     "text": [
      "1\n"
     ]
    }
   ],
   "source": [
    "txt = \"I love apples, apple are my favorite fruit\"\n",
    "x = txt.count(\"my\")\n",
    "print(x)"
   ]
  },
  {
   "cell_type": "code",
   "execution_count": 12,
   "id": "80a20100",
   "metadata": {},
   "outputs": [
    {
     "name": "stdout",
     "output_type": "stream",
     "text": [
      "1\n"
     ]
    }
   ],
   "source": [
    "txt = \"I love apples, apple are my favorite fruit\"\n",
    "x = txt.count(\"apple\", 10, 24)\n",
    "print(x)"
   ]
  },
  {
   "cell_type": "code",
   "execution_count": 14,
   "id": "7e93c11a",
   "metadata": {},
   "outputs": [
    {
     "name": "stdout",
     "output_type": "stream",
     "text": [
      "0\n"
     ]
    }
   ],
   "source": [
    "txt = \"I love apples, apple are my favorite fruit\"\n",
    "x = txt.count(\"apple\", 1, 2)\n",
    "print(x)"
   ]
  },
  {
   "cell_type": "markdown",
   "id": "bb367002",
   "metadata": {},
   "source": [
    "# encode() \n",
    "\n",
    "* The encode() method encodes the string, using the specified encoding. If no encoding is specified, UTF-8 will be used.\n",
    "\n",
    "Syntax\n",
    "string.encode(encoding=encoding, errors=errors)"
   ]
  },
  {
   "cell_type": "markdown",
   "id": "be450959",
   "metadata": {},
   "source": [
    "# Parameter Values\n",
    "\n",
    "* encoding\tOptional. A String specifying the encoding to use. Default is UTF-8\n",
    "* errors\tOptional. A String specifying the error method. Legal values are:\n",
    "     * 'backslashreplace'--->uses a backslash instead of the character that could not be encoded\n",
    "     * 'ignore'     \t----> ignores the characters that cannot be encoded\n",
    "     * 'namereplace'\t----> replaces the character with a text explaining the character\n",
    "     * 'strict'\t        ----> Default, raises an error on failure\n",
    "     * 'replace'\t    ----> replaces the character with a questionmark\n",
    "     *  'xmlcharrefreplace'-> replaces the character with an xml character\n"
   ]
  },
  {
   "cell_type": "code",
   "execution_count": 15,
   "id": "9a0ef52a",
   "metadata": {},
   "outputs": [
    {
     "name": "stdout",
     "output_type": "stream",
     "text": [
      "b'My name is St\\\\xe5le'\n",
      "b'My name is Stle'\n",
      "b'My name is St\\\\N{LATIN SMALL LETTER A WITH RING ABOVE}le'\n",
      "b'My name is St?le'\n",
      "b'My name is St&#229;le'\n"
     ]
    }
   ],
   "source": [
    "txt = \"My name is Ståle\"\n",
    "print(txt.encode(encoding=\"ascii\",errors=\"backslashreplace\"))\n",
    "print(txt.encode(encoding=\"ascii\",errors=\"ignore\"))\n",
    "print(txt.encode(encoding=\"ascii\",errors=\"namereplace\"))\n",
    "print(txt.encode(encoding=\"ascii\",errors=\"replace\"))\n",
    "print(txt.encode(encoding=\"ascii\",errors=\"xmlcharrefreplace\"))\n"
   ]
  },
  {
   "cell_type": "code",
   "execution_count": 16,
   "id": "ba6cdd3b",
   "metadata": {},
   "outputs": [
    {
     "name": "stdout",
     "output_type": "stream",
     "text": [
      "b'My name is St\\xc3\\xa5le'\n"
     ]
    }
   ],
   "source": [
    "txt = \"My name is Ståle\"\n",
    "x = txt.encode()\n",
    "print(x)"
   ]
  },
  {
   "cell_type": "markdown",
   "id": "5fd9ff0c",
   "metadata": {},
   "source": [
    "# endswith()\n",
    "\n",
    "* The endswith() method returns True if the string ends with the specified value, otherwise False.\n",
    "\n",
    "Syntax\n",
    "string.endswith(value, start, end)"
   ]
  },
  {
   "cell_type": "markdown",
   "id": "b1460562",
   "metadata": {},
   "source": [
    "# Parameter Values\n",
    "\n",
    "* value\tRequired. The value to check if the string ends with\n",
    "* start\tOptional. An Integer specifying at which position to start the search\n",
    "* end\tOptional. An Integer specifying at which position to end the search"
   ]
  },
  {
   "cell_type": "code",
   "execution_count": 18,
   "id": "95ddb438",
   "metadata": {},
   "outputs": [
    {
     "name": "stdout",
     "output_type": "stream",
     "text": [
      "True\n"
     ]
    }
   ],
   "source": [
    "txt = \"Hello, welcome to my world.\"\n",
    "x = txt.endswith(\"my world.\")\n",
    "print(x)"
   ]
  },
  {
   "cell_type": "code",
   "execution_count": 19,
   "id": "1578a755",
   "metadata": {},
   "outputs": [
    {
     "data": {
      "text/plain": [
       "False"
      ]
     },
     "execution_count": 19,
     "metadata": {},
     "output_type": "execute_result"
    }
   ],
   "source": [
    "txt.endswith(\"my world.\", 5, 11)\n"
   ]
  },
  {
   "cell_type": "markdown",
   "id": "dfe07681",
   "metadata": {},
   "source": [
    "# find()\n",
    "\n",
    "* The find() method finds the first occurrence of the specified value.\n",
    "\n",
    "* The find() method returns -1 if the value is not found.\n",
    "\n",
    "*  find() method is almost the same as the index() method, the only difference is that the index() method raises an exception    if the value is not found. (See example below)\n",
    "\n",
    "Syntax\n",
    "string.find(value, start, end)"
   ]
  },
  {
   "cell_type": "code",
   "execution_count": 24,
   "id": "0987698a",
   "metadata": {},
   "outputs": [
    {
     "name": "stdout",
     "output_type": "stream",
     "text": [
      "7\n"
     ]
    }
   ],
   "source": [
    "txt = \"Hello, welcome to my world.\"\n",
    "x = txt.find(\"welcome\")\n",
    "print(x)"
   ]
  },
  {
   "cell_type": "code",
   "execution_count": 25,
   "id": "78ebf33e",
   "metadata": {},
   "outputs": [
    {
     "data": {
      "text/plain": [
       "1"
      ]
     },
     "execution_count": 25,
     "metadata": {},
     "output_type": "execute_result"
    }
   ],
   "source": [
    "txt.find(\"e\")\n"
   ]
  },
  {
   "cell_type": "code",
   "execution_count": 26,
   "id": "5e0aa07e",
   "metadata": {},
   "outputs": [
    {
     "data": {
      "text/plain": [
       "8"
      ]
     },
     "execution_count": 26,
     "metadata": {},
     "output_type": "execute_result"
    }
   ],
   "source": [
    "txt.find(\"e\", 5, 10)\n"
   ]
  },
  {
   "cell_type": "markdown",
   "id": "257ed69c",
   "metadata": {},
   "source": [
    "# index()\n",
    "\n",
    "* The index() method finds the first occurrence of the specified value.\n",
    "\n",
    "* The index() method raises an exception if the value is not found.\n",
    "\n",
    "* The index() method is almost the same as the find() method, the only difference is that the find() method returns -1 if the value is not found. (See example below)\n",
    "\n",
    "Syntax\n",
    "string.index(value, start, end)\n"
   ]
  },
  {
   "cell_type": "markdown",
   "id": "8f85d275",
   "metadata": {},
   "source": [
    "# Parameter Values\n",
    "\n",
    "* value ----->\tRequired. The value to search for\n",
    "* start------>\tOptional. Where to start the search. Default is 0\n",
    "* end -------->\tOptional. Where to end the search. Default is to the end of the string\n"
   ]
  },
  {
   "cell_type": "code",
   "execution_count": 27,
   "id": "af4f3b57",
   "metadata": {},
   "outputs": [
    {
     "name": "stdout",
     "output_type": "stream",
     "text": [
      "7\n"
     ]
    }
   ],
   "source": [
    "txt = \"Hello, welcome to my world.\"\n",
    "x = txt.index(\"welcome\")\n",
    "print(x)"
   ]
  },
  {
   "cell_type": "code",
   "execution_count": 28,
   "id": "944942e5",
   "metadata": {},
   "outputs": [
    {
     "data": {
      "text/plain": [
       "1"
      ]
     },
     "execution_count": 28,
     "metadata": {},
     "output_type": "execute_result"
    }
   ],
   "source": [
    "txt.index(\"e\")\n"
   ]
  },
  {
   "cell_type": "code",
   "execution_count": 29,
   "id": "6c514962",
   "metadata": {},
   "outputs": [
    {
     "data": {
      "text/plain": [
       "8"
      ]
     },
     "execution_count": 29,
     "metadata": {},
     "output_type": "execute_result"
    }
   ],
   "source": [
    " txt.index(\"e\", 5, 10)\n"
   ]
  },
  {
   "cell_type": "code",
   "execution_count": 31,
   "id": "16eee886",
   "metadata": {},
   "outputs": [
    {
     "name": "stdout",
     "output_type": "stream",
     "text": [
      "-1\n"
     ]
    },
    {
     "ename": "ValueError",
     "evalue": "substring not found",
     "output_type": "error",
     "traceback": [
      "\u001b[1;31m---------------------------------------------------------------------------\u001b[0m",
      "\u001b[1;31mValueError\u001b[0m                                Traceback (most recent call last)",
      "Cell \u001b[1;32mIn[31], line 3\u001b[0m\n\u001b[0;32m      1\u001b[0m txt \u001b[38;5;241m=\u001b[39m \u001b[38;5;124m\"\u001b[39m\u001b[38;5;124mHello, welcome to my world.\u001b[39m\u001b[38;5;124m\"\u001b[39m\n\u001b[0;32m      2\u001b[0m \u001b[38;5;28mprint\u001b[39m(txt\u001b[38;5;241m.\u001b[39mfind(\u001b[38;5;124m\"\u001b[39m\u001b[38;5;124mq\u001b[39m\u001b[38;5;124m\"\u001b[39m))\n\u001b[1;32m----> 3\u001b[0m \u001b[38;5;28mprint\u001b[39m(txt\u001b[38;5;241m.\u001b[39mindex(\u001b[38;5;124m\"\u001b[39m\u001b[38;5;124mq\u001b[39m\u001b[38;5;124m\"\u001b[39m))\n",
      "\u001b[1;31mValueError\u001b[0m: substring not found"
     ]
    }
   ],
   "source": [
    "txt = \"Hello, welcome to my world.\"\n",
    "print(txt.find(\"q\"))\n",
    "print(txt.index(\"q\"))"
   ]
  },
  {
   "cell_type": "markdown",
   "id": "a07b7ff8",
   "metadata": {},
   "source": [
    "# isdecimal() \n",
    "\n",
    "* The isdecimal() method returns True if all the characters are decimals (0-9).\n",
    "\n",
    "* This method can also be used on unicode objects. See example below.\n",
    "\n",
    "Syntax\n",
    "string.isdecimal()\n"
   ]
  },
  {
   "cell_type": "code",
   "execution_count": 32,
   "id": "61d0f55c",
   "metadata": {},
   "outputs": [
    {
     "name": "stdout",
     "output_type": "stream",
     "text": [
      "True\n",
      "False\n"
     ]
    }
   ],
   "source": [
    "a = \"\\u0030\" #unicode for 0\n",
    "b = \"\\u0047\" #unicode for G\n",
    "print(a.isdecimal())\n",
    "print(b.isdecimal())\n"
   ]
  },
  {
   "cell_type": "markdown",
   "id": "6d370f0c",
   "metadata": {},
   "source": [
    "# isspace()\n",
    "\n",
    "* The isspace() method returns True if all the characters in a string are whitespaces, otherwise False.\n",
    "\n",
    "Syntax\n",
    "string.isspace()\n",
    "\n"
   ]
  },
  {
   "cell_type": "code",
   "execution_count": 33,
   "id": "9d566652",
   "metadata": {},
   "outputs": [
    {
     "name": "stdout",
     "output_type": "stream",
     "text": [
      "False\n"
     ]
    }
   ],
   "source": [
    "txt = \"   s   \"\n",
    "x = txt.isspace()\n",
    "print(x)\n"
   ]
  },
  {
   "cell_type": "markdown",
   "id": "6a3616d8",
   "metadata": {},
   "source": [
    "# istitle() \n",
    "\n",
    "* The istitle() method returns True if all words in a text start with a upper case letter, AND the rest of the word are lower case letters, otherwise False.\n",
    "\n",
    "* and numbers are ignored.\n",
    "\n",
    "Syntax\n",
    "string.istitle()\n"
   ]
  },
  {
   "cell_type": "code",
   "execution_count": 34,
   "id": "8fa313d7",
   "metadata": {},
   "outputs": [
    {
     "name": "stdout",
     "output_type": "stream",
     "text": [
      "False\n",
      "True\n",
      "True\n",
      "True\n"
     ]
    }
   ],
   "source": [
    "a = \"HELLO, AND WELCOME TO MY WORLD\"\n",
    "b = \"Hello\"\n",
    "c = \"22 Names\"\n",
    "d = \"This Is %'!?\"\n",
    "\n",
    "print(a.istitle())\n",
    "print(b.istitle())\n",
    "print(c.istitle())\n",
    "print(d.istitle())"
   ]
  },
  {
   "cell_type": "markdown",
   "id": "a358e7a0",
   "metadata": {},
   "source": [
    "# join()\n",
    "\n",
    "* The join() method takes all items in an iterable and joins them into one string.\n",
    "\n",
    "* A string must be specified as the separator.\n",
    "\n",
    "Syntax\n",
    "string.join(iterable)\n"
   ]
  },
  {
   "cell_type": "markdown",
   "id": "2c857b92",
   "metadata": {},
   "source": [
    "# Parameter Values\n",
    "* iterable------>Required. Any iterable object where all the returned values are strings"
   ]
  },
  {
   "cell_type": "code",
   "execution_count": 35,
   "id": "3688fe71",
   "metadata": {},
   "outputs": [
    {
     "data": {
      "text/plain": [
       "'nameTESTcountry'"
      ]
     },
     "execution_count": 35,
     "metadata": {},
     "output_type": "execute_result"
    }
   ],
   "source": [
    "myDict = {\"name\": \"John\", \"country\": \"Norway\"}\n",
    "mySeparator = \"TEST\"\n",
    "x = mySeparator.join(myDict)\n",
    "x\n"
   ]
  },
  {
   "cell_type": "markdown",
   "id": "35aaa9d8",
   "metadata": {},
   "source": [
    "# ljust()\n",
    "\n",
    "* The ljust() method will left align the string, using a specified character (space is default) as the fill character.\n",
    "\n",
    "Syntax\n",
    "string.ljust(length, character)\n"
   ]
  },
  {
   "cell_type": "markdown",
   "id": "8ee5fe93",
   "metadata": {},
   "source": [
    "# Parameter Values\n",
    "\n",
    "* length---->Required. The length of the returned string\n",
    "* character---->Optional. A character to fill the missing space (to the right of the string). Default is \" \" (space)."
   ]
  },
  {
   "cell_type": "code",
   "execution_count": 37,
   "id": "4cfcd9a6",
   "metadata": {},
   "outputs": [
    {
     "name": "stdout",
     "output_type": "stream",
     "text": [
      "banana##############\n"
     ]
    }
   ],
   "source": [
    "txt = \"banana\"\n",
    "x = txt.ljust(20, \"#\")\n",
    "print(x)\n"
   ]
  },
  {
   "cell_type": "markdown",
   "id": "4f49d97d",
   "metadata": {},
   "source": [
    "# lower()\n",
    "\n",
    "* The lower() method returns a string where all characters are lower case.\n",
    "\n",
    " * Symbols and Numbers are ignored.\n",
    "\n",
    "Syntax\n",
    "string.lower()\n"
   ]
  },
  {
   "cell_type": "code",
   "execution_count": 38,
   "id": "2c5ea9c5",
   "metadata": {},
   "outputs": [
    {
     "name": "stdout",
     "output_type": "stream",
     "text": [
      "hello my friends\n"
     ]
    }
   ],
   "source": [
    "txt = \"Hello my FRIENDS\"\n",
    "x = txt.lower()\n",
    "print(x)\n"
   ]
  },
  {
   "cell_type": "code",
   "execution_count": 39,
   "id": "74db079f",
   "metadata": {},
   "outputs": [
    {
     "data": {
      "text/plain": [
       "'i love you maaa'"
      ]
     },
     "execution_count": 39,
     "metadata": {},
     "output_type": "execute_result"
    }
   ],
   "source": [
    "txt = \"i love you maaa\"\n",
    "txt.lower()"
   ]
  },
  {
   "cell_type": "markdown",
   "id": "857affec",
   "metadata": {},
   "source": [
    "# lstrip() \n",
    "\n",
    "* The lstrip() method removes any leading characters (space is the default leading character to remove)\n",
    "\n",
    "Syntax\n",
    "string.lstrip(characters)\n"
   ]
  },
  {
   "cell_type": "markdown",
   "id": "322afd86",
   "metadata": {},
   "source": [
    "# Parameter Value\n",
    "\n",
    "* characters------>Optional. A set of characters to remove as leading characters"
   ]
  },
  {
   "cell_type": "code",
   "execution_count": 40,
   "id": "e0e5d552",
   "metadata": {},
   "outputs": [
    {
     "name": "stdout",
     "output_type": "stream",
     "text": [
      "banana\n"
     ]
    }
   ],
   "source": [
    "txt = \",,,,,ssaaww.....banana\"\n",
    "x = txt.lstrip(\",.asw\")\n",
    "print(x)\n"
   ]
  },
  {
   "cell_type": "code",
   "execution_count": 42,
   "id": "dcd310cb",
   "metadata": {},
   "outputs": [
    {
     "data": {
      "text/plain": [
       "'ssaaww.....banana'"
      ]
     },
     "execution_count": 42,
     "metadata": {},
     "output_type": "execute_result"
    }
   ],
   "source": [
    "txt.lstrip(',,,')"
   ]
  },
  {
   "cell_type": "code",
   "execution_count": 43,
   "id": "564e4a12",
   "metadata": {},
   "outputs": [
    {
     "data": {
      "text/plain": [
       "',,,,,ssaaww.....banana'"
      ]
     },
     "execution_count": 43,
     "metadata": {},
     "output_type": "execute_result"
    }
   ],
   "source": [
    "txt.lstrip('....')"
   ]
  },
  {
   "cell_type": "code",
   "execution_count": 44,
   "id": "caba7307",
   "metadata": {},
   "outputs": [
    {
     "name": "stdout",
     "output_type": "stream",
     "text": [
      "of all fruits banana      is my favorite\n"
     ]
    }
   ],
   "source": [
    "txt = \"     banana     \"\n",
    "x = txt.lstrip()\n",
    "print(\"of all fruits\", x, \"is my favorite\")\n"
   ]
  },
  {
   "cell_type": "markdown",
   "id": "32b4c288",
   "metadata": {},
   "source": [
    "# partition()\n",
    "\n",
    "* The partition() method searches for a specified string, and splits the string into a tuple containing three elements.\n",
    "\n",
    "* The first element contains the part before the specified string.\n",
    "\n",
    "* The second element contains the specified string.\n",
    "\n",
    "* The third element contains the part after the string.\n",
    "\n",
    "   ( Note: This method searches for the first occurrence of the specified string.)\n",
    "\n",
    "Syntax\n",
    "string.partition(value)\n"
   ]
  },
  {
   "cell_type": "markdown",
   "id": "be425d8c",
   "metadata": {},
   "source": [
    "# Parameter Values\n",
    "\n",
    "* value----->Required. The string to search for"
   ]
  },
  {
   "cell_type": "code",
   "execution_count": 45,
   "id": "7c4e00f0",
   "metadata": {},
   "outputs": [
    {
     "name": "stdout",
     "output_type": "stream",
     "text": [
      "('I could eat bananas all day', '', '')\n"
     ]
    }
   ],
   "source": [
    "txt = \"I could eat bananas all day\"\n",
    "x = txt.partition(\"apples\")\n",
    "print(x)\n"
   ]
  },
  {
   "cell_type": "code",
   "execution_count": 50,
   "id": "4b6e9469",
   "metadata": {},
   "outputs": [
    {
     "data": {
      "text/plain": [
       "('', 'na', 'ni')"
      ]
     },
     "execution_count": 50,
     "metadata": {},
     "output_type": "execute_result"
    }
   ],
   "source": [
    "txt = \"nani\"\n",
    "txt.partition('na')"
   ]
  },
  {
   "cell_type": "markdown",
   "id": "bbad9bf4",
   "metadata": {},
   "source": [
    "# replace() \n",
    "\n",
    "* The replace() method replaces a specified phrase with another specified phrase.\n",
    "\n",
    "(Note: All occurrences of the specified phrase will be replaced, if nothing else is specified.)\n",
    "\n",
    "Syntax\n",
    "string.replace(oldvalue, newvalue, count)\n"
   ]
  },
  {
   "cell_type": "markdown",
   "id": "3a40dcdc",
   "metadata": {},
   "source": [
    "# Parameter Values\n",
    "\n",
    "* oldvalue--->Required. The string to search for\n",
    "* newvalue---->Required. The string to replace the old value with\n",
    "* count---->Optional. A number specifying how many occurrences of the old value you want to replace. Default is all occurrences"
   ]
  },
  {
   "cell_type": "code",
   "execution_count": 51,
   "id": "cce1f7a8",
   "metadata": {},
   "outputs": [
    {
     "name": "stdout",
     "output_type": "stream",
     "text": [
      "three three was a race horse, two two was three too.\n"
     ]
    }
   ],
   "source": [
    "txt = \"one one was a race horse, two two was one too.\"\n",
    "x = txt.replace(\"one\", \"three\")\n",
    "print(x)"
   ]
  },
  {
   "cell_type": "code",
   "execution_count": 52,
   "id": "29a2fff4",
   "metadata": {},
   "outputs": [
    {
     "data": {
      "text/plain": [
       "'three three was a race horse, two two was one too.'"
      ]
     },
     "execution_count": 52,
     "metadata": {},
     "output_type": "execute_result"
    }
   ],
   "source": [
    "txt = \"one one was a race horse, two two was one too.\"\n",
    "x = txt.replace(\"one\", \"three\", 2)\n",
    "x\n"
   ]
  },
  {
   "cell_type": "markdown",
   "id": "8188c4fe",
   "metadata": {},
   "source": [
    "# rfind()\n",
    "\n",
    "* The rfind() method finds the last occurrence of the specified value.\n",
    "\n",
    "* The rfind() method returns -1 if the value is not found.\n",
    "\n",
    "* The rfind() method is almost the same as the rindex() method. See example below.\n",
    "\n",
    "Syntax\n",
    "string.rfind(value, start, end)\n"
   ]
  },
  {
   "cell_type": "markdown",
   "id": "b98d2a98",
   "metadata": {},
   "source": [
    "# Parameter Values\n",
    "\n",
    "* value----->Required. The value to search for\n",
    "* start------>Optional. Where to start the search. Default is 0\n",
    "* end----->Optional. Where to end the search. Default is to the end of the string\n"
   ]
  },
  {
   "cell_type": "code",
   "execution_count": 53,
   "id": "e8ebc0f8",
   "metadata": {},
   "outputs": [
    {
     "name": "stdout",
     "output_type": "stream",
     "text": [
      "13\n"
     ]
    }
   ],
   "source": [
    "txt = \"Hello, welcome to my world.\"\n",
    "x = txt.rfind(\"e\")\n",
    "print(x)\n"
   ]
  },
  {
   "cell_type": "code",
   "execution_count": 54,
   "id": "adb9c241",
   "metadata": {},
   "outputs": [
    {
     "data": {
      "text/plain": [
       "15"
      ]
     },
     "execution_count": 54,
     "metadata": {},
     "output_type": "execute_result"
    }
   ],
   "source": [
    " txt.rfind(\"t\")"
   ]
  },
  {
   "cell_type": "code",
   "execution_count": 55,
   "id": "f63262c5",
   "metadata": {},
   "outputs": [
    {
     "data": {
      "text/plain": [
       "12"
      ]
     },
     "execution_count": 55,
     "metadata": {},
     "output_type": "execute_result"
    }
   ],
   "source": [
    "txt = \"Mi casa, su casa.\"\n",
    "x = txt.rfind(\"casa\")\n",
    "x\n"
   ]
  },
  {
   "cell_type": "markdown",
   "id": "75905cc0",
   "metadata": {},
   "source": [
    "# rindex() \n",
    "\n",
    "* The rindex() method finds the last occurrence of the specified value.\n",
    "\n",
    "* The rindex() method raises an exception if the value is not found.\n",
    "\n",
    "* The rindex() method is almost the same as the rfind() method. See example below.\n",
    "\n",
    "Syntax\n",
    "string.rindex(value, start, end)\n"
   ]
  },
  {
   "cell_type": "markdown",
   "id": "f76c0e6f",
   "metadata": {},
   "source": [
    "# Parameter Values\n",
    "\n",
    "* value---->Required. The value to search for\n",
    "* start---->Optional. Where to start the search. Default is 0\n",
    "* end--->Optional. Where to end the search. Default is to the end of the string\n"
   ]
  },
  {
   "cell_type": "code",
   "execution_count": 56,
   "id": "55376470",
   "metadata": {},
   "outputs": [
    {
     "name": "stdout",
     "output_type": "stream",
     "text": [
      "8\n"
     ]
    }
   ],
   "source": [
    "txt = \"Hello, welcome to my world.\"\n",
    "x = txt.rindex(\"e\", 5, 10)\n",
    "print(x)\n"
   ]
  },
  {
   "cell_type": "code",
   "execution_count": 57,
   "id": "c3a17e41",
   "metadata": {},
   "outputs": [
    {
     "name": "stdout",
     "output_type": "stream",
     "text": [
      "-1\n"
     ]
    },
    {
     "ename": "ValueError",
     "evalue": "substring not found",
     "output_type": "error",
     "traceback": [
      "\u001b[1;31m---------------------------------------------------------------------------\u001b[0m",
      "\u001b[1;31mValueError\u001b[0m                                Traceback (most recent call last)",
      "Cell \u001b[1;32mIn[57], line 4\u001b[0m\n\u001b[0;32m      1\u001b[0m txt \u001b[38;5;241m=\u001b[39m \u001b[38;5;124m\"\u001b[39m\u001b[38;5;124mHello, welcome to my world.\u001b[39m\u001b[38;5;124m\"\u001b[39m\n\u001b[0;32m      3\u001b[0m \u001b[38;5;28mprint\u001b[39m(txt\u001b[38;5;241m.\u001b[39mrfind(\u001b[38;5;124m\"\u001b[39m\u001b[38;5;124mq\u001b[39m\u001b[38;5;124m\"\u001b[39m))\n\u001b[1;32m----> 4\u001b[0m \u001b[38;5;28mprint\u001b[39m(txt\u001b[38;5;241m.\u001b[39mrindex(\u001b[38;5;124m\"\u001b[39m\u001b[38;5;124mq\u001b[39m\u001b[38;5;124m\"\u001b[39m))\n",
      "\u001b[1;31mValueError\u001b[0m: substring not found"
     ]
    }
   ],
   "source": [
    "txt = \"Hello, welcome to my world.\"\n",
    "\n",
    "print(txt.rfind(\"q\"))\n",
    "print(txt.rindex(\"q\"))\n"
   ]
  },
  {
   "cell_type": "markdown",
   "id": "1b58455b",
   "metadata": {},
   "source": [
    "# rjust()\n",
    "\n",
    "* The rjust() method will right align the string, using a specified character (space is default) as the fill character.\n",
    "\n",
    "Syntax\n",
    "string.rjust(length, character)\n"
   ]
  },
  {
   "cell_type": "markdown",
   "id": "d3e1ac19",
   "metadata": {},
   "source": [
    "# Parameter Values\n",
    "\n",
    "* length---=>Required. The length of the returned string\n",
    "* character---->Optional. A character to fill the missing space (to the left of the string). Default is \" \" (space)."
   ]
  },
  {
   "cell_type": "code",
   "execution_count": 58,
   "id": "43933bd0",
   "metadata": {},
   "outputs": [
    {
     "name": "stdout",
     "output_type": "stream",
     "text": [
      "OOOOOOOOOOOOOObanana\n"
     ]
    }
   ],
   "source": [
    "txt = \"banana\"\n",
    "x = txt.rjust(20, \"O\")\n",
    "print(x)\n"
   ]
  },
  {
   "cell_type": "markdown",
   "id": "afbac97b",
   "metadata": {},
   "source": [
    "# rpartition()\n",
    "\n",
    "* The rpartition() method searches for the last occurrence of a specified string, and splits the string into a tuple containing three elements.\n",
    "\n",
    "* The first element contains the part before the specified string.\n",
    "\n",
    "* The second element contains the specified string.\n",
    "\n",
    "* The third element contains the part after the string.\n",
    "\n",
    "Syntax\n",
    "string.rpartition(value)\n"
   ]
  },
  {
   "cell_type": "markdown",
   "id": "0f306c7a",
   "metadata": {},
   "source": [
    "# Parameter Values\n",
    "\n",
    "* value---->Required. The string to search for"
   ]
  },
  {
   "cell_type": "code",
   "execution_count": 59,
   "id": "72c433b5",
   "metadata": {},
   "outputs": [
    {
     "name": "stdout",
     "output_type": "stream",
     "text": [
      "('', '', 'I could eat bananas all day, bananas are my favorite fruit')\n"
     ]
    }
   ],
   "source": [
    "txt = \"I could eat bananas all day, bananas are my favorite fruit\"\n",
    "x = txt.rpartition(\"apples\")\n",
    "print(x)\n"
   ]
  },
  {
   "cell_type": "markdown",
   "id": "ab01c1c4",
   "metadata": {},
   "source": [
    "# rsplit()\n",
    "\n",
    "* The rsplit() method splits a string into a list, starting from the right.\n",
    "\n",
    "* If no \"max\" is specified, this method will return the same as the split() method.\n",
    "\n",
    "(Note: When maxsplit is specified, the list will contain the specified number of elements plus one.)\n",
    "\n",
    "Syntax\n",
    "string.rsplit(separator, maxsplit)\n"
   ]
  },
  {
   "cell_type": "markdown",
   "id": "ff10168f",
   "metadata": {},
   "source": [
    "# Parameter Values\n",
    "\n",
    "* separator----->Optional. Specifies the separator to use when splitting the string. By default any whitespace is a separator* \n",
    "* maxsplit------>Optional. Specifies how many splits to do. Default value is -1, which is \"all occurrences\""
   ]
  },
  {
   "cell_type": "code",
   "execution_count": 60,
   "id": "8b7b511d",
   "metadata": {},
   "outputs": [
    {
     "name": "stdout",
     "output_type": "stream",
     "text": [
      "['apple, banana', 'cherry']\n"
     ]
    }
   ],
   "source": [
    "txt = \"apple, banana, cherry\"\n",
    "# setting the maxsplit parameter to 1, will return a list with 2 elements!\n",
    "x = txt.rsplit(\", \", 1)\n",
    "print(x)\n"
   ]
  },
  {
   "cell_type": "markdown",
   "id": "140fcf1f",
   "metadata": {},
   "source": [
    "# rstrip() \n",
    "\n",
    "* The rstrip() method removes any trailing characters (characters at the end a string), space is the default trailing character to remove.\n",
    "\n",
    "Syntax\n",
    "string.rstrip(characters)\n"
   ]
  },
  {
   "cell_type": "markdown",
   "id": "bed5f73c",
   "metadata": {},
   "source": [
    "# Parameter Values\n",
    "\n",
    "* characters------>Optional. A set of characters to remove as trailing characters"
   ]
  },
  {
   "cell_type": "code",
   "execution_count": 61,
   "id": "29d97570",
   "metadata": {},
   "outputs": [
    {
     "name": "stdout",
     "output_type": "stream",
     "text": [
      "banana\n"
     ]
    }
   ],
   "source": [
    "txt = \"banana,,,,,ssqqqww.....\"\n",
    "x = txt.rstrip(\",.qsw\")\n",
    "print(x)\n"
   ]
  },
  {
   "cell_type": "code",
   "execution_count": 62,
   "id": "fc94018b",
   "metadata": {},
   "outputs": [
    {
     "data": {
      "text/plain": [
       "'banana,,,,,ssqqq'"
      ]
     },
     "execution_count": 62,
     "metadata": {},
     "output_type": "execute_result"
    }
   ],
   "source": [
    " txt.rstrip(\".....w\")"
   ]
  },
  {
   "cell_type": "markdown",
   "id": "b4ff5372",
   "metadata": {},
   "source": [
    "# split() \n",
    "\n",
    "* The split() method splits a string into a list.\n",
    "\n",
    "* You can specify the separator, default separator is any whitespace.\n",
    "\n",
    "(Note: When maxsplit is specified, the list will contain the specified number of elements plus one.)\n",
    "\n",
    "Syntax\n",
    "string.split(separator, maxsplit)\n"
   ]
  },
  {
   "cell_type": "markdown",
   "id": "b82aa4a2",
   "metadata": {},
   "source": [
    "\n",
    "# Parameter Values\n",
    "\n",
    "* separator------->Optional. Specifies the separator to use when splitting the string. By default any whitespace is a separator\n",
    "* maxsplit------->Optional. Specifies how many splits to do. Default value is -1, which is \"all occurrences\""
   ]
  },
  {
   "cell_type": "code",
   "execution_count": 64,
   "id": "d86e6794",
   "metadata": {},
   "outputs": [
    {
     "name": "stdout",
     "output_type": "stream",
     "text": [
      "['hello', 'my name is Peter', 'I am 26 years old']\n"
     ]
    }
   ],
   "source": [
    "txt = \"hello, my name is Peter, I am 26 years old\"\n",
    "x = txt.split(\", \")\n",
    "print(x)\n"
   ]
  },
  {
   "cell_type": "code",
   "execution_count": 65,
   "id": "2b5ac162",
   "metadata": {},
   "outputs": [
    {
     "data": {
      "text/plain": [
       "['apple', 'banana', 'cherry', 'orange']"
      ]
     },
     "execution_count": 65,
     "metadata": {},
     "output_type": "execute_result"
    }
   ],
   "source": [
    "txt = \"apple#banana#cherry#orange\"\n",
    "x = txt.split(\"#\")\n",
    "x\n"
   ]
  },
  {
   "cell_type": "code",
   "execution_count": 66,
   "id": "fb72fe36",
   "metadata": {},
   "outputs": [
    {
     "data": {
      "text/plain": [
       "['apple', 'banana#cherry#orange']"
      ]
     },
     "execution_count": 66,
     "metadata": {},
     "output_type": "execute_result"
    }
   ],
   "source": [
    " txt.split(\"#\", 1) # setting the maxsplit parameter to 1, will return a list with 2 elements!"
   ]
  },
  {
   "cell_type": "markdown",
   "id": "201e6ca9",
   "metadata": {},
   "source": [
    "# splitlines()\n",
    "\n",
    "* The splitlines() method splits a string into a list. The splitting is done at line breaks.\n",
    "\n",
    "Syntax\n",
    "string.splitlines(keeplinebreaks)\n"
   ]
  },
  {
   "cell_type": "markdown",
   "id": "7551645c",
   "metadata": {},
   "source": [
    "# Parameter Values\n",
    "\n",
    "* keeplinebreaks------->Optional. Specifies if the line breaks should be included (True), or not (False). Default value is False"
   ]
  },
  {
   "cell_type": "code",
   "execution_count": 67,
   "id": "95319827",
   "metadata": {},
   "outputs": [
    {
     "name": "stdout",
     "output_type": "stream",
     "text": [
      "['Thank you for the music\\n', 'Welcome to the jungle']\n"
     ]
    }
   ],
   "source": [
    "txt = \"Thank you for the music\\nWelcome to the jungle\"\n",
    "x = txt.splitlines(True)\n",
    "print(x)\n"
   ]
  },
  {
   "cell_type": "markdown",
   "id": "59c909f9",
   "metadata": {},
   "source": [
    "# startswith() \n",
    "\n",
    "* The startswith() method returns True if the string starts with the specified value, otherwise False.\n",
    "\n",
    "Syntax\n",
    "string.startswith(value, start, end)\n"
   ]
  },
  {
   "cell_type": "markdown",
   "id": "17edc7e8",
   "metadata": {},
   "source": [
    "# Parameter Values\n",
    "\n",
    "* value----->Required. The value to check if the string starts with\n",
    "* start------>Optional. An Integer specifying at which position to start the search\n",
    "* end----->Optional. An Integer specifying at which position to end the search\n"
   ]
  },
  {
   "cell_type": "code",
   "execution_count": 68,
   "id": "942f4433",
   "metadata": {},
   "outputs": [
    {
     "name": "stdout",
     "output_type": "stream",
     "text": [
      "True\n"
     ]
    }
   ],
   "source": [
    "txt = \"Hello, welcome to my world.\"\n",
    "x = txt.startswith(\"wel\", 7, 20)\n",
    "print(x)\n"
   ]
  },
  {
   "cell_type": "code",
   "execution_count": 69,
   "id": "a1aa7fd2",
   "metadata": {},
   "outputs": [
    {
     "data": {
      "text/plain": [
       "False"
      ]
     },
     "execution_count": 69,
     "metadata": {},
     "output_type": "execute_result"
    }
   ],
   "source": [
    " txt.startswith(\"wel\",)"
   ]
  },
  {
   "cell_type": "markdown",
   "id": "3b72a61f",
   "metadata": {},
   "source": [
    "# strip()\n",
    "\n",
    "* The strip() method removes any leading, and trailing whitespaces.\n",
    "\n",
    "* Leading means at the beginning of the string, trailing means at the end.\n",
    "\n",
    "* You can specify which character(s) to remove, if not, any whitespaces will be removed.\n",
    "\n",
    "Syntax\n",
    "string.strip(characters)\n"
   ]
  },
  {
   "cell_type": "markdown",
   "id": "67f9aabd",
   "metadata": {},
   "source": [
    "# Parameter Values\n",
    "\n",
    "* characters------>Optional. A set of characters to remove as leading/trailing characters\n"
   ]
  },
  {
   "cell_type": "code",
   "execution_count": 70,
   "id": "a1d1522b",
   "metadata": {},
   "outputs": [
    {
     "name": "stdout",
     "output_type": "stream",
     "text": [
      "banana\n"
     ]
    }
   ],
   "source": [
    "txt = \",,,,,rrttgg.....banana....rrr\"\n",
    "x = txt.strip(\",.grt\")\n",
    "print(x)\n"
   ]
  },
  {
   "cell_type": "code",
   "execution_count": 72,
   "id": "006b268f",
   "metadata": {},
   "outputs": [
    {
     "data": {
      "text/plain": [
       "',,,,,rrttgg.....banana....'"
      ]
     },
     "execution_count": 72,
     "metadata": {},
     "output_type": "execute_result"
    }
   ],
   "source": [
    "txt.strip(\"rr\")"
   ]
  },
  {
   "cell_type": "markdown",
   "id": "7c5debdc",
   "metadata": {},
   "source": [
    "# swapcase()\n",
    "\n",
    "* The swapcase() method returns a string where all the upper case letters are lower case and vice versa.\n",
    "\n",
    "Syntax\n",
    "string.swapcase()\n"
   ]
  },
  {
   "cell_type": "code",
   "execution_count": 73,
   "id": "6f9e2fc6",
   "metadata": {},
   "outputs": [
    {
     "name": "stdout",
     "output_type": "stream",
     "text": [
      "hELLO mY nAME iS peter\n"
     ]
    }
   ],
   "source": [
    "txt = \"Hello My Name Is PETER\"\n",
    "x = txt.swapcase()\n",
    "print(x)\n"
   ]
  },
  {
   "cell_type": "markdown",
   "id": "3bbd42ad",
   "metadata": {},
   "source": [
    "# title() \n",
    "\n",
    "* The title() method returns a string where the first character in every word is upper case. Like a header, or a title.\n",
    "\n",
    "* If the word contains a number or a symbol, the first letter after that will be converted to upper case.\n",
    "\n",
    "Syntax\n",
    "string.title()\n"
   ]
  },
  {
   "cell_type": "code",
   "execution_count": 74,
   "id": "4a598835",
   "metadata": {},
   "outputs": [
    {
     "name": "stdout",
     "output_type": "stream",
     "text": [
      "Welcome To My 2Nd World\n"
     ]
    }
   ],
   "source": [
    "txt = \"Welcome to my 2nd world\"\n",
    "x = txt.title()\n",
    "print(x)\n"
   ]
  },
  {
   "cell_type": "code",
   "execution_count": 75,
   "id": "039fa587",
   "metadata": {},
   "outputs": [
    {
     "name": "stdout",
     "output_type": "stream",
     "text": [
      "Hello B2B2B2 And 3G3G3G\n"
     ]
    }
   ],
   "source": [
    "txt = \"hello b2b2b2 and 3g3g3g\"\n",
    "x = txt.title()\n",
    "print(x)\n"
   ]
  },
  {
   "cell_type": "markdown",
   "id": "d2c06226",
   "metadata": {},
   "source": [
    "# upper()\n",
    "\n",
    "* The upper() method returns a string where all characters are in upper case.\n",
    "\n",
    " * Symbols and Numbers are ignored.\n",
    "\n",
    "Syntax\n",
    "string.upper()\n"
   ]
  },
  {
   "cell_type": "code",
   "execution_count": 76,
   "id": "999a0a7b",
   "metadata": {},
   "outputs": [
    {
     "name": "stdout",
     "output_type": "stream",
     "text": [
      "HELLO MY FRIENDS\n"
     ]
    }
   ],
   "source": [
    "txt = \"Hello my friends\"\n",
    "x = txt.upper()\n",
    "print(x)"
   ]
  },
  {
   "cell_type": "markdown",
   "id": "64a3c2ca",
   "metadata": {},
   "source": [
    "# zfill()\n",
    "\n",
    "* The zfill() method adds zeros (0) at the beginning of the string, until it reaches the specified length.\n",
    "\n",
    "* If the value of the len parameter is less than the length of the string, no filling is done.\n",
    "\n",
    "Syntax\n",
    "string.zfill(len)\n"
   ]
  },
  {
   "cell_type": "markdown",
   "id": "10feb1e0",
   "metadata": {},
   "source": [
    "# Parameter Values\n",
    "\n",
    "* len----->Required. A number specifying the desired length of the string\n"
   ]
  },
  {
   "cell_type": "code",
   "execution_count": 77,
   "id": "012e1b4c",
   "metadata": {},
   "outputs": [
    {
     "name": "stdout",
     "output_type": "stream",
     "text": [
      "00000hello\n",
      "welcome to the jungle\n",
      "000010.000\n"
     ]
    }
   ],
   "source": [
    "a= \"hello\"\n",
    "b = \"welcome to the jungle\"\n",
    "c = \"10.000\"\n",
    "\n",
    "print(a.zfill(10))\n",
    "print(b.zfill(10))\n",
    "print(c.zfill(10))\n"
   ]
  },
  {
   "cell_type": "code",
   "execution_count": null,
   "id": "b60218f8",
   "metadata": {},
   "outputs": [],
   "source": []
  },
  {
   "cell_type": "code",
   "execution_count": null,
   "id": "045de0dc",
   "metadata": {},
   "outputs": [],
   "source": []
  },
  {
   "cell_type": "code",
   "execution_count": null,
   "id": "d5bf685e",
   "metadata": {},
   "outputs": [],
   "source": []
  },
  {
   "cell_type": "code",
   "execution_count": null,
   "id": "c6c90e67",
   "metadata": {},
   "outputs": [],
   "source": []
  },
  {
   "cell_type": "code",
   "execution_count": null,
   "id": "22e1414b",
   "metadata": {},
   "outputs": [],
   "source": []
  },
  {
   "cell_type": "code",
   "execution_count": null,
   "id": "6c86944a",
   "metadata": {},
   "outputs": [],
   "source": []
  },
  {
   "cell_type": "code",
   "execution_count": null,
   "id": "38f119bb",
   "metadata": {},
   "outputs": [],
   "source": []
  },
  {
   "cell_type": "code",
   "execution_count": null,
   "id": "9f5f5125",
   "metadata": {},
   "outputs": [],
   "source": []
  },
  {
   "cell_type": "code",
   "execution_count": null,
   "id": "0d833b6f",
   "metadata": {},
   "outputs": [],
   "source": []
  },
  {
   "cell_type": "code",
   "execution_count": null,
   "id": "619c1065",
   "metadata": {},
   "outputs": [],
   "source": []
  },
  {
   "cell_type": "code",
   "execution_count": null,
   "id": "f9336a53",
   "metadata": {},
   "outputs": [],
   "source": []
  },
  {
   "cell_type": "code",
   "execution_count": null,
   "id": "a111598e",
   "metadata": {},
   "outputs": [],
   "source": []
  },
  {
   "cell_type": "code",
   "execution_count": null,
   "id": "3852f13b",
   "metadata": {},
   "outputs": [],
   "source": []
  },
  {
   "cell_type": "code",
   "execution_count": null,
   "id": "06ba4967",
   "metadata": {},
   "outputs": [],
   "source": []
  },
  {
   "cell_type": "code",
   "execution_count": null,
   "id": "4f2042b7",
   "metadata": {},
   "outputs": [],
   "source": []
  },
  {
   "cell_type": "code",
   "execution_count": null,
   "id": "1fde44c7",
   "metadata": {},
   "outputs": [],
   "source": []
  },
  {
   "cell_type": "code",
   "execution_count": null,
   "id": "fa80d9c6",
   "metadata": {},
   "outputs": [],
   "source": []
  },
  {
   "cell_type": "code",
   "execution_count": null,
   "id": "4380698f",
   "metadata": {},
   "outputs": [],
   "source": []
  },
  {
   "cell_type": "code",
   "execution_count": null,
   "id": "82138728",
   "metadata": {},
   "outputs": [],
   "source": []
  },
  {
   "cell_type": "code",
   "execution_count": null,
   "id": "aeb32441",
   "metadata": {},
   "outputs": [],
   "source": []
  },
  {
   "cell_type": "code",
   "execution_count": null,
   "id": "7b8e8aa3",
   "metadata": {},
   "outputs": [],
   "source": []
  },
  {
   "cell_type": "code",
   "execution_count": null,
   "id": "ce451550",
   "metadata": {},
   "outputs": [],
   "source": []
  },
  {
   "cell_type": "code",
   "execution_count": null,
   "id": "d228b4ce",
   "metadata": {},
   "outputs": [],
   "source": []
  },
  {
   "cell_type": "code",
   "execution_count": null,
   "id": "6da08cd7",
   "metadata": {},
   "outputs": [],
   "source": []
  },
  {
   "cell_type": "code",
   "execution_count": null,
   "id": "6bc852cb",
   "metadata": {},
   "outputs": [],
   "source": []
  },
  {
   "cell_type": "code",
   "execution_count": null,
   "id": "a42df263",
   "metadata": {},
   "outputs": [],
   "source": []
  },
  {
   "cell_type": "code",
   "execution_count": null,
   "id": "7df98a50",
   "metadata": {},
   "outputs": [],
   "source": []
  },
  {
   "cell_type": "code",
   "execution_count": null,
   "id": "b3d4cff2",
   "metadata": {},
   "outputs": [],
   "source": []
  },
  {
   "cell_type": "code",
   "execution_count": null,
   "id": "8b9b3e23",
   "metadata": {},
   "outputs": [],
   "source": []
  },
  {
   "cell_type": "code",
   "execution_count": null,
   "id": "aee5d413",
   "metadata": {},
   "outputs": [],
   "source": []
  },
  {
   "cell_type": "code",
   "execution_count": null,
   "id": "486b4578",
   "metadata": {},
   "outputs": [],
   "source": []
  },
  {
   "cell_type": "code",
   "execution_count": null,
   "id": "bf1bb0c0",
   "metadata": {},
   "outputs": [],
   "source": []
  },
  {
   "cell_type": "code",
   "execution_count": null,
   "id": "97fc2b59",
   "metadata": {},
   "outputs": [],
   "source": []
  },
  {
   "cell_type": "code",
   "execution_count": null,
   "id": "f6b1aed7",
   "metadata": {},
   "outputs": [],
   "source": []
  },
  {
   "cell_type": "code",
   "execution_count": null,
   "id": "7d85af37",
   "metadata": {},
   "outputs": [],
   "source": []
  },
  {
   "cell_type": "code",
   "execution_count": null,
   "id": "a117fbb1",
   "metadata": {},
   "outputs": [],
   "source": []
  },
  {
   "cell_type": "code",
   "execution_count": null,
   "id": "7f95d9b5",
   "metadata": {},
   "outputs": [],
   "source": []
  },
  {
   "cell_type": "code",
   "execution_count": null,
   "id": "2c654d72",
   "metadata": {},
   "outputs": [],
   "source": []
  },
  {
   "cell_type": "code",
   "execution_count": null,
   "id": "31063ccd",
   "metadata": {},
   "outputs": [],
   "source": []
  },
  {
   "cell_type": "code",
   "execution_count": null,
   "id": "c55fab74",
   "metadata": {},
   "outputs": [],
   "source": []
  },
  {
   "cell_type": "code",
   "execution_count": null,
   "id": "39b59c4e",
   "metadata": {},
   "outputs": [],
   "source": []
  },
  {
   "cell_type": "code",
   "execution_count": null,
   "id": "ee6f422d",
   "metadata": {},
   "outputs": [],
   "source": []
  },
  {
   "cell_type": "code",
   "execution_count": null,
   "id": "05db8719",
   "metadata": {},
   "outputs": [],
   "source": []
  },
  {
   "cell_type": "code",
   "execution_count": null,
   "id": "dd6bf838",
   "metadata": {},
   "outputs": [],
   "source": []
  },
  {
   "cell_type": "code",
   "execution_count": null,
   "id": "2f43fe65",
   "metadata": {},
   "outputs": [],
   "source": []
  },
  {
   "cell_type": "code",
   "execution_count": null,
   "id": "52e7b183",
   "metadata": {},
   "outputs": [],
   "source": []
  },
  {
   "cell_type": "code",
   "execution_count": null,
   "id": "5d3ee18d",
   "metadata": {},
   "outputs": [],
   "source": []
  },
  {
   "cell_type": "code",
   "execution_count": null,
   "id": "0833f2a3",
   "metadata": {},
   "outputs": [],
   "source": []
  },
  {
   "cell_type": "code",
   "execution_count": null,
   "id": "de9df8c8",
   "metadata": {},
   "outputs": [],
   "source": []
  },
  {
   "cell_type": "code",
   "execution_count": null,
   "id": "c3711c0a",
   "metadata": {},
   "outputs": [],
   "source": []
  },
  {
   "cell_type": "code",
   "execution_count": null,
   "id": "400112ac",
   "metadata": {},
   "outputs": [],
   "source": []
  },
  {
   "cell_type": "code",
   "execution_count": null,
   "id": "b1ab6fbe",
   "metadata": {},
   "outputs": [],
   "source": []
  },
  {
   "cell_type": "code",
   "execution_count": null,
   "id": "280ca092",
   "metadata": {},
   "outputs": [],
   "source": []
  },
  {
   "cell_type": "code",
   "execution_count": null,
   "id": "63f02de1",
   "metadata": {},
   "outputs": [],
   "source": []
  },
  {
   "cell_type": "code",
   "execution_count": null,
   "id": "d13205b6",
   "metadata": {},
   "outputs": [],
   "source": []
  },
  {
   "cell_type": "code",
   "execution_count": null,
   "id": "c270bb07",
   "metadata": {},
   "outputs": [],
   "source": []
  },
  {
   "cell_type": "code",
   "execution_count": null,
   "id": "871f3f91",
   "metadata": {},
   "outputs": [],
   "source": []
  },
  {
   "cell_type": "code",
   "execution_count": null,
   "id": "8cba23e7",
   "metadata": {},
   "outputs": [],
   "source": []
  },
  {
   "cell_type": "code",
   "execution_count": null,
   "id": "1372935d",
   "metadata": {},
   "outputs": [],
   "source": []
  },
  {
   "cell_type": "code",
   "execution_count": null,
   "id": "15a06843",
   "metadata": {},
   "outputs": [],
   "source": []
  },
  {
   "cell_type": "code",
   "execution_count": null,
   "id": "597c7294",
   "metadata": {},
   "outputs": [],
   "source": []
  },
  {
   "cell_type": "code",
   "execution_count": null,
   "id": "cc05ce09",
   "metadata": {},
   "outputs": [],
   "source": []
  },
  {
   "cell_type": "code",
   "execution_count": null,
   "id": "fbc7db9b",
   "metadata": {},
   "outputs": [],
   "source": []
  },
  {
   "cell_type": "code",
   "execution_count": null,
   "id": "650dd36b",
   "metadata": {},
   "outputs": [],
   "source": []
  },
  {
   "cell_type": "code",
   "execution_count": null,
   "id": "501b4968",
   "metadata": {},
   "outputs": [],
   "source": []
  },
  {
   "cell_type": "code",
   "execution_count": null,
   "id": "783bb642",
   "metadata": {},
   "outputs": [],
   "source": []
  },
  {
   "cell_type": "code",
   "execution_count": null,
   "id": "309b7627",
   "metadata": {},
   "outputs": [],
   "source": []
  },
  {
   "cell_type": "code",
   "execution_count": null,
   "id": "b99bbc44",
   "metadata": {},
   "outputs": [],
   "source": []
  },
  {
   "cell_type": "code",
   "execution_count": null,
   "id": "8aeee605",
   "metadata": {},
   "outputs": [],
   "source": []
  },
  {
   "cell_type": "code",
   "execution_count": null,
   "id": "bcbed935",
   "metadata": {},
   "outputs": [],
   "source": []
  },
  {
   "cell_type": "code",
   "execution_count": null,
   "id": "d2c576fc",
   "metadata": {},
   "outputs": [],
   "source": []
  },
  {
   "cell_type": "code",
   "execution_count": null,
   "id": "5c2a775e",
   "metadata": {},
   "outputs": [],
   "source": []
  },
  {
   "cell_type": "code",
   "execution_count": null,
   "id": "aec0cef6",
   "metadata": {},
   "outputs": [],
   "source": []
  },
  {
   "cell_type": "code",
   "execution_count": null,
   "id": "616100eb",
   "metadata": {},
   "outputs": [],
   "source": []
  },
  {
   "cell_type": "code",
   "execution_count": null,
   "id": "aa410773",
   "metadata": {},
   "outputs": [],
   "source": []
  },
  {
   "cell_type": "code",
   "execution_count": null,
   "id": "cbc109dd",
   "metadata": {},
   "outputs": [],
   "source": []
  },
  {
   "cell_type": "code",
   "execution_count": null,
   "id": "ecbd15fe",
   "metadata": {},
   "outputs": [],
   "source": []
  },
  {
   "cell_type": "code",
   "execution_count": null,
   "id": "ff47496c",
   "metadata": {},
   "outputs": [],
   "source": []
  },
  {
   "cell_type": "code",
   "execution_count": null,
   "id": "bdf4f2a9",
   "metadata": {},
   "outputs": [],
   "source": []
  },
  {
   "cell_type": "code",
   "execution_count": null,
   "id": "d8b3ba50",
   "metadata": {},
   "outputs": [],
   "source": []
  },
  {
   "cell_type": "code",
   "execution_count": null,
   "id": "03d3a4f8",
   "metadata": {},
   "outputs": [],
   "source": []
  },
  {
   "cell_type": "code",
   "execution_count": null,
   "id": "eea86f8d",
   "metadata": {},
   "outputs": [],
   "source": []
  },
  {
   "cell_type": "code",
   "execution_count": null,
   "id": "aa8e7af2",
   "metadata": {},
   "outputs": [],
   "source": []
  },
  {
   "cell_type": "code",
   "execution_count": null,
   "id": "2c642b43",
   "metadata": {},
   "outputs": [],
   "source": []
  },
  {
   "cell_type": "code",
   "execution_count": null,
   "id": "a86c66a4",
   "metadata": {},
   "outputs": [],
   "source": []
  },
  {
   "cell_type": "code",
   "execution_count": null,
   "id": "0c1a88d6",
   "metadata": {},
   "outputs": [],
   "source": []
  },
  {
   "cell_type": "code",
   "execution_count": null,
   "id": "8786a8f6",
   "metadata": {},
   "outputs": [],
   "source": []
  },
  {
   "cell_type": "code",
   "execution_count": null,
   "id": "a58806dc",
   "metadata": {},
   "outputs": [],
   "source": []
  },
  {
   "cell_type": "code",
   "execution_count": null,
   "id": "56e735e1",
   "metadata": {},
   "outputs": [],
   "source": []
  },
  {
   "cell_type": "code",
   "execution_count": null,
   "id": "6e51e11e",
   "metadata": {},
   "outputs": [],
   "source": []
  },
  {
   "cell_type": "code",
   "execution_count": null,
   "id": "e329f1c8",
   "metadata": {},
   "outputs": [],
   "source": []
  },
  {
   "cell_type": "code",
   "execution_count": null,
   "id": "375798d1",
   "metadata": {},
   "outputs": [],
   "source": []
  },
  {
   "cell_type": "code",
   "execution_count": null,
   "id": "ae329788",
   "metadata": {},
   "outputs": [],
   "source": []
  },
  {
   "cell_type": "code",
   "execution_count": null,
   "id": "f47c5540",
   "metadata": {},
   "outputs": [],
   "source": []
  },
  {
   "cell_type": "code",
   "execution_count": null,
   "id": "f48b8cef",
   "metadata": {},
   "outputs": [],
   "source": []
  },
  {
   "cell_type": "code",
   "execution_count": null,
   "id": "e037e21b",
   "metadata": {},
   "outputs": [],
   "source": []
  },
  {
   "cell_type": "code",
   "execution_count": null,
   "id": "7e49c96e",
   "metadata": {},
   "outputs": [],
   "source": []
  },
  {
   "cell_type": "code",
   "execution_count": null,
   "id": "91a8e152",
   "metadata": {},
   "outputs": [],
   "source": []
  },
  {
   "cell_type": "code",
   "execution_count": null,
   "id": "52accee4",
   "metadata": {},
   "outputs": [],
   "source": []
  },
  {
   "cell_type": "code",
   "execution_count": null,
   "id": "d54993ca",
   "metadata": {},
   "outputs": [],
   "source": []
  },
  {
   "cell_type": "code",
   "execution_count": null,
   "id": "73a4dc33",
   "metadata": {},
   "outputs": [],
   "source": []
  },
  {
   "cell_type": "code",
   "execution_count": null,
   "id": "e679d503",
   "metadata": {},
   "outputs": [],
   "source": []
  },
  {
   "cell_type": "code",
   "execution_count": null,
   "id": "f3e1cc36",
   "metadata": {},
   "outputs": [],
   "source": []
  },
  {
   "cell_type": "code",
   "execution_count": null,
   "id": "2bdf824c",
   "metadata": {},
   "outputs": [],
   "source": []
  },
  {
   "cell_type": "code",
   "execution_count": null,
   "id": "ac3baa01",
   "metadata": {},
   "outputs": [],
   "source": []
  },
  {
   "cell_type": "code",
   "execution_count": null,
   "id": "00dc9846",
   "metadata": {},
   "outputs": [],
   "source": []
  },
  {
   "cell_type": "code",
   "execution_count": null,
   "id": "4b7d7da9",
   "metadata": {},
   "outputs": [],
   "source": []
  },
  {
   "cell_type": "code",
   "execution_count": null,
   "id": "a0b884db",
   "metadata": {},
   "outputs": [],
   "source": []
  },
  {
   "cell_type": "code",
   "execution_count": null,
   "id": "05298203",
   "metadata": {},
   "outputs": [],
   "source": []
  },
  {
   "cell_type": "code",
   "execution_count": null,
   "id": "fc90a6b7",
   "metadata": {},
   "outputs": [],
   "source": []
  },
  {
   "cell_type": "code",
   "execution_count": null,
   "id": "42582468",
   "metadata": {},
   "outputs": [],
   "source": []
  },
  {
   "cell_type": "code",
   "execution_count": null,
   "id": "b0423b73",
   "metadata": {},
   "outputs": [],
   "source": []
  },
  {
   "cell_type": "code",
   "execution_count": null,
   "id": "24d48440",
   "metadata": {},
   "outputs": [],
   "source": []
  },
  {
   "cell_type": "code",
   "execution_count": null,
   "id": "def72670",
   "metadata": {},
   "outputs": [],
   "source": []
  },
  {
   "cell_type": "code",
   "execution_count": null,
   "id": "6444f340",
   "metadata": {},
   "outputs": [],
   "source": []
  },
  {
   "cell_type": "code",
   "execution_count": null,
   "id": "705b3977",
   "metadata": {},
   "outputs": [],
   "source": []
  },
  {
   "cell_type": "code",
   "execution_count": null,
   "id": "8ba27b46",
   "metadata": {},
   "outputs": [],
   "source": []
  },
  {
   "cell_type": "code",
   "execution_count": null,
   "id": "c9c7ded1",
   "metadata": {},
   "outputs": [],
   "source": []
  },
  {
   "cell_type": "code",
   "execution_count": null,
   "id": "5f63093d",
   "metadata": {},
   "outputs": [],
   "source": []
  },
  {
   "cell_type": "code",
   "execution_count": null,
   "id": "7e82a30a",
   "metadata": {},
   "outputs": [],
   "source": []
  },
  {
   "cell_type": "code",
   "execution_count": null,
   "id": "6ed97eaa",
   "metadata": {},
   "outputs": [],
   "source": []
  },
  {
   "cell_type": "code",
   "execution_count": null,
   "id": "5034caa7",
   "metadata": {},
   "outputs": [],
   "source": []
  },
  {
   "cell_type": "code",
   "execution_count": null,
   "id": "40afe753",
   "metadata": {},
   "outputs": [],
   "source": []
  },
  {
   "cell_type": "code",
   "execution_count": null,
   "id": "758817f0",
   "metadata": {},
   "outputs": [],
   "source": []
  },
  {
   "cell_type": "code",
   "execution_count": null,
   "id": "bd2870f5",
   "metadata": {},
   "outputs": [],
   "source": []
  },
  {
   "cell_type": "code",
   "execution_count": null,
   "id": "b93ecc55",
   "metadata": {},
   "outputs": [],
   "source": []
  },
  {
   "cell_type": "code",
   "execution_count": null,
   "id": "bc712e8a",
   "metadata": {},
   "outputs": [],
   "source": []
  },
  {
   "cell_type": "code",
   "execution_count": null,
   "id": "a60a3515",
   "metadata": {},
   "outputs": [],
   "source": []
  },
  {
   "cell_type": "code",
   "execution_count": null,
   "id": "a1dd48d8",
   "metadata": {},
   "outputs": [],
   "source": []
  },
  {
   "cell_type": "code",
   "execution_count": null,
   "id": "f3d38b7a",
   "metadata": {},
   "outputs": [],
   "source": []
  },
  {
   "cell_type": "code",
   "execution_count": null,
   "id": "2512b0ad",
   "metadata": {},
   "outputs": [],
   "source": []
  },
  {
   "cell_type": "code",
   "execution_count": null,
   "id": "604e7612",
   "metadata": {},
   "outputs": [],
   "source": []
  },
  {
   "cell_type": "code",
   "execution_count": null,
   "id": "5a4329d5",
   "metadata": {},
   "outputs": [],
   "source": []
  },
  {
   "cell_type": "code",
   "execution_count": null,
   "id": "0a705eae",
   "metadata": {},
   "outputs": [],
   "source": []
  },
  {
   "cell_type": "code",
   "execution_count": null,
   "id": "eea99948",
   "metadata": {},
   "outputs": [],
   "source": []
  },
  {
   "cell_type": "code",
   "execution_count": null,
   "id": "7b5d90f3",
   "metadata": {},
   "outputs": [],
   "source": []
  },
  {
   "cell_type": "code",
   "execution_count": null,
   "id": "07cfac3f",
   "metadata": {},
   "outputs": [],
   "source": []
  },
  {
   "cell_type": "code",
   "execution_count": null,
   "id": "4405a83f",
   "metadata": {},
   "outputs": [],
   "source": []
  },
  {
   "cell_type": "code",
   "execution_count": null,
   "id": "aea57bff",
   "metadata": {},
   "outputs": [],
   "source": []
  },
  {
   "cell_type": "code",
   "execution_count": null,
   "id": "88247fe3",
   "metadata": {},
   "outputs": [],
   "source": []
  },
  {
   "cell_type": "code",
   "execution_count": null,
   "id": "5104cd42",
   "metadata": {},
   "outputs": [],
   "source": []
  },
  {
   "cell_type": "code",
   "execution_count": null,
   "id": "b0fd48a8",
   "metadata": {},
   "outputs": [],
   "source": []
  },
  {
   "cell_type": "code",
   "execution_count": null,
   "id": "c3a0beb6",
   "metadata": {},
   "outputs": [],
   "source": []
  },
  {
   "cell_type": "code",
   "execution_count": null,
   "id": "634a38a3",
   "metadata": {},
   "outputs": [],
   "source": []
  },
  {
   "cell_type": "code",
   "execution_count": null,
   "id": "6b3ba922",
   "metadata": {},
   "outputs": [],
   "source": []
  },
  {
   "cell_type": "code",
   "execution_count": null,
   "id": "69abf1fb",
   "metadata": {},
   "outputs": [],
   "source": []
  },
  {
   "cell_type": "code",
   "execution_count": null,
   "id": "14f48bf0",
   "metadata": {},
   "outputs": [],
   "source": []
  },
  {
   "cell_type": "code",
   "execution_count": null,
   "id": "82c6ce7f",
   "metadata": {},
   "outputs": [],
   "source": []
  },
  {
   "cell_type": "code",
   "execution_count": null,
   "id": "0bd51686",
   "metadata": {},
   "outputs": [],
   "source": []
  },
  {
   "cell_type": "code",
   "execution_count": null,
   "id": "c3b22ad7",
   "metadata": {},
   "outputs": [],
   "source": []
  },
  {
   "cell_type": "code",
   "execution_count": null,
   "id": "70b00f33",
   "metadata": {},
   "outputs": [],
   "source": []
  },
  {
   "cell_type": "code",
   "execution_count": null,
   "id": "1438eba8",
   "metadata": {},
   "outputs": [],
   "source": []
  },
  {
   "cell_type": "code",
   "execution_count": null,
   "id": "d494c2bc",
   "metadata": {},
   "outputs": [],
   "source": []
  },
  {
   "cell_type": "code",
   "execution_count": null,
   "id": "bed903eb",
   "metadata": {},
   "outputs": [],
   "source": []
  },
  {
   "cell_type": "code",
   "execution_count": null,
   "id": "a560fadf",
   "metadata": {},
   "outputs": [],
   "source": []
  },
  {
   "cell_type": "code",
   "execution_count": null,
   "id": "b0236b8e",
   "metadata": {},
   "outputs": [],
   "source": []
  },
  {
   "cell_type": "code",
   "execution_count": null,
   "id": "b0ad3f93",
   "metadata": {},
   "outputs": [],
   "source": []
  },
  {
   "cell_type": "code",
   "execution_count": null,
   "id": "377c3e54",
   "metadata": {},
   "outputs": [],
   "source": []
  },
  {
   "cell_type": "code",
   "execution_count": null,
   "id": "b43e73a0",
   "metadata": {},
   "outputs": [],
   "source": []
  },
  {
   "cell_type": "code",
   "execution_count": null,
   "id": "991c6681",
   "metadata": {},
   "outputs": [],
   "source": []
  },
  {
   "cell_type": "code",
   "execution_count": null,
   "id": "69ece9e7",
   "metadata": {},
   "outputs": [],
   "source": []
  },
  {
   "cell_type": "code",
   "execution_count": null,
   "id": "996b8b64",
   "metadata": {},
   "outputs": [],
   "source": []
  },
  {
   "cell_type": "code",
   "execution_count": null,
   "id": "40acab73",
   "metadata": {},
   "outputs": [],
   "source": []
  },
  {
   "cell_type": "code",
   "execution_count": null,
   "id": "b5075668",
   "metadata": {},
   "outputs": [],
   "source": []
  },
  {
   "cell_type": "code",
   "execution_count": null,
   "id": "1bd635b9",
   "metadata": {},
   "outputs": [],
   "source": []
  },
  {
   "cell_type": "code",
   "execution_count": null,
   "id": "346a5218",
   "metadata": {},
   "outputs": [],
   "source": []
  },
  {
   "cell_type": "code",
   "execution_count": null,
   "id": "8d26c9c0",
   "metadata": {},
   "outputs": [],
   "source": []
  },
  {
   "cell_type": "code",
   "execution_count": null,
   "id": "3239e877",
   "metadata": {},
   "outputs": [],
   "source": []
  },
  {
   "cell_type": "code",
   "execution_count": null,
   "id": "4df6f383",
   "metadata": {},
   "outputs": [],
   "source": []
  },
  {
   "cell_type": "code",
   "execution_count": null,
   "id": "3f6c7f2f",
   "metadata": {},
   "outputs": [],
   "source": []
  },
  {
   "cell_type": "code",
   "execution_count": null,
   "id": "befd7f70",
   "metadata": {},
   "outputs": [],
   "source": []
  },
  {
   "cell_type": "code",
   "execution_count": null,
   "id": "d74e84e5",
   "metadata": {},
   "outputs": [],
   "source": []
  },
  {
   "cell_type": "code",
   "execution_count": null,
   "id": "bfbb7a5c",
   "metadata": {},
   "outputs": [],
   "source": []
  },
  {
   "cell_type": "code",
   "execution_count": null,
   "id": "1cb67461",
   "metadata": {},
   "outputs": [],
   "source": []
  },
  {
   "cell_type": "code",
   "execution_count": null,
   "id": "b366d248",
   "metadata": {},
   "outputs": [],
   "source": []
  },
  {
   "cell_type": "code",
   "execution_count": null,
   "id": "781baecf",
   "metadata": {},
   "outputs": [],
   "source": []
  },
  {
   "cell_type": "code",
   "execution_count": null,
   "id": "f1ff7059",
   "metadata": {},
   "outputs": [],
   "source": []
  },
  {
   "cell_type": "code",
   "execution_count": null,
   "id": "b8af6a81",
   "metadata": {},
   "outputs": [],
   "source": []
  },
  {
   "cell_type": "code",
   "execution_count": null,
   "id": "42934a86",
   "metadata": {},
   "outputs": [],
   "source": []
  },
  {
   "cell_type": "code",
   "execution_count": null,
   "id": "9c0dd2d1",
   "metadata": {},
   "outputs": [],
   "source": []
  },
  {
   "cell_type": "code",
   "execution_count": null,
   "id": "536770ff",
   "metadata": {},
   "outputs": [],
   "source": []
  },
  {
   "cell_type": "code",
   "execution_count": null,
   "id": "3966f9c8",
   "metadata": {},
   "outputs": [],
   "source": []
  },
  {
   "cell_type": "code",
   "execution_count": null,
   "id": "baff00d2",
   "metadata": {},
   "outputs": [],
   "source": []
  },
  {
   "cell_type": "code",
   "execution_count": null,
   "id": "7c1c1527",
   "metadata": {},
   "outputs": [],
   "source": []
  },
  {
   "cell_type": "code",
   "execution_count": null,
   "id": "60b7204b",
   "metadata": {},
   "outputs": [],
   "source": []
  },
  {
   "cell_type": "code",
   "execution_count": null,
   "id": "8273d768",
   "metadata": {},
   "outputs": [],
   "source": []
  },
  {
   "cell_type": "code",
   "execution_count": null,
   "id": "5725ef17",
   "metadata": {},
   "outputs": [],
   "source": []
  },
  {
   "cell_type": "code",
   "execution_count": null,
   "id": "33fdba56",
   "metadata": {},
   "outputs": [],
   "source": []
  },
  {
   "cell_type": "code",
   "execution_count": null,
   "id": "8028b17b",
   "metadata": {},
   "outputs": [],
   "source": []
  },
  {
   "cell_type": "code",
   "execution_count": null,
   "id": "40b11fe7",
   "metadata": {},
   "outputs": [],
   "source": []
  },
  {
   "cell_type": "code",
   "execution_count": null,
   "id": "d403c056",
   "metadata": {},
   "outputs": [],
   "source": []
  },
  {
   "cell_type": "code",
   "execution_count": null,
   "id": "8a89e456",
   "metadata": {},
   "outputs": [],
   "source": []
  },
  {
   "cell_type": "code",
   "execution_count": null,
   "id": "8a3701b3",
   "metadata": {},
   "outputs": [],
   "source": []
  },
  {
   "cell_type": "code",
   "execution_count": null,
   "id": "a4a19184",
   "metadata": {},
   "outputs": [],
   "source": []
  },
  {
   "cell_type": "code",
   "execution_count": null,
   "id": "4de96f86",
   "metadata": {},
   "outputs": [],
   "source": []
  },
  {
   "cell_type": "code",
   "execution_count": null,
   "id": "dcb1fbcf",
   "metadata": {},
   "outputs": [],
   "source": []
  },
  {
   "cell_type": "code",
   "execution_count": null,
   "id": "9bc13d02",
   "metadata": {},
   "outputs": [],
   "source": []
  },
  {
   "cell_type": "code",
   "execution_count": null,
   "id": "f16198f0",
   "metadata": {},
   "outputs": [],
   "source": []
  },
  {
   "cell_type": "code",
   "execution_count": null,
   "id": "db3e2603",
   "metadata": {},
   "outputs": [],
   "source": []
  },
  {
   "cell_type": "code",
   "execution_count": null,
   "id": "563ad90b",
   "metadata": {},
   "outputs": [],
   "source": []
  },
  {
   "cell_type": "code",
   "execution_count": null,
   "id": "8cefc9c8",
   "metadata": {},
   "outputs": [],
   "source": []
  },
  {
   "cell_type": "code",
   "execution_count": null,
   "id": "9ce271b5",
   "metadata": {},
   "outputs": [],
   "source": []
  },
  {
   "cell_type": "code",
   "execution_count": null,
   "id": "d3bf2df6",
   "metadata": {},
   "outputs": [],
   "source": []
  },
  {
   "cell_type": "code",
   "execution_count": null,
   "id": "c1971922",
   "metadata": {},
   "outputs": [],
   "source": []
  },
  {
   "cell_type": "code",
   "execution_count": null,
   "id": "fc53e61f",
   "metadata": {},
   "outputs": [],
   "source": []
  },
  {
   "cell_type": "code",
   "execution_count": null,
   "id": "be2ac582",
   "metadata": {},
   "outputs": [],
   "source": []
  },
  {
   "cell_type": "code",
   "execution_count": null,
   "id": "fd89fed9",
   "metadata": {},
   "outputs": [],
   "source": []
  },
  {
   "cell_type": "code",
   "execution_count": null,
   "id": "b2d0e591",
   "metadata": {},
   "outputs": [],
   "source": []
  },
  {
   "cell_type": "code",
   "execution_count": null,
   "id": "03bc80dc",
   "metadata": {},
   "outputs": [],
   "source": []
  },
  {
   "cell_type": "code",
   "execution_count": null,
   "id": "bc0e08e5",
   "metadata": {},
   "outputs": [],
   "source": []
  },
  {
   "cell_type": "code",
   "execution_count": null,
   "id": "dbe7cfa3",
   "metadata": {},
   "outputs": [],
   "source": []
  },
  {
   "cell_type": "code",
   "execution_count": null,
   "id": "f52474e7",
   "metadata": {},
   "outputs": [],
   "source": []
  },
  {
   "cell_type": "code",
   "execution_count": null,
   "id": "ff7e72d3",
   "metadata": {},
   "outputs": [],
   "source": []
  },
  {
   "cell_type": "code",
   "execution_count": null,
   "id": "9ae3975b",
   "metadata": {},
   "outputs": [],
   "source": []
  },
  {
   "cell_type": "code",
   "execution_count": null,
   "id": "f326b932",
   "metadata": {},
   "outputs": [],
   "source": []
  },
  {
   "cell_type": "code",
   "execution_count": null,
   "id": "e5153666",
   "metadata": {},
   "outputs": [],
   "source": []
  },
  {
   "cell_type": "code",
   "execution_count": null,
   "id": "d3eca2f0",
   "metadata": {},
   "outputs": [],
   "source": []
  },
  {
   "cell_type": "code",
   "execution_count": null,
   "id": "fa1a5310",
   "metadata": {},
   "outputs": [],
   "source": []
  },
  {
   "cell_type": "code",
   "execution_count": null,
   "id": "61c97a80",
   "metadata": {},
   "outputs": [],
   "source": []
  },
  {
   "cell_type": "code",
   "execution_count": null,
   "id": "b9d85a82",
   "metadata": {},
   "outputs": [],
   "source": []
  },
  {
   "cell_type": "code",
   "execution_count": null,
   "id": "c21517ca",
   "metadata": {},
   "outputs": [],
   "source": []
  },
  {
   "cell_type": "code",
   "execution_count": null,
   "id": "eaa1cb7f",
   "metadata": {},
   "outputs": [],
   "source": []
  },
  {
   "cell_type": "code",
   "execution_count": null,
   "id": "58e8d7a6",
   "metadata": {},
   "outputs": [],
   "source": []
  },
  {
   "cell_type": "code",
   "execution_count": null,
   "id": "83a641ef",
   "metadata": {},
   "outputs": [],
   "source": []
  },
  {
   "cell_type": "code",
   "execution_count": null,
   "id": "5f8a48e9",
   "metadata": {},
   "outputs": [],
   "source": []
  },
  {
   "cell_type": "code",
   "execution_count": null,
   "id": "089cd63a",
   "metadata": {},
   "outputs": [],
   "source": []
  },
  {
   "cell_type": "code",
   "execution_count": null,
   "id": "a11a72b7",
   "metadata": {},
   "outputs": [],
   "source": []
  },
  {
   "cell_type": "code",
   "execution_count": null,
   "id": "72a75170",
   "metadata": {},
   "outputs": [],
   "source": []
  },
  {
   "cell_type": "code",
   "execution_count": null,
   "id": "1d0ea97e",
   "metadata": {},
   "outputs": [],
   "source": []
  },
  {
   "cell_type": "code",
   "execution_count": null,
   "id": "47e5edd2",
   "metadata": {},
   "outputs": [],
   "source": []
  }
 ],
 "metadata": {
  "kernelspec": {
   "display_name": "Python 3 (ipykernel)",
   "language": "python",
   "name": "python3"
  },
  "language_info": {
   "codemirror_mode": {
    "name": "ipython",
    "version": 3
   },
   "file_extension": ".py",
   "mimetype": "text/x-python",
   "name": "python",
   "nbconvert_exporter": "python",
   "pygments_lexer": "ipython3",
   "version": "3.11.5"
  }
 },
 "nbformat": 4,
 "nbformat_minor": 5
}
