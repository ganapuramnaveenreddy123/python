{
 "cells": [
  {
   "cell_type": "markdown",
   "id": "ef14c02b",
   "metadata": {},
   "source": [
    "# control statements :\n",
    "    \n",
    "       Control flow statements in Python are statements that modify the flow of control in loops and conditional statements. They are used to control how and when the loop or conditional code should be executed or terminated. The primary control flow control statements  are break, continue, and pass."
   ]
  },
  {
   "cell_type": "markdown",
   "id": "066b0389",
   "metadata": {},
   "source": [
    "# 1. break Statement\n",
    "The break statement terminates the nearest enclosing loop prematurely. It is often used to exit a loop when a specific condition is met."
   ]
  },
  {
   "cell_type": "code",
   "execution_count": 1,
   "id": "f266e144",
   "metadata": {},
   "outputs": [
    {
     "name": "stdout",
     "output_type": "stream",
     "text": [
      "0\n",
      "1\n",
      "2\n",
      "3\n",
      "4\n"
     ]
    }
   ],
   "source": [
    "for i in range(10):\n",
    "    if i == 5:\n",
    "        break\n",
    "    print(i)\n"
   ]
  },
  {
   "cell_type": "code",
   "execution_count": 74,
   "id": "34a5ab3e",
   "metadata": {},
   "outputs": [
    {
     "name": "stdout",
     "output_type": "stream",
     "text": [
      "1\n",
      "2\n",
      "3\n",
      "4\n",
      "5\n"
     ]
    }
   ],
   "source": [
    "x = 0\n",
    "while x<10:\n",
    "    x+=1\n",
    "    print(x)\n",
    "    if x ==5:\n",
    "        break\n",
    "    \n",
    "    "
   ]
  },
  {
   "cell_type": "markdown",
   "id": "14d15ad5",
   "metadata": {},
   "source": [
    "# 2. continue Statement\n",
    "The continue statement skips the rest of the code inside the nearest enclosing loop and proceeds to the next iteration of the loop. It is used to skip over certain conditions within a loop."
   ]
  },
  {
   "cell_type": "code",
   "execution_count": 26,
   "id": "821d4be6",
   "metadata": {},
   "outputs": [
    {
     "name": "stdout",
     "output_type": "stream",
     "text": [
      "0\n",
      "1\n",
      "2\n",
      "3\n",
      "4\n",
      "6\n",
      "7\n",
      "8\n",
      "9\n"
     ]
    }
   ],
   "source": [
    "for i in range(10): # the 5 will not print because the continue continue will be skip \n",
    "    if i == 5:\n",
    "        continue\n",
    "    print(i)"
   ]
  },
  {
   "cell_type": "code",
   "execution_count": 36,
   "id": "a296fe6e",
   "metadata": {},
   "outputs": [
    {
     "name": "stdout",
     "output_type": "stream",
     "text": [
      "1\n",
      "2\n",
      "3\n",
      "4\n",
      "6\n",
      "7\n",
      "8\n",
      "9\n",
      "10\n"
     ]
    }
   ],
   "source": [
    "x = 0\n",
    "while x<10:\n",
    "    x+=1\n",
    "    if x ==5:   \n",
    "        continue\n",
    "    print(x)  \n",
    "    "
   ]
  },
  {
   "cell_type": "markdown",
   "id": "fa3ba998",
   "metadata": {},
   "source": [
    "# 3. pass Statement\n",
    "The pass statement does nothing and is used as a placeholder. It is useful in situations where a statement is syntactically required but you do not want any command or code to execute."
   ]
  },
  {
   "cell_type": "code",
   "execution_count": 72,
   "id": "86bbb848",
   "metadata": {},
   "outputs": [
    {
     "name": "stdout",
     "output_type": "stream",
     "text": [
      "1\n",
      "3\n",
      "5\n",
      "7\n",
      "9\n"
     ]
    }
   ],
   "source": [
    "for i in range(1,11): \n",
    "    if i%2 == 0:\n",
    "        pass\n",
    "    elif i%2!=0:\n",
    "        print(i)\n",
    "    \n",
    "    \n"
   ]
  },
  {
   "cell_type": "code",
   "execution_count": 73,
   "id": "43668fcd",
   "metadata": {},
   "outputs": [
    {
     "name": "stdout",
     "output_type": "stream",
     "text": [
      "1\n",
      "3\n",
      "5\n",
      "7\n",
      "9\n"
     ]
    }
   ],
   "source": [
    "x = 0\n",
    "while x<10:\n",
    "    x+=1\n",
    "    if x%2==0:   \n",
    "        continue\n",
    "    print(x)  "
   ]
  },
  {
   "cell_type": "code",
   "execution_count": null,
   "id": "82d341d2",
   "metadata": {},
   "outputs": [],
   "source": []
  }
 ],
 "metadata": {
  "kernelspec": {
   "display_name": "Python 3 (ipykernel)",
   "language": "python",
   "name": "python3"
  },
  "language_info": {
   "codemirror_mode": {
    "name": "ipython",
    "version": 3
   },
   "file_extension": ".py",
   "mimetype": "text/x-python",
   "name": "python",
   "nbconvert_exporter": "python",
   "pygments_lexer": "ipython3",
   "version": "3.11.5"
  }
 },
 "nbformat": 4,
 "nbformat_minor": 5
}
