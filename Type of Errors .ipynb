{
 "cells": [
  {
   "cell_type": "markdown",
   "id": "040b3476",
   "metadata": {},
   "source": [
    "# type of errors  : "
   ]
  },
  {
   "cell_type": "markdown",
   "id": "f78a3d8d",
   "metadata": {},
   "source": [
    "# 1. Syntax Error\n",
    "A syntax error occurs when the code doesn't follow the correct syntax rules of Python. It's like making a grammar mistake in a sentence."
   ]
  },
  {
   "cell_type": "markdown",
   "id": "7c859606",
   "metadata": {},
   "source": [
    "# incorrect code"
   ]
  },
  {
   "cell_type": "code",
   "execution_count": 1,
   "id": "d3934adf",
   "metadata": {},
   "outputs": [
    {
     "ename": "SyntaxError",
     "evalue": "incomplete input (2592442840.py, line 1)",
     "output_type": "error",
     "traceback": [
      "\u001b[1;36m  Cell \u001b[1;32mIn[1], line 1\u001b[1;36m\u001b[0m\n\u001b[1;33m    print(\"Hello, world!\"\u001b[0m\n\u001b[1;37m                         ^\u001b[0m\n\u001b[1;31mSyntaxError\u001b[0m\u001b[1;31m:\u001b[0m incomplete input\n"
     ]
    }
   ],
   "source": [
    "print(\"Hello, world!\""
   ]
  },
  {
   "cell_type": "markdown",
   "id": "9b8f46c9",
   "metadata": {},
   "source": [
    "# correct code"
   ]
  },
  {
   "cell_type": "code",
   "execution_count": 2,
   "id": "25b62723",
   "metadata": {},
   "outputs": [
    {
     "name": "stdout",
     "output_type": "stream",
     "text": [
      "Hello, world!\n"
     ]
    }
   ],
   "source": [
    "print(\"Hello, world!\")"
   ]
  },
  {
   "cell_type": "markdown",
   "id": "db0a147f",
   "metadata": {},
   "source": [
    "# 2.  Indentation Error\n",
    "Python uses indentation to define the structure of the code. An indentation error happens when the spaces or tabs are used incorrectly."
   ]
  },
  {
   "cell_type": "markdown",
   "id": "0550a093",
   "metadata": {},
   "source": [
    "# incorrect code¶"
   ]
  },
  {
   "cell_type": "code",
   "execution_count": 3,
   "id": "24043c2a",
   "metadata": {},
   "outputs": [
    {
     "ename": "IndentationError",
     "evalue": "expected an indented block after 'if' statement on line 1 (856893801.py, line 2)",
     "output_type": "error",
     "traceback": [
      "\u001b[1;36m  Cell \u001b[1;32mIn[3], line 2\u001b[1;36m\u001b[0m\n\u001b[1;33m    print(\"This is True\")\u001b[0m\n\u001b[1;37m    ^\u001b[0m\n\u001b[1;31mIndentationError\u001b[0m\u001b[1;31m:\u001b[0m expected an indented block after 'if' statement on line 1\n"
     ]
    }
   ],
   "source": [
    "if True:\n",
    "print(\"This is True\")\n"
   ]
  },
  {
   "cell_type": "markdown",
   "id": "b41d141f",
   "metadata": {},
   "source": [
    "# correct code"
   ]
  },
  {
   "cell_type": "code",
   "execution_count": 4,
   "id": "65a8fe26",
   "metadata": {},
   "outputs": [
    {
     "name": "stdout",
     "output_type": "stream",
     "text": [
      "This is True\n"
     ]
    }
   ],
   "source": [
    "if True:\n",
    "    print(\"This is True\")\n"
   ]
  },
  {
   "cell_type": "markdown",
   "id": "ceef7491",
   "metadata": {},
   "source": [
    "# 3. Name Error\n",
    "A name error occurs when the code tries to use a variable or function name that hasn't been defined."
   ]
  },
  {
   "cell_type": "markdown",
   "id": "948e5243",
   "metadata": {},
   "source": [
    "# incorrect code"
   ]
  },
  {
   "cell_type": "code",
   "execution_count": 5,
   "id": "803406cf",
   "metadata": {},
   "outputs": [
    {
     "ename": "NameError",
     "evalue": "name 'age' is not defined",
     "output_type": "error",
     "traceback": [
      "\u001b[1;31m---------------------------------------------------------------------------\u001b[0m",
      "\u001b[1;31mNameError\u001b[0m                                 Traceback (most recent call last)",
      "Cell \u001b[1;32mIn[5], line 2\u001b[0m\n\u001b[0;32m      1\u001b[0m name \u001b[38;5;241m=\u001b[39m \u001b[38;5;124m\"\u001b[39m\u001b[38;5;124mnani\u001b[39m\u001b[38;5;124m\"\u001b[39m\n\u001b[1;32m----> 2\u001b[0m \u001b[38;5;28mprint\u001b[39m(age)\n",
      "\u001b[1;31mNameError\u001b[0m: name 'age' is not defined"
     ]
    }
   ],
   "source": [
    "name = \"nani\"\n",
    "print(age)\n"
   ]
  },
  {
   "cell_type": "markdown",
   "id": "db8d9b15",
   "metadata": {},
   "source": [
    "# correct code"
   ]
  },
  {
   "cell_type": "code",
   "execution_count": 6,
   "id": "37d95237",
   "metadata": {},
   "outputs": [
    {
     "name": "stdout",
     "output_type": "stream",
     "text": [
      "nani\n"
     ]
    }
   ],
   "source": [
    "name = \"nani\"\n",
    "print(name)"
   ]
  },
  {
   "cell_type": "markdown",
   "id": "e217beb9",
   "metadata": {},
   "source": [
    "# 4. Type Error\n",
    "A type error happens when an operation is applied to an object of an inappropriate type."
   ]
  },
  {
   "cell_type": "markdown",
   "id": "13dec3e7",
   "metadata": {},
   "source": [
    "# incorrect code  \n"
   ]
  },
  {
   "cell_type": "code",
   "execution_count": 7,
   "id": "dec2143b",
   "metadata": {
    "scrolled": true
   },
   "outputs": [
    {
     "ename": "TypeError",
     "evalue": "can only concatenate str (not \"int\") to str",
     "output_type": "error",
     "traceback": [
      "\u001b[1;31m---------------------------------------------------------------------------\u001b[0m",
      "\u001b[1;31mTypeError\u001b[0m                                 Traceback (most recent call last)",
      "Cell \u001b[1;32mIn[7], line 3\u001b[0m\n\u001b[0;32m      1\u001b[0m a\u001b[38;5;241m=\u001b[39m \u001b[38;5;124m'\u001b[39m\u001b[38;5;124m5\u001b[39m\u001b[38;5;124m'\u001b[39m\n\u001b[0;32m      2\u001b[0m b \u001b[38;5;241m=\u001b[39m \u001b[38;5;241m5\u001b[39m\n\u001b[1;32m----> 3\u001b[0m \u001b[38;5;28mprint\u001b[39m(a\u001b[38;5;241m+\u001b[39mb)\n",
      "\u001b[1;31mTypeError\u001b[0m: can only concatenate str (not \"int\") to str"
     ]
    }
   ],
   "source": [
    "a= '5'\n",
    "b = 5\n",
    "print(a+b)"
   ]
  },
  {
   "cell_type": "markdown",
   "id": "eb3a85c5",
   "metadata": {},
   "source": [
    "# correct code"
   ]
  },
  {
   "cell_type": "code",
   "execution_count": 9,
   "id": "7913d915",
   "metadata": {},
   "outputs": [
    {
     "name": "stdout",
     "output_type": "stream",
     "text": [
      "10\n"
     ]
    }
   ],
   "source": [
    "a= '5'\n",
    "b = 5\n",
    "print(int(a)+b)"
   ]
  },
  {
   "cell_type": "markdown",
   "id": "00964086",
   "metadata": {},
   "source": [
    "# 5. ValueError\n",
    "    This error occurs when a function receives an argument of the correct type but inappropriate value.\n",
    "    fro example You can't convert the string \"hello\" to an integer."
   ]
  },
  {
   "cell_type": "markdown",
   "id": "cb7dca65",
   "metadata": {},
   "source": [
    "# incorrect code"
   ]
  },
  {
   "cell_type": "code",
   "execution_count": 10,
   "id": "05815c22",
   "metadata": {},
   "outputs": [
    {
     "ename": "ValueError",
     "evalue": "invalid literal for int() with base 10: 'hello'",
     "output_type": "error",
     "traceback": [
      "\u001b[1;31m---------------------------------------------------------------------------\u001b[0m",
      "\u001b[1;31mValueError\u001b[0m                                Traceback (most recent call last)",
      "Cell \u001b[1;32mIn[10], line 1\u001b[0m\n\u001b[1;32m----> 1\u001b[0m \u001b[38;5;28mprint\u001b[39m(\u001b[38;5;28mint\u001b[39m(\u001b[38;5;124m\"\u001b[39m\u001b[38;5;124mhello\u001b[39m\u001b[38;5;124m\"\u001b[39m))\n",
      "\u001b[1;31mValueError\u001b[0m: invalid literal for int() with base 10: 'hello'"
     ]
    }
   ],
   "source": [
    "print(int(\"hello\"))"
   ]
  },
  {
   "cell_type": "markdown",
   "id": "744df9e7",
   "metadata": {},
   "source": [
    "# correct code"
   ]
  },
  {
   "cell_type": "code",
   "execution_count": 11,
   "id": "19ee369d",
   "metadata": {},
   "outputs": [
    {
     "name": "stdout",
     "output_type": "stream",
     "text": [
      "hello\n"
     ]
    }
   ],
   "source": [
    "print('hello')"
   ]
  },
  {
   "cell_type": "markdown",
   "id": "a925a10d",
   "metadata": {},
   "source": [
    "# 6. Index Error:\n",
    "\n",
    "    An index error happens when the code tries to access an element at an invalid index in a list or array."
   ]
  },
  {
   "cell_type": "markdown",
   "id": "1c91de10",
   "metadata": {},
   "source": [
    "# incorrect code"
   ]
  },
  {
   "cell_type": "code",
   "execution_count": 12,
   "id": "728cbe5b",
   "metadata": {},
   "outputs": [
    {
     "ename": "IndexError",
     "evalue": "list index out of range",
     "output_type": "error",
     "traceback": [
      "\u001b[1;31m---------------------------------------------------------------------------\u001b[0m",
      "\u001b[1;31mIndexError\u001b[0m                                Traceback (most recent call last)",
      "Cell \u001b[1;32mIn[12], line 2\u001b[0m\n\u001b[0;32m      1\u001b[0m my_list \u001b[38;5;241m=\u001b[39m [\u001b[38;5;241m1\u001b[39m, \u001b[38;5;241m2\u001b[39m, \u001b[38;5;241m3\u001b[39m]\n\u001b[1;32m----> 2\u001b[0m \u001b[38;5;28mprint\u001b[39m(my_list[\u001b[38;5;241m3\u001b[39m])\n",
      "\u001b[1;31mIndexError\u001b[0m: list index out of range"
     ]
    }
   ],
   "source": [
    "my_list = [1, 2, 3]\n",
    "print(my_list[3])\n"
   ]
  },
  {
   "cell_type": "markdown",
   "id": "180e2e8d",
   "metadata": {},
   "source": [
    "# correct code "
   ]
  },
  {
   "cell_type": "code",
   "execution_count": 13,
   "id": "8fd323aa",
   "metadata": {},
   "outputs": [
    {
     "name": "stdout",
     "output_type": "stream",
     "text": [
      "3\n"
     ]
    }
   ],
   "source": [
    "my_list = [1, 2, 3]\n",
    "print(my_list[2])\n"
   ]
  },
  {
   "cell_type": "markdown",
   "id": "97fc758d",
   "metadata": {},
   "source": [
    "# 7. Attribute Error \n",
    "This happens when trying to access or call an attribute/method that doesn't exist for that type of object."
   ]
  },
  {
   "cell_type": "markdown",
   "id": "6f4375fe",
   "metadata": {},
   "source": [
    "# incorrect code"
   ]
  },
  {
   "cell_type": "code",
   "execution_count": 14,
   "id": "071a57fb",
   "metadata": {},
   "outputs": [
    {
     "ename": "AttributeError",
     "evalue": "'str' object has no attribute 'append'",
     "output_type": "error",
     "traceback": [
      "\u001b[1;31m---------------------------------------------------------------------------\u001b[0m",
      "\u001b[1;31mAttributeError\u001b[0m                            Traceback (most recent call last)",
      "Cell \u001b[1;32mIn[14], line 2\u001b[0m\n\u001b[0;32m      1\u001b[0m my_string \u001b[38;5;241m=\u001b[39m \u001b[38;5;124m\"\u001b[39m\u001b[38;5;124mhello\u001b[39m\u001b[38;5;124m\"\u001b[39m\n\u001b[1;32m----> 2\u001b[0m my_string\u001b[38;5;241m.\u001b[39mappend(\u001b[38;5;124m\"\u001b[39m\u001b[38;5;124m!\u001b[39m\u001b[38;5;124m\"\u001b[39m)\n",
      "\u001b[1;31mAttributeError\u001b[0m: 'str' object has no attribute 'append'"
     ]
    }
   ],
   "source": [
    "my_string = \"hello\"  # the error occerd because no append method in string methods  \n",
    "my_string.append(\"!\")\n"
   ]
  },
  {
   "cell_type": "markdown",
   "id": "09b6cedc",
   "metadata": {},
   "source": [
    "# correct code"
   ]
  },
  {
   "cell_type": "code",
   "execution_count": 22,
   "id": "fe171ee2",
   "metadata": {
    "scrolled": true
   },
   "outputs": [
    {
     "name": "stdout",
     "output_type": "stream",
     "text": [
      "None\n"
     ]
    },
    {
     "data": {
      "text/plain": [
       "[1, 2, 3, 4]"
      ]
     },
     "execution_count": 22,
     "metadata": {},
     "output_type": "execute_result"
    }
   ],
   "source": [
    "x= [1,2,3]\n",
    "print(x.append(4))\n",
    "x"
   ]
  },
  {
   "cell_type": "markdown",
   "id": "d1cc5daf",
   "metadata": {},
   "source": [
    "# 8. KeyError\n",
    "   This error occurs when you try to access a dictionary with a key that doesn't exist."
   ]
  },
  {
   "cell_type": "markdown",
   "id": "13ca9484",
   "metadata": {},
   "source": [
    "# incorrect code"
   ]
  },
  {
   "cell_type": "code",
   "execution_count": 30,
   "id": "5f176d0f",
   "metadata": {},
   "outputs": [
    {
     "ename": "KeyError",
     "evalue": "'age'",
     "output_type": "error",
     "traceback": [
      "\u001b[1;31m---------------------------------------------------------------------------\u001b[0m",
      "\u001b[1;31mKeyError\u001b[0m                                  Traceback (most recent call last)",
      "Cell \u001b[1;32mIn[30], line 2\u001b[0m\n\u001b[0;32m      1\u001b[0m my_dict \u001b[38;5;241m=\u001b[39m {\u001b[38;5;124m\"\u001b[39m\u001b[38;5;124mname\u001b[39m\u001b[38;5;124m\"\u001b[39m: \u001b[38;5;124m\"\u001b[39m\u001b[38;5;124mnani\u001b[39m\u001b[38;5;124m\"\u001b[39m} \u001b[38;5;66;03m# This error occurs because no key value in that  dictionary\u001b[39;00m\n\u001b[1;32m----> 2\u001b[0m \u001b[38;5;28mprint\u001b[39m(my_dict[\u001b[38;5;124m\"\u001b[39m\u001b[38;5;124mage\u001b[39m\u001b[38;5;124m\"\u001b[39m])\n",
      "\u001b[1;31mKeyError\u001b[0m: 'age'"
     ]
    }
   ],
   "source": [
    "my_dict = {\"name\": \"nani\"} # This error occurs because no key value in that  dictionary\n",
    "print(my_dict[\"age\"])\n"
   ]
  },
  {
   "cell_type": "markdown",
   "id": "096cbda7",
   "metadata": {},
   "source": [
    "# correct code "
   ]
  },
  {
   "cell_type": "code",
   "execution_count": 28,
   "id": "71e24d4d",
   "metadata": {},
   "outputs": [
    {
     "name": "stdout",
     "output_type": "stream",
     "text": [
      "nani\n"
     ]
    }
   ],
   "source": [
    "my_dict = {\"name\": \"nani\"}\n",
    "print(my_dict[\"name\"])\n"
   ]
  },
  {
   "cell_type": "code",
   "execution_count": null,
   "id": "6f9e128d",
   "metadata": {},
   "outputs": [],
   "source": []
  }
 ],
 "metadata": {
  "kernelspec": {
   "display_name": "Python 3 (ipykernel)",
   "language": "python",
   "name": "python3"
  },
  "language_info": {
   "codemirror_mode": {
    "name": "ipython",
    "version": 3
   },
   "file_extension": ".py",
   "mimetype": "text/x-python",
   "name": "python",
   "nbconvert_exporter": "python",
   "pygments_lexer": "ipython3",
   "version": "3.11.5"
  }
 },
 "nbformat": 4,
 "nbformat_minor": 5
}
