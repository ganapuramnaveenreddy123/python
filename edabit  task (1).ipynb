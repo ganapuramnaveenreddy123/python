{
 "cells": [
  {
   "cell_type": "markdown",
   "id": "c4bc2029",
   "metadata": {},
   "source": [
    "# 18. Create a function that returns the mean of all digits."
   ]
  },
  {
   "cell_type": "code",
   "execution_count": 2,
   "id": "a36f7777",
   "metadata": {},
   "outputs": [
    {
     "name": "stdout",
     "output_type": "stream",
     "text": [
      "2\n"
     ]
    }
   ],
   "source": [
    "li=[1,2,3,4]\n",
    "x=0\n",
    "sum=0\n",
    "while x<len(li):\n",
    "    sum=sum+li[x]\n",
    "    x+=1\n",
    "print(sum//len(li))"
   ]
  },
  {
   "cell_type": "code",
   "execution_count": 9,
   "id": "ce454929",
   "metadata": {},
   "outputs": [
    {
     "name": "stdout",
     "output_type": "stream",
     "text": [
      "2\n"
     ]
    }
   ],
   "source": [
    "l=[1,2,3,4]\n",
    "sum=0\n",
    "for x in l:\n",
    "    sum=sum+x\n",
    "print(sum//len(li))"
   ]
  },
  {
   "cell_type": "markdown",
   "id": "4ec8c55e",
   "metadata": {},
   "source": [
    "# 19. You're in the midst of creating a typing game.\n",
    "\n",
    "Create a function that takes in two lists: the list of user-typed words, and the list of correctly-typed words and outputs a list containing 1s (correctly-typed words) and -1s (incorrectly-typed words)."
   ]
  },
  {
   "cell_type": "code",
   "execution_count": 10,
   "id": "f52f190b",
   "metadata": {},
   "outputs": [
    {
     "name": "stdout",
     "output_type": "stream",
     "text": [
      "[1, 1, -1, -1, 1]\n"
     ]
    }
   ],
   "source": [
    "l1 = [\"cat\", \"blue\", \"skt\", \"umbrells\", \"paddy\"]\n",
    "l2 = [\"cat\", \"blue\", \"sky\", \"umbrella\", \"paddy\"]\n",
    "z = []\n",
    "x = 0\n",
    "while x < len(l1):\n",
    "    if l1[x]==l2[x]:\n",
    "        z.append(1)\n",
    "    else:\n",
    "        z.append(-1)\n",
    "    x+=1\n",
    "print(z)"
   ]
  },
  {
   "cell_type": "code",
   "execution_count": 13,
   "id": "b89325ac",
   "metadata": {},
   "outputs": [
    {
     "name": "stdout",
     "output_type": "stream",
     "text": [
      "[1, 1, -1, -1, 1]\n"
     ]
    }
   ],
   "source": [
    "l1 = [\"cat\", \"blue\", \"skt\", \"umbrells\", \"paddy\"]\n",
    "l2 = [\"cat\", \"blue\", \"sky\", \"umbrella\", \"paddy\"]\n",
    "z = []\n",
    "x = 0\n",
    "for x in range(0,5):\n",
    "    if l1[x]==l2[x]:\n",
    "        z.append(1)\n",
    "    else:\n",
    "        z.append(-1)\n",
    "    x+=1\n",
    "print(z)"
   ]
  },
  {
   "cell_type": "markdown",
   "id": "b0296c24",
   "metadata": {},
   "source": [
    "# 20. Create a function which returns a list of booleans, from a given number. Iterating through the number one digit at a time, append True if the digit is 1 and False if it is 0."
   ]
  },
  {
   "cell_type": "code",
   "execution_count": 19,
   "id": "697bb413",
   "metadata": {},
   "outputs": [
    {
     "name": "stdout",
     "output_type": "stream",
     "text": [
      "Enter a value either 0 or 1:10100\n",
      "['True', 'False', 'True', 'False', 'False']\n"
     ]
    }
   ],
   "source": [
    "n=int(input(\"Enter a value either 0 or 1:\"))\n",
    "li=[]\n",
    "while n>0:\n",
    "    m=n%10\n",
    "    if m==1:\n",
    "        li.append(\"True\")\n",
    "    else:\n",
    "        li.append(\"False\")\n",
    "    n=n//10\n",
    "li.reverse()\n",
    "print(li)"
   ]
  },
  {
   "cell_type": "code",
   "execution_count": 41,
   "id": "9e63f9a4",
   "metadata": {},
   "outputs": [
    {
     "name": "stdout",
     "output_type": "stream",
     "text": [
      "Enter how many inputs you want to give :1\n",
      "Enter (0) or (1) :1\n",
      "['True']\n"
     ]
    }
   ],
   "source": [
    "n=int(input(\"Enter how many inputs you want to give :\")) \n",
    "li=[]\n",
    "for i in range(n):\n",
    "    bin=int(input(\"Enter (0) or (1) :\"))\n",
    "    m=bin%10\n",
    "    if m==1:\n",
    "        li.append(\"True\")\n",
    "    else:\n",
    "        li.append(\"False\")\n",
    "    n=n//10\n",
    "print(li)"
   ]
  },
  {
   "cell_type": "markdown",
   "id": "eda76d7b",
   "metadata": {},
   "source": [
    "# 21. Create a function that returns True if the first list is a subset of the second. Return False otherwise."
   ]
  },
  {
   "cell_type": "code",
   "execution_count": 47,
   "id": "aa81eb54",
   "metadata": {},
   "outputs": [
    {
     "name": "stdout",
     "output_type": "stream",
     "text": [
      "Enter number of values you want to enter in aset : 5\n",
      "Enter elements : 1\n",
      "Enter elements : 2\n",
      "Enter elements : 2\n",
      "Enter elements : 3\n",
      "Enter elements : 6\n",
      "{1, 2, 3, 6}\n",
      "Enter number of values you want to enter in aset : 2\n",
      "Enter elements : 6\n",
      "Enter elements : 5\n",
      "{5, 6}\n",
      "False\n"
     ]
    }
   ],
   "source": [
    "num1 = int(input(\"Enter number of values you want to enter in aset : \"))\n",
    "aset=set()\n",
    "bset=set()\n",
    "i=0\n",
    "while (i<num1):\n",
    "    element1=int(input(\"Enter elements : \"))\n",
    "    aset.add(element1)\n",
    "    i+=1\n",
    "print(aset)\n",
    "num2 = int(input(\"Enter number of values you want to enter in aset : \"))\n",
    "j=0\n",
    "while (j<num2):\n",
    "    element2=int(input(\"Enter elements : \"))\n",
    "    bset.add(element2)\n",
    "    j+=1\n",
    "print(bset)\n",
    "if bset.issubset(aset):\n",
    "    print(\"True\")\n",
    "else:\n",
    "    print(\"False\")"
   ]
  },
  {
   "cell_type": "code",
   "execution_count": 48,
   "id": "a69aba31",
   "metadata": {},
   "outputs": [
    {
     "name": "stdout",
     "output_type": "stream",
     "text": [
      "Enter number of values you want to enter in aset : 4\n",
      "Enter elements : 1\n",
      "Enter elements : 2\n",
      "Enter elements : 3\n",
      "Enter elements : 4\n",
      "Enter number of values you want to enter in bset : 3\n",
      "Enter elements : 1\n",
      "Enter elements : 2\n",
      "Enter elements : 3\n",
      "True\n",
      "[1, 2, 3, 4]\n",
      "[1, 2, 3]\n"
     ]
    }
   ],
   "source": [
    "num1 = int(input(\"Enter number of values you want to enter in aset : \"))\n",
    "aset=set()\n",
    "bset=set()\n",
    "for i in range(num1):\n",
    "    element1=int(input(\"Enter elements : \"))\n",
    "    aset.add(element1)\n",
    "num2 = int(input(\"Enter number of values you want to enter in bset : \"))\n",
    "for j in range(num2):\n",
    "    element2=int(input(\"Enter elements : \"))\n",
    "    bset.add(element2)\n",
    "if bset.issubset(aset):\n",
    "    print(\"True\")\n",
    "else:\n",
    "    print(\"False\")\n",
    "print(list(aset))\n",
    "print(list(bset))"
   ]
  },
  {
   "cell_type": "markdown",
   "id": "7b4fcf92",
   "metadata": {},
   "source": [
    "# 22. Given a list of scrabble tiles (as dictionaries), create a function that outputs the maximum possible score a player can achieve by summing up the total number of points for all the tiles in their hand. Each hand contains 7 scrabble tiles."
   ]
  },
  {
   "cell_type": "code",
   "execution_count": null,
   "id": "c27ea534",
   "metadata": {},
   "outputs": [],
   "source": []
  },
  {
   "cell_type": "markdown",
   "id": "1b876640",
   "metadata": {},
   "source": [
    "# 23. Create a function that takes an integer and returns a list from 1 to the given number, where:\n",
    "\n",
    "If the number can be divided evenly by 4, amplify it by 10 (i.e. return 10 times the number).\n",
    "If the number cannot be divided evenly by 4, simply return the number."
   ]
  },
  {
   "cell_type": "code",
   "execution_count": 113,
   "id": "c7d11255",
   "metadata": {},
   "outputs": [
    {
     "name": "stdout",
     "output_type": "stream",
     "text": [
      "[1, 2, 3, 40, 5, 6, 7, 80, 9, 10]\n"
     ]
    }
   ],
   "source": [
    "n = 10\n",
    "x = []\n",
    "\n",
    "for i in range(1,n+1):\n",
    "    if i%4==0:\n",
    "        x.append(i*10)\n",
    "    else:\n",
    "        x.append(i)\n",
    "    i+=1\n",
    "print(x)\n",
    "        \n",
    "        "
   ]
  },
  {
   "cell_type": "code",
   "execution_count": 105,
   "id": "7d56f67d",
   "metadata": {},
   "outputs": [
    {
     "name": "stdout",
     "output_type": "stream",
     "text": [
      "[1, 2, 3, 40, 5, 6, 7, 80, 9, 10]\n"
     ]
    }
   ],
   "source": [
    "n = 10\n",
    "x = []\n",
    "i =1\n",
    "while i<=n:\n",
    "    if i % 4==0:\n",
    "        x.append(i*10)\n",
    "    else:\n",
    "        x.append(i)\n",
    "    i+=1\n",
    "print(x)\n",
    "        \n",
    "        "
   ]
  },
  {
   "cell_type": "markdown",
   "id": "b6a52c51",
   "metadata": {},
   "source": [
    "# 24. Return the smallest number of steps it takes to convert a string entirely into uppercase or entirely into lower case, whichever takes the fewest number of steps. A step consists of changing one character from lower to upper case, or vice versa."
   ]
  },
  {
   "cell_type": "code",
   "execution_count": 13,
   "id": "3987dd24",
   "metadata": {},
   "outputs": [
    {
     "name": "stdout",
     "output_type": "stream",
     "text": [
      "Enter combination of upper&lower case string : NANI\n",
      "0\n"
     ]
    }
   ],
   "source": [
    "str1=input(\"Enter combination of upper&lower case string : \") #aABC\n",
    "lowercase=0\n",
    "uppercase=0\n",
    "for i in str1:\n",
    "    if i.islower():\n",
    "        lowercase+=1\n",
    "    else:\n",
    "        uppercase+=1\n",
    "if lowercase<=uppercase:\n",
    "    print(lowercase)\n",
    "else:\n",
    "    print(uppercase)"
   ]
  },
  {
   "cell_type": "code",
   "execution_count": 12,
   "id": "908fc379",
   "metadata": {},
   "outputs": [
    {
     "name": "stdout",
     "output_type": "stream",
     "text": [
      "Enter combination of upper&lower case string : NANI\n",
      "0\n"
     ]
    }
   ],
   "source": [
    "str1=input(\"Enter combination of upper&lower case string : \") #aABC\n",
    "lowercase=0\n",
    "uppercase=0\n",
    "while i< str1:\n",
    "    if i.islower():\n",
    "        lowercase+=1\n",
    "    else:\n",
    "        uppercase+=1\n",
    "if lowercase<=uppercase:\n",
    "    print(lowercase)\n",
    "else:\n",
    "    print(uppercase)"
   ]
  },
  {
   "cell_type": "markdown",
   "id": "8ed15d95",
   "metadata": {},
   "source": [
    "# 25. Imagine a messaging device with only one button. For the letter A, you press the button one time, for E, you press it five times, for G, it's pressed seven times, etc, etc.\n",
    "\n",
    "Write a function that takes a string (the message) and returns the total number of times the button is pressed."
   ]
  },
  {
   "cell_type": "code",
   "execution_count": 116,
   "id": "4693bd17",
   "metadata": {},
   "outputs": [
    {
     "name": "stdout",
     "output_type": "stream",
     "text": [
      "13\n"
     ]
    }
   ],
   "source": [
    "button = {'a': 1, 'e': 5, 'g': 7}\n",
    "x = 0\n",
    "for i in button:\n",
    "    x+=button[i]\n",
    "print(x)"
   ]
  },
  {
   "cell_type": "markdown",
   "id": "86011095",
   "metadata": {},
   "source": [
    "# 26. I'm trying to watch some lectures to study for my next exam but I keep getting distracted by meme compilations, vine compilations, anime, and more on my favorite video platform.\n",
    "\n",
    "Your job is to help me create a function that takes a string and checks to see if it contains the following words or phrases:\n",
    "\n",
    "\"anime\"\n",
    "\"meme\"\n",
    "\"vines\"\n",
    "\"roasts\"\n",
    "\"Danny DeVito\"\n",
    "If it does, return \"NO!\". Otherwise, return \"Safe watching!\".\n",
    "\n",
    "Examples\n",
    "prevent_distractions(\"vines that butter my eggroll\") ➞ \"NO!\""
   ]
  },
  {
   "cell_type": "code",
   "execution_count": null,
   "id": "018f4e87",
   "metadata": {},
   "outputs": [],
   "source": []
  },
  {
   "cell_type": "markdown",
   "id": "442a0653",
   "metadata": {},
   "source": [
    "# 27. using while You are given a list of dates in the format Dec 11 and a month in the format Dec as arguments. Each date represents a video that was uploaded on that day. Return the number of uploads for a given month.\n",
    "\n",
    "Examples\n",
    "upload_count([\"Sept 22\", \"Sept 21\", \"Oct 15\"], \"Sept\") ➞ 2\n",
    "\n"
   ]
  },
  {
   "cell_type": "code",
   "execution_count": 142,
   "id": "bce664fe",
   "metadata": {},
   "outputs": [
    {
     "name": "stdout",
     "output_type": "stream",
     "text": [
      "2\n"
     ]
    }
   ],
   "source": [
    "dates = [\"Sept 22\", \"Sept 21\", \"Oct 15\"]\n",
    "t_month = \"Sept\"\n",
    "x = 0\n",
    "i = 0\n",
    "while i<len(dates):\n",
    "    z = dates[i].split()\n",
    "    if len(z) == 2:\n",
    "        month = z[0]\n",
    "        if month == t_month:\n",
    "            x+=1\n",
    "    i+=1\n",
    "\n",
    "print(x)"
   ]
  },
  {
   "cell_type": "code",
   "execution_count": 12,
   "id": "0398f7fa",
   "metadata": {},
   "outputs": [
    {
     "name": "stdout",
     "output_type": "stream",
     "text": [
      "2\n"
     ]
    }
   ],
   "source": [
    "dates = [\"Sept 22\", \"Sept 21\", \"Oct 15\"]\n",
    "t_month = \"Sept\"\n",
    "x = 0\n",
    "for i in dates:\n",
    "    z = dates[x].split()\n",
    "    if len(z) == 2:\n",
    "        month = z[0]\n",
    "    if month == t_month:\n",
    "            x+=1\n",
    "\n",
    "print(x)"
   ]
  },
  {
   "cell_type": "code",
   "execution_count": null,
   "id": "389de6b5",
   "metadata": {},
   "outputs": [],
   "source": []
  },
  {
   "cell_type": "code",
   "execution_count": null,
   "id": "ca1f39ba",
   "metadata": {},
   "outputs": [],
   "source": []
  },
  {
   "cell_type": "code",
   "execution_count": null,
   "id": "e9524ea8",
   "metadata": {},
   "outputs": [],
   "source": []
  },
  {
   "cell_type": "code",
   "execution_count": null,
   "id": "14fdc3f3",
   "metadata": {},
   "outputs": [],
   "source": []
  },
  {
   "cell_type": "code",
   "execution_count": null,
   "id": "ebca1a68",
   "metadata": {},
   "outputs": [],
   "source": []
  },
  {
   "cell_type": "code",
   "execution_count": null,
   "id": "8125da8d",
   "metadata": {},
   "outputs": [],
   "source": []
  },
  {
   "cell_type": "code",
   "execution_count": null,
   "id": "be1d6f5b",
   "metadata": {},
   "outputs": [],
   "source": []
  },
  {
   "cell_type": "code",
   "execution_count": null,
   "id": "8f8409c5",
   "metadata": {},
   "outputs": [],
   "source": []
  },
  {
   "cell_type": "code",
   "execution_count": null,
   "id": "c108c308",
   "metadata": {},
   "outputs": [],
   "source": []
  },
  {
   "cell_type": "code",
   "execution_count": null,
   "id": "c23d1543",
   "metadata": {},
   "outputs": [],
   "source": []
  },
  {
   "cell_type": "code",
   "execution_count": null,
   "id": "83f0df52",
   "metadata": {},
   "outputs": [],
   "source": []
  },
  {
   "cell_type": "code",
   "execution_count": null,
   "id": "2b316f83",
   "metadata": {},
   "outputs": [],
   "source": []
  },
  {
   "cell_type": "code",
   "execution_count": null,
   "id": "ffba3120",
   "metadata": {},
   "outputs": [],
   "source": []
  },
  {
   "cell_type": "code",
   "execution_count": null,
   "id": "98234d3e",
   "metadata": {},
   "outputs": [],
   "source": []
  },
  {
   "cell_type": "code",
   "execution_count": null,
   "id": "075ed7be",
   "metadata": {},
   "outputs": [],
   "source": []
  },
  {
   "cell_type": "code",
   "execution_count": null,
   "id": "91d9d92b",
   "metadata": {},
   "outputs": [],
   "source": []
  },
  {
   "cell_type": "code",
   "execution_count": null,
   "id": "2c136ef6",
   "metadata": {},
   "outputs": [],
   "source": []
  },
  {
   "cell_type": "code",
   "execution_count": null,
   "id": "5bacf6e1",
   "metadata": {},
   "outputs": [],
   "source": []
  },
  {
   "cell_type": "code",
   "execution_count": null,
   "id": "5fd95785",
   "metadata": {},
   "outputs": [],
   "source": []
  },
  {
   "cell_type": "code",
   "execution_count": null,
   "id": "e27792c1",
   "metadata": {},
   "outputs": [],
   "source": []
  },
  {
   "cell_type": "code",
   "execution_count": null,
   "id": "0fabf1fe",
   "metadata": {},
   "outputs": [],
   "source": []
  },
  {
   "cell_type": "code",
   "execution_count": null,
   "id": "e8579566",
   "metadata": {},
   "outputs": [],
   "source": []
  },
  {
   "cell_type": "code",
   "execution_count": null,
   "id": "7990448a",
   "metadata": {},
   "outputs": [],
   "source": []
  },
  {
   "cell_type": "code",
   "execution_count": null,
   "id": "deae3f24",
   "metadata": {},
   "outputs": [],
   "source": []
  },
  {
   "cell_type": "code",
   "execution_count": null,
   "id": "080b0f0a",
   "metadata": {},
   "outputs": [],
   "source": []
  },
  {
   "cell_type": "code",
   "execution_count": null,
   "id": "1951021e",
   "metadata": {},
   "outputs": [],
   "source": []
  },
  {
   "cell_type": "code",
   "execution_count": null,
   "id": "ad50042d",
   "metadata": {},
   "outputs": [],
   "source": []
  },
  {
   "cell_type": "code",
   "execution_count": null,
   "id": "322d3d0f",
   "metadata": {},
   "outputs": [],
   "source": []
  },
  {
   "cell_type": "code",
   "execution_count": null,
   "id": "f85eacb2",
   "metadata": {},
   "outputs": [],
   "source": []
  },
  {
   "cell_type": "code",
   "execution_count": null,
   "id": "5c62d664",
   "metadata": {},
   "outputs": [],
   "source": []
  },
  {
   "cell_type": "code",
   "execution_count": null,
   "id": "83ff9eaa",
   "metadata": {},
   "outputs": [],
   "source": []
  },
  {
   "cell_type": "code",
   "execution_count": null,
   "id": "f6d48b83",
   "metadata": {},
   "outputs": [],
   "source": []
  },
  {
   "cell_type": "code",
   "execution_count": null,
   "id": "7aa15ae7",
   "metadata": {},
   "outputs": [],
   "source": []
  },
  {
   "cell_type": "code",
   "execution_count": null,
   "id": "fb421f1f",
   "metadata": {},
   "outputs": [],
   "source": []
  },
  {
   "cell_type": "code",
   "execution_count": null,
   "id": "66f03a71",
   "metadata": {},
   "outputs": [],
   "source": []
  },
  {
   "cell_type": "code",
   "execution_count": null,
   "id": "1a79fcc1",
   "metadata": {},
   "outputs": [],
   "source": []
  },
  {
   "cell_type": "code",
   "execution_count": null,
   "id": "1f03fbf8",
   "metadata": {},
   "outputs": [],
   "source": []
  },
  {
   "cell_type": "code",
   "execution_count": null,
   "id": "b82d0a74",
   "metadata": {},
   "outputs": [],
   "source": []
  },
  {
   "cell_type": "code",
   "execution_count": null,
   "id": "1bb46de3",
   "metadata": {},
   "outputs": [],
   "source": []
  },
  {
   "cell_type": "code",
   "execution_count": null,
   "id": "bf27ba6d",
   "metadata": {},
   "outputs": [],
   "source": []
  },
  {
   "cell_type": "code",
   "execution_count": null,
   "id": "2ab5ec74",
   "metadata": {},
   "outputs": [],
   "source": []
  },
  {
   "cell_type": "code",
   "execution_count": null,
   "id": "9a1f442f",
   "metadata": {},
   "outputs": [],
   "source": []
  },
  {
   "cell_type": "code",
   "execution_count": null,
   "id": "a94f2350",
   "metadata": {},
   "outputs": [],
   "source": []
  },
  {
   "cell_type": "code",
   "execution_count": null,
   "id": "557586ce",
   "metadata": {},
   "outputs": [],
   "source": []
  },
  {
   "cell_type": "code",
   "execution_count": null,
   "id": "fc658b9a",
   "metadata": {},
   "outputs": [],
   "source": []
  },
  {
   "cell_type": "code",
   "execution_count": null,
   "id": "2d2777ce",
   "metadata": {},
   "outputs": [],
   "source": []
  },
  {
   "cell_type": "code",
   "execution_count": null,
   "id": "3b5f44ce",
   "metadata": {},
   "outputs": [],
   "source": []
  },
  {
   "cell_type": "code",
   "execution_count": null,
   "id": "b10362fb",
   "metadata": {},
   "outputs": [],
   "source": []
  },
  {
   "cell_type": "code",
   "execution_count": null,
   "id": "da10d4b6",
   "metadata": {},
   "outputs": [],
   "source": []
  },
  {
   "cell_type": "code",
   "execution_count": null,
   "id": "35d8f0c2",
   "metadata": {},
   "outputs": [],
   "source": [
    " "
   ]
  }
 ],
 "metadata": {
  "kernelspec": {
   "display_name": "Python 3 (ipykernel)",
   "language": "python",
   "name": "python3"
  },
  "language_info": {
   "codemirror_mode": {
    "name": "ipython",
    "version": 3
   },
   "file_extension": ".py",
   "mimetype": "text/x-python",
   "name": "python",
   "nbconvert_exporter": "python",
   "pygments_lexer": "ipython3",
   "version": "3.11.5"
  }
 },
 "nbformat": 4,
 "nbformat_minor": 5
}
